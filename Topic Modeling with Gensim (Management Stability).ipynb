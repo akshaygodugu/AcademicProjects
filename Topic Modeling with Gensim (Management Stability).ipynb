{
 "cells": [
  {
   "cell_type": "markdown",
   "metadata": {},
   "source": [
    "### Import packages"
   ]
  },
  {
   "cell_type": "code",
   "execution_count": 513,
   "metadata": {},
   "outputs": [],
   "source": [
    "import nltk; nltk.download('stopwords')\n",
    "import re\n",
    "import numpy as np\n",
    "import pandas as pd\n",
    "from pprint import pprint\n",
    "import gensim\n",
    "import gensim.corpora as corpora\n",
    "from gensim.utils import simple_preprocess\n",
    "from gensim.models import CoherenceModel\n",
    "import spacy\n",
    "# Plotting tools\n",
    "import pyLDAvis\n",
    "import pyLDAvis.gensim \n",
    "import matplotlib.pyplot as plt\n",
    "%matplotlib inline\n",
    "import warnings\n",
    "warnings.filterwarnings(\"ignore\",category=DeprecationWarning)\n",
    "from nltk.corpus import stopwords\n",
    "stop_words = stopwords.words('english')"
   ]
  },
  {
   "cell_type": "markdown",
   "metadata": {},
   "source": [
    "### Import Dataset"
   ]
  },
  {
   "cell_type": "code",
   "execution_count": 520,
   "metadata": {},
   "outputs": [
    {
     "data": {
      "text/html": [
       "<div>\n",
       "<style scoped>\n",
       "    .dataframe tbody tr th:only-of-type {\n",
       "        vertical-align: middle;\n",
       "    }\n",
       "\n",
       "    .dataframe tbody tr th {\n",
       "        vertical-align: top;\n",
       "    }\n",
       "\n",
       "    .dataframe thead th {\n",
       "        text-align: right;\n",
       "    }\n",
       "</style>\n",
       "<table border=\"1\" class=\"dataframe\">\n",
       "  <thead>\n",
       "    <tr style=\"text-align: right;\">\n",
       "      <th></th>\n",
       "      <th>Sentences</th>\n",
       "    </tr>\n",
       "  </thead>\n",
       "  <tbody>\n",
       "    <tr>\n",
       "      <th>0</th>\n",
       "      <td>Baidu formed a strategic partnership with Qual...</td>\n",
       "    </tr>\n",
       "    <tr>\n",
       "      <th>1</th>\n",
       "      <td>Blackbaud announced the results of a commissio...</td>\n",
       "    </tr>\n",
       "    <tr>\n",
       "      <th>2</th>\n",
       "      <td>Earnings per fully diluted ADS on a GAAP basis...</td>\n",
       "    </tr>\n",
       "    <tr>\n",
       "      <th>3</th>\n",
       "      <td>Fortescue's current director of operations, Gr...</td>\n",
       "    </tr>\n",
       "    <tr>\n",
       "      <th>4</th>\n",
       "      <td>GAAP net loss for the third fiscal quarter was...</td>\n",
       "    </tr>\n",
       "  </tbody>\n",
       "</table>\n",
       "</div>"
      ],
      "text/plain": [
       "                                           Sentences\n",
       "0  Baidu formed a strategic partnership with Qual...\n",
       "1  Blackbaud announced the results of a commissio...\n",
       "2  Earnings per fully diluted ADS on a GAAP basis...\n",
       "3  Fortescue's current director of operations, Gr...\n",
       "4  GAAP net loss for the third fiscal quarter was..."
      ]
     },
     "execution_count": 520,
     "metadata": {},
     "output_type": "execute_result"
    }
   ],
   "source": [
    "import pandas as pd\n",
    "import nltk\n",
    "\n",
    "df = pd.read_excel('Stability_Buzz.xlsx', sheet_name='Relevant')\n",
    "df = df[['Sentences']]\n",
    "df['target'] = '0'\n",
    "\n",
    "data = df\n",
    "data.columns = ['Sentences', 'target']\n",
    "\n",
    "\n",
    "data_text = data[['Sentences']]\n",
    "\n",
    "documents = data_text\n",
    "documents.head()"
   ]
  },
  {
   "cell_type": "code",
   "execution_count": 521,
   "metadata": {},
   "outputs": [],
   "source": [
    "data = documents.Sentences.values.tolist()"
   ]
  },
  {
   "cell_type": "markdown",
   "metadata": {},
   "source": [
    "### Data Preprocess"
   ]
  },
  {
   "cell_type": "code",
   "execution_count": 522,
   "metadata": {},
   "outputs": [
    {
     "name": "stdout",
     "output_type": "stream",
     "text": [
      "[['baidu', 'formed', 'strategic', 'partnership', 'with', 'qualcomm', 'to', 'optimize', 'baidu', 'voice', 'assistant', 'dueros', 'for', 'smartphones', 'on', 'the', 'qualcomm', 'snapdragon', 'tm', 'mobile', 'platform', 'including', 'the', 'upcoming', 'snapdragon', 'mobile', 'platform']]\n"
     ]
    }
   ],
   "source": [
    "def sent_to_words(sentences):\n",
    "    for sentence in sentences:\n",
    "        yield(gensim.utils.simple_preprocess(str(sentence), deacc=True))  # deacc=True removes punctuations\n",
    "data_words = list(sent_to_words(data))\n",
    "print(data_words[:1])"
   ]
  },
  {
   "cell_type": "code",
   "execution_count": 523,
   "metadata": {},
   "outputs": [
    {
     "name": "stderr",
     "output_type": "stream",
     "text": [
      "/anaconda3/lib/python3.7/site-packages/gensim/models/phrases.py:494: UserWarning: For a faster implementation, use the gensim.models.phrases.Phraser class\n",
      "  warnings.warn(\"For a faster implementation, use the gensim.models.phrases.Phraser class\")\n"
     ]
    },
    {
     "name": "stdout",
     "output_type": "stream",
     "text": [
      "['baidu', 'formed', 'strategic', 'partnership', 'with', 'qualcomm', 'to', 'optimize', 'baidu', 'voice', 'assistant', 'dueros', 'for', 'smartphones', 'on', 'the', 'qualcomm', 'snapdragon', 'tm', 'mobile', 'platform', 'including', 'the', 'upcoming', 'snapdragon', 'mobile', 'platform']\n"
     ]
    }
   ],
   "source": [
    "bigram = gensim.models.Phrases(data_words, min_count=5, threshold=50) # higher threshold fewer phrases.\n",
    "trigram = gensim.models.Phrases(bigram[data_words], threshold=100)  \n",
    "\n",
    "\n",
    "bigram_mod = gensim.models.phrases.Phraser(bigram)\n",
    "trigram_mod = gensim.models.phrases.Phraser(trigram)\n",
    "\n",
    "print(trigram_mod[bigram_mod[data_words[0]]])\n",
    "\n"
   ]
  },
  {
   "cell_type": "code",
   "execution_count": 524,
   "metadata": {},
   "outputs": [],
   "source": [
    "from gensim.utils import simple_preprocess\n",
    "from nltk import word_tokenize\n",
    "stop_words = stopwords.words('english')\n",
    "stop_words.extend(['included','including','includes','one','two','three','general','generally','way','better','need','really','believe','provide','say','saying','says','include','said','also','would','could','end','recent','recently','us','like','make','may','look','still','come','see','across','even','much','get','allow','allows','allowed','allowing','well','go','gone','going','that','thats','take','thing','come','move','give','help','put','dont','people','got','kind','know','day','think','continue','look','year','years','new','use','there','want','wanted','due','become','organ'])\n",
    "\n",
    "def remove_stopwords(texts):\n",
    "    return [[word for word in simple_preprocess(str(doc)) if word not in stop_words] for doc in texts]\n",
    "\n",
    "def make_bigrams(texts):\n",
    "    return [bigram_mod[doc] for doc in texts]\n",
    "\n",
    "def make_trigrams(texts):\n",
    "    return [trigram_mod[bigram_mod[doc]] for doc in texts]\n",
    "\n",
    "def lemmatization(texts, allowed_postags=['NOUN', 'ADJ', 'VERB', 'ADV']):\n",
    "    \"\"\"https://spacy.io/api/annotation\"\"\"\n",
    "    texts_out = []\n",
    "    for sent in texts:\n",
    "        doc = nlp(\" \".join(sent)) \n",
    "        texts_out.append([token.lemma_ for token in doc if token.pos_ in allowed_postags])\n",
    "    return texts_out\n",
    "\n",
    "\n",
    " "
   ]
  },
  {
   "cell_type": "code",
   "execution_count": 493,
   "metadata": {},
   "outputs": [],
   "source": [
    "def clean_text(texts):\n",
    "    tokenized_text = word_tokenize(text.lower())\n",
    "    cleaned_text = [t for t in tokenized_text if t not in stop_words and re.match('[a-zA-Z\\-][a-zA-Z\\-]{2,}', t)]\n",
    "    return cleaned_text\n",
    " \n",
    "\n",
    "tokenized_data = []\n",
    "for text in data:\n",
    "    tokenized_data.append(clean_text(texts))"
   ]
  },
  {
   "cell_type": "code",
   "execution_count": 525,
   "metadata": {},
   "outputs": [
    {
     "name": "stdout",
     "output_type": "stream",
     "text": [
      "[['baidu', 'form', 'strategic', 'partnership', 'qualcomm', 'optimize', 'baidu', 'voice', 'assistant', 'duero', 'smartphone', 'qualcomm', 'snapdragon', 'mobile', 'platform', 'upcome', 'snapdragon', 'mobile', 'platform']]\n"
     ]
    }
   ],
   "source": [
    "data_words_nostops = remove_stopwords(data_words)\n",
    "\n",
    "# Form Bigrams\n",
    "data_words_bigrams = make_bigrams(data_words_nostops)\n",
    "\n",
    "\n",
    "nlp = spacy.load('en', disable=['parser', 'ner'])\n",
    "\n",
    "data_lemmatized = lemmatization(data_words_bigrams, allowed_postags=['NOUN', 'ADJ', 'VERB', 'ADV'])\n",
    "\n",
    "print(data_lemmatized[:1])"
   ]
  },
  {
   "cell_type": "markdown",
   "metadata": {},
   "source": [
    "### Create Dictionary"
   ]
  },
  {
   "cell_type": "code",
   "execution_count": 526,
   "metadata": {},
   "outputs": [
    {
     "name": "stdout",
     "output_type": "stream",
     "text": [
      "[[(0, 1), (1, 2), (2, 1), (3, 1), (4, 2), (5, 1), (6, 1), (7, 2), (8, 2), (9, 1), (10, 2), (11, 1), (12, 1), (13, 1)]]\n"
     ]
    }
   ],
   "source": [
    "texts = data_lemmatized\n",
    "id2word = gensim.corpora.Dictionary(texts)\n",
    "\n",
    "\n",
    "# Term Document Frequency\n",
    "corpus = [id2word.doc2bow(text) for text in texts]\n",
    "\n",
    "# View\n",
    "print(corpus[:1])"
   ]
  },
  {
   "cell_type": "code",
   "execution_count": 527,
   "metadata": {},
   "outputs": [
    {
     "data": {
      "text/plain": [
       "'baidu'"
      ]
     },
     "execution_count": 527,
     "metadata": {},
     "output_type": "execute_result"
    }
   ],
   "source": [
    "id2word[1]"
   ]
  },
  {
   "cell_type": "code",
   "execution_count": 528,
   "metadata": {},
   "outputs": [
    {
     "data": {
      "text/plain": [
       "[[('assistant', 1),\n",
       "  ('baidu', 2),\n",
       "  ('duero', 1),\n",
       "  ('form', 1),\n",
       "  ('mobile', 2),\n",
       "  ('optimize', 1),\n",
       "  ('partnership', 1),\n",
       "  ('platform', 2),\n",
       "  ('qualcomm', 2),\n",
       "  ('smartphone', 1),\n",
       "  ('snapdragon', 2),\n",
       "  ('strategic', 1),\n",
       "  ('upcome', 1),\n",
       "  ('voice', 1)]]"
      ]
     },
     "execution_count": 528,
     "metadata": {},
     "output_type": "execute_result"
    }
   ],
   "source": [
    "[[(id2word[id], freq) for id, freq in cp] for cp in corpus[:1]]"
   ]
  },
  {
   "cell_type": "markdown",
   "metadata": {},
   "source": [
    "### Build LDA model"
   ]
  },
  {
   "cell_type": "code",
   "execution_count": 529,
   "metadata": {},
   "outputs": [],
   "source": [
    "lda_model = gensim.models.ldamodel.LdaModel(corpus=corpus,\n",
    "                                           id2word=id2word,\n",
    "                                           num_topics=5, \n",
    "                                           random_state=100,\n",
    "                                           update_every=1,\n",
    "                                           chunksize=1500,\n",
    "                                           passes=10,\n",
    "                                           alpha='auto',\n",
    "                                           per_word_topics=True) "
   ]
  },
  {
   "cell_type": "code",
   "execution_count": 530,
   "metadata": {},
   "outputs": [
    {
     "name": "stdout",
     "output_type": "stream",
     "text": [
      "[(0,\n",
      "  '0.033*\"growth\" + 0.014*\"sale\" + 0.012*\"quarter\" + 0.011*\"increase\" + '\n",
      "  '0.011*\"revenue\" + 0.010*\"market\" + 0.009*\"business\" + 0.008*\"strong\" + '\n",
      "  '0.007*\"continue\" + 0.006*\"product\"'),\n",
      " (1,\n",
      "  '0.008*\"market\" + 0.007*\"product\" + 0.007*\"company\" + 0.007*\"sale\" + '\n",
      "  '0.005*\"customer\" + 0.005*\"revenue\" + 0.004*\"low\" + 0.004*\"president\" + '\n",
      "  '0.004*\"solution\" + 0.004*\"global\"'),\n",
      " (2,\n",
      "  '0.011*\"company\" + 0.007*\"revenue\" + 0.006*\"customer\" + 0.005*\"business\" + '\n",
      "  '0.005*\"report\" + 0.004*\"investment\" + 0.004*\"plan\" + 0.004*\"first\" + '\n",
      "  '0.004*\"growth\" + 0.004*\"ceo\"'),\n",
      " (3,\n",
      "  '0.009*\"company\" + 0.008*\"growth\" + 0.007*\"customer\" + 0.005*\"management\" + '\n",
      "  '0.005*\"business\" + 0.005*\"service\" + 0.005*\"grow\" + 0.005*\"application\" + '\n",
      "  '0.005*\"market\" + 0.004*\"result\"'),\n",
      " (4,\n",
      "  '0.014*\"company\" + 0.013*\"growth\" + 0.008*\"revenue\" + 0.006*\"expect\" + '\n",
      "  '0.005*\"market\" + 0.005*\"rate\" + 0.004*\"business\" + 0.004*\"base\" + '\n",
      "  '0.004*\"technology\" + 0.003*\"make\"')]\n"
     ]
    }
   ],
   "source": [
    "pprint(lda_model.print_topics())\n",
    "doc_lda = lda_model[corpus]"
   ]
  },
  {
   "cell_type": "markdown",
   "metadata": {},
   "source": [
    "####  Visualize the topics"
   ]
  },
  {
   "cell_type": "code",
   "execution_count": 534,
   "metadata": {},
   "outputs": [
    {
     "name": "stderr",
     "output_type": "stream",
     "text": [
      "/anaconda3/lib/python3.7/site-packages/pyLDAvis/_prepare.py:257: FutureWarning: Sorting because non-concatenation axis is not aligned. A future version\n",
      "of pandas will change to not sort by default.\n",
      "\n",
      "To accept the future behavior, pass 'sort=False'.\n",
      "\n",
      "To retain the current behavior and silence the warning, pass 'sort=True'.\n",
      "\n",
      "  return pd.concat([default_term_info] + list(topic_dfs))\n"
     ]
    },
    {
     "data": {
      "text/html": [
       "\n",
       "<link rel=\"stylesheet\" type=\"text/css\" href=\"https://cdn.rawgit.com/bmabey/pyLDAvis/files/ldavis.v1.0.0.css\">\n",
       "\n",
       "\n",
       "<div id=\"ldavis_el7691122320087044555213627\"></div>\n",
       "<script type=\"text/javascript\">\n",
       "\n",
       "var ldavis_el7691122320087044555213627_data = {\"mdsDat\": {\"x\": [-0.08094732961247773, -0.0013715127700011404, 0.10237105118863081, -0.02969003409319591, 0.009637825287043936], \"y\": [-0.08535479101469746, 0.06195133689698989, -0.055274388231955095, 0.04892362448231205, 0.029754217867350618], \"topics\": [1, 2, 3, 4, 5], \"cluster\": [1, 1, 1, 1, 1], \"Freq\": [38.800933837890625, 19.03399085998535, 16.182228088378906, 15.887639999389648, 10.09520149230957]}, \"tinfo\": {\"Category\": [\"Default\", \"Default\", \"Default\", \"Default\", \"Default\", \"Default\", \"Default\", \"Default\", \"Default\", \"Default\", \"Default\", \"Default\", \"Default\", \"Default\", \"Default\", \"Default\", \"Default\", \"Default\", \"Default\", \"Default\", \"Default\", \"Default\", \"Default\", \"Default\", \"Default\", \"Default\", \"Default\", \"Default\", \"Default\", \"Default\", \"Topic1\", \"Topic1\", \"Topic1\", \"Topic1\", \"Topic1\", \"Topic1\", \"Topic1\", \"Topic1\", \"Topic1\", \"Topic1\", \"Topic1\", \"Topic1\", \"Topic1\", \"Topic1\", \"Topic1\", \"Topic1\", \"Topic1\", \"Topic1\", \"Topic1\", \"Topic1\", \"Topic1\", \"Topic1\", \"Topic1\", \"Topic1\", \"Topic1\", \"Topic1\", \"Topic1\", \"Topic1\", \"Topic1\", \"Topic1\", \"Topic1\", \"Topic1\", \"Topic1\", \"Topic1\", \"Topic1\", \"Topic1\", \"Topic1\", \"Topic1\", \"Topic1\", \"Topic1\", \"Topic1\", \"Topic1\", \"Topic1\", \"Topic1\", \"Topic1\", \"Topic1\", \"Topic1\", \"Topic1\", \"Topic1\", \"Topic1\", \"Topic1\", \"Topic1\", \"Topic1\", \"Topic1\", \"Topic1\", \"Topic1\", \"Topic1\", \"Topic1\", \"Topic1\", \"Topic1\", \"Topic1\", \"Topic1\", \"Topic1\", \"Topic1\", \"Topic1\", \"Topic1\", \"Topic1\", \"Topic1\", \"Topic1\", \"Topic1\", \"Topic1\", \"Topic1\", \"Topic2\", \"Topic2\", \"Topic2\", \"Topic2\", \"Topic2\", \"Topic2\", \"Topic2\", \"Topic2\", \"Topic2\", \"Topic2\", \"Topic2\", \"Topic2\", \"Topic2\", \"Topic2\", \"Topic2\", \"Topic2\", \"Topic2\", \"Topic2\", \"Topic2\", \"Topic2\", \"Topic2\", \"Topic2\", \"Topic2\", \"Topic2\", \"Topic2\", \"Topic2\", \"Topic2\", \"Topic2\", \"Topic2\", \"Topic2\", \"Topic2\", \"Topic2\", \"Topic2\", \"Topic2\", \"Topic2\", \"Topic2\", \"Topic2\", \"Topic2\", \"Topic2\", \"Topic2\", \"Topic2\", \"Topic2\", \"Topic2\", \"Topic2\", \"Topic2\", \"Topic2\", \"Topic2\", \"Topic2\", \"Topic2\", \"Topic2\", \"Topic2\", \"Topic2\", \"Topic2\", \"Topic2\", \"Topic2\", \"Topic2\", \"Topic2\", \"Topic2\", \"Topic2\", \"Topic2\", \"Topic2\", \"Topic2\", \"Topic2\", \"Topic2\", \"Topic2\", \"Topic2\", \"Topic2\", \"Topic2\", \"Topic2\", \"Topic2\", \"Topic2\", \"Topic2\", \"Topic2\", \"Topic2\", \"Topic2\", \"Topic2\", \"Topic2\", \"Topic2\", \"Topic2\", \"Topic3\", \"Topic3\", \"Topic3\", \"Topic3\", \"Topic3\", \"Topic3\", \"Topic3\", \"Topic3\", \"Topic3\", \"Topic3\", \"Topic3\", \"Topic3\", \"Topic3\", \"Topic3\", \"Topic3\", \"Topic3\", \"Topic3\", \"Topic3\", \"Topic3\", \"Topic3\", \"Topic3\", \"Topic3\", \"Topic3\", \"Topic3\", \"Topic3\", \"Topic3\", \"Topic3\", \"Topic3\", \"Topic3\", \"Topic3\", \"Topic3\", \"Topic3\", \"Topic3\", \"Topic3\", \"Topic3\", \"Topic3\", \"Topic3\", \"Topic3\", \"Topic3\", \"Topic3\", \"Topic3\", \"Topic3\", \"Topic3\", \"Topic3\", \"Topic3\", \"Topic3\", \"Topic3\", \"Topic3\", \"Topic3\", \"Topic3\", \"Topic3\", \"Topic3\", \"Topic3\", \"Topic3\", \"Topic3\", \"Topic3\", \"Topic3\", \"Topic3\", \"Topic3\", \"Topic3\", \"Topic3\", \"Topic3\", \"Topic3\", \"Topic3\", \"Topic3\", \"Topic3\", \"Topic3\", \"Topic3\", \"Topic3\", \"Topic3\", \"Topic3\", \"Topic3\", \"Topic3\", \"Topic3\", \"Topic3\", \"Topic3\", \"Topic3\", \"Topic3\", \"Topic4\", \"Topic4\", \"Topic4\", \"Topic4\", \"Topic4\", \"Topic4\", \"Topic4\", \"Topic4\", \"Topic4\", \"Topic4\", \"Topic4\", \"Topic4\", \"Topic4\", \"Topic4\", \"Topic4\", \"Topic4\", \"Topic4\", \"Topic4\", \"Topic4\", \"Topic4\", \"Topic4\", \"Topic4\", \"Topic4\", \"Topic4\", \"Topic4\", \"Topic4\", \"Topic4\", \"Topic4\", \"Topic4\", \"Topic4\", \"Topic4\", \"Topic4\", \"Topic4\", \"Topic4\", \"Topic4\", \"Topic4\", \"Topic4\", \"Topic4\", \"Topic4\", \"Topic4\", \"Topic4\", \"Topic4\", \"Topic4\", \"Topic4\", \"Topic4\", \"Topic4\", \"Topic4\", \"Topic4\", \"Topic4\", \"Topic4\", \"Topic4\", \"Topic4\", \"Topic4\", \"Topic4\", \"Topic4\", \"Topic4\", \"Topic4\", \"Topic4\", \"Topic4\", \"Topic4\", \"Topic4\", \"Topic4\", \"Topic4\", \"Topic4\", \"Topic4\", \"Topic4\", \"Topic4\", \"Topic4\", \"Topic4\", \"Topic4\", \"Topic4\", \"Topic4\", \"Topic4\", \"Topic4\", \"Topic4\", \"Topic4\", \"Topic4\", \"Topic4\", \"Topic4\", \"Topic5\", \"Topic5\", \"Topic5\", \"Topic5\", \"Topic5\", \"Topic5\", \"Topic5\", \"Topic5\", \"Topic5\", \"Topic5\", \"Topic5\", \"Topic5\", \"Topic5\", \"Topic5\", \"Topic5\", \"Topic5\", \"Topic5\", \"Topic5\", \"Topic5\", \"Topic5\", \"Topic5\", \"Topic5\", \"Topic5\", \"Topic5\", \"Topic5\", \"Topic5\", \"Topic5\", \"Topic5\", \"Topic5\", \"Topic5\", \"Topic5\", \"Topic5\", \"Topic5\", \"Topic5\", \"Topic5\", \"Topic5\", \"Topic5\", \"Topic5\", \"Topic5\", \"Topic5\", \"Topic5\", \"Topic5\", \"Topic5\", \"Topic5\", \"Topic5\", \"Topic5\", \"Topic5\", \"Topic5\", \"Topic5\", \"Topic5\", \"Topic5\", \"Topic5\", \"Topic5\", \"Topic5\", \"Topic5\", \"Topic5\", \"Topic5\", \"Topic5\", \"Topic5\", \"Topic5\", \"Topic5\", \"Topic5\", \"Topic5\", \"Topic5\", \"Topic5\", \"Topic5\", \"Topic5\", \"Topic5\", \"Topic5\", \"Topic5\", \"Topic5\", \"Topic5\", \"Topic5\", \"Topic5\", \"Topic5\", \"Topic5\"], \"Freq\": [339.0, 171.0, 76.0, 147.0, 30.0, 121.0, 35.0, 40.0, 20.0, 39.0, 73.0, 114.0, 93.0, 20.0, 12.0, 27.0, 30.0, 46.0, 66.0, 44.0, 27.0, 39.0, 34.0, 64.0, 7.0, 33.0, 44.0, 50.0, 34.0, 28.0, 11.214497566223145, 11.210350036621094, 7.534115791320801, 25.346242904663086, 5.694545745849609, 4.785248756408691, 4.780041217803955, 4.778402328491211, 4.7741498947143555, 4.694929599761963, 3.8664186000823975, 3.8653438091278076, 3.8635921478271484, 3.8600914478302, 3.8579070568084717, 3.85233473777771, 6.925402641296387, 3.8148560523986816, 7.5128936767578125, 3.728118658065796, 3.7314984798431396, 4.4887800216674805, 14.948373794555664, 2.945848226547241, 2.9458463191986084, 2.9458320140838623, 2.9457015991210938, 2.9456870555877686, 2.9441897869110107, 2.9442672729492188, 11.081249237060547, 12.487875938415527, 14.533418655395508, 28.218393325805664, 6.610297679901123, 18.180091857910156, 6.587613105773926, 95.45378112792969, 258.6969299316406, 32.54488754272461, 57.624351501464844, 85.9583511352539, 109.68360900878906, 23.024648666381836, 18.732749938964844, 27.691246032714844, 18.431901931762695, 60.05839157104492, 19.958417892456055, 20.510391235351562, 49.20086669921875, 20.117307662963867, 11.02295970916748, 74.9600601196289, 31.590070724487305, 49.996307373046875, 41.32773971557617, 23.7655086517334, 76.94149017333984, 84.18986511230469, 34.9847297668457, 50.98043441772461, 48.39692306518555, 24.36501693725586, 41.62727355957031, 33.946044921875, 33.271976470947266, 25.921865463256836, 44.24494171142578, 26.0671329498291, 22.38216781616211, 22.984066009521484, 3.3158698081970215, 3.3120739459991455, 3.3121299743652344, 3.2967910766601562, 3.2925491333007812, 3.805283546447754, 2.5300965309143066, 2.5300920009613037, 2.527806282043457, 2.527235746383667, 2.5270867347717285, 2.526409864425659, 2.525259256362915, 2.524488687515259, 2.523564100265503, 2.5228185653686523, 2.52292799949646, 2.5207128524780273, 2.512662649154663, 2.506251573562622, 2.499634265899658, 4.793215274810791, 1.7394461631774902, 1.7394455671310425, 1.739445447921753, 1.7394449710845947, 1.7394449710845947, 1.7394438982009888, 1.7394441366195679, 1.7394428253173828, 4.1114044189453125, 3.316744565963745, 9.45394229888916, 3.3197312355041504, 3.315843105316162, 3.31412672996521, 3.3128674030303955, 4.748406410217285, 5.537241458892822, 17.28529930114746, 7.7804059982299805, 15.11843204498291, 15.051650047302246, 7.1598711013793945, 12.810628890991211, 8.440152168273926, 4.104960918426514, 11.240846633911133, 27.655567169189453, 5.651415824890137, 11.917871475219727, 10.813424110412598, 17.484600067138672, 6.479488372802734, 12.535048484802246, 30.240304946899414, 19.737062454223633, 11.611751556396484, 11.239635467529297, 12.941953659057617, 25.392005920410156, 26.601728439331055, 8.476773262023926, 7.677141189575195, 9.78859806060791, 8.208423614501953, 14.988432884216309, 17.770980834960938, 11.31869888305664, 8.068962097167969, 10.021450996398926, 10.171879768371582, 9.800409317016602, 9.354872703552246, 9.16203784942627, 10.46996021270752, 9.241318702697754, 9.788162231445312, 9.947237968444824, 3.988812208175659, 3.224323272705078, 3.220993757247925, 3.2130496501922607, 3.1900641918182373, 2.4566256999969482, 2.4566221237182617, 2.454116106033325, 2.453556776046753, 2.4520301818847656, 2.4471139907836914, 2.4458751678466797, 2.444664478302002, 2.441215753555298, 2.436781406402588, 2.3994593620300293, 4.587404727935791, 1.6889368295669556, 1.688936471939087, 1.6889362335205078, 1.6889349222183228, 1.688934564590454, 1.6889336109161377, 1.6889318227767944, 1.6889318227767944, 1.6889315843582153, 1.6889302730560303, 1.6889305114746094, 1.6889305114746094, 1.6889302730560303, 7.750087261199951, 4.743619441986084, 3.219310998916626, 4.742480754852295, 5.448851585388184, 3.98856520652771, 6.083212852478027, 15.655900955200195, 3.9891552925109863, 2.4528744220733643, 45.53512191772461, 3.222648859024048, 3.220632314682007, 3.209249973297119, 9.048828125, 13.539836883544922, 11.018569946289062, 20.8455753326416, 11.575983047485352, 13.136797904968262, 8.350440979003906, 43.94489288330078, 6.827417850494385, 25.341459274291992, 8.580204963684082, 7.674586772918701, 7.684368133544922, 7.85758638381958, 9.56064224243164, 8.964825630187988, 11.421893119812012, 17.18963623046875, 10.744071006774902, 6.08017635345459, 9.548322677612305, 14.235859870910645, 9.438128471374512, 8.592272758483887, 11.075152397155762, 7.813453197479248, 8.860281944274902, 8.738718032836914, 7.9206647872924805, 9.063407897949219, 8.6850004196167, 7.966971397399902, 7.993054389953613, 7.954922199249268, 3.1885719299316406, 3.1824135780334473, 3.1781792640686035, 2.429521322250366, 2.4295151233673096, 2.4268932342529297, 2.4268798828125, 2.426870822906494, 2.426257848739624, 2.426018238067627, 2.4260013103485107, 2.422574043273926, 2.422853469848633, 2.420475482940674, 2.4200868606567383, 2.4200668334960938, 2.4187071323394775, 2.4170782566070557, 2.4155240058898926, 2.4107565879821777, 2.368117094039917, 3.936171054840088, 9.241641998291016, 1.6702946424484253, 1.6702930927276611, 1.6702930927276611, 1.6702910661697388, 1.6702895164489746, 1.6702895164489746, 1.670287847518921, 1.6702879667282104, 6.195607662200928, 3.180264949798584, 3.1011786460876465, 3.138808488845825, 6.921448707580566, 7.264623641967773, 3.0524747371673584, 6.873197555541992, 16.796794891357422, 36.84982681274414, 19.221647262573242, 13.412399291992188, 3.851792335510254, 13.227441787719727, 5.833429336547852, 23.871301651000977, 8.641129493713379, 12.175495147705078, 7.192173957824707, 4.700318336486816, 9.908573150634766, 6.428421974182129, 12.958937644958496, 6.22246789932251, 6.220218658447266, 6.945714473724365, 17.40159797668457, 9.597360610961914, 6.762963771820068, 9.726337432861328, 8.986867904663086, 7.925980567932129, 6.801926136016846, 6.886040210723877, 8.421768188476562, 11.237494468688965, 9.470701217651367, 9.819624900817871, 8.49770450592041, 9.185563087463379, 7.441948890686035, 12.64052677154541, 7.733643531799316, 8.717976570129395, 8.24165153503418, 7.774227619171143, 7.563382148742676, 7.515303134918213, 4.14484167098999, 2.8079516887664795, 2.1505770683288574, 2.146164655685425, 2.14178466796875, 2.1349294185638428, 5.479022979736328, 1.4785228967666626, 1.4785228967666626, 1.478522777557373, 1.4785212278366089, 1.4785208702087402, 1.4785195589065552, 1.4785194396972656, 1.4785188436508179, 1.4785181283950806, 1.4785176515579224, 1.4785151481628418, 1.4784884452819824, 1.4783084392547607, 1.4780972003936768, 1.4774410724639893, 1.4775285720825195, 1.4769219160079956, 1.4768315553665161, 1.4767483472824097, 1.4761792421340942, 1.4748708009719849, 1.4746536016464233, 1.47407066822052, 2.8212172985076904, 3.4686379432678223, 9.511468887329102, 3.49184250831604, 2.1467058658599854, 2.1436009407043457, 11.14059829711914, 4.715644359588623, 7.2647576332092285, 4.5884881019592285, 2.150233507156372, 2.1472954750061035, 3.986185312271118, 4.142575740814209, 13.707329750061035, 2.756143569946289, 2.81563663482666, 6.977945804595947, 17.771987915039062, 4.569591522216797, 4.726898670196533, 6.674941539764404, 10.026196479797363, 8.195358276367188, 5.93383264541626, 9.190821647644043, 3.829805850982666, 9.862915992736816, 6.648141384124756, 15.978678703308105, 10.436445236206055, 5.491140365600586, 6.603732585906982, 5.6707682609558105, 9.49548625946045, 8.641340255737305, 5.877710819244385, 8.481672286987305, 5.555150985717773, 5.335689067840576, 6.669656276702881, 5.235168933868408, 5.684736251831055, 5.619202613830566, 5.114164352416992, 5.178272247314453], \"Term\": [\"growth\", \"company\", \"customer\", \"sale\", \"solution\", \"quarter\", \"management\", \"fiscal\", \"application\", \"rate\", \"continue\", \"increase\", \"product\", \"order\", \"episurf_medical\", \"organic\", \"net\", \"investment\", \"first\", \"report\", \"chief_executive\", \"improve\", \"make\", \"service\", \"list\", \"production\", \"group\", \"plan\", \"president\", \"value\", \"constant_currency\", \"nearly\", \"emerge\", \"organic\", \"september\", \"geography\", \"lifecore\", \"blockchain\", \"importantly\", \"pacific\", \"speciality\", \"urban\", \"hand\", \"geographic\", \"surgeon\", \"temporary\", \"sequential\", \"specifically\", \"transformation\", \"healthcare\", \"license\", \"traditional\", \"asia\", \"chf\", \"port\", \"master\", \"tec\", \"format\", \"yet\", \"yield\", \"couple\", \"double_digit\", \"trend\", \"volume\", \"consecutive\", \"digital\", \"largely\", \"quarter\", \"growth\", \"fiscal\", \"continue\", \"increase\", \"sale\", \"loan\", \"decline\", \"margin\", \"term\", \"strong\", \"line\", \"see\", \"drive\", \"industry\", \"range\", \"business\", \"performance\", \"high\", \"first\", \"compare\", \"market\", \"revenue\", \"last\", \"product\", \"grow\", \"full\", \"expect\", \"service\", \"result\", \"price\", \"company\", \"cost\", \"acquisition\", \"low\", \"exciting\", \"billion\", \"tough\", \"example\", \"cover\", \"film\", \"nanogate\", \"mediatek\", \"trader\", \"want\", \"jason\", \"indianapolis\", \"trendy\", \"merchandise\", \"vow\", \"godewind\", \"rite\", \"morgan\", \"advertiser\", \"stem\", \"rowan\", \"original\", \"graphite\", \"underwriting\", \"coosa\", \"martin\", \"detailed\", \"hurricane\", \"woman\", \"suddenlink\", \"intel\", \"craft\", \"shareholder\", \"beat\", \"studio\", \"mineral\", \"audience\", \"sheet\", \"rating\", \"president\", \"goal\", \"solution\", \"global\", \"leader\", \"chief_executive\", \"reach\", \"content\", \"work\", \"product\", \"retailer\", \"investor\", \"capital\", \"low\", \"view\", \"target\", \"market\", \"customer\", \"good\", \"team\", \"group\", \"sale\", \"company\", \"announce\", \"chairman\", \"project\", \"datum\", \"grow\", \"revenue\", \"ceo\", \"benefit\", \"technology\", \"price\", \"month\", \"share\", \"large\", \"high\", \"report\", \"expect\", \"business\", \"count\", \"soi\", \"protection\", \"discount\", \"respect\", \"consent\", \"solicitation\", \"refinery\", \"notebook\", \"source\", \"vuzix\", \"upgrade\", \"addressable\", \"ge\", \"greg\", \"computer\", \"federal\", \"inlay\", \"glenoid\", \"bonus\", \"garant\", \"shoulder\", \"orbit\", \"boee\", \"endpoint\", \"dht\", \"costco\", \"vista\", \"cystoscopie\", \"frontline\", \"mobile\", \"premium\", \"environmental\", \"iphone\", \"apple\", \"least\", \"set\", \"rate\", \"mine\", \"speed\", \"company\", \"journal\", \"qualcomm\", \"continued\", \"accelerate\", \"base\", \"add\", \"expect\", \"make\", \"technology\", \"partner\", \"growth\", \"begin\", \"revenue\", \"state\", \"system\", \"board\", \"benefit\", \"production\", \"operation\", \"plan\", \"market\", \"ceo\", \"accord\", \"group\", \"business\", \"acquisition\", \"full\", \"high\", \"bank\", \"cost\", \"last\", \"opportunity\", \"increase\", \"grow\", \"time\", \"financial\", \"low\", \"nz\", \"origination\", \"tv\", \"polygiene\", \"digitalglobe\", \"submission\", \"wall\", \"fee\", \"quote\", \"gm\", \"merger\", \"we\\u03b3core\", \"guide\", \"injury\", \"endeavoring\", \"minimally\", \"invasive\", \"swedish\", \"tender\", \"rental\", \"musk\", \"deposit\", \"episurf_medical\", \"rpm\", \"xu\", \"compression\", \"garment\", \"shipping\", \"rfrence\", \"maduro\", \"sbab\", \"oem\", \"grocery\", \"vice_president\", \"synergy\", \"cash\", \"credit\", \"evan\", \"facility\", \"report\", \"company\", \"customer\", \"investment\", \"approach\", \"plan\", \"non\", \"revenue\", \"value\", \"ceo\", \"week\", \"available\", \"improve\", \"follow\", \"first\", \"security\", \"program\", \"take\", \"business\", \"time\", \"generate\", \"financial\", \"opportunity\", \"investor\", \"announce\", \"change\", \"rate\", \"quarter\", \"continue\", \"expect\", \"cost\", \"drive\", \"bank\", \"growth\", \"share\", \"grow\", \"product\", \"strong\", \"result\", \"last\", \"flash\", \"arrays\", \"anderson\", \"gmbh\", \"cyan\", \"annualize\", \"list\", \"easyjet\", \"md\", \"alphabet\", \"haul\", \"scandic\", \"schmidt\", \"issuer\", \"cibc\", \"veko\", \"dimon\", \"exclusive\", \"sugar\", \"fit\", \"can\", \"drone\", \"ginger\", \"fcpt\", \"schein\", \"achievement\", \"pre\", \"spot\", \"steel\", \"certification\", \"tariff\", \"proceed\", \"application\", \"perform\", \"route\", \"maturity\", \"management\", \"statement\", \"order\", \"building\", \"red\", \"datagroup\", \"uncertainty\", \"recur\", \"customer\", \"airline\", \"recognize\", \"net\", \"company\", \"income\", \"enable\", \"solution\", \"service\", \"strategy\", \"support\", \"result\", \"long\", \"grow\", \"group\", \"growth\", \"business\", \"value\", \"investment\", \"level\", \"market\", \"increase\", \"improve\", \"revenue\", \"production\", \"team\", \"quarter\", \"position\", \"drive\", \"strong\", \"plan\", \"first\"], \"Total\": [339.0, 171.0, 76.0, 147.0, 30.0, 121.0, 35.0, 40.0, 20.0, 39.0, 73.0, 114.0, 93.0, 20.0, 12.0, 27.0, 30.0, 46.0, 66.0, 44.0, 27.0, 39.0, 34.0, 64.0, 7.0, 33.0, 44.0, 50.0, 34.0, 28.0, 11.825739860534668, 11.824213981628418, 8.144407272338867, 27.765417098999023, 6.303420543670654, 5.384504795074463, 5.383085250854492, 5.383517265319824, 5.382882595062256, 5.369670867919922, 4.464381217956543, 4.464213848114014, 4.463982105255127, 4.463424205780029, 4.462967395782471, 4.461877822875977, 8.043661117553711, 4.454982757568359, 8.809836387634277, 4.427045822143555, 4.440773963928223, 5.342169284820557, 17.8510799407959, 3.5437991619110107, 3.5437982082366943, 3.5437963008880615, 3.543778657913208, 3.543776035308838, 3.5433850288391113, 3.543536424636841, 13.369916915893555, 15.101288795471191, 17.661428451538086, 34.55339813232422, 7.982481479644775, 22.20318603515625, 7.978398323059082, 121.63399505615234, 339.42041015625, 40.76100158691406, 73.51683044433594, 114.43533325195312, 147.64041137695312, 29.573041915893555, 23.767330169677734, 36.77249526977539, 23.769763946533203, 86.78746795654297, 26.28352928161621, 27.280841827392578, 72.60104370117188, 27.85428810119629, 13.987578392028809, 126.981201171875, 47.33750534057617, 81.547607421875, 66.03900146484375, 34.37307357788086, 139.67832946777344, 159.65528869628906, 56.14853286743164, 93.59732055664062, 90.65125274658203, 37.00352096557617, 83.63656616210938, 64.27532196044922, 64.24681091308594, 48.10084533691406, 171.00360107421875, 52.223384857177734, 47.027618408203125, 56.21023941040039, 3.9445536136627197, 3.9444851875305176, 3.9446330070495605, 3.9486312866210938, 3.9443063735961914, 4.726992607116699, 3.1540331840515137, 3.1540334224700928, 3.1541051864624023, 3.1539204120635986, 3.153913736343384, 3.153926134109497, 3.153938055038452, 3.153937339782715, 3.153897762298584, 3.1537439823150635, 3.154663324356079, 3.1555747985839844, 3.156898260116577, 3.1579506397247314, 3.153383493423462, 6.463948726654053, 2.3633718490600586, 2.3633716106414795, 2.3633716106414795, 2.3633716106414795, 2.3633716106414795, 2.3633711338043213, 2.3633716106414795, 2.3633716106414795, 5.655937194824219, 4.616203308105469, 14.141287803649902, 4.712488651275635, 4.712396144866943, 4.711845397949219, 4.712216377258301, 7.229907035827637, 8.688790321350098, 34.723976135253906, 13.504475593566895, 30.709314346313477, 34.165122985839844, 12.74061107635498, 27.72899055480957, 16.48294448852539, 6.1664652824401855, 25.672313690185547, 93.59732055664062, 10.00255298614502, 31.33765983581543, 27.106307983398438, 56.21023941040039, 12.99329662322998, 35.99555969238281, 139.67832946777344, 76.24651336669922, 34.08491516113281, 32.6712532043457, 44.095909118652344, 147.64041137695312, 171.00360107421875, 22.130868911743164, 18.801422119140625, 31.989307403564453, 22.675151824951172, 90.65125274658203, 159.65528869628906, 53.13966369628906, 23.652416229248047, 43.15313720703125, 48.10084533691406, 42.940956115722656, 41.97712326049805, 38.898963928222656, 81.547607421875, 44.61266326904297, 83.63656616210938, 126.981201171875, 4.620633125305176, 3.852858781814575, 3.852958917617798, 3.8550527095794678, 3.848857879638672, 3.0851566791534424, 3.085156202316284, 3.0851290225982666, 3.0848588943481445, 3.0853798389434814, 3.086167335510254, 3.085405111312866, 3.086510181427002, 3.086209297180176, 3.0869534015655518, 3.086775064468384, 6.148467540740967, 2.317453622817993, 2.317453384399414, 2.317453384399414, 2.317453622817993, 2.317453622817993, 2.317453384399414, 2.317453384399414, 2.317453622817993, 2.317453384399414, 2.317453145980835, 2.317453622817993, 2.317453622817993, 2.317453622817993, 11.445662498474121, 6.851984024047852, 4.643619537353516, 7.230792999267578, 8.447480201721191, 6.122933387756348, 11.273214340209961, 39.87237548828125, 6.992701530456543, 3.757330894470215, 171.00360107421875, 5.370991230010986, 5.373082160949707, 5.3723225593566895, 22.898977279663086, 41.02625274658203, 31.67413902282715, 83.63656616210938, 34.45574188232422, 43.15313720703125, 22.19796371459961, 339.42041015625, 16.279296875, 159.65528869628906, 25.496522903442383, 21.72905731201172, 22.374658584594727, 23.652416229248047, 33.59264373779297, 31.277864456176758, 50.220245361328125, 139.67832946777344, 53.13966369628906, 15.5440673828125, 44.095909118652344, 126.981201171875, 47.027618408203125, 37.00352096557617, 81.547607421875, 32.36012649536133, 52.223384857177734, 56.14853286743164, 38.49286651611328, 114.43533325195312, 90.65125274658203, 40.4692497253418, 44.207435607910156, 56.21023941040039, 3.8190011978149414, 3.819697380065918, 3.821209192276001, 3.059737205505371, 3.0597376823425293, 3.0594377517700195, 3.059490442276001, 3.05985164642334, 3.060150623321533, 3.0601730346679688, 3.0604844093322754, 3.0606982707977295, 3.0611519813537598, 3.0616588592529297, 3.061742067337036, 3.061744213104248, 3.0620334148406982, 3.060290575027466, 3.0624008178710938, 3.063289165496826, 3.072787046432495, 5.369971752166748, 12.658286094665527, 2.3005077838897705, 2.3005075454711914, 2.3005080223083496, 2.3005080223083496, 2.3005075454711914, 2.3005082607269287, 2.3005077838897705, 2.3005080223083496, 8.994590759277344, 4.588472843170166, 4.49324369430542, 4.6110992431640625, 11.703563690185547, 12.937911987304688, 4.768180847167969, 13.39697551727295, 44.61266326904297, 171.00360107421875, 76.24651336669922, 46.71052169799805, 6.422877788543701, 50.220245361328125, 13.029900550842285, 159.65528869628906, 28.530607223510742, 53.13966369628906, 21.30815315246582, 10.058536529541016, 39.70158767700195, 18.02904510498047, 66.03900146484375, 17.33794593811035, 17.419837951660156, 21.51294708251953, 126.981201171875, 40.4692497253418, 20.71214485168457, 44.207435607910156, 38.49286651611328, 31.33765983581543, 22.130868911743164, 23.66094207763672, 39.87237548828125, 121.63399505615234, 73.51683044433594, 83.63656616210938, 52.223384857177734, 72.60104370117188, 32.36012649536133, 339.42041015625, 41.97712326049805, 90.65125274658203, 93.59732055664062, 86.78746795654297, 64.24681091308594, 56.14853286743164, 4.8199028968811035, 3.4742703437805176, 2.7982325553894043, 2.7989587783813477, 2.7993733882904053, 2.8040151596069336, 7.687036991119385, 2.1261706352233887, 2.1261708736419678, 2.1261708736419678, 2.126171112060547, 2.126171112060547, 2.126171350479126, 2.126171588897705, 2.126171588897705, 2.126171827316284, 2.1261720657348633, 2.1261723041534424, 2.126175880432129, 2.126201629638672, 2.1262314319610596, 2.1263113021850586, 2.126537799835205, 2.126378297805786, 2.126469612121582, 2.1265320777893066, 2.126514196395874, 2.126854419708252, 2.127600908279419, 2.1275153160095215, 4.238938331604004, 5.709201335906982, 20.512008666992188, 6.598361015319824, 3.5581462383270264, 3.560711622238159, 35.26762771606445, 11.028945922851562, 20.61931800842285, 11.380783081054688, 3.7184925079345703, 3.7194244861602783, 9.996562957763672, 10.93800163269043, 76.24651336669922, 5.797449111938477, 6.053649425506592, 30.41913604736328, 171.00360107421875, 15.502522468566895, 16.536663055419922, 30.709314346313477, 64.27532196044922, 46.83043670654297, 27.155366897583008, 64.24681091308594, 11.720319747924805, 90.65125274658203, 44.095909118652344, 339.42041015625, 126.981201171875, 28.530607223510742, 46.71052169799805, 33.253334045410156, 139.67832946777344, 114.43533325195312, 39.70158767700195, 159.65528869628906, 33.59264373779297, 32.6712532043457, 121.63399505615234, 34.38312911987305, 72.60104370117188, 86.78746795654297, 50.220245361328125, 66.03900146484375], \"loglift\": [30.0, 29.0, 28.0, 27.0, 26.0, 25.0, 24.0, 23.0, 22.0, 21.0, 20.0, 19.0, 18.0, 17.0, 16.0, 15.0, 14.0, 13.0, 12.0, 11.0, 10.0, 9.0, 8.0, 7.0, 6.0, 5.0, 4.0, 3.0, 2.0, 1.0, 0.8937000036239624, 0.8934000134468079, 0.8687999844551086, 0.8555999994277954, 0.8450999855995178, 0.8287000060081482, 0.8278999924659729, 0.8274999856948853, 0.82669997215271, 0.8123999834060669, 0.8029000163078308, 0.8026999831199646, 0.802299976348877, 0.8015000224113464, 0.8009999990463257, 0.7997999787330627, 0.796999990940094, 0.7915999889373779, 0.7875000238418579, 0.7749000191688538, 0.7727000117301941, 0.7727000117301941, 0.7692999839782715, 0.761900007724762, 0.761900007724762, 0.761900007724762, 0.761900007724762, 0.761900007724762, 0.7615000009536743, 0.7615000009536743, 0.7590000033378601, 0.7566999793052673, 0.751800000667572, 0.7441999912261963, 0.7580999732017517, 0.7468000054359436, 0.7552000284194946, 0.7044000029563904, 0.6751000285148621, 0.7215999960899353, 0.7031999826431274, 0.6606000065803528, 0.6495000123977661, 0.696399986743927, 0.7087000012397766, 0.663100004196167, 0.6923999786376953, 0.5785999894142151, 0.6714000105857849, 0.6614999771118164, 0.557699978351593, 0.6212999820709229, 0.7085000276565552, 0.4196000099182129, 0.5422999858856201, 0.45750001072883606, 0.4779999852180481, 0.5777000188827515, 0.35040000081062317, 0.3068000078201294, 0.47360000014305115, 0.3391999900341034, 0.3190999925136566, 0.5289000272750854, 0.24899999797344208, 0.3082999885082245, 0.28870001435279846, 0.32850000262260437, -0.4052000045776367, 0.25189998745918274, 0.20430000126361847, 0.052400000393390656, 1.4852999448776245, 1.4842000007629395, 1.4842000007629395, 1.4785000085830688, 1.4782999753952026, 1.4420000314712524, 1.4385000467300415, 1.4385000467300415, 1.437600016593933, 1.437399983406067, 1.437399983406067, 1.4371000528335571, 1.4365999698638916, 1.4363000392913818, 1.4359999895095825, 1.4357000589370728, 1.4355000257492065, 1.4342999458312988, 1.4306999444961548, 1.4278000593185425, 1.4265999794006348, 1.3598999977111816, 1.3523999452590942, 1.3523999452590942, 1.3523999452590942, 1.3523999452590942, 1.3523999452590942, 1.3523999452590942, 1.3523999452590942, 1.3523999452590942, 1.340000033378601, 1.3284000158309937, 1.2562999725341797, 1.3085999488830566, 1.3075000047683716, 1.3071000576019287, 1.3065999746322632, 1.2384999990463257, 1.208400011062622, 0.9613999724388123, 1.1074999570846558, 0.9502999782562256, 0.8392000198364258, 1.0825999975204468, 0.8866999745368958, 0.9896000027656555, 1.2519999742507935, 0.8331000208854675, 0.4397999942302704, 1.0880000591278076, 0.6922000050544739, 0.7400000095367432, 0.4912000000476837, 0.9631999731063843, 0.6040999889373779, 0.12880000472068787, 0.3075000047683716, 0.582099974155426, 0.5918999910354614, 0.43309998512268066, -0.10140000283718109, -0.20180000364780426, 0.6992999911308289, 0.7633000016212463, 0.4747999906539917, 0.642799973487854, -0.14079999923706055, -0.5364999771118164, 0.11249999701976776, 0.5835000276565552, 0.1988999992609024, 0.10530000180006027, 0.18150000274181366, 0.15770000219345093, 0.21299999952316284, -0.3937000036239624, 0.08460000157356262, -0.4864000082015991, -0.8877999782562256, 1.6742000579833984, 1.6432000398635864, 1.6420999765396118, 1.6390999555587769, 1.6334999799728394, 1.593400001525879, 1.593400001525879, 1.5923999547958374, 1.5923000574111938, 1.5915000438690186, 1.5892000198364258, 1.5889999866485596, 1.5880999565124512, 1.5867999792099, 1.5846999883651733, 1.5693999528884888, 1.52839994430542, 1.5048999786376953, 1.5048999786376953, 1.5048999786376953, 1.5048999786376953, 1.5048999786376953, 1.5048999786376953, 1.5048999786376953, 1.5048999786376953, 1.5048999786376953, 1.5048999786376953, 1.5048999786376953, 1.5048999786376953, 1.5048999786376953, 1.4313000440597534, 1.4535000324249268, 1.4549000263214111, 1.3995000123977661, 1.3827999830245972, 1.3926000595092773, 1.2043999433517456, 0.8863999843597412, 1.2599999904632568, 1.3947999477386475, 0.49810001254081726, 1.3104000091552734, 1.309399962425232, 1.305999994277954, 0.892799973487854, 0.7127000093460083, 0.7652999758720398, 0.4318999946117401, 0.7304999828338623, 0.6319000124931335, 0.8435999751091003, -0.22300000488758087, 0.9523000121116638, -0.019300000742077827, 0.732200026512146, 0.7804999947547913, 0.7524999976158142, 0.7192999720573425, 0.5645999908447266, 0.5716999769210815, 0.34040001034736633, -0.27379998564720154, 0.22269999980926514, 0.8826000094413757, 0.2912999987602234, -0.367000013589859, 0.21529999375343323, 0.3610999882221222, -0.17520000040531158, 0.4002000093460083, 0.04729999974370003, -0.039000000804662704, 0.2402999997138977, -0.7145000100135803, -0.5242000222206116, 0.19599999487400055, 0.11089999973773956, -0.13410000503063202, 1.6591999530792236, 1.657099962234497, 1.655400037765503, 1.6089999675750732, 1.6089999675750732, 1.6080000400543213, 1.6080000400543213, 1.6079000234603882, 1.6074999570846558, 1.6073999404907227, 1.607300043106079, 1.6058000326156616, 1.6058000326156616, 1.604599952697754, 1.6044000387191772, 1.6044000387191772, 1.6038000583648682, 1.603700041770935, 1.6023000478744507, 1.600100040435791, 1.5791000127792358, 1.5290000438690186, 1.524999976158142, 1.5195000171661377, 1.5195000171661377, 1.5195000171661377, 1.5195000171661377, 1.5195000171661377, 1.5195000171661377, 1.5195000171661377, 1.5195000171661377, 1.4667999744415283, 1.4730000495910645, 1.4687999486923218, 1.4550000429153442, 1.3143999576568604, 1.2625000476837158, 1.3935999870300293, 1.1721999645233154, 0.8628000020980835, 0.30480000376701355, 0.4616999924182892, 0.5917999744415283, 1.3282999992370605, 0.5055000185966492, 1.0360000133514404, -0.06069999933242798, 0.6452000141143799, 0.366100013256073, 0.7534999847412109, 1.0787999629974365, 0.45159998536109924, 0.8083999752998352, 0.21119999885559082, 0.8148999810218811, 0.8098000288009644, 0.7091000080108643, -0.1477999985218048, 0.40059998631477356, 0.7203999757766724, 0.3255999982357025, 0.3849000036716461, 0.4650000035762787, 0.6599000096321106, 0.6053000092506409, 0.2847999930381775, -0.5421000123023987, -0.20970000326633453, -0.30250000953674316, 0.023900000378489494, -0.22769999504089355, 0.36980000138282776, -1.450700044631958, 0.14810000360012054, -0.5019999742507935, -0.5902000069618225, -0.5730000138282776, -0.29980000853538513, -0.17139999568462372, 2.142199993133545, 2.080199956893921, 2.029900074005127, 2.0274999141693115, 2.025399923324585, 2.0204999446868896, 1.9544999599456787, 1.929800033569336, 1.929800033569336, 1.929800033569336, 1.929800033569336, 1.929800033569336, 1.929800033569336, 1.929800033569336, 1.929800033569336, 1.929800033569336, 1.929800033569336, 1.929800033569336, 1.929800033569336, 1.9297000169754028, 1.9294999837875366, 1.9290000200271606, 1.9290000200271606, 1.9285999536514282, 1.9285000562667847, 1.9285000562667847, 1.9280999898910522, 1.9270000457763672, 1.9264999628067017, 1.926200032234192, 1.8860000371932983, 1.794800043106079, 1.5246000289916992, 1.6567000150680542, 1.7877999544143677, 1.785599946975708, 1.1406999826431274, 1.44350004196167, 1.249899983406067, 1.3846999406814575, 1.7453999519348145, 1.7438000440597534, 1.3737000226974487, 1.3221999406814575, 0.5770999789237976, 1.5494999885559082, 1.5276000499725342, 0.8208000063896179, 0.028999999165534973, 1.0714999437332153, 1.0407999753952026, 0.7669000029563904, 0.4350999891757965, 0.5501000285148621, 0.7721999883651733, 0.34860000014305115, 1.1746000051498413, 0.07490000128746033, 0.4011000096797943, -0.7628999948501587, -0.20559999346733093, 0.6452999711036682, 0.3368000090122223, 0.5242999792098999, -0.3953999876976013, -0.29030001163482666, 0.3828999996185303, -0.6420000195503235, 0.4934999942779541, 0.48100000619888306, -0.6103000044822693, 0.4108999967575073, -0.2540999948978424, -0.4442000091075897, 0.008700000122189522, -0.25270000100135803], \"logprob\": [30.0, 29.0, 28.0, 27.0, 26.0, 25.0, 24.0, 23.0, 22.0, 21.0, 20.0, 19.0, 18.0, 17.0, 16.0, 15.0, 14.0, 13.0, 12.0, 11.0, 10.0, 9.0, 8.0, 7.0, 6.0, 5.0, 4.0, 3.0, 2.0, 1.0, -6.56220006942749, -6.562600135803223, -6.960000038146973, -5.746799945831299, -7.2399001121521, -7.413899898529053, -7.414999961853027, -7.415299892425537, -7.416200160980225, -7.4328999519348145, -7.627099990844727, -7.627399921417236, -7.627799987792969, -7.628699779510498, -7.629300117492676, -7.63070011138916, -7.0441999435424805, -7.640500068664551, -6.962800025939941, -7.66349983215332, -7.662600040435791, -7.477799892425537, -6.274799823760986, -7.89900016784668, -7.89900016784668, -7.89900016784668, -7.899099826812744, -7.899099826812744, -7.899600028991699, -7.899499893188477, -6.574100017547607, -6.454599857330322, -6.302999973297119, -5.639400005340576, -7.090799808502197, -6.079100131988525, -7.094200134277344, -4.42080020904541, -3.4237000942230225, -5.496799945831299, -4.92549991607666, -4.5254998207092285, -4.281799793243408, -5.842800140380859, -6.049099922180176, -5.658299922943115, -6.065299987792969, -4.884099960327148, -5.985799789428711, -5.958499908447266, -5.083499908447266, -5.977799892425537, -6.579400062561035, -4.662399768829346, -5.526599884033203, -5.067500114440918, -5.257900238037109, -5.811200141906738, -4.63640022277832, -4.546299934387207, -5.424499988555908, -5.047999858856201, -5.099999904632568, -5.786300182342529, -5.2505998611450195, -5.454599857330322, -5.474699974060059, -5.724299907684326, -5.189700126647949, -5.718699932098389, -5.871099948883057, -5.844600200653076, -7.06850004196167, -7.0696001052856445, -7.0696001052856445, -7.07420015335083, -7.075500011444092, -6.930799961090088, -7.338900089263916, -7.338900089263916, -7.339799880981445, -7.340099811553955, -7.340099811553955, -7.340400218963623, -7.340799808502197, -7.341100215911865, -7.3414998054504395, -7.341800212860107, -7.341800212860107, -7.342599868774414, -7.345799922943115, -7.348400115966797, -7.35099983215332, -6.699999809265137, -7.713600158691406, -7.713600158691406, -7.713600158691406, -7.713600158691406, -7.713600158691406, -7.713600158691406, -7.713600158691406, -7.713600158691406, -6.853400230407715, -7.06820011138916, -6.0208001136779785, -7.067299842834473, -7.06850004196167, -7.068999767303467, -7.069399833679199, -6.709400177001953, -6.555699825286865, -5.417300224304199, -6.21560001373291, -5.551300048828125, -5.555699825286865, -6.298699855804443, -5.716899871826172, -6.134200096130371, -6.855000019073486, -5.847599983215332, -4.947400093078613, -6.535299777984619, -5.789100170135498, -5.88640022277832, -5.405900001525879, -6.398499965667725, -5.738699913024902, -4.857999801635742, -5.2846999168396, -5.815199851989746, -5.847700119018555, -5.706699848175049, -5.032800197601318, -4.986199855804443, -6.129899978637695, -6.228899955749512, -5.986000061035156, -6.1620001792907715, -5.559899806976318, -5.389599800109863, -5.840700149536133, -6.179200172424316, -5.962500095367432, -5.9475998878479, -5.984799861907959, -6.031300067901611, -6.05210018157959, -5.918700218200684, -6.043499946594238, -5.986000061035156, -5.969900131225586, -6.721399784088135, -6.934100151062012, -6.935200214385986, -6.937699794769287, -6.944799900054932, -7.206099987030029, -7.206099987030029, -7.207099914550781, -7.207300186157227, -7.208000183105469, -7.210000038146973, -7.2104997634887695, -7.210999965667725, -7.212399959564209, -7.214200019836426, -7.229599952697754, -6.581600189208984, -7.5808000564575195, -7.5808000564575195, -7.5808000564575195, -7.5808000564575195, -7.5808000564575195, -7.5808000564575195, -7.5808000564575195, -7.5808000564575195, -7.5808000564575195, -7.5808000564575195, -7.5808000564575195, -7.5808000564575195, -7.5808000564575195, -6.057199954986572, -6.548099994659424, -6.935699939727783, -6.548299789428711, -6.4095001220703125, -6.721399784088135, -6.299300193786621, -5.354000091552734, -6.72130012512207, -7.207600116729736, -4.286399841308594, -6.934700012207031, -6.935299873352051, -6.938799858093262, -5.902200222015381, -5.499199867248535, -5.7052998542785645, -5.067699909210205, -5.655900001525879, -5.5295000076293945, -5.982600212097168, -4.321899890899658, -6.183899879455566, -4.872399806976318, -5.955399990081787, -6.066999912261963, -6.065700054168701, -6.043399810791016, -5.8471999168396, -5.911600112915039, -5.669300079345703, -5.2606000900268555, -5.730500221252441, -6.299799919128418, -5.848499774932861, -5.449100017547607, -5.860099792480469, -5.953999996185303, -5.700200080871582, -6.048999786376953, -5.923299789428711, -5.937099933624268, -6.035399913787842, -5.900599956512451, -5.943299770355225, -6.029600143432617, -6.026299953460693, -6.031099796295166, -6.9268999099731445, -6.928899765014648, -6.930200099945068, -7.198800086975098, -7.198800086975098, -7.199900150299072, -7.199900150299072, -7.199900150299072, -7.200200080871582, -7.200200080871582, -7.200300216674805, -7.201700210571289, -7.201600074768066, -7.202499866485596, -7.202700138092041, -7.202700138092041, -7.2032999992370605, -7.20389986038208, -7.204599857330322, -7.206600189208984, -7.224400043487549, -6.716300010681152, -5.862800121307373, -7.573500156402588, -7.573500156402588, -7.573500156402588, -7.573500156402588, -7.573500156402588, -7.573500156402588, -7.573500156402588, -7.573500156402588, -6.262700080871582, -6.929500102996826, -6.954699993133545, -6.942699909210205, -6.151899814605713, -6.103499889373779, -6.9704999923706055, -6.158899784088135, -5.2652997970581055, -4.479599952697754, -5.130499839782715, -5.490300178527832, -6.73799991607666, -5.504199981689453, -6.32289981842041, -4.91379976272583, -5.929999828338623, -5.587100028991699, -6.113500118255615, -6.538899898529053, -5.793099880218506, -6.225800037384033, -5.524700164794922, -6.258299827575684, -6.258699893951416, -6.148399829864502, -5.229899883270264, -5.824999809265137, -6.175000190734863, -5.811699867248535, -5.890699863433838, -6.01639986038208, -6.169300079345703, -6.1570000648498535, -5.955699920654297, -5.667200088500977, -5.8383002281188965, -5.80210018157959, -5.946700096130371, -5.868899822235107, -6.079400062561035, -5.549600124359131, -6.040900230407715, -5.92110013961792, -5.97730016708374, -6.035699844360352, -6.063199996948242, -6.0696001052856445, -6.21120023727417, -6.600599765777588, -6.867300033569336, -6.86929988861084, -6.871399879455566, -6.874599933624268, -5.93209981918335, -7.242000102996826, -7.242000102996826, -7.242000102996826, -7.242000102996826, -7.242000102996826, -7.242000102996826, -7.242000102996826, -7.242000102996826, -7.242000102996826, -7.242000102996826, -7.242000102996826, -7.242000102996826, -7.242099761962891, -7.242300033569336, -7.242700099945068, -7.242599964141846, -7.243100166320801, -7.243100166320801, -7.243199825286865, -7.243599891662598, -7.2444000244140625, -7.24459981918335, -7.244999885559082, -6.595900058746338, -6.3892998695373535, -5.380499839782715, -6.382599830627441, -6.869100093841553, -6.870500087738037, -5.222400188446045, -6.082099914550781, -5.650000095367432, -6.109499931335449, -6.867400169372559, -6.868800163269043, -6.250199794769287, -6.211699962615967, -5.015100002288818, -6.619200229644775, -6.597799777984619, -5.690299987792969, -4.75540018081665, -6.11359977722168, -6.079699993133545, -5.7347002029418945, -5.3277997970581055, -5.5295000076293945, -5.85230016708374, -5.41480016708374, -6.290200233459473, -5.344200134277344, -5.738699913024902, -4.861800193786621, -5.287700176239014, -5.929900169372559, -5.7453999519348145, -5.89769983291626, -5.382199764251709, -5.476500034332275, -5.8618998527526855, -5.495100021362305, -5.918300151824951, -5.958600044250488, -5.735499858856201, -5.97760009765625, -5.895199775695801, -5.906799793243408, -6.000999927520752, -5.988500118255615]}, \"token.table\": {\"Topic\": [1, 2, 3, 4, 5, 1, 2, 3, 4, 5, 5, 1, 2, 3, 4, 5, 1, 2, 3, 4, 5, 3, 2, 2, 3, 4, 5, 5, 5, 1, 2, 3, 4, 5, 5, 3, 4, 1, 2, 3, 4, 5, 1, 4, 5, 1, 2, 4, 2, 3, 1, 2, 3, 4, 5, 1, 2, 3, 4, 5, 1, 2, 3, 4, 5, 2, 3, 1, 3, 4, 5, 1, 2, 3, 5, 2, 1, 1, 2, 3, 4, 5, 3, 3, 1, 2, 4, 5, 1, 2, 3, 4, 5, 5, 1, 2, 3, 4, 5, 1, 2, 4, 5, 1, 2, 3, 4, 5, 5, 1, 2, 3, 4, 5, 1, 2, 3, 4, 5, 1, 1, 2, 3, 4, 5, 1, 2, 3, 4, 5, 1, 2, 3, 4, 5, 4, 3, 1, 4, 3, 1, 2, 4, 5, 1, 2, 3, 4, 5, 3, 4, 2, 1, 2, 3, 4, 5, 3, 3, 1, 2, 3, 2, 2, 5, 1, 2, 4, 1, 2, 3, 4, 5, 5, 3, 1, 5, 1, 2, 3, 4, 5, 1, 2, 4, 5, 2, 4, 2, 3, 1, 2, 3, 4, 4, 5, 3, 1, 3, 4, 1, 2, 3, 4, 5, 5, 5, 1, 1, 2, 4, 5, 4, 3, 2, 3, 1, 4, 1, 4, 2, 2, 5, 1, 2, 3, 4, 5, 1, 2, 3, 4, 5, 3, 4, 4, 2, 1, 2, 3, 4, 5, 1, 2, 4, 5, 1, 4, 5, 5, 5, 1, 2, 3, 4, 5, 1, 3, 1, 2, 3, 5, 3, 4, 3, 1, 2, 3, 4, 1, 1, 5, 3, 1, 2, 3, 4, 5, 4, 5, 1, 2, 5, 2, 1, 2, 3, 4, 2, 3, 3, 4, 1, 2, 3, 4, 5, 1, 2, 3, 4, 5, 1, 2, 3, 4, 5, 4, 1, 5, 1, 1, 2, 3, 4, 5, 2, 1, 1, 2, 3, 4, 5, 1, 2, 4, 5, 1, 2, 3, 4, 5, 2, 1, 2, 5, 4, 3, 1, 2, 4, 1, 2, 3, 4, 5, 1, 2, 3, 4, 5, 1, 3, 5, 2, 3, 4, 1, 2, 3, 4, 5, 1, 4, 1, 2, 3, 4, 5, 1, 2, 3, 4, 5, 3, 4, 1, 2, 3, 4, 5, 1, 1, 1, 2, 3, 4, 4, 5, 1, 2, 4, 5, 1, 2, 4, 5, 1, 2, 3, 4, 5, 4, 1, 2, 3, 4, 1, 2, 3, 4, 5, 1, 2, 3, 4, 5, 1, 2, 3, 4, 5, 2, 1, 4, 5, 5, 2, 2, 4, 2, 3, 2, 3, 4, 2, 3, 4, 5, 1, 2, 3, 4, 5, 2, 4, 2, 1, 1, 2, 3, 4, 5, 1, 2, 4, 5, 3, 4, 2, 4, 5, 1, 2, 3, 4, 5, 1, 2, 3, 4, 5, 3, 1, 2, 3, 4, 5, 1, 5, 1, 2, 4, 1, 1, 2, 3, 4, 1, 3, 5, 1, 2, 3, 4, 5, 1, 2, 3, 4, 5, 4, 1, 1, 2, 3, 4, 5, 5, 2, 3, 5, 1, 2, 3, 4, 5, 1, 2, 3, 4, 5, 2, 3, 5, 1, 2, 3, 4, 1, 2, 3, 4, 5, 1, 2, 3, 4, 1, 2, 3, 4, 3, 3, 4, 1, 2, 3, 4, 5, 4, 1, 3, 4, 5, 1, 2, 3, 4, 1, 2, 4, 5, 1, 2, 3, 4, 5, 1, 3, 5, 3, 4, 5, 1, 5, 3, 4, 1, 2, 3, 4, 5, 3, 1, 2, 3, 4, 5, 1, 2, 1, 2, 3, 4, 5, 4, 2, 4, 5, 2, 4, 1, 2, 3, 4, 5, 4, 5, 5, 5, 1, 2, 4, 5, 1, 2, 3, 1, 1, 3, 1, 2, 3, 4, 5, 1, 2, 3, 1, 2, 3, 4, 5, 1, 2, 3, 4, 5, 1, 2, 4, 4, 3, 3, 3, 1, 2, 3, 5, 3, 1, 1, 3, 5, 5, 1, 2, 3, 4, 5, 1, 2, 3, 4, 5, 5, 2, 1, 2, 3, 4, 5, 1, 2, 3, 4, 5, 2, 3, 4, 2, 5, 1, 2, 3, 4, 5, 1, 4, 2, 4, 1, 2, 3, 4, 1, 2, 3, 4, 1, 2, 3, 4, 5, 3, 5, 1, 2, 3, 4, 5, 1, 1, 2, 3, 4, 5, 1, 4, 1, 2, 3, 4, 1, 2, 3, 4, 5, 2, 2, 1, 1, 5, 1, 2, 3, 5, 2, 4, 1, 2, 4, 5, 2, 3, 1, 1, 2, 3, 4, 5, 5, 4, 5, 1, 2, 3, 4, 3, 1, 2, 3, 4, 5, 2, 3, 4, 2, 1, 2, 3, 4, 5, 4, 2, 1, 2, 4, 5, 4, 1, 1], \"Freq\": [0.26202043890953064, 0.04367007315158844, 0.39303064346313477, 0.13101021945476532, 0.13101021945476532, 0.0643332228064537, 0.3216661214828491, 0.3859993517398834, 0.1929996758699417, 0.0643332228064537, 0.470249205827713, 0.4678102135658264, 0.14884869754314423, 0.19137690961360931, 0.08505640178918839, 0.08505640178918839, 0.3157149851322174, 0.18942898511886597, 0.3472864627838135, 0.09471449255943298, 0.03157149627804756, 0.6479809880256653, 0.950299859046936, 0.17248965799808502, 0.17248965799808502, 0.17248965799808502, 0.5174689888954163, 0.47032907605171204, 0.7147368788719177, 0.180743008852005, 0.36148601770401, 0.0903715044260025, 0.31630027294158936, 0.04518575221300125, 0.7132629156112671, 0.5918924808502197, 0.23675699532032013, 0.09750385582447052, 0.09750385582447052, 0.2437596470117569, 0.09750385582447052, 0.4875192940235138, 0.31138691306114197, 0.6227738261222839, 0.863490641117096, 0.8402853012084961, 0.1120380386710167, 0.05601901933550835, 0.63664311170578, 0.2122143656015396, 0.099418044090271, 0.198836088180542, 0.099418044090271, 0.497090220451355, 0.099418044090271, 0.2472178190946579, 0.18541336059570312, 0.2472178190946579, 0.2163155972957611, 0.12360890954732895, 0.29249563813209534, 0.17062245309352875, 0.3412449061870575, 0.12187318503856659, 0.04874927178025246, 0.6366063356399536, 0.21220210194587708, 0.36856627464294434, 0.42999398708343506, 0.12285543233156204, 0.06142771616578102, 0.21139489114284515, 0.3382318317890167, 0.3382318317890167, 0.12683694064617157, 0.7605555057525635, 0.928760826587677, 0.3575473427772522, 0.08938683569431305, 0.3575473427772522, 0.08938683569431305, 0.13408026099205017, 0.8630163073539734, 0.8630163073539734, 0.26360225677490234, 0.17573483288288116, 0.17573483288288116, 0.4393370747566223, 0.5906386375427246, 0.0787518173456192, 0.11025253683328629, 0.13387808203697205, 0.0787518173456192, 0.47031569480895996, 0.14756712317466736, 0.405809611082077, 0.14756712317466736, 0.14756712317466736, 0.14756712317466736, 0.17088812589645386, 0.08544406294822693, 0.5981084108352661, 0.08544406294822693, 0.30109336972236633, 0.2070016860961914, 0.2070016860961914, 0.22582001984119415, 0.05645500496029854, 0.47003185749053955, 0.1595623940229416, 0.42549973726272583, 0.21274986863136292, 0.05318746715784073, 0.1595623940229416, 0.4226374328136444, 0.08452748507261276, 0.08452748507261276, 0.29584619402885437, 0.08452748507261276, 0.8465490937232971, 0.10819001495838165, 0.4688234031200409, 0.18031670153141022, 0.2163800299167633, 0.4703289270401001, 0.25730451941490173, 0.1578914076089859, 0.26900017261505127, 0.21636971831321716, 0.1052609384059906, 0.69822096824646, 0.029092539101839066, 0.029092539101839066, 0.20364777743816376, 0.05818507820367813, 0.8693732023239136, 0.6479254364967346, 0.8769202828407288, 0.12527433037757874, 0.6482653021812439, 0.9301743507385254, 0.6486698389053345, 0.16216745972633362, 0.16216745972633362, 0.7889350056648254, 0.02720465511083603, 0.013602327555418015, 0.12242094427347183, 0.040806982666254044, 0.5584176778793335, 0.37227845191955566, 0.8462486267089844, 0.49786126613616943, 0.09574254602193832, 0.17233659327030182, 0.1531880795955658, 0.0765940397977829, 0.8630163669586182, 0.8656822443008423, 0.8227425813674927, 0.07479477673768997, 0.07479477673768997, 0.7605900168418884, 0.6498847007751465, 0.21662823855876923, 0.30916890501976013, 0.07729222625494003, 0.5410455465316772, 0.2098456621170044, 0.2623070776462555, 0.1049228310585022, 0.24919171631336212, 0.18361495435237885, 0.7144455909729004, 0.8630161881446838, 0.26885879039764404, 0.5377175807952881, 0.17640455067157745, 0.3528091013431549, 0.17640455067157745, 0.1323034167289734, 0.1323034167289734, 0.7994166612625122, 0.12622368335723877, 0.04207456111907959, 0.04207456111907959, 0.18622072041034698, 0.7448828816413879, 0.8462486267089844, 0.8630163073539734, 0.8106944561004639, 0.045038580894470215, 0.045038580894470215, 0.09007716178894043, 0.6536508202552795, 0.47032880783081055, 0.7781994938850403, 0.7946341633796692, 0.0662195160984993, 0.0662195160984993, 0.674921452999115, 0.04132172092795372, 0.08264344185590744, 0.12396515905857086, 0.08264344185590744, 0.47029802203178406, 0.4703291356563568, 0.9822691679000854, 0.36283016204833984, 0.12094338238239288, 0.18141508102416992, 0.3023584485054016, 0.653222918510437, 0.8630161881446838, 0.2153492569923401, 0.6460477709770203, 0.23699891567230225, 0.7109967470169067, 0.2097235918045044, 0.6291707754135132, 0.7597569227218628, 0.7605423331260681, 0.47032877802848816, 0.5021727085113525, 0.11956492811441422, 0.25108635425567627, 0.11956492811441422, 0.023912984877824783, 0.14928743243217468, 0.14928743243217468, 0.14928743243217468, 0.5225059986114502, 0.4702832102775574, 0.8132107853889465, 0.16264215111732483, 0.6536264419555664, 0.8462039828300476, 0.339309424161911, 0.18096503615379333, 0.18096503615379333, 0.22620628774166107, 0.09048251807689667, 0.6208452582359314, 0.09085540473461151, 0.196853369474411, 0.07571283727884293, 0.809597373008728, 0.07359976321458817, 0.12266626954078674, 0.47032228112220764, 0.8298922181129456, 0.27733027935028076, 0.16639816761016846, 0.05546605587005615, 0.3327963352203369, 0.16639816761016846, 0.8465546369552612, 0.8630161881446838, 0.6485869288444519, 0.08107336610555649, 0.24322009086608887, 0.02702445536851883, 0.8630161881446838, 0.8693732023239136, 0.6480441689491272, 0.19312341511249542, 0.28968510031700134, 0.14484255015850067, 0.3379659652709961, 0.8961729407310486, 0.9285904765129089, 0.47024792432785034, 0.8630163073539734, 0.321965754032135, 0.4390442371368408, 0.029269615188241005, 0.14634807407855988, 0.05853923037648201, 0.6535578370094299, 0.7145514488220215, 0.2221485674381256, 0.5923961997032166, 0.14809904992580414, 0.9512503147125244, 0.5574313402175903, 0.3520618975162506, 0.058676984161138535, 0.058676984161138535, 0.8462485671043396, 0.6478880047798157, 0.2179374396800995, 0.6538122892379761, 0.22677840292453766, 0.2948119342327118, 0.22677840292453766, 0.11338920146226883, 0.15874488651752472, 0.5295017957687378, 0.16546930372714996, 0.09928158670663834, 0.09928158670663834, 0.11031287163496017, 0.7630654573440552, 0.023569589480757713, 0.12963274121284485, 0.03830058500170708, 0.04713917896151543, 0.6533488035202026, 0.8960609436035156, 0.47032904624938965, 0.9035370945930481, 0.6131387948989868, 0.12262775748968124, 0.13489052653312683, 0.06131387874484062, 0.06131387874484062, 0.8462488055229187, 0.9288703203201294, 0.45338237285614014, 0.025187909603118896, 0.12593954801559448, 0.25187909603118896, 0.15112745761871338, 0.2580225169658661, 0.3870337903499603, 0.06450562924146652, 0.3225281536579132, 0.7515161633491516, 0.034954238682985306, 0.07864703983068466, 0.05243135988712311, 0.07864703983068466, 0.9511954188346863, 0.7180222868919373, 0.21540668606758118, 0.03590111434459686, 0.6532406210899353, 0.8630161881446838, 0.17680536210536957, 0.7072214484214783, 0.6531607508659363, 0.4067606031894684, 0.12845072150230408, 0.04281690716743469, 0.2783098816871643, 0.14985917508602142, 0.2552838921546936, 0.3829258382320404, 0.0638209730386734, 0.2552838921546936, 0.0319104865193367, 0.2765948474407196, 0.6914870738983154, 0.4703289270401001, 0.9511991143226624, 0.5585561394691467, 0.37237074971199036, 0.38561439514160156, 0.23136863112449646, 0.1542457491159439, 0.10283049941062927, 0.1285381317138672, 0.8773691058158875, 0.12533843517303467, 0.6233466267585754, 0.05342971161007881, 0.16028913855552673, 0.14247924089431763, 0.03561981022357941, 0.15697833895683289, 0.5494241714477539, 0.15697833895683289, 0.07848916947841644, 0.07848916947841644, 0.6532816290855408, 0.3266408145427704, 0.45108258724212646, 0.1503608673810959, 0.09021651744842529, 0.1503608673810959, 0.18043303489685059, 0.9007439017295837, 0.928835391998291, 0.7609328031539917, 0.038046639412641525, 0.07609327882528305, 0.11413992196321487, 0.26017826795578003, 0.6504456996917725, 0.7777353525161743, 0.06762915849685669, 0.033814579248428345, 0.10144373774528503, 0.34128761291503906, 0.17064380645751953, 0.17064380645751953, 0.34128761291503906, 0.40917810797691345, 0.3024359941482544, 0.1423228234052658, 0.10674212127923965, 0.03558070585131645, 0.8693732619285583, 0.23218190670013428, 0.2031591683626175, 0.3482728600502014, 0.2031591683626175, 0.25519153475761414, 0.11341845989227295, 0.17012768983840942, 0.17012768983840942, 0.3119007647037506, 0.7614386677742004, 0.08158271759748459, 0.10877695679664612, 0.05438847839832306, 0.02719423919916153, 0.551266610622406, 0.21477919816970825, 0.1217082142829895, 0.04295584186911583, 0.0644337609410286, 0.8462486267089844, 0.8465498089790344, 0.28084275126457214, 0.5616855025291443, 0.47032907605171204, 0.9511630535125732, 0.9511920213699341, 0.6534913182258606, 0.4290187358856201, 0.5720250010490417, 0.6366932392120361, 0.21223106980323792, 0.6532224416732788, 0.08736934512853622, 0.6989547610282898, 0.17473869025707245, 0.08736934512853622, 0.4424680173397064, 0.2328779101371765, 0.13972674310207367, 0.09315115958452225, 0.06986337155103683, 0.9506984353065491, 0.6508749127388, 0.951163113117218, 0.930294394493103, 0.5917328000068665, 0.06574808806180954, 0.06574808806180954, 0.03287404403090477, 0.2301183044910431, 0.15349310636520386, 0.15349310636520386, 0.46047934889793396, 0.23023967444896698, 0.6483278870582581, 0.7855457067489624, 0.11117792874574661, 0.6670675873756409, 0.11117792874574661, 0.4795723855495453, 0.03197149187326431, 0.2877434194087982, 0.09591447561979294, 0.09591447561979294, 0.3896825909614563, 0.1298941969871521, 0.20783071219921112, 0.23380956053733826, 0.02597883902490139, 0.8630163073539734, 0.24249105155467987, 0.14549462497234344, 0.048498209565877914, 0.24249105155467987, 0.3394874632358551, 0.9004006385803223, 0.07203205674886703, 0.15470419824123383, 0.7735210061073303, 0.7854025363922119, 0.9311557412147522, 0.13514752686023712, 0.3603934049606323, 0.3603934049606323, 0.13514752686023712, 0.15155278146266937, 0.30310556292533875, 0.4546583592891693, 0.6759967803955078, 0.16899919509887695, 0.06337469816207886, 0.04224979877471924, 0.04224979877471924, 0.31859660148620605, 0.09956143796443939, 0.21903516352176666, 0.2588597536087036, 0.09956143796443939, 0.6536508798599243, 0.8465493321418762, 0.34900838136672974, 0.20358821749687195, 0.17450419068336487, 0.1454201489686966, 0.1454201489686966, 0.4702531397342682, 0.14594313502311707, 0.7297156453132629, 0.14594313502311707, 0.25918689370155334, 0.48957526683807373, 0.1151941791176796, 0.0575970895588398, 0.0575970895588398, 0.5405310392379761, 0.20789656043052673, 0.1247379332780838, 0.10394828021526337, 0.020789654925465584, 0.1751558482646942, 0.1751558482646942, 0.5254675149917603, 0.544887363910675, 0.2991538643836975, 0.07478846609592438, 0.08547253161668777, 0.3572210669517517, 0.17861053347587585, 0.2976842224597931, 0.02976842224597931, 0.17861053347587585, 0.22962325811386108, 0.1722174435853958, 0.28702908754348755, 0.3444348871707916, 0.34386488795280457, 0.31260445713996887, 0.18756267428398132, 0.15630222856998444, 0.7786223888397217, 0.5583387613296509, 0.3722258508205414, 0.7810316681861877, 0.041106928139925, 0.02466415800154209, 0.09043524414300919, 0.057549700140953064, 0.653562605381012, 0.7864120602607727, 0.07149200141429901, 0.07149200141429901, 0.07149200141429901, 0.3511202931404114, 0.05016004294157028, 0.40128034353256226, 0.20064017176628113, 0.11509081721305847, 0.6905449032783508, 0.11509081721305847, 0.11509081721305847, 0.18200631439685822, 0.4853501617908478, 0.06066877022385597, 0.06066877022385597, 0.18200631439685822, 0.3303792178630829, 0.16518960893154144, 0.4955688416957855, 0.3656975030899048, 0.1828487515449524, 0.3656975030899048, 0.2689261734485626, 0.5378523468971252, 0.6482710838317871, 0.6528930068016052, 0.26898193359375, 0.2017364501953125, 0.08966064453125, 0.3810577392578125, 0.0672454833984375, 0.7794520258903503, 0.5136441588401794, 0.12451980262994766, 0.0933898463845253, 0.12451980262994766, 0.14008477330207825, 0.39989790320396423, 0.5998468399047852, 0.5261335372924805, 0.11274290084838867, 0.1565873622894287, 0.15032386779785156, 0.05010795593261719, 0.869373083114624, 0.9509730935096741, 0.28104522824287415, 0.5620904564857483, 0.6342393755912781, 0.8693732619285583, 0.7450534701347351, 0.16933032870292664, 0.03386606648564339, 0.040639281272888184, 0.01354642678052187, 0.8693732023239136, 0.47032904624938965, 0.4702630043029785, 0.4703289866447449, 0.17303088307380676, 0.3460617661476135, 0.3460617661476135, 0.05767695978283882, 0.7697709798812866, 0.10996728390455246, 0.10996728390455246, 0.9518641233444214, 0.8702504634857178, 0.12432149797677994, 0.5289744138717651, 0.12446456402540207, 0.10890649259090424, 0.07779034972190857, 0.15558069944381714, 0.26611754298210144, 0.17741169035434723, 0.5322350859642029, 0.47644999623298645, 0.21440249681472778, 0.023822499439120293, 0.19057999551296234, 0.11911249905824661, 0.07071492075920105, 0.6364342570304871, 0.07071492075920105, 0.1414298415184021, 0.07071492075920105, 0.1383143663406372, 0.691571831703186, 0.1383143663406372, 0.8693733811378479, 0.8630161881446838, 0.7786425948143005, 0.6482654213905334, 0.2605072855949402, 0.48845115303993225, 0.03256341069936752, 0.22794386744499207, 0.6482183933258057, 0.8959808349609375, 0.8978710174560547, 0.5322927236557007, 0.26614636182785034, 0.47017791867256165, 0.431431382894516, 0.11766310036182404, 0.3529893159866333, 0.11766310036182404, 0.039221033453941345, 0.09067049622535706, 0.09067049622535706, 0.1813409924507141, 0.1813409924507141, 0.4533524811267853, 0.47001296281814575, 0.9499831795692444, 0.427072674036026, 0.17082907259464264, 0.14947544038295746, 0.08541453629732132, 0.17082907259464264, 0.6913440823554993, 0.06913440674543381, 0.09217920899391174, 0.09217920899391174, 0.06913440674543381, 0.6366187930107117, 0.21220627427101135, 0.6537148952484131, 0.8462486267089844, 0.4703279733657837, 0.4050764739513397, 0.11047539860010147, 0.18412566184997559, 0.07365026324987411, 0.22095079720020294, 0.8962646722793579, 0.6535326838493347, 0.21686802804470062, 0.6506040692329407, 0.2761279344558716, 0.1380639672279358, 0.3681705892086029, 0.23010662198066711, 0.41835272312164307, 0.13945090770721436, 0.09296727180480957, 0.3253854513168335, 0.47228047251701355, 0.3611556589603424, 0.08334361016750336, 0.08334361016750336, 0.027781205251812935, 0.2359081208705902, 0.707724392414093, 0.3060794770717621, 0.3366874158382416, 0.06121589615941048, 0.12243179231882095, 0.15303973853588104, 0.8465539813041687, 0.3475992977619171, 0.23173286020755768, 0.30125272274017334, 0.06951985508203506, 0.046346571296453476, 0.8964835405349731, 0.6530823707580566, 0.7572645545005798, 0.04207025468349457, 0.04207025468349457, 0.1262107640504837, 0.4447821378707886, 0.09884047508239746, 0.19768095016479492, 0.24710120260715485, 0.024710118770599365, 0.7605270147323608, 0.9511414170265198, 0.7487595081329346, 0.9080758690834045, 0.11350948363542557, 0.849308431148529, 0.056620560586452484, 0.056620560586452484, 0.056620560586452484, 0.951191782951355, 0.7850918173789978, 0.4001375436782837, 0.10003438591957092, 0.20006877183914185, 0.4001375436782837, 0.8462486267089844, 0.6482130885124207, 0.8960144519805908, 0.17525038123130798, 0.14020031690597534, 0.17525038123130798, 0.3154506981372833, 0.17525038123130798, 0.4703288674354553, 0.6676691174507141, 0.22255636751651764, 0.23088829219341278, 0.46177658438682556, 0.07696276158094406, 0.15392552316188812, 0.8630161881446838, 0.8103399872779846, 0.08682213723659515, 0.0289407130330801, 0.0289407130330801, 0.0289407130330801, 0.9512039422988892, 0.648052990436554, 0.6537036299705505, 0.95119708776474, 0.23465196788311005, 0.18772156536579132, 0.1407911777496338, 0.3285127580165863, 0.09386078268289566, 0.6534456610679626, 0.8462486267089844, 0.31161975860595703, 0.4284771680831909, 0.11685740947723389, 0.11685740947723389, 0.8693733811378479, 0.8466480374336243, 0.8466118574142456], \"Term\": [\"accelerate\", \"accelerate\", \"accelerate\", \"accelerate\", \"accelerate\", \"accord\", \"accord\", \"accord\", \"accord\", \"accord\", \"achievement\", \"acquisition\", \"acquisition\", \"acquisition\", \"acquisition\", \"acquisition\", \"add\", \"add\", \"add\", \"add\", \"add\", \"addressable\", \"advertiser\", \"airline\", \"airline\", \"airline\", \"airline\", \"alphabet\", \"anderson\", \"announce\", \"announce\", \"announce\", \"announce\", \"announce\", \"annualize\", \"apple\", \"apple\", \"application\", \"application\", \"application\", \"application\", \"application\", \"approach\", \"approach\", \"arrays\", \"asia\", \"asia\", \"asia\", \"audience\", \"audience\", \"available\", \"available\", \"available\", \"available\", \"available\", \"bank\", \"bank\", \"bank\", \"bank\", \"bank\", \"base\", \"base\", \"base\", \"base\", \"base\", \"beat\", \"beat\", \"begin\", \"begin\", \"begin\", \"begin\", \"benefit\", \"benefit\", \"benefit\", \"benefit\", \"billion\", \"blockchain\", \"board\", \"board\", \"board\", \"board\", \"board\", \"boee\", \"bonus\", \"building\", \"building\", \"building\", \"building\", \"business\", \"business\", \"business\", \"business\", \"business\", \"can\", \"capital\", \"capital\", \"capital\", \"capital\", \"capital\", \"cash\", \"cash\", \"cash\", \"cash\", \"ceo\", \"ceo\", \"ceo\", \"ceo\", \"ceo\", \"certification\", \"chairman\", \"chairman\", \"chairman\", \"chairman\", \"chairman\", \"change\", \"change\", \"change\", \"change\", \"change\", \"chf\", \"chief_executive\", \"chief_executive\", \"chief_executive\", \"chief_executive\", \"cibc\", \"company\", \"company\", \"company\", \"company\", \"company\", \"compare\", \"compare\", \"compare\", \"compare\", \"compare\", \"compression\", \"computer\", \"consecutive\", \"consecutive\", \"consent\", \"constant_currency\", \"content\", \"content\", \"content\", \"continue\", \"continue\", \"continue\", \"continue\", \"continue\", \"continued\", \"continued\", \"coosa\", \"cost\", \"cost\", \"cost\", \"cost\", \"cost\", \"costco\", \"count\", \"couple\", \"couple\", \"couple\", \"cover\", \"craft\", \"craft\", \"credit\", \"credit\", \"credit\", \"customer\", \"customer\", \"customer\", \"customer\", \"customer\", \"cyan\", \"cystoscopie\", \"datagroup\", \"datagroup\", \"datum\", \"datum\", \"datum\", \"datum\", \"datum\", \"decline\", \"decline\", \"decline\", \"decline\", \"deposit\", \"deposit\", \"detailed\", \"dht\", \"digital\", \"digital\", \"digital\", \"digital\", \"digitalglobe\", \"dimon\", \"discount\", \"double_digit\", \"double_digit\", \"double_digit\", \"drive\", \"drive\", \"drive\", \"drive\", \"drive\", \"drone\", \"easyjet\", \"emerge\", \"enable\", \"enable\", \"enable\", \"enable\", \"endeavoring\", \"endpoint\", \"environmental\", \"environmental\", \"episurf_medical\", \"episurf_medical\", \"evan\", \"evan\", \"example\", \"exciting\", \"exclusive\", \"expect\", \"expect\", \"expect\", \"expect\", \"expect\", \"facility\", \"facility\", \"facility\", \"facility\", \"fcpt\", \"federal\", \"federal\", \"fee\", \"film\", \"financial\", \"financial\", \"financial\", \"financial\", \"financial\", \"first\", \"first\", \"first\", \"first\", \"fiscal\", \"fiscal\", \"fiscal\", \"fit\", \"flash\", \"follow\", \"follow\", \"follow\", \"follow\", \"follow\", \"format\", \"frontline\", \"full\", \"full\", \"full\", \"full\", \"garant\", \"garment\", \"ge\", \"generate\", \"generate\", \"generate\", \"generate\", \"geographic\", \"geography\", \"ginger\", \"glenoid\", \"global\", \"global\", \"global\", \"global\", \"global\", \"gm\", \"gmbh\", \"goal\", \"goal\", \"goal\", \"godewind\", \"good\", \"good\", \"good\", \"good\", \"graphite\", \"greg\", \"grocery\", \"grocery\", \"group\", \"group\", \"group\", \"group\", \"group\", \"grow\", \"grow\", \"grow\", \"grow\", \"grow\", \"growth\", \"growth\", \"growth\", \"growth\", \"growth\", \"guide\", \"hand\", \"haul\", \"healthcare\", \"high\", \"high\", \"high\", \"high\", \"high\", \"hurricane\", \"importantly\", \"improve\", \"improve\", \"improve\", \"improve\", \"improve\", \"income\", \"income\", \"income\", \"income\", \"increase\", \"increase\", \"increase\", \"increase\", \"increase\", \"indianapolis\", \"industry\", \"industry\", \"industry\", \"injury\", \"inlay\", \"intel\", \"intel\", \"invasive\", \"investment\", \"investment\", \"investment\", \"investment\", \"investment\", \"investor\", \"investor\", \"investor\", \"investor\", \"investor\", \"iphone\", \"iphone\", \"issuer\", \"jason\", \"journal\", \"journal\", \"large\", \"large\", \"large\", \"large\", \"large\", \"largely\", \"largely\", \"last\", \"last\", \"last\", \"last\", \"last\", \"leader\", \"leader\", \"leader\", \"leader\", \"leader\", \"least\", \"least\", \"level\", \"level\", \"level\", \"level\", \"level\", \"license\", \"lifecore\", \"line\", \"line\", \"line\", \"line\", \"list\", \"list\", \"loan\", \"loan\", \"loan\", \"loan\", \"long\", \"long\", \"long\", \"long\", \"low\", \"low\", \"low\", \"low\", \"low\", \"maduro\", \"make\", \"make\", \"make\", \"make\", \"management\", \"management\", \"management\", \"management\", \"management\", \"margin\", \"margin\", \"margin\", \"margin\", \"margin\", \"market\", \"market\", \"market\", \"market\", \"market\", \"martin\", \"master\", \"maturity\", \"maturity\", \"md\", \"mediatek\", \"merchandise\", \"merger\", \"mine\", \"mine\", \"mineral\", \"mineral\", \"minimally\", \"mobile\", \"mobile\", \"mobile\", \"mobile\", \"month\", \"month\", \"month\", \"month\", \"month\", \"morgan\", \"musk\", \"nanogate\", \"nearly\", \"net\", \"net\", \"net\", \"net\", \"net\", \"non\", \"non\", \"non\", \"non\", \"notebook\", \"nz\", \"oem\", \"oem\", \"oem\", \"operation\", \"operation\", \"operation\", \"operation\", \"operation\", \"opportunity\", \"opportunity\", \"opportunity\", \"opportunity\", \"opportunity\", \"orbit\", \"order\", \"order\", \"order\", \"order\", \"order\", \"organic\", \"organic\", \"original\", \"original\", \"origination\", \"pacific\", \"partner\", \"partner\", \"partner\", \"partner\", \"perform\", \"perform\", \"perform\", \"performance\", \"performance\", \"performance\", \"performance\", \"performance\", \"plan\", \"plan\", \"plan\", \"plan\", \"plan\", \"polygiene\", \"port\", \"position\", \"position\", \"position\", \"position\", \"position\", \"pre\", \"premium\", \"premium\", \"premium\", \"president\", \"president\", \"president\", \"president\", \"president\", \"price\", \"price\", \"price\", \"price\", \"price\", \"proceed\", \"proceed\", \"proceed\", \"product\", \"product\", \"product\", \"product\", \"production\", \"production\", \"production\", \"production\", \"production\", \"program\", \"program\", \"program\", \"program\", \"project\", \"project\", \"project\", \"project\", \"protection\", \"qualcomm\", \"qualcomm\", \"quarter\", \"quarter\", \"quarter\", \"quarter\", \"quarter\", \"quote\", \"range\", \"range\", \"range\", \"range\", \"rate\", \"rate\", \"rate\", \"rate\", \"rating\", \"rating\", \"rating\", \"rating\", \"reach\", \"reach\", \"reach\", \"reach\", \"reach\", \"recognize\", \"recognize\", \"recognize\", \"recur\", \"recur\", \"recur\", \"red\", \"red\", \"refinery\", \"rental\", \"report\", \"report\", \"report\", \"report\", \"report\", \"respect\", \"result\", \"result\", \"result\", \"result\", \"result\", \"retailer\", \"retailer\", \"revenue\", \"revenue\", \"revenue\", \"revenue\", \"revenue\", \"rfrence\", \"rite\", \"route\", \"route\", \"rowan\", \"rpm\", \"sale\", \"sale\", \"sale\", \"sale\", \"sale\", \"sbab\", \"scandic\", \"schein\", \"schmidt\", \"security\", \"security\", \"security\", \"security\", \"see\", \"see\", \"see\", \"september\", \"sequential\", \"sequential\", \"service\", \"service\", \"service\", \"service\", \"service\", \"set\", \"set\", \"set\", \"share\", \"share\", \"share\", \"share\", \"share\", \"shareholder\", \"shareholder\", \"shareholder\", \"shareholder\", \"shareholder\", \"sheet\", \"sheet\", \"sheet\", \"shipping\", \"shoulder\", \"soi\", \"solicitation\", \"solution\", \"solution\", \"solution\", \"solution\", \"source\", \"speciality\", \"specifically\", \"speed\", \"speed\", \"spot\", \"state\", \"state\", \"state\", \"state\", \"state\", \"statement\", \"statement\", \"statement\", \"statement\", \"statement\", \"steel\", \"stem\", \"strategy\", \"strategy\", \"strategy\", \"strategy\", \"strategy\", \"strong\", \"strong\", \"strong\", \"strong\", \"strong\", \"studio\", \"studio\", \"submission\", \"suddenlink\", \"sugar\", \"support\", \"support\", \"support\", \"support\", \"support\", \"surgeon\", \"swedish\", \"synergy\", \"synergy\", \"system\", \"system\", \"system\", \"system\", \"take\", \"take\", \"take\", \"take\", \"target\", \"target\", \"target\", \"target\", \"target\", \"tariff\", \"tariff\", \"team\", \"team\", \"team\", \"team\", \"team\", \"tec\", \"technology\", \"technology\", \"technology\", \"technology\", \"technology\", \"temporary\", \"tender\", \"term\", \"term\", \"term\", \"term\", \"time\", \"time\", \"time\", \"time\", \"time\", \"tough\", \"trader\", \"traditional\", \"transformation\", \"transformation\", \"trend\", \"trend\", \"trend\", \"trend\", \"trendy\", \"tv\", \"uncertainty\", \"uncertainty\", \"uncertainty\", \"uncertainty\", \"underwriting\", \"upgrade\", \"urban\", \"value\", \"value\", \"value\", \"value\", \"value\", \"veko\", \"vice_president\", \"vice_president\", \"view\", \"view\", \"view\", \"view\", \"vista\", \"volume\", \"volume\", \"volume\", \"volume\", \"volume\", \"vow\", \"vuzix\", \"wall\", \"want\", \"week\", \"week\", \"week\", \"week\", \"week\", \"we\\u03b3core\", \"woman\", \"work\", \"work\", \"work\", \"work\", \"xu\", \"yet\", \"yield\"]}, \"R\": 30, \"lambda.step\": 0.01, \"plot.opts\": {\"xlab\": \"PC1\", \"ylab\": \"PC2\"}, \"topic.order\": [1, 2, 5, 3, 4]};\n",
       "\n",
       "function LDAvis_load_lib(url, callback){\n",
       "  var s = document.createElement('script');\n",
       "  s.src = url;\n",
       "  s.async = true;\n",
       "  s.onreadystatechange = s.onload = callback;\n",
       "  s.onerror = function(){console.warn(\"failed to load library \" + url);};\n",
       "  document.getElementsByTagName(\"head\")[0].appendChild(s);\n",
       "}\n",
       "\n",
       "if(typeof(LDAvis) !== \"undefined\"){\n",
       "   // already loaded: just create the visualization\n",
       "   !function(LDAvis){\n",
       "       new LDAvis(\"#\" + \"ldavis_el7691122320087044555213627\", ldavis_el7691122320087044555213627_data);\n",
       "   }(LDAvis);\n",
       "}else if(typeof define === \"function\" && define.amd){\n",
       "   // require.js is available: use it to load d3/LDAvis\n",
       "   require.config({paths: {d3: \"https://cdnjs.cloudflare.com/ajax/libs/d3/3.5.5/d3.min\"}});\n",
       "   require([\"d3\"], function(d3){\n",
       "      window.d3 = d3;\n",
       "      LDAvis_load_lib(\"https://cdn.rawgit.com/bmabey/pyLDAvis/files/ldavis.v1.0.0.js\", function(){\n",
       "        new LDAvis(\"#\" + \"ldavis_el7691122320087044555213627\", ldavis_el7691122320087044555213627_data);\n",
       "      });\n",
       "    });\n",
       "}else{\n",
       "    // require.js not available: dynamically load d3 & LDAvis\n",
       "    LDAvis_load_lib(\"https://cdnjs.cloudflare.com/ajax/libs/d3/3.5.5/d3.min.js\", function(){\n",
       "         LDAvis_load_lib(\"https://cdn.rawgit.com/bmabey/pyLDAvis/files/ldavis.v1.0.0.js\", function(){\n",
       "                 new LDAvis(\"#\" + \"ldavis_el7691122320087044555213627\", ldavis_el7691122320087044555213627_data);\n",
       "            })\n",
       "         });\n",
       "}\n",
       "</script>"
      ],
      "text/plain": [
       "PreparedData(topic_coordinates=              x         y  topics  cluster       Freq\n",
       "topic                                                \n",
       "0     -0.080947 -0.085355       1        1  38.800934\n",
       "1     -0.001372  0.061951       2        1  19.033991\n",
       "4      0.102371 -0.055274       3        1  16.182228\n",
       "2     -0.029690  0.048924       4        1  15.887640\n",
       "3      0.009638  0.029754       5        1  10.095201, topic_info=     Category        Freq             Term       Total  loglift  logprob\n",
       "term                                                                    \n",
       "144   Default  339.000000           growth  339.000000  30.0000  30.0000\n",
       "135   Default  171.000000          company  171.000000  29.0000  29.0000\n",
       "308   Default   76.000000         customer   76.000000  28.0000  28.0000\n",
       "125   Default  147.000000             sale  147.000000  27.0000  27.0000\n",
       "227   Default   30.000000         solution   30.000000  26.0000  26.0000\n",
       "46    Default  121.000000          quarter  121.000000  25.0000  25.0000\n",
       "754   Default   35.000000       management   35.000000  24.0000  24.0000\n",
       "64    Default   40.000000           fiscal   40.000000  23.0000  23.0000\n",
       "1429  Default   20.000000      application   20.000000  22.0000  22.0000\n",
       "382   Default   39.000000             rate   39.000000  21.0000  21.0000\n",
       "169   Default   73.000000         continue   73.000000  20.0000  20.0000\n",
       "65    Default  114.000000         increase  114.000000  19.0000  19.0000\n",
       "146   Default   93.000000          product   93.000000  18.0000  18.0000\n",
       "651   Default   20.000000            order   20.000000  17.0000  17.0000\n",
       "1979  Default   12.000000  episurf_medical   12.000000  16.0000  16.0000\n",
       "174   Default   27.000000          organic   27.000000  15.0000  15.0000\n",
       "66    Default   30.000000              net   30.000000  14.0000  14.0000\n",
       "27    Default   46.000000       investment   46.000000  13.0000  13.0000\n",
       "41    Default   66.000000            first   66.000000  12.0000  12.0000\n",
       "252   Default   44.000000           report   44.000000  11.0000  11.0000\n",
       "1538  Default   27.000000  chief_executive   27.000000  10.0000  10.0000\n",
       "428   Default   39.000000          improve   39.000000   9.0000   9.0000\n",
       "401   Default   34.000000             make   34.000000   8.0000   8.0000\n",
       "151   Default   64.000000          service   64.000000   7.0000   7.0000\n",
       "735   Default    7.000000             list    7.000000   6.0000   6.0000\n",
       "469   Default   33.000000       production   33.000000   5.0000   5.0000\n",
       "159   Default   44.000000            group   44.000000   4.0000   4.0000\n",
       "89    Default   50.000000             plan   50.000000   3.0000   3.0000\n",
       "273   Default   34.000000        president   34.000000   2.0000   2.0000\n",
       "905   Default   28.000000            value   28.000000   1.0000   1.0000\n",
       "...       ...         ...              ...         ...      ...      ...\n",
       "3342   Topic5    2.815637        recognize    6.053649   1.5276  -6.5978\n",
       "66     Topic5    6.977946              net   30.419136   0.8208  -5.6903\n",
       "135    Topic5   17.771988          company  171.003601   0.0290  -4.7554\n",
       "329    Topic5    4.569592           income   15.502522   1.0715  -6.1136\n",
       "82     Topic5    4.726899           enable   16.536663   1.0408  -6.0797\n",
       "227    Topic5    6.674942         solution   30.709314   0.7669  -5.7347\n",
       "151    Topic5   10.026196          service   64.275322   0.4351  -5.3278\n",
       "577    Topic5    8.195358         strategy   46.830437   0.5501  -5.5295\n",
       "460    Topic5    5.933833          support   27.155367   0.7722  -5.8523\n",
       "30     Topic5    9.190822           result   64.246811   0.3486  -5.4148\n",
       "564    Topic5    3.829806             long   11.720320   1.1746  -6.2902\n",
       "381    Topic5    9.862916             grow   90.651253   0.0749  -5.3442\n",
       "159    Topic5    6.648141            group   44.095909   0.4011  -5.7387\n",
       "144    Topic5   15.978679           growth  339.420410  -0.7629  -4.8618\n",
       "415    Topic5   10.436445         business  126.981201  -0.2056  -5.2877\n",
       "905    Topic5    5.491140            value   28.530607   0.6453  -5.9299\n",
       "27     Topic5    6.603733       investment   46.710522   0.3368  -5.7454\n",
       "269    Topic5    5.670768            level   33.253334   0.5243  -5.8977\n",
       "172    Topic5    9.495486           market  139.678329  -0.3954  -5.3822\n",
       "65     Topic5    8.641340         increase  114.435333  -0.2903  -5.4765\n",
       "428    Topic5    5.877711          improve   39.701588   0.3829  -5.8619\n",
       "149    Topic5    8.481672          revenue  159.655289  -0.6420  -5.4951\n",
       "469    Topic5    5.555151       production   33.592644   0.4935  -5.9183\n",
       "394    Topic5    5.335689             team   32.671253   0.4810  -5.9586\n",
       "46     Topic5    6.669656          quarter  121.633995  -0.6103  -5.7355\n",
       "245    Topic5    5.235169         position   34.383129   0.4109  -5.9776\n",
       "604    Topic5    5.684736            drive   72.601044  -0.2541  -5.8952\n",
       "61     Topic5    5.619203           strong   86.787468  -0.4442  -5.9068\n",
       "89     Topic5    5.114164             plan   50.220245   0.0087  -6.0010\n",
       "41     Topic5    5.178272            first   66.039001  -0.2527  -5.9885\n",
       "\n",
       "[414 rows x 6 columns], token_table=      Topic      Freq            Term\n",
       "term                                 \n",
       "361       1  0.262020      accelerate\n",
       "361       2  0.043670      accelerate\n",
       "361       3  0.393031      accelerate\n",
       "361       4  0.131010      accelerate\n",
       "361       5  0.131010      accelerate\n",
       "502       1  0.064333          accord\n",
       "502       2  0.321666          accord\n",
       "502       3  0.385999          accord\n",
       "502       4  0.193000          accord\n",
       "502       5  0.064333          accord\n",
       "3511      5  0.470249     achievement\n",
       "413       1  0.467810     acquisition\n",
       "413       2  0.148849     acquisition\n",
       "413       3  0.191377     acquisition\n",
       "413       4  0.085056     acquisition\n",
       "413       5  0.085056     acquisition\n",
       "47        1  0.315715             add\n",
       "47        2  0.189429             add\n",
       "47        3  0.347286             add\n",
       "47        4  0.094714             add\n",
       "47        5  0.031571             add\n",
       "3276      3  0.647981     addressable\n",
       "1549      2  0.950300      advertiser\n",
       "688       2  0.172490         airline\n",
       "688       3  0.172490         airline\n",
       "688       4  0.172490         airline\n",
       "688       5  0.517469         airline\n",
       "3627      5  0.470329        alphabet\n",
       "4233      5  0.714737        anderson\n",
       "14        1  0.180743        announce\n",
       "...     ...       ...             ...\n",
       "335       4  0.667669  vice_president\n",
       "335       5  0.222556  vice_president\n",
       "1162      1  0.230888            view\n",
       "1162      2  0.461777            view\n",
       "1162      3  0.076963            view\n",
       "1162      4  0.153926            view\n",
       "3104      3  0.863016           vista\n",
       "179       1  0.810340          volume\n",
       "179       2  0.086822          volume\n",
       "179       3  0.028941          volume\n",
       "179       4  0.028941          volume\n",
       "179       5  0.028941          volume\n",
       "3780      2  0.951204             vow\n",
       "3623      3  0.648053           vuzix\n",
       "3671      4  0.653704            wall\n",
       "2294      2  0.951197            want\n",
       "130       1  0.234652            week\n",
       "130       2  0.187722            week\n",
       "130       3  0.140791            week\n",
       "130       4  0.328513            week\n",
       "130       5  0.093861            week\n",
       "411       4  0.653446         weγcore\n",
       "603       2  0.846249           woman\n",
       "612       1  0.311620            work\n",
       "612       2  0.428477            work\n",
       "612       4  0.116857            work\n",
       "612       5  0.116857            work\n",
       "3435      4  0.869373              xu\n",
       "1799      1  0.846648             yet\n",
       "2689      1  0.846612           yield\n",
       "\n",
       "[783 rows x 3 columns], R=30, lambda_step=0.01, plot_opts={'xlab': 'PC1', 'ylab': 'PC2'}, topic_order=[1, 2, 5, 3, 4])"
      ]
     },
     "execution_count": 534,
     "metadata": {},
     "output_type": "execute_result"
    }
   ],
   "source": [
    "pyLDAvis.enable_notebook()\n",
    "vis = pyLDAvis.gensim.prepare(lda_model, corpus, id2word)\n",
    "vis"
   ]
  },
  {
   "cell_type": "markdown",
   "metadata": {},
   "source": [
    "### Test New Unseen Document"
   ]
  },
  {
   "cell_type": "code",
   "execution_count": 478,
   "metadata": {},
   "outputs": [
    {
     "name": "stdout",
     "output_type": "stream",
     "text": [
      "[(1, 0.54317534), (2, 0.42331395), (4, 0.018748444)]\n"
     ]
    }
   ],
   "source": [
    "from nltk import word_tokenize\n",
    "text = 'And a quick one as well on your working capital. I was surprised to see an upward movement in the fourth quarter, which is a bit counter-intuitive given the steady rise in oil prices. Could you elaborate a little bit on this?'\n",
    "bow = id2word.doc2bow(clean_text(text))\n",
    "print(lda_model[bow])\n"
   ]
  }
 ],
 "metadata": {
  "kernelspec": {
   "display_name": "Python 3",
   "language": "python",
   "name": "python3"
  },
  "language_info": {
   "codemirror_mode": {
    "name": "ipython",
    "version": 3
   },
   "file_extension": ".py",
   "mimetype": "text/x-python",
   "name": "python",
   "nbconvert_exporter": "python",
   "pygments_lexer": "ipython3",
   "version": "3.7.1"
  }
 },
 "nbformat": 4,
 "nbformat_minor": 2
}
