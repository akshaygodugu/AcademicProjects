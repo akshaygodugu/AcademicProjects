{
 "cells": [
  {
   "cell_type": "code",
   "execution_count": 101,
   "metadata": {},
   "outputs": [],
   "source": [
    "#import required libraries\n",
    "import pandas as pd\n",
    "import string\n",
    "import numpy as np\n",
    "import re\n",
    "import nltk\n",
    "import matplotlib.pyplot as plt"
   ]
  },
  {
   "cell_type": "code",
   "execution_count": 102,
   "metadata": {},
   "outputs": [
    {
     "name": "stdout",
     "output_type": "stream",
     "text": [
      "(2234, 2)\n"
     ]
    },
    {
     "data": {
      "text/html": [
       "<div>\n",
       "<style scoped>\n",
       "    .dataframe tbody tr th:only-of-type {\n",
       "        vertical-align: middle;\n",
       "    }\n",
       "\n",
       "    .dataframe tbody tr th {\n",
       "        vertical-align: top;\n",
       "    }\n",
       "\n",
       "    .dataframe thead th {\n",
       "        text-align: right;\n",
       "    }\n",
       "</style>\n",
       "<table border=\"1\" class=\"dataframe\">\n",
       "  <thead>\n",
       "    <tr style=\"text-align: right;\">\n",
       "      <th></th>\n",
       "      <th>Sentences</th>\n",
       "      <th>label</th>\n",
       "    </tr>\n",
       "  </thead>\n",
       "  <tbody>\n",
       "    <tr>\n",
       "      <th>0</th>\n",
       "      <td>Baidu formed a strategic partnership with Qualcomm to optimize Baidu's voice assistant DuerOS fo...</td>\n",
       "      <td>1</td>\n",
       "    </tr>\n",
       "    <tr>\n",
       "      <th>1</th>\n",
       "      <td>Blackbaud announced the results of a commissioned Total Economic Impact(TM) (TEI) study conducte...</td>\n",
       "      <td>1</td>\n",
       "    </tr>\n",
       "    <tr>\n",
       "      <th>2</th>\n",
       "      <td>Earnings per fully diluted ADS on a GAAP basis were $in the first quarter of 2017, compared with...</td>\n",
       "      <td>1</td>\n",
       "    </tr>\n",
       "    <tr>\n",
       "      <th>3</th>\n",
       "      <td>Fortescue's current director of operations, Greg Lilleyman, appears to be the frontrunner to bec...</td>\n",
       "      <td>1</td>\n",
       "    </tr>\n",
       "    <tr>\n",
       "      <th>4</th>\n",
       "      <td>GAAP net loss for the third fiscal quarter was $million, or $per basic share, and non-GAAP net i...</td>\n",
       "      <td>1</td>\n",
       "    </tr>\n",
       "  </tbody>\n",
       "</table>\n",
       "</div>"
      ],
      "text/plain": [
       "                                                                                             Sentences  \\\n",
       "0  Baidu formed a strategic partnership with Qualcomm to optimize Baidu's voice assistant DuerOS fo...   \n",
       "1  Blackbaud announced the results of a commissioned Total Economic Impact(TM) (TEI) study conducte...   \n",
       "2  Earnings per fully diluted ADS on a GAAP basis were $in the first quarter of 2017, compared with...   \n",
       "3  Fortescue's current director of operations, Greg Lilleyman, appears to be the frontrunner to bec...   \n",
       "4  GAAP net loss for the third fiscal quarter was $million, or $per basic share, and non-GAAP net i...   \n",
       "\n",
       "   label  \n",
       "0      1  \n",
       "1      1  \n",
       "2      1  \n",
       "3      1  \n",
       "4      1  "
      ]
     },
     "execution_count": 102,
     "metadata": {},
     "output_type": "execute_result"
    }
   ],
   "source": [
    "#set col width to 100\n",
    "pd.set_option('display.max_colwidth', 100)\n",
    "\n",
    "#stop word removal\n",
    "from nltk.corpus import stopwords\n",
    "stopwords = nltk.corpus.stopwords.words('english')\n",
    "ps = nltk.PorterStemmer()\n",
    "from nltk.tokenize import word_tokenize\n",
    "\n",
    "#Importing the excel file\n",
    "excel_file= 'Management Growth-Data relevant.xlsx'\n",
    "growth_rel = pd.read_excel(excel_file)\n",
    "growth_rel = growth_rel[['Sentences']]\n",
    "growth_rel['label'] = 1\n",
    "\n",
    "excel_file1= 'Management Growth-Data Not relevant.xlsx'\n",
    "growth_notrel = pd.read_excel(excel_file1)\n",
    "growth_notrel = growth_notrel[['Sentences']]\n",
    "growth_notrel['label'] = 0\n",
    "\n",
    "growth_final = pd.concat([growth_rel,growth_notrel])\n",
    "\n",
    "#get the size of dataset\n",
    "print(growth_final.shape)\n",
    "growth_final.head()"
   ]
  },
  {
   "cell_type": "code",
   "execution_count": 103,
   "metadata": {},
   "outputs": [],
   "source": [
    "#remove numeric values from dataset\n",
    "growth_final['Sentences'] = growth_final['Sentences'].str.replace('\\d+', '')"
   ]
  },
  {
   "cell_type": "code",
   "execution_count": 104,
   "metadata": {},
   "outputs": [],
   "source": [
    "#add words that aren't in the NLTK stopwords list\n",
    "new_stopwords = ['included','including','includes','one','two','three','general','generally','way','better','need','really','believe','provide','say','saying','says','include','said','also','would','could','end','recent','recently','us','like','make','may','look','still','come','see','across','even','much','get','allow','allows','allowed','allowing','well','go','gone','going','that','thats','take','thing','come','move','give','help','put','dont','people','got','kind','know','day','think','continue','look','year','years','new','use','there','want','wanted','due','become','organ']\n",
    "new_stopwords_list = stopwords.extend(new_stopwords)"
   ]
  },
  {
   "cell_type": "code",
   "execution_count": 105,
   "metadata": {},
   "outputs": [],
   "source": [
    "#data cleaning- removing punctuations, tokenize, stop words\n",
    "def clean_text(text):\n",
    "    text = \"\".join([word.lower() for word in text if word not in string.punctuation])\n",
    "    tokens = word_tokenize(text)\n",
    "    text = set([ps.stem(word) for word in tokens if word not in stopwords])\n",
    "    return text"
   ]
  },
  {
   "cell_type": "code",
   "execution_count": 106,
   "metadata": {},
   "outputs": [],
   "source": [
    "#Split into train/test set\n",
    "from sklearn.model_selection import train_test_split\n",
    "\n",
    "X_train, X_test, y_train, y_test = train_test_split(growth_final[['Sentences']], growth_final['label'], test_size=0.25)"
   ]
  },
  {
   "cell_type": "code",
   "execution_count": 107,
   "metadata": {},
   "outputs": [
    {
     "name": "stdout",
     "output_type": "stream",
     "text": [
      "(1675, 1) (1675,)\n",
      "(559, 1) (559,)\n"
     ]
    }
   ],
   "source": [
    "print (X_train.shape, y_train.shape)\n",
    "print (X_test.shape, y_test.shape)"
   ]
  },
  {
   "cell_type": "code",
   "execution_count": 108,
   "metadata": {},
   "outputs": [
    {
     "data": {
      "text/html": [
       "<div>\n",
       "<style scoped>\n",
       "    .dataframe tbody tr th:only-of-type {\n",
       "        vertical-align: middle;\n",
       "    }\n",
       "\n",
       "    .dataframe tbody tr th {\n",
       "        vertical-align: top;\n",
       "    }\n",
       "\n",
       "    .dataframe thead th {\n",
       "        text-align: right;\n",
       "    }\n",
       "</style>\n",
       "<table border=\"1\" class=\"dataframe\">\n",
       "  <thead>\n",
       "    <tr style=\"text-align: right;\">\n",
       "      <th></th>\n",
       "      <th>0</th>\n",
       "      <th>1</th>\n",
       "      <th>2</th>\n",
       "      <th>3</th>\n",
       "      <th>4</th>\n",
       "      <th>5</th>\n",
       "      <th>6</th>\n",
       "      <th>7</th>\n",
       "      <th>8</th>\n",
       "      <th>9</th>\n",
       "      <th>...</th>\n",
       "      <th>490</th>\n",
       "      <th>491</th>\n",
       "      <th>492</th>\n",
       "      <th>493</th>\n",
       "      <th>494</th>\n",
       "      <th>495</th>\n",
       "      <th>496</th>\n",
       "      <th>497</th>\n",
       "      <th>498</th>\n",
       "      <th>499</th>\n",
       "    </tr>\n",
       "  </thead>\n",
       "  <tbody>\n",
       "    <tr>\n",
       "      <th>0</th>\n",
       "      <td>0.0</td>\n",
       "      <td>0.0</td>\n",
       "      <td>0.0</td>\n",
       "      <td>0.0</td>\n",
       "      <td>0.0</td>\n",
       "      <td>0.0</td>\n",
       "      <td>0.0</td>\n",
       "      <td>0.304001</td>\n",
       "      <td>0.0</td>\n",
       "      <td>0.0</td>\n",
       "      <td>...</td>\n",
       "      <td>0.0</td>\n",
       "      <td>0.0</td>\n",
       "      <td>0.0</td>\n",
       "      <td>0.0</td>\n",
       "      <td>0.0</td>\n",
       "      <td>0.301473</td>\n",
       "      <td>0.0</td>\n",
       "      <td>0.0</td>\n",
       "      <td>0.0</td>\n",
       "      <td>0.0</td>\n",
       "    </tr>\n",
       "    <tr>\n",
       "      <th>1</th>\n",
       "      <td>0.0</td>\n",
       "      <td>0.0</td>\n",
       "      <td>0.0</td>\n",
       "      <td>0.0</td>\n",
       "      <td>0.0</td>\n",
       "      <td>0.0</td>\n",
       "      <td>0.0</td>\n",
       "      <td>0.000000</td>\n",
       "      <td>0.0</td>\n",
       "      <td>0.0</td>\n",
       "      <td>...</td>\n",
       "      <td>0.0</td>\n",
       "      <td>0.0</td>\n",
       "      <td>0.0</td>\n",
       "      <td>0.0</td>\n",
       "      <td>0.0</td>\n",
       "      <td>0.000000</td>\n",
       "      <td>0.0</td>\n",
       "      <td>0.0</td>\n",
       "      <td>0.0</td>\n",
       "      <td>0.0</td>\n",
       "    </tr>\n",
       "    <tr>\n",
       "      <th>2</th>\n",
       "      <td>0.0</td>\n",
       "      <td>0.0</td>\n",
       "      <td>0.0</td>\n",
       "      <td>0.0</td>\n",
       "      <td>0.0</td>\n",
       "      <td>0.0</td>\n",
       "      <td>0.0</td>\n",
       "      <td>0.000000</td>\n",
       "      <td>0.0</td>\n",
       "      <td>0.0</td>\n",
       "      <td>...</td>\n",
       "      <td>0.0</td>\n",
       "      <td>0.0</td>\n",
       "      <td>0.0</td>\n",
       "      <td>0.0</td>\n",
       "      <td>0.0</td>\n",
       "      <td>0.000000</td>\n",
       "      <td>0.0</td>\n",
       "      <td>0.0</td>\n",
       "      <td>0.0</td>\n",
       "      <td>0.0</td>\n",
       "    </tr>\n",
       "    <tr>\n",
       "      <th>3</th>\n",
       "      <td>0.0</td>\n",
       "      <td>0.0</td>\n",
       "      <td>0.0</td>\n",
       "      <td>0.0</td>\n",
       "      <td>0.0</td>\n",
       "      <td>0.0</td>\n",
       "      <td>0.0</td>\n",
       "      <td>0.000000</td>\n",
       "      <td>0.0</td>\n",
       "      <td>0.0</td>\n",
       "      <td>...</td>\n",
       "      <td>0.0</td>\n",
       "      <td>0.0</td>\n",
       "      <td>0.0</td>\n",
       "      <td>0.0</td>\n",
       "      <td>0.0</td>\n",
       "      <td>0.000000</td>\n",
       "      <td>0.0</td>\n",
       "      <td>0.0</td>\n",
       "      <td>0.0</td>\n",
       "      <td>0.0</td>\n",
       "    </tr>\n",
       "    <tr>\n",
       "      <th>4</th>\n",
       "      <td>0.0</td>\n",
       "      <td>0.0</td>\n",
       "      <td>0.0</td>\n",
       "      <td>0.0</td>\n",
       "      <td>0.0</td>\n",
       "      <td>0.0</td>\n",
       "      <td>0.0</td>\n",
       "      <td>0.000000</td>\n",
       "      <td>0.0</td>\n",
       "      <td>0.0</td>\n",
       "      <td>...</td>\n",
       "      <td>0.0</td>\n",
       "      <td>0.0</td>\n",
       "      <td>0.0</td>\n",
       "      <td>0.0</td>\n",
       "      <td>0.0</td>\n",
       "      <td>0.000000</td>\n",
       "      <td>0.0</td>\n",
       "      <td>0.0</td>\n",
       "      <td>0.0</td>\n",
       "      <td>0.0</td>\n",
       "    </tr>\n",
       "  </tbody>\n",
       "</table>\n",
       "<p>5 rows × 500 columns</p>\n",
       "</div>"
      ],
      "text/plain": [
       "   0    1    2    3    4    5    6         7    8    9   ...   490  491  492  \\\n",
       "0  0.0  0.0  0.0  0.0  0.0  0.0  0.0  0.304001  0.0  0.0 ...   0.0  0.0  0.0   \n",
       "1  0.0  0.0  0.0  0.0  0.0  0.0  0.0  0.000000  0.0  0.0 ...   0.0  0.0  0.0   \n",
       "2  0.0  0.0  0.0  0.0  0.0  0.0  0.0  0.000000  0.0  0.0 ...   0.0  0.0  0.0   \n",
       "3  0.0  0.0  0.0  0.0  0.0  0.0  0.0  0.000000  0.0  0.0 ...   0.0  0.0  0.0   \n",
       "4  0.0  0.0  0.0  0.0  0.0  0.0  0.0  0.000000  0.0  0.0 ...   0.0  0.0  0.0   \n",
       "\n",
       "   493  494       495  496  497  498  499  \n",
       "0  0.0  0.0  0.301473  0.0  0.0  0.0  0.0  \n",
       "1  0.0  0.0  0.000000  0.0  0.0  0.0  0.0  \n",
       "2  0.0  0.0  0.000000  0.0  0.0  0.0  0.0  \n",
       "3  0.0  0.0  0.000000  0.0  0.0  0.0  0.0  \n",
       "4  0.0  0.0  0.000000  0.0  0.0  0.0  0.0  \n",
       "\n",
       "[5 rows x 500 columns]"
      ]
     },
     "execution_count": 108,
     "metadata": {},
     "output_type": "execute_result"
    }
   ],
   "source": [
    "#Normalization technique using TF-IDF\n",
    "from sklearn.feature_extraction.text import TfidfVectorizer\n",
    "\n",
    "tfidf_vect = TfidfVectorizer(analyzer=clean_text, max_features=500, min_df = 3, max_df = 0.7)\n",
    "tfidf_vect_fit = tfidf_vect.fit(X_train['Sentences'])\n",
    "\n",
    "tfidf_train = tfidf_vect_fit.transform(X_train['Sentences'])\n",
    "tfidf_test = tfidf_vect_fit.transform(X_test['Sentences'])\n",
    "\n",
    "X_train_vect = pd.DataFrame(tfidf_train.toarray())\n",
    "X_test_vect = pd.DataFrame(tfidf_test.toarray())\n",
    "\n",
    "X_train_vect.head()"
   ]
  },
  {
   "cell_type": "code",
   "execution_count": 111,
   "metadata": {},
   "outputs": [
    {
     "data": {
      "text/plain": [
       "1675"
      ]
     },
     "execution_count": 111,
     "metadata": {},
     "output_type": "execute_result"
    }
   ],
   "source": [
    "len(X_train_vect)"
   ]
  },
  {
   "cell_type": "code",
   "execution_count": 67,
   "metadata": {},
   "outputs": [
    {
     "name": "stdout",
     "output_type": "stream",
     "text": [
      "['a', 'abil', 'about', 'acceler', 'access', 'accord', 'account', 'achiev', 'acquir', 'acquisit', 'across', 'activ', 'ad', 'addit', 'adjust', 'administr', 'advanc', 'after', 'against', 'agenc', 'ago', 'agreement', 'ahead', 'aim', 'all', 'allow', 'alreadi', 'also', 'america', 'american', 'among', 'amount', 'an', 'analyst', 'ani', 'announc', 'annual', 'anoth', 'applic', 'approxim', 'are', 'area', 'around', 'as', 'asset', 'associ', 'at', 'attract', 'avail', 'averag', 'back', 'bank', 'base', 'basi', 'be', 'becaus', 'becom', 'been', 'befor', 'begin', 'believ', 'benefit', 'between', 'big', 'bill', 'billion', 'board', 'bond', 'both', 'brand', 'bring', 'build', 'busi', 'but', 'buy', 'by', 'call', 'can', 'capit', 'case', 'cash', 'caus', 'central', 'ceo', 'cfo', 'chairman', 'challeng', 'chang', 'charg', 'chief', 'china', 'chines', 'client', 'close', 'combin', 'come', 'commerci', 'commiss', 'commun', 'compani', 'compar', 'competit', 'complet', 'concern', 'condit', 'confid', 'connect', 'construct', 'consum', 'continu', 'contract', 'control', 'corpor', 'cost', 'could', 'countri', 'creat', 'credit', 'critic', 'current', 'custom', 'cut', 'data', 'day', 'deal', 'debt', 'decemb', 'declin', 'deliv', 'demand', 'depart', 'design', 'despit', 'develop', 'digit', 'director', 'disappoint', 'distribut', 'do', 'dollar', 'down', 'drive', 'driven', 'due', 'dure', 'earli', 'earlier', 'earn', 'ebitda', 'econom', 'economi', 'effect', 'effort', 'employe', 'enabl', 'end', 'energi', 'environ', 'estim', 'european', 'even', 'exchang', 'execut', 'exist', 'expand', 'expans', 'expect', 'expens', 'experi', 'face', 'fall', 'feder', 'few', 'file', 'financ', 'financi', 'find', 'firm', 'first', 'fiscal', 'flow', 'focu', 'focus', 'follow', 'for', 'forecast', 'former', 'forward', 'four', 'fourth', 'from', 'full', 'fund', 'further', 'futur', 'ga', 'gain', 'gener', 'get', 'give', 'given', 'global', 'go', 'good', 'govern', 'grew', 'gross', 'group', 'grow', 'growth', 'guidanc', 'ha', 'had', 'half', 'have', 'he', 'head', 'healthcar', 'help', 'hi', 'high', 'higher', 'home', 'hous', 'how', 'i', 'if', 'impact', 'implement', 'import', 'improv', 'in', 'includ', 'incom', 'increas', 'independ', 'industri', 'inform', 'initi', 'innov', 'interest', 'intern', 'into', 'invest', 'investor', 'is', 'issu', 'it', 'just', 'keep', 'key', 'larg', 'largest', 'last', 'launch', 'lead', 'leader', 'less', 'level', 'like', 'limit', 'line', 'loan', 'longterm', 'look', 'loss', 'low', 'lower', 'made', 'maintain', 'major', 'make', 'manag', 'mani', 'manufactur', 'march', 'margin', 'market', 'materi', 'may', 'measur', 'medic', 'meet', 'member', 'million', 'mobil', 'model', 'month', 'more', 'most', 'move', 'much', 'nation', 'nearli', 'need', 'net', 'network', 'new', 'news', 'next', 'no', 'north', 'not', 'note', 'now', 'number', 'of', 'off', 'offer', 'offic', 'offici', 'oil', 'on', 'one', 'onli', 'onlin', 'oper', 'opportun', 'option', 'or', 'order', 'organ', 'other', 'our', 'out', 'outlook', 'over', 'own', 'pain', 'part', 'partner', 'past', 'patient', 'pay', 'peopl', 'per', 'perform', 'period', 'place', 'plan', 'platform', 'pleas', 'point', 'polici', 'portfolio', 'posit', 'possibl', 'potenti', 'power', 'presid', 'price', 'process', 'produc', 'product', 'profit', 'program', 'project', 'properti', 'protect', 'provid', 'public', 'q', 'qualiti', 'quarter', 'rais', 'rang', 'rate', 'reach', 'receiv', 'recent', 'record', 'reduc', 'region', 'regul', 'relat', 'releas', 'remain', 'report', 'repres', 'requir', 'research', 'reserv', 'respons', 'result', 'retail', 'return', 'revenu', 'review', 'right', 'rise', 'risk', 'rule', 'said', 'sale', 'same', 'say', 'second', 'secur', 'see', 'segment', 'sell', 'senior', 'serv', 'servic', 'set', 'sever', 'share', 'sharehold', 'should', 'show', 'sign', 'signific', 'sinc', 'so', 'solut', 'some', 'spend', 'start', 'state', 'statement', 'step', 'still', 'stock', 'strateg', 'strategi', 'street', 'strong', 'success', 'such', 'suppli', 'support', 'sustain', 'system', 'take', 'target', 'tax', 'team', 'technolog', 'term', 'than', 'that', 'their', 'them', 'there', 'these', 'they', 'thi', 'third', 'those', 'three', 'through', 'thursday', 'time', 'to', 'today', 'top', 'total', 'toward', 'track', 'trade', 'transact', 'treatment', 'trend', 'trump', 'turn', 'two', 'u', 'uncertainti', 'under', 'unit', 'up', 'us', 'use', 'valu', 'veri', 'vice', 'view', 'volum', 'wa', 'we', 'week', 'well', 'were', 'what', 'when', 'where', 'whether', 'which', 'while', 'who', 'will', 'with', 'within', 'work', 'world', 'would', 'write', 'year', 'yearoveryear', 'you']\n"
     ]
    }
   ],
   "source": [
    "print(tfidf_vect.get_feature_names())"
   ]
  },
  {
   "cell_type": "code",
   "execution_count": 10,
   "metadata": {},
   "outputs": [
    {
     "data": {
      "text/plain": [
       "[('compani', 57.34169565911745),\n",
       " ('growth', 44.789013045802776),\n",
       " ('market', 44.44582209161162),\n",
       " ('busi', 34.60205845520361),\n",
       " ('product', 34.06715831983609),\n",
       " ('expect', 32.092738136019605),\n",
       " ('oper', 30.11179778335425),\n",
       " ('quarter', 27.314420230253937),\n",
       " ('revenu', 26.645308353169657),\n",
       " ('investor', 26.642893731173036),\n",
       " ('sale', 26.212849216208514),\n",
       " ('price', 25.216652212511814),\n",
       " ('manag', 24.593972083631957),\n",
       " ('result', 24.459226903839898),\n",
       " ('execut', 24.208396813481766),\n",
       " ('invest', 23.757926620551963),\n",
       " ('increas', 23.517473241347286),\n",
       " ('custom', 22.874174185935885),\n",
       " ('bank', 22.832414141501918),\n",
       " ('million', 22.571545186233603),\n",
       " ('share', 22.253438018951826),\n",
       " ('financi', 22.033906073263914),\n",
       " ('time', 21.749592258292704),\n",
       " ('continu', 21.357846199486378),\n",
       " ('month', 21.355645423260523),\n",
       " ('last', 21.245512964852992),\n",
       " ('first', 21.130670518876705),\n",
       " ('plan', 20.89612164017367),\n",
       " ('servic', 20.77190664441123),\n",
       " ('report', 20.61766909215999),\n",
       " ('presid', 20.486322279946748),\n",
       " ('group', 20.368256552372387),\n",
       " ('rate', 20.23856090881143),\n",
       " ('strong', 19.86759423049217),\n",
       " ('develop', 19.30898516914339),\n",
       " ('posit', 19.277585888623186),\n",
       " ('stock', 18.759824769719533),\n",
       " ('global', 18.609061185900927),\n",
       " ('offer', 18.580030130361724),\n",
       " ('industri', 18.23909919204407),\n",
       " ('ceo', 17.529522287278343),\n",
       " ('chief', 17.344213152918858),\n",
       " ('sinc', 17.145090413740846),\n",
       " ('capit', 17.123286597826745),\n",
       " ('high', 17.096682671818446),\n",
       " ('technolog', 16.63261555698829),\n",
       " ('cost', 16.531456513045587),\n",
       " ('target', 16.477865265865322),\n",
       " ('billion', 16.243390836850836),\n",
       " ('strategi', 16.09139261298003),\n",
       " ('announc', 15.54311099376999),\n",
       " ('accord', 15.52500309249286),\n",
       " ('govern', 15.475478697569933),\n",
       " ('import', 15.36964738118564),\n",
       " ('improv', 15.306847344713997),\n",
       " ('perform', 15.304104464067262),\n",
       " ('earn', 15.291539177458727),\n",
       " ('support', 15.226450405605858),\n",
       " ('lead', 15.221256881195364),\n",
       " ('world', 15.17846130726936),\n",
       " ('secur', 15.144904691508131),\n",
       " ('acquisit', 15.109509311862789),\n",
       " ('profit', 15.016349518812792),\n",
       " ('board', 15.005876881856603),\n",
       " ('analyst', 14.825330048534559),\n",
       " ('provid', 14.81249703753872),\n",
       " ('china', 14.795152810323147),\n",
       " ('grow', 14.779617475134682),\n",
       " ('state', 14.719396924960886),\n",
       " ('opportun', 14.591057064293372),\n",
       " ('valu', 14.564633246728716),\n",
       " ('compar', 14.510438667316274),\n",
       " ('next', 14.220151119709337),\n",
       " ('work', 14.188336169854308),\n",
       " ('firm', 14.160582583863302),\n",
       " ('higher', 14.066225216021547),\n",
       " ('data', 13.961696260916868),\n",
       " ('remain', 13.942890152867108),\n",
       " ('week', 13.924763679048377),\n",
       " ('level', 13.882413114953957),\n",
       " ('fund', 13.797676545543167),\n",
       " ('base', 13.691194877185481),\n",
       " ('demand', 13.577306198765264),\n",
       " ('solut', 13.451925474186892),\n",
       " ('trump', 13.242805160616205),\n",
       " ('current', 13.240721973501293),\n",
       " ('consum', 13.22767599607952),\n",
       " ('pain', 13.191016783490902),\n",
       " ('polici', 13.11548605708858),\n",
       " ('period', 13.095878304260069),\n",
       " ('deal', 13.075564182685921),\n",
       " ('interest', 13.05570782717727),\n",
       " ('lower', 12.970771320166106),\n",
       " ('offic', 12.917674201366314),\n",
       " ('unit', 12.917085906045465),\n",
       " ('trade', 12.909312935839392),\n",
       " ('cut', 12.511686554982262),\n",
       " ('follow', 12.49927751717746),\n",
       " ('team', 12.498776047518625),\n",
       " ('director', 12.497219687613605),\n",
       " ('inform', 12.475370219396384),\n",
       " ('signific', 12.473015841422825),\n",
       " ('drive', 12.389747658889922),\n",
       " ('around', 12.364303730846276),\n",
       " ('past', 12.300671843518002),\n",
       " ('intern', 12.296309608068313),\n",
       " ('project', 12.253554172311711),\n",
       " ('total', 12.228438557697405),\n",
       " ('activ', 12.198782612946598),\n",
       " ('futur', 12.185740069379536),\n",
       " ('regul', 12.176202452754872),\n",
       " ('retail', 11.995524202485859),\n",
       " ('concern', 11.979862881211039),\n",
       " ('addit', 11.957838695750429),\n",
       " ('brand', 11.929254596659936),\n",
       " ('start', 11.903845379049788),\n",
       " ('note', 11.804798140872482),\n",
       " ('sell', 11.769973741918218),\n",
       " ('close', 11.765344718800815),\n",
       " ('corpor', 11.703002547242267),\n",
       " ('effect', 11.695194543228462),\n",
       " ('impact', 11.661509299394902),\n",
       " ('call', 11.543655088796301),\n",
       " ('mani', 11.532050658034356),\n",
       " ('feder', 11.458118214113444),\n",
       " ('today', 11.45051805642763),\n",
       " ('back', 11.410823911942451),\n",
       " ('gain', 11.404372494899507),\n",
       " ('come', 11.383012650042781),\n",
       " ('order', 11.380428847416418),\n",
       " ('risk', 11.353857706354031),\n",
       " ('sharehold', 11.33407727220937),\n",
       " ('part', 11.26307074909366),\n",
       " ('margin', 11.259807244766163),\n",
       " ('line', 11.141021965532742),\n",
       " ('ad', 11.128858749995691),\n",
       " ('like', 11.089870937286321),\n",
       " ('nation', 11.040907895570784),\n",
       " ('organ', 11.029400254033224),\n",
       " ('chang', 10.931139772876021),\n",
       " ('benefit', 10.922949543251727),\n",
       " ('key', 10.849492225842273),\n",
       " ('success', 10.831058878911096),\n",
       " ('asset', 10.807672956383586),\n",
       " ('show', 10.76964747687467),\n",
       " ('public', 10.728462715589634),\n",
       " ('net', 10.722335853147108),\n",
       " ('record', 10.694240263851471),\n",
       " ('platform', 10.692419340037592),\n",
       " ('issu', 10.655925124296015),\n",
       " ('make', 10.632547140067754),\n",
       " ('return', 10.608585477584446),\n",
       " ('fiscal', 10.582354201931999),\n",
       " ('larg', 10.57148641128838),\n",
       " ('partner', 10.56426579404234),\n",
       " ('forecast', 10.503980973066776),\n",
       " ('buy', 10.47270119597775),\n",
       " ('combin', 10.433636988367574),\n",
       " ('initi', 10.410679359066357),\n",
       " ('leader', 10.363206426067496),\n",
       " ('build', 10.2983968781065),\n",
       " ('sever', 10.284130756863478),\n",
       " ('portfolio', 10.280297067816766),\n",
       " ('requir', 10.253568166980871),\n",
       " ('digit', 10.245367753035076),\n",
       " ('administr', 10.221265294625058),\n",
       " ('good', 10.21794983499138),\n",
       " ('oil', 10.21696616926727),\n",
       " ('earli', 10.214092484249853),\n",
       " ('launch', 10.209540766594133),\n",
       " ('process', 10.19994554454606),\n",
       " ('loss', 10.186421477383556),\n",
       " ('focus', 10.172950276703352),\n",
       " ('tax', 10.157408509069949),\n",
       " ('point', 10.151477357734034),\n",
       " ('design', 10.13266346326561),\n",
       " ('releas', 10.118432472567479),\n",
       " ('declin', 10.086426428560316),\n",
       " ('model', 10.080284012516397),\n",
       " ('q', 9.998454764727134),\n",
       " ('power', 9.995946503837727),\n",
       " ('term', 9.986397675266748),\n",
       " ('system', 9.969532023844424),\n",
       " ('treatment', 9.960147818469311),\n",
       " ('econom', 9.939056102198798),\n",
       " ('potenti', 9.918416796023097),\n",
       " ('suppli', 9.867758444985242),\n",
       " ('exchang', 9.825357176812211),\n",
       " ('offici', 9.823937511775302),\n",
       " ('low', 9.820636255391289),\n",
       " ('major', 9.817122870704818),\n",
       " ('big', 9.806274494557318),\n",
       " ('top', 9.779492854307293),\n",
       " ('full', 9.770588332932668),\n",
       " ('hous', 9.64184604467735),\n",
       " ('gener', 9.63100716831342),\n",
       " ('third', 9.600347469386938),\n",
       " ('consid', 9.593703419496622),\n",
       " ('control', 9.572357730133973),\n",
       " ('statement', 9.54241478904683),\n",
       " ('manufactur', 9.538035803816411),\n",
       " ('second', 9.466183094571754),\n",
       " ('effort', 9.355106241624991),\n",
       " ('reduc', 9.282601379573194),\n",
       " ('network', 9.25349297954595),\n",
       " ('set', 9.221984759684135),\n",
       " ('program', 9.21067543908331),\n",
       " ('ago', 9.202632394043151),\n",
       " ('annual', 9.192832446130442),\n",
       " ('disappoint', 9.19255155507956),\n",
       " ('relat', 9.18258419308566),\n",
       " ('use', 9.124758001796147),\n",
       " ('made', 9.11168979340502),\n",
       " ('number', 9.10494420590478),\n",
       " ('cash', 9.078724431691944),\n",
       " ('patient', 9.076453315926658),\n",
       " ('segment', 9.069975637219006),\n",
       " ('american', 9.041131199717809),\n",
       " ('spend', 9.020464911228869),\n",
       " ('medic', 8.99227259623094),\n",
       " ('financ', 8.9302422987977),\n",
       " ('properti', 8.922763898396626),\n",
       " ('challeng', 8.914532313371414),\n",
       " ('averag', 8.900761399185027),\n",
       " ('view', 8.864250508664055),\n",
       " ('within', 8.8231389520526),\n",
       " ('account', 8.81267416519924),\n",
       " ('strateg', 8.753625994986734),\n",
       " ('economi', 8.739210775644171),\n",
       " ('nearli', 8.730670089771575),\n",
       " ('among', 8.72588793765314),\n",
       " ('alreadi', 8.720079526024584),\n",
       " ('countri', 8.668301933330099),\n",
       " ('chairman', 8.667964800329578),\n",
       " ('creat', 8.621985005615512),\n",
       " ('given', 8.608577600196698),\n",
       " ('north', 8.60440301910859),\n",
       " ('step', 8.595701007029227),\n",
       " ('area', 8.472518524259758),\n",
       " ('sign', 8.464909972085982),\n",
       " ('incom', 8.455133773430694),\n",
       " ('rule', 8.442530328043805),\n",
       " ('look', 8.374385347689726),\n",
       " ('agreement', 8.330263147033188),\n",
       " ('applic', 8.32149357005585),\n",
       " ('chines', 8.250831918396532),\n",
       " ('meet', 8.184546238715171),\n",
       " ('environ', 8.175917582233245),\n",
       " ('inflat', 8.158443706425306),\n",
       " ('less', 8.12819424023498),\n",
       " ('debt', 8.123956511085964),\n",
       " ('acceler', 8.061140404498415),\n",
       " ('expand', 8.045020317681033),\n",
       " ('despit', 8.045016832555538),\n",
       " ('experi', 8.000385477988743),\n",
       " ('bring', 7.99989327185701),\n",
       " ('fourth', 7.98253852773049),\n",
       " ('european', 7.947356255827036),\n",
       " ('thursday', 7.946548737907758),\n",
       " ('amount', 7.944439253801819),\n",
       " ('focu', 7.919935092006671),\n",
       " ('rais', 7.917973028278877),\n",
       " ('client', 7.910297450867313),\n",
       " ('file', 7.893028140806137),\n",
       " ('cfo', 7.8729207961566265),\n",
       " ('attract', 7.872654579885488),\n",
       " ('u', 7.840221770593266),\n",
       " ('forward', 7.814678293402303),\n",
       " ('region', 7.784088887696915),\n",
       " ('half', 7.782253327775878),\n",
       " ('contract', 7.748196499780583),\n",
       " ('rise', 7.735025822643316),\n",
       " ('expens', 7.732042041223755),\n",
       " ('measur', 7.683885089867208),\n",
       " ('abil', 7.675181306030257),\n",
       " ('hit', 7.670241150166581),\n",
       " ('problem', 7.664717654441053),\n",
       " ('commun', 7.6592302977406135),\n",
       " ('largest', 7.628329681768734),\n",
       " ('energi', 7.595414772935372),\n",
       " ('deliv', 7.584130654742095),\n",
       " ('member', 7.560598769955332),\n",
       " ('depart', 7.538479381734935),\n",
       " ('outlook', 7.537474175295985),\n",
       " ('innov', 7.5327129992136905),\n",
       " ('reflect', 7.526327189964398),\n",
       " ('former', 7.511654059254808),\n",
       " ('case', 7.511243708296805),\n",
       " ('research', 7.510146426820733),\n",
       " ('driven', 7.505012404883223),\n",
       " ('end', 7.504062144435471),\n",
       " ('bond', 7.488266097550724),\n",
       " ('anoth', 7.485286286853323),\n",
       " ('central', 7.482354737238436),\n",
       " ('estim', 7.445587044223821),\n",
       " ('keep', 7.410777794960524),\n",
       " ('dollar', 7.405897835159209),\n",
       " ('right', 7.389865537799494),\n",
       " ('toward', 7.368522705907455),\n",
       " ('achiev', 7.361919314976366),\n",
       " ('complet', 7.3563338833308185),\n",
       " ('condit', 7.347785425693566),\n",
       " ('investig', 7.343175417864893),\n",
       " ('talk', 7.33461961877513),\n",
       " ('mobil', 7.3238269971281085),\n",
       " ('reach', 7.308451464091647),\n",
       " ('enabl', 7.293703408959379),\n",
       " ('respons', 7.289757214996595),\n",
       " ('employe', 7.278075655771517),\n",
       " ('adjust', 7.278026171489897),\n",
       " ('yearoveryear', 7.26608866429151),\n",
       " ('grew', 7.249065511993126),\n",
       " ('march', 7.242716666962099),\n",
       " ('confid', 7.2342080684442145),\n",
       " ('help', 7.233777445584977),\n",
       " ('bill', 7.233289973627617),\n",
       " ('decis', 7.231711460870053),\n",
       " ('altern', 7.230900154369133),\n",
       " ('court', 7.186585566194683),\n",
       " ('fall', 7.164581323812978),\n",
       " ('overal', 7.1608761951468995),\n",
       " ('caus', 7.1491569561733534),\n",
       " ('expans', 7.098085642830946),\n",
       " ('vote', 7.094456681157419),\n",
       " ('volum', 7.089209809300645),\n",
       " ('anticip', 7.0697450284212335),\n",
       " ('long', 7.067889229985352),\n",
       " ('produc', 7.038787243157607),\n",
       " ('credit', 7.0296900771127415),\n",
       " ('write', 7.0225746285012605),\n",
       " ('integr', 7.017793350325528),\n",
       " ('place', 7.010162305917876),\n",
       " ('citi', 7.0094483115805035),\n",
       " ('agenc', 7.000187999128014),\n",
       " ('repres', 6.991700257218457),\n",
       " ('news', 6.9880689323308065),\n",
       " ('limit', 6.986944069021841),\n",
       " ('latest', 6.974220028512592),\n",
       " ('distribut', 6.938484458366938),\n",
       " ('vice', 6.91378335363884),\n",
       " ('associ', 6.911121412492109),\n",
       " ('best', 6.887065384963647),\n",
       " ('yield', 6.878270798286784),\n",
       " ('tuesday', 6.866965134629968),\n",
       " ('job', 6.865688253398527),\n",
       " ('whether', 6.853127489293482),\n",
       " ('protect', 6.811027086668885),\n",
       " ('mean', 6.808774348286857),\n",
       " ('home', 6.804222568050896),\n",
       " ('review', 6.800730554050005),\n",
       " ('basi', 6.781958401823599),\n",
       " ('longterm', 6.762725357320812),\n",
       " ('per', 6.760686639223358),\n",
       " ('serv', 6.753491197701612),\n",
       " ('propos', 6.740467015959347),\n",
       " ('loan', 6.729762849298849),\n",
       " ('detail', 6.71582373793698),\n",
       " ('advanc', 6.698469164727481),\n",
       " ('commerci', 6.696535328339794),\n",
       " ('clear', 6.6918047503368365),\n",
       " ('possibl', 6.680219358782945),\n",
       " ('push', 6.675584407193041),\n",
       " ('natur', 6.671331564572328),\n",
       " ('face', 6.652670014795284),\n",
       " ('turn', 6.649234725121925),\n",
       " ('ga', 6.6443753209857),\n",
       " ('begin', 6.630850952486964),\n",
       " ('flow', 6.609657274201017),\n",
       " ('sustain', 6.589733778712296),\n",
       " ('aim', 6.579198332528655),\n",
       " ('approv', 6.5699795371811724),\n",
       " ('street', 6.565372572044528),\n",
       " ('biggest', 6.561256423622378),\n",
       " ('need', 6.521018214814983),\n",
       " ('trend', 6.5144690879709515),\n",
       " ('connect', 6.471475565457092),\n",
       " ('commiss', 6.438462270605705),\n",
       " ('howev', 6.435116483431468),\n",
       " ('pay', 6.415685474539614),\n",
       " ('four', 6.40203768483783),\n",
       " ('boost', 6.401531152598383),\n",
       " ('move', 6.399181093924304),\n",
       " ('center', 6.382808791738173),\n",
       " ('run', 6.376671694614452),\n",
       " ('seek', 6.370786322819647),\n",
       " ('store', 6.370379312606402),\n",
       " ('affect', 6.3509232925301715),\n",
       " ('competit', 6.347261051633463),\n",
       " ('institut', 6.340923148150465),\n",
       " ('origin', 6.317811240620535),\n",
       " ('exist', 6.317643379383941),\n",
       " ('track', 6.299263514468041),\n",
       " ('uncertainti', 6.265292838574605),\n",
       " ('littl', 6.25982334903785),\n",
       " ('wednesday', 6.236656908572302),\n",
       " ('difficult', 6.233577693525629),\n",
       " ('engin', 6.223720756094312),\n",
       " ('law', 6.222665123128743),\n",
       " ('find', 6.2172955797650005),\n",
       " ('role', 6.20839849174491),\n",
       " ('avail', 6.205307351283983),\n",
       " ('journal', 6.148221226400764),\n",
       " ('certain', 6.147264527588364),\n",
       " ('joint', 6.130756842243273),\n",
       " ('senior', 6.125725199598092),\n",
       " ('life', 6.124786829525519),\n",
       " ('access', 6.123234636410103),\n",
       " ('indic', 6.11083128122522),\n",
       " ('though', 6.078552031378879),\n",
       " ('elect', 6.074664032099934),\n",
       " ('independ', 6.065904083282661),\n",
       " ('involv', 6.0616923100306535),\n",
       " ('onlin', 6.0565963163479735),\n",
       " ('qualiti', 6.047621359611854),\n",
       " ('approxim', 6.043855060858236),\n",
       " ('other', 6.030854451183678),\n",
       " ('america', 6.029965612832905),\n",
       " ('receiv', 6.024961444201314),\n",
       " ('purchas', 6.014133379389719),\n",
       " ('charg', 5.9953833633253435),\n",
       " ('event', 5.978882171602036),\n",
       " ('maker', 5.977872224060764),\n",
       " ('ebitda', 5.962158389560157),\n",
       " ('sector', 5.952138246872015),\n",
       " ('dividend', 5.942855835656353),\n",
       " ('effici', 5.942384245942912),\n",
       " ('solid', 5.930661462345039),\n",
       " ('free', 5.9247829085608705),\n",
       " ('privat', 5.906930064469986),\n",
       " ('form', 5.886643616936276),\n",
       " ('maintain', 5.88139088332383),\n",
       " ('divis', 5.880213915927082),\n",
       " ('ahead', 5.8765954276667225),\n",
       " ('suggest', 5.85475689579279),\n",
       " ('establish', 5.843748657628995),\n",
       " ('action', 5.806859999489226),\n",
       " ('offset', 5.793880334717774),\n",
       " ('add', 5.7633552076979),\n",
       " ('earlier', 5.760580356468242),\n",
       " ('assess', 5.747269702817858),\n",
       " ('reserv', 5.74132683995006),\n",
       " ('eur', 5.740366636298207),\n",
       " ('bet', 5.723405360480271),\n",
       " ('acquir', 5.720283524064343),\n",
       " ('construct', 5.713256340341818),\n",
       " ('option', 5.713033746781259),\n",
       " ('critic', 5.690966958883581),\n",
       " ('materi', 5.683704478357537),\n",
       " ('strengthen', 5.6772473512837385),\n",
       " ('contribut', 5.660548783663271),\n",
       " ('committe', 5.6353138637169735),\n",
       " ('differ', 5.633448169317654),\n",
       " ('enhanc', 5.620276625690788),\n",
       " ('fed', 5.596334491369833),\n",
       " ('polit', 5.575586090786869),\n",
       " ('germani', 5.568259477838188),\n",
       " ('implement', 5.559085095409073),\n",
       " ('episurf', 5.553283842457636),\n",
       " ('warn', 5.5494607621184375),\n",
       " ('progress', 5.530090067658529),\n",
       " ('univers', 5.526563855395171),\n",
       " ('rang', 5.5063079910961195),\n",
       " ('user', 5.465726015774769),\n",
       " ('comment', 5.463733253033028),\n",
       " ('pleas', 5.460099613704838),\n",
       " ('real', 5.449695241306117),\n",
       " ('australia', 5.425836771321477),\n",
       " ('hold', 5.416275456504679),\n",
       " ('five', 5.412523105654046),\n",
       " ('decemb', 5.409982236287694),\n",
       " ('open', 5.406141807185314),\n",
       " ('standard', 5.392846338288499),\n",
       " ('well', 5.379612032362577),\n",
       " ('mark', 5.356973801427751),\n",
       " ('previou', 5.350747640596624),\n",
       " ('nasdaq', 5.333174906400397),\n",
       " ('particularli', 5.315229234296763),\n",
       " ('leadership', 5.307357991713639),\n",
       " ('regard', 5.300361890906411),\n",
       " ('direct', 5.289061692126451),\n",
       " ('guidanc', 5.227716641870608),\n",
       " ('healthcar', 5.224861277990711),\n",
       " ('gross', 5.221825718109576),\n",
       " ('asia', 5.221265826858113),\n",
       " ('confer', 5.190125395119357),\n",
       " ('head', 5.182712416658049),\n",
       " ('highest', 5.175119826587979),\n",
       " ('deliveri', 5.161467703928331),\n",
       " ('address', 5.153720643330739),\n",
       " ('encourag', 5.145347309166344),\n",
       " ('relationship', 5.144646722069735),\n",
       " ('list', 5.138752959586233),\n",
       " ('pressur', 5.084254121908836),\n",
       " ('slow', 5.074913481240024),\n",
       " ('driver', 5.055748143341837),\n",
       " ('doubl', 4.907476665889051),\n",
       " ('core', 4.815021757427163),\n",
       " ('primarili', 4.763939274071789),\n",
       " ('union', 4.6866873106390585),\n",
       " ('leverag', 4.563130526512903)]"
      ]
     },
     "execution_count": 10,
     "metadata": {},
     "output_type": "execute_result"
    }
   ],
   "source": [
    "sum_words = tfidf_train.sum(axis=0) \n",
    "words_freq = [(word, sum_words[0, idx]) for word, idx in tfidf_vect.vocabulary_.items()]\n",
    "words_freq =sorted(words_freq, key = lambda x: x[1], reverse=True)\n",
    "words_freq"
   ]
  },
  {
   "cell_type": "code",
   "execution_count": 190,
   "metadata": {},
   "outputs": [],
   "source": [
    "#exporting words to excel\n",
    "wordfreq = pd.DataFrame(words_freq)\n",
    "datatoexcel = pd.ExcelWriter(\"Growthkeywords500.xlsx\", engine = 'xlsxwriter')\n",
    "wordfreq.to_excel(datatoexcel, sheet_name = 'Sheet1')\n",
    "datatoexcel.save()"
   ]
  },
  {
   "cell_type": "code",
   "execution_count": 109,
   "metadata": {},
   "outputs": [],
   "source": [
    "from sklearn.ensemble import RandomForestClassifier, GradientBoostingClassifier\n",
    "from sklearn.metrics import precision_recall_fscore_support as score\n",
    "import time\n",
    "from sklearn.metrics import accuracy_score, precision_score, recall_score, f1_score, confusion_matrix\n"
   ]
  },
  {
   "cell_type": "code",
   "execution_count": 110,
   "metadata": {},
   "outputs": [],
   "source": [
    "#Function to plot intuitive confusion matrix\n",
    "import itertools\n",
    "def plot_confusion_matrix(cm, classes,\n",
    "                          normalize=False,\n",
    "                          title='Confusion matrix',\n",
    "                          cmap=plt.cm.Blues):\n",
    "    \"\"\"\n",
    "    This function prints and plots the confusion matrix.\n",
    "    Normalization can be applied by setting `normalize=True`.\n",
    "    \"\"\"\n",
    "    if normalize:\n",
    "        cm = cm.astype('float') / cm.sum(axis=1)[:, np.newaxis]\n",
    "        print(\"Normalized confusion matrix\")\n",
    "    else:\n",
    "        print('Confusion matrix, without normalization')\n",
    "\n",
    "    print(cm)\n",
    "\n",
    "    plt.imshow(cm, interpolation='nearest', cmap=cmap)\n",
    "    plt.title(title)\n",
    "    plt.colorbar()\n",
    "    tick_marks = np.arange(len(classes))\n",
    "    plt.xticks(tick_marks, classes, rotation=45)\n",
    "    plt.yticks(tick_marks, classes)\n",
    "\n",
    "    fmt = '.2f' if normalize else 'd'\n",
    "    thresh = cm.max() / 2.\n",
    "    for i, j in itertools.product(range(cm.shape[0]), range(cm.shape[1])):\n",
    "        plt.text(j, i, format(cm[i, j], fmt),\n",
    "                 horizontalalignment=\"center\",\n",
    "                 color=\"white\" if cm[i, j] > thresh else \"black\")\n",
    "\n",
    "    plt.ylabel('True label')\n",
    "    plt.xlabel('Predicted label')\n",
    "    plt.tight_layout()"
   ]
  },
  {
   "cell_type": "code",
   "execution_count": 13,
   "metadata": {},
   "outputs": [
    {
     "name": "stderr",
     "output_type": "stream",
     "text": [
      "/anaconda3/lib/python3.7/site-packages/sklearn/model_selection/_split.py:2053: FutureWarning: You should specify a value for 'cv' instead of relying on the default value. The default value will change from 3 to 5 in version 0.22.\n",
      "  warnings.warn(CV_WARNING, FutureWarning)\n"
     ]
    },
    {
     "data": {
      "text/plain": [
       "GridSearchCV(cv='warn', error_score='raise-deprecating',\n",
       "       estimator=RandomForestClassifier(bootstrap=True, class_weight=None, criterion='gini',\n",
       "            max_depth=None, max_features='auto', max_leaf_nodes=None,\n",
       "            min_impurity_decrease=0.0, min_impurity_split=None,\n",
       "            min_samples_leaf=1, min_samples_split=2,\n",
       "            min_weight_fraction_leaf=0.0, n_estimators='warn', n_jobs=None,\n",
       "            oob_score=False, random_state=None, verbose=0,\n",
       "            warm_start=False),\n",
       "       fit_params=None, iid='warn', n_jobs=None,\n",
       "       param_grid={'n_estimators': [200, 500, 700, 1000], 'max_depth': [10, 20, 30, None], 'n_jobs': [-1]},\n",
       "       pre_dispatch='2*n_jobs', refit=True, return_train_score='warn',\n",
       "       scoring=None, verbose=0)"
      ]
     },
     "execution_count": 13,
     "metadata": {},
     "output_type": "execute_result"
    }
   ],
   "source": [
    "#randfom forest using Grid search\n",
    "from sklearn.model_selection import GridSearchCV\n",
    "rfc = RandomForestClassifier()\n",
    "grid_values = {'n_estimators' : [200, 500, 700, 1000], 'max_depth' : [10, 20, 30, None], 'n_jobs' : [-1]}\n",
    "grid_rfc_acc = GridSearchCV(rfc, param_grid = grid_values)\n",
    "grid_rfc_acc.fit(X_train_vect, y_train)\n",
    "\n"
   ]
  },
  {
   "cell_type": "code",
   "execution_count": 14,
   "metadata": {},
   "outputs": [
    {
     "data": {
      "text/plain": [
       "{'max_depth': 20, 'n_estimators': 500, 'n_jobs': -1}"
      ]
     },
     "execution_count": 14,
     "metadata": {},
     "output_type": "execute_result"
    }
   ],
   "source": [
    "#Obtain best parameters\n",
    "grid_rfc_acc.best_params_"
   ]
  },
  {
   "cell_type": "code",
   "execution_count": 15,
   "metadata": {},
   "outputs": [
    {
     "name": "stdout",
     "output_type": "stream",
     "text": [
      "Accuracy for test set: 0.7280858676207513\n",
      "Precision  for test set: 0.7733333333333333\n",
      "Recall  for test set: 0.6327272727272727\n",
      "F1 Score  for test set: 0.696\n",
      "Fit time  for test set: 1.7758839130401611\n",
      "Predict time  for test set: 0.2102830410003662\n",
      "Confusion Matrix : \n",
      "[[233  51]\n",
      " [101 174]]\n"
     ]
    }
   ],
   "source": [
    "rf = RandomForestClassifier(n_estimators=500, max_depth=20, n_jobs=-1)\n",
    "\n",
    "start = time.time()\n",
    "rf.fit(X_train_vect, y_train)\n",
    "end = time.time()\n",
    "fit_time = (end - start)\n",
    "\n",
    "start = time.time()\n",
    "y_pred = rf.predict(X_test_vect)\n",
    "end = time.time()\n",
    "pred_time = (end - start)\n",
    "\n",
    "print('Accuracy for test set: ' + str(accuracy_score(y_test,y_pred)))\n",
    "print('Precision  for test set: ' + str(precision_score(y_test,y_pred)))\n",
    "print('Recall  for test set: ' + str(recall_score(y_test,y_pred)))\n",
    "print('F1 Score  for test set: ' + str(f1_score(y_test,y_pred)))\n",
    "print('Fit time  for test set: ' + str(fit_time))\n",
    "print('Predict time  for test set: ' + str(pred_time))\n",
    "\n",
    "print('Confusion Matrix : \\n' + str(confusion_matrix(y_test,y_pred)))"
   ]
  },
  {
   "cell_type": "code",
   "execution_count": 16,
   "metadata": {},
   "outputs": [],
   "source": [
    "feat_importances = pd.Series(rf.feature_importances_, index=X_train_vect.columns.tolist())"
   ]
  },
  {
   "cell_type": "code",
   "execution_count": 17,
   "metadata": {},
   "outputs": [
    {
     "data": {
      "image/png": "[encoded data removed]",
      "text/plain": [
       "<Figure size 432x288 with 1 Axes>"
      ]
     },
     "metadata": {
      "needs_background": "light"
     },
     "output_type": "display_data"
    }
   ],
   "source": [
    "# Top 20 features\n",
    "feat_importances.nlargest(20).plot(kind='barh')\n",
    "plt.show()"
   ]
  },
  {
   "cell_type": "code",
   "execution_count": 67,
   "metadata": {},
   "outputs": [
    {
     "data": {
      "text/plain": [
       "1000"
      ]
     },
     "execution_count": 67,
     "metadata": {},
     "output_type": "execute_result"
    }
   ],
   "source": [
    "len(feat_importances)"
   ]
  },
  {
   "cell_type": "code",
   "execution_count": null,
   "metadata": {},
   "outputs": [],
   "source": [
    "feat_importances[304]"
   ]
  },
  {
   "cell_type": "code",
   "execution_count": 18,
   "metadata": {},
   "outputs": [
    {
     "name": "stdout",
     "output_type": "stream",
     "text": [
      "Confusion matrix, without normalization\n",
      "[[233  51]\n",
      " [101 174]]\n"
     ]
    },
    {
     "data": {
      "image/png": "[encoded data removed]",
      "text/plain": [
       "<Figure size 576x288 with 2 Axes>"
      ]
     },
     "metadata": {
      "needs_background": "light"
     },
     "output_type": "display_data"
    }
   ],
   "source": [
    "#confusion matrix plot\n",
    "cnf_matrix = confusion_matrix(y_test, y_pred)\n",
    "np.set_printoptions(precision=2)\n",
    "\n",
    "# Plot non-normalized confusion matrix\n",
    "plt.figure()\n",
    "class_names = [0,1]\n",
    "plot_confusion_matrix(cnf_matrix, classes=class_names,\n",
    "                      title='Confusion matrix - Random Forest')\n",
    "a = plt.gcf()\n",
    "a.set_size_inches(8,4)\n",
    "plt.show()"
   ]
  },
  {
   "cell_type": "code",
   "execution_count": 19,
   "metadata": {},
   "outputs": [
    {
     "name": "stderr",
     "output_type": "stream",
     "text": [
      "/anaconda3/lib/python3.7/site-packages/sklearn/model_selection/_split.py:2053: FutureWarning: You should specify a value for 'cv' instead of relying on the default value. The default value will change from 3 to 5 in version 0.22.\n",
      "  warnings.warn(CV_WARNING, FutureWarning)\n"
     ]
    },
    {
     "data": {
      "image/png": "[encoded data removed]",
      "text/plain": [
       "<Figure size 432x288 with 1 Axes>"
      ]
     },
     "metadata": {
      "needs_background": "light"
     },
     "output_type": "display_data"
    }
   ],
   "source": [
    "# Plotting ROC curve\n",
    "from sklearn import metrics\n",
    "probs = grid_rfc_acc.fit(X_train_vect, y_train).predict_proba(X_test_vect)\n",
    "preds = probs[:,1]\n",
    "fpr, tpr, threshold = metrics.roc_curve(y_test, preds)\n",
    "roc_auc = metrics.auc(fpr, tpr)\n",
    "\n",
    "plt.figure()\n",
    "plt.plot(fpr, tpr, label='GridSearchCV (area = %0.2f)' % roc_auc)\n",
    "plt.plot([0, 1], [0, 1],'r--')\n",
    "plt.xlim([0.0, 1.0])\n",
    "plt.ylim([0.0, 1.05])\n",
    "plt.xlabel('False Positive Rate')\n",
    "plt.ylabel('True Positive Rate')\n",
    "plt.title('Receiver operating characteristic')\n",
    "plt.legend(loc=\"lower right\")\n",
    "plt.savefig('Log_ROC')\n",
    "plt.show()"
   ]
  },
  {
   "cell_type": "code",
   "execution_count": 20,
   "metadata": {},
   "outputs": [
    {
     "name": "stderr",
     "output_type": "stream",
     "text": [
      "/anaconda3/lib/python3.7/site-packages/sklearn/model_selection/_split.py:2053: FutureWarning: You should specify a value for 'cv' instead of relying on the default value. The default value will change from 3 to 5 in version 0.22.\n",
      "  warnings.warn(CV_WARNING, FutureWarning)\n"
     ]
    },
    {
     "data": {
      "text/plain": [
       "GridSearchCV(cv='warn', error_score='raise-deprecating',\n",
       "       estimator=GradientBoostingClassifier(criterion='friedman_mse', init=None,\n",
       "              learning_rate=0.1, loss='deviance', max_depth=3,\n",
       "              max_features=None, max_leaf_nodes=None,\n",
       "              min_impurity_decrease=0.0, min_impurity_split=None,\n",
       "              min_samples_leaf=1, min_sampl...      subsample=1.0, tol=0.0001, validation_fraction=0.1,\n",
       "              verbose=0, warm_start=False),\n",
       "       fit_params=None, iid='warn', n_jobs=None,\n",
       "       param_grid={'n_estimators': [150, 200, 500], 'max_depth': [7, 11, 15]},\n",
       "       pre_dispatch='2*n_jobs', refit=True, return_train_score='warn',\n",
       "       scoring=None, verbose=0)"
      ]
     },
     "execution_count": 20,
     "metadata": {},
     "output_type": "execute_result"
    }
   ],
   "source": [
    "#gbm using grid search\n",
    "from sklearn.model_selection import GridSearchCV\n",
    "gbm = GradientBoostingClassifier()\n",
    "grid_values = {'n_estimators' : [150, 200, 500], 'max_depth' : [7, 11, 15]}\n",
    "grid_gbm_acc = GridSearchCV(gbm, param_grid = grid_values)\n",
    "grid_gbm_acc.fit(X_train_vect, y_train)\n",
    "\n"
   ]
  },
  {
   "cell_type": "code",
   "execution_count": 21,
   "metadata": {},
   "outputs": [
    {
     "data": {
      "text/plain": [
       "{'max_depth': 7, 'n_estimators': 500}"
      ]
     },
     "execution_count": 21,
     "metadata": {},
     "output_type": "execute_result"
    }
   ],
   "source": [
    "grid_gbm_acc.best_params_"
   ]
  },
  {
   "cell_type": "code",
   "execution_count": 22,
   "metadata": {},
   "outputs": [
    {
     "name": "stdout",
     "output_type": "stream",
     "text": [
      "Accuracy : 0.6762075134168157\n",
      "Precision : 0.6910569105691057\n",
      "Recall : 0.6181818181818182\n",
      "F1 Score : 0.6525911708253359\n",
      "Fit time : 0.009216070175170898\n",
      "Predict time : 0.2102830410003662\n",
      "Confusion Matrix : \n",
      "[[208  76]\n",
      " [105 170]]\n"
     ]
    }
   ],
   "source": [
    "gb = GradientBoostingClassifier(n_estimators=500, max_depth=7)\n",
    "start = time.time()\n",
    "gb.fit(X_train_vect, y_train)\n",
    "end = time.time()\n",
    "fit_time = (end - start)\n",
    "\n",
    "start = time.time()\n",
    "y_pred = gb.predict(X_test_vect)\n",
    "end = time.time()\n",
    "fit_time = (end - start)\n",
    "\n",
    "print('Accuracy : ' + str(accuracy_score(y_test,y_pred)))\n",
    "print('Precision : ' + str(precision_score(y_test,y_pred)))\n",
    "print('Recall : ' + str(recall_score(y_test,y_pred)))\n",
    "print('F1 Score : ' + str(f1_score(y_test,y_pred)))\n",
    "print('Fit time : ' + str(fit_time))\n",
    "print('Predict time : ' + str(pred_time))\n",
    "\n",
    "print('Confusion Matrix : \\n' + str(confusion_matrix(y_test,y_pred)))"
   ]
  },
  {
   "cell_type": "code",
   "execution_count": 24,
   "metadata": {},
   "outputs": [],
   "source": [
    "feat_importances = pd.Series(gb.feature_importances_, index=X_train_vect.columns.tolist())"
   ]
  },
  {
   "cell_type": "code",
   "execution_count": 25,
   "metadata": {},
   "outputs": [
    {
     "data": {
      "image/png": "[encoded data removed]",
      "text/plain": [
       "<Figure size 432x288 with 1 Axes>"
      ]
     },
     "metadata": {
      "needs_background": "light"
     },
     "output_type": "display_data"
    }
   ],
   "source": [
    "feat_importances.nlargest(20).plot(kind='barh')\n",
    "plt.show()"
   ]
  },
  {
   "cell_type": "code",
   "execution_count": 26,
   "metadata": {},
   "outputs": [
    {
     "name": "stdout",
     "output_type": "stream",
     "text": [
      "Confusion matrix, without normalization\n",
      "[[208  76]\n",
      " [105 170]]\n"
     ]
    },
    {
     "data": {
      "image/png": "[encoded data removed]",
      "text/plain": [
       "<Figure size 576x288 with 2 Axes>"
      ]
     },
     "metadata": {
      "needs_background": "light"
     },
     "output_type": "display_data"
    }
   ],
   "source": [
    "#confusion matrix plot\n",
    "cnf_matrix = confusion_matrix(y_test, y_pred)\n",
    "np.set_printoptions(precision=2)\n",
    "\n",
    "# Plot non-normalized confusion matrix\n",
    "plt.figure()\n",
    "class_names = [0,1]\n",
    "plot_confusion_matrix(cnf_matrix, classes=class_names,\n",
    "                      title='Confusion matrix - Gradient Boosting')\n",
    "a = plt.gcf()\n",
    "a.set_size_inches(8,4)\n",
    "plt.show()"
   ]
  },
  {
   "cell_type": "code",
   "execution_count": 27,
   "metadata": {},
   "outputs": [
    {
     "name": "stderr",
     "output_type": "stream",
     "text": [
      "/anaconda3/lib/python3.7/site-packages/sklearn/model_selection/_split.py:2053: FutureWarning: You should specify a value for 'cv' instead of relying on the default value. The default value will change from 3 to 5 in version 0.22.\n",
      "  warnings.warn(CV_WARNING, FutureWarning)\n"
     ]
    },
    {
     "data": {
      "image/png": "[encoded data removed]",
      "text/plain": [
       "<Figure size 432x288 with 1 Axes>"
      ]
     },
     "metadata": {
      "needs_background": "light"
     },
     "output_type": "display_data"
    }
   ],
   "source": [
    "#plotting ROC curve\n",
    "from sklearn import metrics\n",
    "probs = grid_gbm_acc.fit(X_train_vect, y_train).predict_proba(X_test_vect)\n",
    "preds = probs[:,1]\n",
    "fpr, tpr, threshold = metrics.roc_curve(y_test, preds)\n",
    "roc_auc = metrics.auc(fpr, tpr)\n",
    "\n",
    "plt.figure()\n",
    "plt.plot(fpr, tpr, label='GridSearchCV (area = %0.2f)' % roc_auc)\n",
    "plt.plot([0, 1], [0, 1],'r--')\n",
    "plt.xlim([0.0, 1.0])\n",
    "plt.ylim([0.0, 1.05])\n",
    "plt.xlabel('False Positive Rate')\n",
    "plt.ylabel('True Positive Rate')\n",
    "plt.title('Receiver operating characteristic')\n",
    "plt.legend(loc=\"lower right\")\n",
    "plt.savefig('Log_ROC')\n",
    "plt.show()"
   ]
  },
  {
   "cell_type": "code",
   "execution_count": 28,
   "metadata": {},
   "outputs": [
    {
     "name": "stderr",
     "output_type": "stream",
     "text": [
      "/anaconda3/lib/python3.7/site-packages/sklearn/model_selection/_split.py:2053: FutureWarning: You should specify a value for 'cv' instead of relying on the default value. The default value will change from 3 to 5 in version 0.22.\n",
      "  warnings.warn(CV_WARNING, FutureWarning)\n"
     ]
    },
    {
     "data": {
      "text/plain": [
       "GridSearchCV(cv='warn', error_score='raise-deprecating',\n",
       "       estimator=XGBClassifier(base_score=0.5, booster='gbtree', colsample_bylevel=1,\n",
       "       colsample_bytree=1, gamma=0, learning_rate=0.1, max_delta_step=0,\n",
       "       max_depth=3, min_child_weight=1, missing=None, n_estimators=100,\n",
       "       n_jobs=1, nthread=None, objective='binary:logistic', random_state=0,\n",
       "       reg_alpha=0, reg_lambda=1, scale_pos_weight=1, seed=None,\n",
       "       silent=True, subsample=1),\n",
       "       fit_params=None, iid='warn', n_jobs=None,\n",
       "       param_grid={'n_estimators': [150, 200, 500], 'max_depth': [5, 7, 10]},\n",
       "       pre_dispatch='2*n_jobs', refit=True, return_train_score='warn',\n",
       "       scoring=None, verbose=0)"
      ]
     },
     "execution_count": 28,
     "metadata": {},
     "output_type": "execute_result"
    }
   ],
   "source": [
    "#xgbm using grid search\n",
    "from xgboost import XGBClassifier\n",
    "from sklearn.model_selection import GridSearchCV\n",
    "xgbm = XGBClassifier()\n",
    "grid_values = {'n_estimators' : [150, 200, 500], 'max_depth' : [5, 7, 10]}\n",
    "grid_xgbm_acc = GridSearchCV(xgbm, param_grid = grid_values)\n",
    "grid_xgbm_acc.fit(X_train_vect, y_train)\n",
    "\n"
   ]
  },
  {
   "cell_type": "code",
   "execution_count": 29,
   "metadata": {},
   "outputs": [
    {
     "data": {
      "text/plain": [
       "{'max_depth': 5, 'n_estimators': 150}"
      ]
     },
     "execution_count": 29,
     "metadata": {},
     "output_type": "execute_result"
    }
   ],
   "source": [
    "grid_xgbm_acc.best_params_"
   ]
  },
  {
   "cell_type": "code",
   "execution_count": 30,
   "metadata": {},
   "outputs": [
    {
     "name": "stdout",
     "output_type": "stream",
     "text": [
      "Accuracy : 0.7101967799642218\n",
      "Precision : 0.7579908675799086\n",
      "Recall : 0.6036363636363636\n",
      "F1 Score : 0.6720647773279351\n",
      "Fit time : 0.02222895622253418\n",
      "Predict time : 0.2102830410003662\n",
      "Confusion Matrix : \n",
      "[[231  53]\n",
      " [109 166]]\n"
     ]
    }
   ],
   "source": [
    "from xgboost import XGBClassifier\n",
    "xgb = XGBClassifier(n_estimators=150, max_depth=5)\n",
    "start = time.time()\n",
    "xgb.fit(X_train_vect, y_train)\n",
    "end = time.time()\n",
    "fit_time = (end - start)\n",
    "\n",
    "start = time.time()\n",
    "y_pred = xgb.predict(X_test_vect)\n",
    "end = time.time()\n",
    "fit_time = (end - start)\n",
    "\n",
    "print('Accuracy : ' + str(accuracy_score(y_test,y_pred)))\n",
    "print('Precision : ' + str(precision_score(y_test,y_pred)))\n",
    "print('Recall : ' + str(recall_score(y_test,y_pred)))\n",
    "print('F1 Score : ' + str(f1_score(y_test,y_pred)))\n",
    "print('Fit time : ' + str(fit_time))\n",
    "print('Predict time : ' + str(pred_time))\n",
    "\n",
    "print('Confusion Matrix : \\n' + str(confusion_matrix(y_test,y_pred)))"
   ]
  },
  {
   "cell_type": "code",
   "execution_count": 31,
   "metadata": {},
   "outputs": [],
   "source": [
    "feat_importances = pd.Series(xgb.feature_importances_, index=X_train_vect.columns.tolist())"
   ]
  },
  {
   "cell_type": "code",
   "execution_count": 32,
   "metadata": {},
   "outputs": [
    {
     "data": {
      "image/png": "[encoded data removed]",
      "text/plain": [
       "<Figure size 432x288 with 1 Axes>"
      ]
     },
     "metadata": {
      "needs_background": "light"
     },
     "output_type": "display_data"
    }
   ],
   "source": [
    "feat_importances.nlargest(20).plot(kind='barh')\n",
    "plt.show()"
   ]
  },
  {
   "cell_type": "code",
   "execution_count": 33,
   "metadata": {},
   "outputs": [
    {
     "name": "stdout",
     "output_type": "stream",
     "text": [
      "Confusion matrix, without normalization\n",
      "[[231  53]\n",
      " [109 166]]\n"
     ]
    },
    {
     "data": {
      "image/png": "[encoded data removed]",
      "text/plain": [
       "<Figure size 576x288 with 2 Axes>"
      ]
     },
     "metadata": {
      "needs_background": "light"
     },
     "output_type": "display_data"
    }
   ],
   "source": [
    "#confusion matrix plot\n",
    "cnf_matrix = confusion_matrix(y_test, y_pred)\n",
    "np.set_printoptions(precision=2)\n",
    "\n",
    "# Plot non-normalized confusion matrix\n",
    "plt.figure()\n",
    "class_names = [0,1]\n",
    "plot_confusion_matrix(cnf_matrix, classes=class_names,\n",
    "                      title='Confusion matrix - Extreme Gradient Boosting')\n",
    "a = plt.gcf()\n",
    "a.set_size_inches(8,4)\n",
    "plt.show()"
   ]
  },
  {
   "cell_type": "code",
   "execution_count": 34,
   "metadata": {},
   "outputs": [
    {
     "name": "stderr",
     "output_type": "stream",
     "text": [
      "/anaconda3/lib/python3.7/site-packages/sklearn/model_selection/_split.py:2053: FutureWarning: You should specify a value for 'cv' instead of relying on the default value. The default value will change from 3 to 5 in version 0.22.\n",
      "  warnings.warn(CV_WARNING, FutureWarning)\n"
     ]
    },
    {
     "data": {
      "image/png": "[encoded data removed]",
      "text/plain": [
       "<Figure size 432x288 with 1 Axes>"
      ]
     },
     "metadata": {
      "needs_background": "light"
     },
     "output_type": "display_data"
    }
   ],
   "source": [
    "#plotting ROC curve\n",
    "from sklearn import metrics\n",
    "probs = grid_xgbm_acc.fit(X_train_vect, y_train).predict_proba(X_test_vect)\n",
    "preds = probs[:,1]\n",
    "fpr, tpr, threshold = metrics.roc_curve(y_test, preds)\n",
    "roc_auc = metrics.auc(fpr, tpr)\n",
    "\n",
    "plt.figure()\n",
    "plt.plot(fpr, tpr, label='GridSearchCV (area = %0.2f)' % roc_auc)\n",
    "plt.plot([0, 1], [0, 1],'r--')\n",
    "plt.xlim([0.0, 1.0])\n",
    "plt.ylim([0.0, 1.05])\n",
    "plt.xlabel('False Positive Rate')\n",
    "plt.ylabel('True Positive Rate')\n",
    "plt.title('Receiver operating characteristic')\n",
    "plt.legend(loc=\"lower right\")\n",
    "plt.savefig('Log_ROC')\n",
    "plt.show()"
   ]
  },
  {
   "cell_type": "code",
   "execution_count": 77,
   "metadata": {},
   "outputs": [
    {
     "name": "stderr",
     "output_type": "stream",
     "text": [
      "/anaconda3/lib/python3.7/site-packages/sklearn/model_selection/_split.py:2053: FutureWarning: You should specify a value for 'cv' instead of relying on the default value. The default value will change from 3 to 5 in version 0.22.\n",
      "  warnings.warn(CV_WARNING, FutureWarning)\n",
      "/anaconda3/lib/python3.7/site-packages/sklearn/linear_model/logistic.py:433: FutureWarning: Default solver will be changed to 'lbfgs' in 0.22. Specify a solver to silence this warning.\n",
      "  FutureWarning)\n",
      "/anaconda3/lib/python3.7/site-packages/sklearn/linear_model/logistic.py:433: FutureWarning: Default solver will be changed to 'lbfgs' in 0.22. Specify a solver to silence this warning.\n",
      "  FutureWarning)\n",
      "/anaconda3/lib/python3.7/site-packages/sklearn/linear_model/logistic.py:433: FutureWarning: Default solver will be changed to 'lbfgs' in 0.22. Specify a solver to silence this warning.\n",
      "  FutureWarning)\n",
      "/anaconda3/lib/python3.7/site-packages/sklearn/linear_model/logistic.py:433: FutureWarning: Default solver will be changed to 'lbfgs' in 0.22. Specify a solver to silence this warning.\n",
      "  FutureWarning)\n",
      "/anaconda3/lib/python3.7/site-packages/sklearn/linear_model/logistic.py:433: FutureWarning: Default solver will be changed to 'lbfgs' in 0.22. Specify a solver to silence this warning.\n",
      "  FutureWarning)\n",
      "/anaconda3/lib/python3.7/site-packages/sklearn/linear_model/logistic.py:433: FutureWarning: Default solver will be changed to 'lbfgs' in 0.22. Specify a solver to silence this warning.\n",
      "  FutureWarning)\n",
      "/anaconda3/lib/python3.7/site-packages/sklearn/linear_model/logistic.py:433: FutureWarning: Default solver will be changed to 'lbfgs' in 0.22. Specify a solver to silence this warning.\n",
      "  FutureWarning)\n",
      "/anaconda3/lib/python3.7/site-packages/sklearn/linear_model/logistic.py:433: FutureWarning: Default solver will be changed to 'lbfgs' in 0.22. Specify a solver to silence this warning.\n",
      "  FutureWarning)\n",
      "/anaconda3/lib/python3.7/site-packages/sklearn/linear_model/logistic.py:433: FutureWarning: Default solver will be changed to 'lbfgs' in 0.22. Specify a solver to silence this warning.\n",
      "  FutureWarning)\n",
      "/anaconda3/lib/python3.7/site-packages/sklearn/linear_model/logistic.py:433: FutureWarning: Default solver will be changed to 'lbfgs' in 0.22. Specify a solver to silence this warning.\n",
      "  FutureWarning)\n",
      "/anaconda3/lib/python3.7/site-packages/sklearn/linear_model/logistic.py:433: FutureWarning: Default solver will be changed to 'lbfgs' in 0.22. Specify a solver to silence this warning.\n",
      "  FutureWarning)\n",
      "/anaconda3/lib/python3.7/site-packages/sklearn/linear_model/logistic.py:433: FutureWarning: Default solver will be changed to 'lbfgs' in 0.22. Specify a solver to silence this warning.\n",
      "  FutureWarning)\n",
      "/anaconda3/lib/python3.7/site-packages/sklearn/linear_model/logistic.py:433: FutureWarning: Default solver will be changed to 'lbfgs' in 0.22. Specify a solver to silence this warning.\n",
      "  FutureWarning)\n",
      "/anaconda3/lib/python3.7/site-packages/sklearn/linear_model/logistic.py:433: FutureWarning: Default solver will be changed to 'lbfgs' in 0.22. Specify a solver to silence this warning.\n",
      "  FutureWarning)\n",
      "/anaconda3/lib/python3.7/site-packages/sklearn/linear_model/logistic.py:433: FutureWarning: Default solver will be changed to 'lbfgs' in 0.22. Specify a solver to silence this warning.\n",
      "  FutureWarning)\n",
      "/anaconda3/lib/python3.7/site-packages/sklearn/linear_model/logistic.py:433: FutureWarning: Default solver will be changed to 'lbfgs' in 0.22. Specify a solver to silence this warning.\n",
      "  FutureWarning)\n",
      "/anaconda3/lib/python3.7/site-packages/sklearn/linear_model/logistic.py:433: FutureWarning: Default solver will be changed to 'lbfgs' in 0.22. Specify a solver to silence this warning.\n",
      "  FutureWarning)\n",
      "/anaconda3/lib/python3.7/site-packages/sklearn/linear_model/logistic.py:433: FutureWarning: Default solver will be changed to 'lbfgs' in 0.22. Specify a solver to silence this warning.\n",
      "  FutureWarning)\n",
      "/anaconda3/lib/python3.7/site-packages/sklearn/linear_model/logistic.py:433: FutureWarning: Default solver will be changed to 'lbfgs' in 0.22. Specify a solver to silence this warning.\n",
      "  FutureWarning)\n",
      "/anaconda3/lib/python3.7/site-packages/sklearn/linear_model/logistic.py:433: FutureWarning: Default solver will be changed to 'lbfgs' in 0.22. Specify a solver to silence this warning.\n",
      "  FutureWarning)\n",
      "/anaconda3/lib/python3.7/site-packages/sklearn/linear_model/logistic.py:433: FutureWarning: Default solver will be changed to 'lbfgs' in 0.22. Specify a solver to silence this warning.\n",
      "  FutureWarning)\n",
      "/anaconda3/lib/python3.7/site-packages/sklearn/linear_model/logistic.py:433: FutureWarning: Default solver will be changed to 'lbfgs' in 0.22. Specify a solver to silence this warning.\n",
      "  FutureWarning)\n",
      "/anaconda3/lib/python3.7/site-packages/sklearn/linear_model/logistic.py:433: FutureWarning: Default solver will be changed to 'lbfgs' in 0.22. Specify a solver to silence this warning.\n",
      "  FutureWarning)\n",
      "/anaconda3/lib/python3.7/site-packages/sklearn/linear_model/logistic.py:433: FutureWarning: Default solver will be changed to 'lbfgs' in 0.22. Specify a solver to silence this warning.\n",
      "  FutureWarning)\n",
      "/anaconda3/lib/python3.7/site-packages/sklearn/linear_model/logistic.py:433: FutureWarning: Default solver will be changed to 'lbfgs' in 0.22. Specify a solver to silence this warning.\n",
      "  FutureWarning)\n",
      "/anaconda3/lib/python3.7/site-packages/sklearn/linear_model/logistic.py:433: FutureWarning: Default solver will be changed to 'lbfgs' in 0.22. Specify a solver to silence this warning.\n",
      "  FutureWarning)\n",
      "/anaconda3/lib/python3.7/site-packages/sklearn/linear_model/logistic.py:433: FutureWarning: Default solver will be changed to 'lbfgs' in 0.22. Specify a solver to silence this warning.\n",
      "  FutureWarning)\n",
      "/anaconda3/lib/python3.7/site-packages/sklearn/linear_model/logistic.py:433: FutureWarning: Default solver will be changed to 'lbfgs' in 0.22. Specify a solver to silence this warning.\n",
      "  FutureWarning)\n",
      "/anaconda3/lib/python3.7/site-packages/sklearn/linear_model/logistic.py:433: FutureWarning: Default solver will be changed to 'lbfgs' in 0.22. Specify a solver to silence this warning.\n",
      "  FutureWarning)\n",
      "/anaconda3/lib/python3.7/site-packages/sklearn/linear_model/logistic.py:433: FutureWarning: Default solver will be changed to 'lbfgs' in 0.22. Specify a solver to silence this warning.\n",
      "  FutureWarning)\n",
      "/anaconda3/lib/python3.7/site-packages/sklearn/linear_model/logistic.py:433: FutureWarning: Default solver will be changed to 'lbfgs' in 0.22. Specify a solver to silence this warning.\n",
      "  FutureWarning)\n",
      "/anaconda3/lib/python3.7/site-packages/sklearn/linear_model/logistic.py:433: FutureWarning: Default solver will be changed to 'lbfgs' in 0.22. Specify a solver to silence this warning.\n",
      "  FutureWarning)\n",
      "/anaconda3/lib/python3.7/site-packages/sklearn/linear_model/logistic.py:433: FutureWarning: Default solver will be changed to 'lbfgs' in 0.22. Specify a solver to silence this warning.\n",
      "  FutureWarning)\n",
      "/anaconda3/lib/python3.7/site-packages/sklearn/linear_model/logistic.py:433: FutureWarning: Default solver will be changed to 'lbfgs' in 0.22. Specify a solver to silence this warning.\n",
      "  FutureWarning)\n",
      "/anaconda3/lib/python3.7/site-packages/sklearn/linear_model/logistic.py:433: FutureWarning: Default solver will be changed to 'lbfgs' in 0.22. Specify a solver to silence this warning.\n",
      "  FutureWarning)\n",
      "/anaconda3/lib/python3.7/site-packages/sklearn/linear_model/logistic.py:433: FutureWarning: Default solver will be changed to 'lbfgs' in 0.22. Specify a solver to silence this warning.\n",
      "  FutureWarning)\n",
      "/anaconda3/lib/python3.7/site-packages/sklearn/linear_model/logistic.py:433: FutureWarning: Default solver will be changed to 'lbfgs' in 0.22. Specify a solver to silence this warning.\n",
      "  FutureWarning)\n",
      "/anaconda3/lib/python3.7/site-packages/sklearn/linear_model/logistic.py:433: FutureWarning: Default solver will be changed to 'lbfgs' in 0.22. Specify a solver to silence this warning.\n",
      "  FutureWarning)\n",
      "/anaconda3/lib/python3.7/site-packages/sklearn/linear_model/logistic.py:433: FutureWarning: Default solver will be changed to 'lbfgs' in 0.22. Specify a solver to silence this warning.\n",
      "  FutureWarning)\n",
      "/anaconda3/lib/python3.7/site-packages/sklearn/linear_model/logistic.py:433: FutureWarning: Default solver will be changed to 'lbfgs' in 0.22. Specify a solver to silence this warning.\n",
      "  FutureWarning)\n",
      "/anaconda3/lib/python3.7/site-packages/sklearn/linear_model/logistic.py:433: FutureWarning: Default solver will be changed to 'lbfgs' in 0.22. Specify a solver to silence this warning.\n",
      "  FutureWarning)\n",
      "/anaconda3/lib/python3.7/site-packages/sklearn/linear_model/logistic.py:433: FutureWarning: Default solver will be changed to 'lbfgs' in 0.22. Specify a solver to silence this warning.\n",
      "  FutureWarning)\n",
      "/anaconda3/lib/python3.7/site-packages/sklearn/linear_model/logistic.py:433: FutureWarning: Default solver will be changed to 'lbfgs' in 0.22. Specify a solver to silence this warning.\n",
      "  FutureWarning)\n",
      "/anaconda3/lib/python3.7/site-packages/sklearn/linear_model/logistic.py:433: FutureWarning: Default solver will be changed to 'lbfgs' in 0.22. Specify a solver to silence this warning.\n",
      "  FutureWarning)\n"
     ]
    },
    {
     "name": "stderr",
     "output_type": "stream",
     "text": [
      "/anaconda3/lib/python3.7/site-packages/sklearn/linear_model/logistic.py:433: FutureWarning: Default solver will be changed to 'lbfgs' in 0.22. Specify a solver to silence this warning.\n",
      "  FutureWarning)\n",
      "/anaconda3/lib/python3.7/site-packages/sklearn/linear_model/logistic.py:433: FutureWarning: Default solver will be changed to 'lbfgs' in 0.22. Specify a solver to silence this warning.\n",
      "  FutureWarning)\n",
      "/anaconda3/lib/python3.7/site-packages/sklearn/linear_model/logistic.py:433: FutureWarning: Default solver will be changed to 'lbfgs' in 0.22. Specify a solver to silence this warning.\n",
      "  FutureWarning)\n",
      "/anaconda3/lib/python3.7/site-packages/sklearn/linear_model/logistic.py:433: FutureWarning: Default solver will be changed to 'lbfgs' in 0.22. Specify a solver to silence this warning.\n",
      "  FutureWarning)\n",
      "/anaconda3/lib/python3.7/site-packages/sklearn/linear_model/logistic.py:433: FutureWarning: Default solver will be changed to 'lbfgs' in 0.22. Specify a solver to silence this warning.\n",
      "  FutureWarning)\n"
     ]
    },
    {
     "data": {
      "text/plain": [
       "GridSearchCV(cv='warn', error_score='raise-deprecating',\n",
       "       estimator=LogisticRegression(C=1.0, class_weight=None, dual=False, fit_intercept=True,\n",
       "          intercept_scaling=1, max_iter=100, multi_class='warn',\n",
       "          n_jobs=None, penalty='l2', random_state=None, solver='warn',\n",
       "          tol=0.0001, verbose=0, warm_start=False),\n",
       "       fit_params=None, iid='warn', n_jobs=None,\n",
       "       param_grid={'penalty': ['l1', 'l2'], 'C': [0.001, 0.009, 0.01, 0.09, 1, 5, 10, 25]},\n",
       "       pre_dispatch='2*n_jobs', refit=True, return_train_score='warn',\n",
       "       scoring=None, verbose=0)"
      ]
     },
     "execution_count": 77,
     "metadata": {},
     "output_type": "execute_result"
    }
   ],
   "source": [
    "#logistic regression grid search\n",
    "from sklearn.linear_model import LogisticRegression\n",
    "import sklearn.linear_model as lm\n",
    "from sklearn.model_selection import GridSearchCV\n",
    "clf = lm.LogisticRegression()\n",
    "grid_values = {'penalty': ['l1', 'l2'],'C':[0.001,.009,0.01,.09,1,5,10,25]}\n",
    "grid_clf_acc = GridSearchCV(clf, param_grid = grid_values)\n",
    "grid_clf_acc.fit(X_train_vect, y_train)\n",
    "\n"
   ]
  },
  {
   "cell_type": "code",
   "execution_count": 78,
   "metadata": {},
   "outputs": [
    {
     "data": {
      "text/plain": [
       "{'C': 1, 'penalty': 'l2'}"
      ]
     },
     "execution_count": 78,
     "metadata": {},
     "output_type": "execute_result"
    }
   ],
   "source": [
    "grid_clf_acc.best_params_"
   ]
  },
  {
   "cell_type": "code",
   "execution_count": 90,
   "metadata": {},
   "outputs": [
    {
     "name": "stdout",
     "output_type": "stream",
     "text": [
      "Accuracy : 0.7209302325581395\n",
      "Precision : 0.7535545023696683\n",
      "Recall : 0.6045627376425855\n",
      "F1 Score : 0.6708860759493671\n",
      "Fit time : 0.004809856414794922\n",
      "Predict time : 0.2102830410003662\n",
      "Confusion Matrix : \n",
      "[[244  52]\n",
      " [104 159]]\n"
     ]
    },
    {
     "name": "stderr",
     "output_type": "stream",
     "text": [
      "/anaconda3/lib/python3.7/site-packages/sklearn/linear_model/logistic.py:433: FutureWarning: Default solver will be changed to 'lbfgs' in 0.22. Specify a solver to silence this warning.\n",
      "  FutureWarning)\n"
     ]
    }
   ],
   "source": [
    "#Using Logistic Regression\n",
    "from sklearn.linear_model import LogisticRegression\n",
    "import sklearn.linear_model as lm\n",
    "\n",
    "log = lm.LogisticRegression(C = 1, penalty = 'l2')\n",
    "start = time.time()\n",
    "log.fit(X_train_vect, y_train)\n",
    "end = time.time()\n",
    "fit_time = (end - start)\n",
    "\n",
    "start = time.time()\n",
    "y_pred = log.predict(X_test_vect)\n",
    "end = time.time()\n",
    "fit_time = (end - start)\n",
    "\n",
    "print('Accuracy : ' + str(accuracy_score(y_test,y_pred)))\n",
    "print('Precision : ' + str(precision_score(y_test,y_pred)))\n",
    "print('Recall : ' + str(recall_score(y_test,y_pred)))\n",
    "print('F1 Score : ' + str(f1_score(y_test,y_pred)))\n",
    "print('Fit time : ' + str(fit_time))\n",
    "print('Predict time : ' + str(pred_time))\n",
    "\n",
    "print('Confusion Matrix : \\n' + str(confusion_matrix(y_test,y_pred)))"
   ]
  },
  {
   "cell_type": "code",
   "execution_count": 96,
   "metadata": {},
   "outputs": [
    {
     "name": "stderr",
     "output_type": "stream",
     "text": [
      "/anaconda3/lib/python3.7/site-packages/sklearn/linear_model/logistic.py:433: FutureWarning: Default solver will be changed to 'lbfgs' in 0.22. Specify a solver to silence this warning.\n",
      "  FutureWarning)\n"
     ]
    },
    {
     "data": {
      "text/plain": [
       "array([335,   7, 368, 327, 453, 221,  25, 357, 234, 419, 380, 237, 346,\n",
       "       383,  75, 411,  64, 104,  77, 220])"
      ]
     },
     "execution_count": 96,
     "metadata": {},
     "output_type": "execute_result"
    }
   ],
   "source": [
    "import numpy as np\n",
    "logmodel = log.fit(X_train_vect, y_train)\n",
    "coefs=logmodel.coef_[0]\n",
    "top_three = np.argpartition(coefs, -20)[-20:]\n",
    "top_three"
   ]
  },
  {
   "cell_type": "code",
   "execution_count": 43,
   "metadata": {},
   "outputs": [
    {
     "name": "stdout",
     "output_type": "stream",
     "text": [
      "Confusion matrix, without normalization\n",
      "[[229  55]\n",
      " [ 96 179]]\n"
     ]
    },
    {
     "data": {
      "image/png": "[encoded data removed]",
      "text/plain": [
       "<Figure size 576x288 with 2 Axes>"
      ]
     },
     "metadata": {
      "needs_background": "light"
     },
     "output_type": "display_data"
    }
   ],
   "source": [
    "#confusion matrix plot\n",
    "cnf_matrix = confusion_matrix(y_test, y_pred)\n",
    "np.set_printoptions(precision=2)\n",
    "\n",
    "# Plot non-normalized confusion matrix\n",
    "plt.figure()\n",
    "class_names = [0,1]\n",
    "plot_confusion_matrix(cnf_matrix, classes=class_names,\n",
    "                      title='Confusion matrix - Logistic Regression')\n",
    "a = plt.gcf()\n",
    "a.set_size_inches(8,4)\n",
    "plt.show()"
   ]
  },
  {
   "cell_type": "code",
   "execution_count": 44,
   "metadata": {},
   "outputs": [
    {
     "name": "stderr",
     "output_type": "stream",
     "text": [
      "/anaconda3/lib/python3.7/site-packages/sklearn/model_selection/_split.py:2053: FutureWarning: You should specify a value for 'cv' instead of relying on the default value. The default value will change from 3 to 5 in version 0.22.\n",
      "  warnings.warn(CV_WARNING, FutureWarning)\n",
      "/anaconda3/lib/python3.7/site-packages/sklearn/linear_model/logistic.py:433: FutureWarning: Default solver will be changed to 'lbfgs' in 0.22. Specify a solver to silence this warning.\n",
      "  FutureWarning)\n",
      "/anaconda3/lib/python3.7/site-packages/sklearn/linear_model/logistic.py:433: FutureWarning: Default solver will be changed to 'lbfgs' in 0.22. Specify a solver to silence this warning.\n",
      "  FutureWarning)\n",
      "/anaconda3/lib/python3.7/site-packages/sklearn/linear_model/logistic.py:433: FutureWarning: Default solver will be changed to 'lbfgs' in 0.22. Specify a solver to silence this warning.\n",
      "  FutureWarning)\n",
      "/anaconda3/lib/python3.7/site-packages/sklearn/linear_model/logistic.py:433: FutureWarning: Default solver will be changed to 'lbfgs' in 0.22. Specify a solver to silence this warning.\n",
      "  FutureWarning)\n",
      "/anaconda3/lib/python3.7/site-packages/sklearn/linear_model/logistic.py:433: FutureWarning: Default solver will be changed to 'lbfgs' in 0.22. Specify a solver to silence this warning.\n",
      "  FutureWarning)\n",
      "/anaconda3/lib/python3.7/site-packages/sklearn/linear_model/logistic.py:433: FutureWarning: Default solver will be changed to 'lbfgs' in 0.22. Specify a solver to silence this warning.\n",
      "  FutureWarning)\n",
      "/anaconda3/lib/python3.7/site-packages/sklearn/linear_model/logistic.py:433: FutureWarning: Default solver will be changed to 'lbfgs' in 0.22. Specify a solver to silence this warning.\n",
      "  FutureWarning)\n",
      "/anaconda3/lib/python3.7/site-packages/sklearn/linear_model/logistic.py:433: FutureWarning: Default solver will be changed to 'lbfgs' in 0.22. Specify a solver to silence this warning.\n",
      "  FutureWarning)\n",
      "/anaconda3/lib/python3.7/site-packages/sklearn/linear_model/logistic.py:433: FutureWarning: Default solver will be changed to 'lbfgs' in 0.22. Specify a solver to silence this warning.\n",
      "  FutureWarning)\n",
      "/anaconda3/lib/python3.7/site-packages/sklearn/linear_model/logistic.py:433: FutureWarning: Default solver will be changed to 'lbfgs' in 0.22. Specify a solver to silence this warning.\n",
      "  FutureWarning)\n",
      "/anaconda3/lib/python3.7/site-packages/sklearn/linear_model/logistic.py:433: FutureWarning: Default solver will be changed to 'lbfgs' in 0.22. Specify a solver to silence this warning.\n",
      "  FutureWarning)\n",
      "/anaconda3/lib/python3.7/site-packages/sklearn/linear_model/logistic.py:433: FutureWarning: Default solver will be changed to 'lbfgs' in 0.22. Specify a solver to silence this warning.\n",
      "  FutureWarning)\n",
      "/anaconda3/lib/python3.7/site-packages/sklearn/linear_model/logistic.py:433: FutureWarning: Default solver will be changed to 'lbfgs' in 0.22. Specify a solver to silence this warning.\n",
      "  FutureWarning)\n",
      "/anaconda3/lib/python3.7/site-packages/sklearn/linear_model/logistic.py:433: FutureWarning: Default solver will be changed to 'lbfgs' in 0.22. Specify a solver to silence this warning.\n",
      "  FutureWarning)\n",
      "/anaconda3/lib/python3.7/site-packages/sklearn/linear_model/logistic.py:433: FutureWarning: Default solver will be changed to 'lbfgs' in 0.22. Specify a solver to silence this warning.\n",
      "  FutureWarning)\n",
      "/anaconda3/lib/python3.7/site-packages/sklearn/linear_model/logistic.py:433: FutureWarning: Default solver will be changed to 'lbfgs' in 0.22. Specify a solver to silence this warning.\n",
      "  FutureWarning)\n",
      "/anaconda3/lib/python3.7/site-packages/sklearn/linear_model/logistic.py:433: FutureWarning: Default solver will be changed to 'lbfgs' in 0.22. Specify a solver to silence this warning.\n",
      "  FutureWarning)\n",
      "/anaconda3/lib/python3.7/site-packages/sklearn/linear_model/logistic.py:433: FutureWarning: Default solver will be changed to 'lbfgs' in 0.22. Specify a solver to silence this warning.\n",
      "  FutureWarning)\n",
      "/anaconda3/lib/python3.7/site-packages/sklearn/linear_model/logistic.py:433: FutureWarning: Default solver will be changed to 'lbfgs' in 0.22. Specify a solver to silence this warning.\n",
      "  FutureWarning)\n",
      "/anaconda3/lib/python3.7/site-packages/sklearn/linear_model/logistic.py:433: FutureWarning: Default solver will be changed to 'lbfgs' in 0.22. Specify a solver to silence this warning.\n",
      "  FutureWarning)\n",
      "/anaconda3/lib/python3.7/site-packages/sklearn/linear_model/logistic.py:433: FutureWarning: Default solver will be changed to 'lbfgs' in 0.22. Specify a solver to silence this warning.\n",
      "  FutureWarning)\n",
      "/anaconda3/lib/python3.7/site-packages/sklearn/linear_model/logistic.py:433: FutureWarning: Default solver will be changed to 'lbfgs' in 0.22. Specify a solver to silence this warning.\n",
      "  FutureWarning)\n",
      "/anaconda3/lib/python3.7/site-packages/sklearn/linear_model/logistic.py:433: FutureWarning: Default solver will be changed to 'lbfgs' in 0.22. Specify a solver to silence this warning.\n",
      "  FutureWarning)\n",
      "/anaconda3/lib/python3.7/site-packages/sklearn/linear_model/logistic.py:433: FutureWarning: Default solver will be changed to 'lbfgs' in 0.22. Specify a solver to silence this warning.\n",
      "  FutureWarning)\n",
      "/anaconda3/lib/python3.7/site-packages/sklearn/linear_model/logistic.py:433: FutureWarning: Default solver will be changed to 'lbfgs' in 0.22. Specify a solver to silence this warning.\n",
      "  FutureWarning)\n",
      "/anaconda3/lib/python3.7/site-packages/sklearn/linear_model/logistic.py:433: FutureWarning: Default solver will be changed to 'lbfgs' in 0.22. Specify a solver to silence this warning.\n",
      "  FutureWarning)\n",
      "/anaconda3/lib/python3.7/site-packages/sklearn/linear_model/logistic.py:433: FutureWarning: Default solver will be changed to 'lbfgs' in 0.22. Specify a solver to silence this warning.\n",
      "  FutureWarning)\n",
      "/anaconda3/lib/python3.7/site-packages/sklearn/linear_model/logistic.py:433: FutureWarning: Default solver will be changed to 'lbfgs' in 0.22. Specify a solver to silence this warning.\n",
      "  FutureWarning)\n",
      "/anaconda3/lib/python3.7/site-packages/sklearn/linear_model/logistic.py:433: FutureWarning: Default solver will be changed to 'lbfgs' in 0.22. Specify a solver to silence this warning.\n",
      "  FutureWarning)\n",
      "/anaconda3/lib/python3.7/site-packages/sklearn/linear_model/logistic.py:433: FutureWarning: Default solver will be changed to 'lbfgs' in 0.22. Specify a solver to silence this warning.\n",
      "  FutureWarning)\n",
      "/anaconda3/lib/python3.7/site-packages/sklearn/linear_model/logistic.py:433: FutureWarning: Default solver will be changed to 'lbfgs' in 0.22. Specify a solver to silence this warning.\n",
      "  FutureWarning)\n",
      "/anaconda3/lib/python3.7/site-packages/sklearn/linear_model/logistic.py:433: FutureWarning: Default solver will be changed to 'lbfgs' in 0.22. Specify a solver to silence this warning.\n",
      "  FutureWarning)\n",
      "/anaconda3/lib/python3.7/site-packages/sklearn/linear_model/logistic.py:433: FutureWarning: Default solver will be changed to 'lbfgs' in 0.22. Specify a solver to silence this warning.\n",
      "  FutureWarning)\n",
      "/anaconda3/lib/python3.7/site-packages/sklearn/linear_model/logistic.py:433: FutureWarning: Default solver will be changed to 'lbfgs' in 0.22. Specify a solver to silence this warning.\n",
      "  FutureWarning)\n",
      "/anaconda3/lib/python3.7/site-packages/sklearn/linear_model/logistic.py:433: FutureWarning: Default solver will be changed to 'lbfgs' in 0.22. Specify a solver to silence this warning.\n",
      "  FutureWarning)\n",
      "/anaconda3/lib/python3.7/site-packages/sklearn/linear_model/logistic.py:433: FutureWarning: Default solver will be changed to 'lbfgs' in 0.22. Specify a solver to silence this warning.\n",
      "  FutureWarning)\n",
      "/anaconda3/lib/python3.7/site-packages/sklearn/linear_model/logistic.py:433: FutureWarning: Default solver will be changed to 'lbfgs' in 0.22. Specify a solver to silence this warning.\n",
      "  FutureWarning)\n",
      "/anaconda3/lib/python3.7/site-packages/sklearn/linear_model/logistic.py:433: FutureWarning: Default solver will be changed to 'lbfgs' in 0.22. Specify a solver to silence this warning.\n",
      "  FutureWarning)\n",
      "/anaconda3/lib/python3.7/site-packages/sklearn/linear_model/logistic.py:433: FutureWarning: Default solver will be changed to 'lbfgs' in 0.22. Specify a solver to silence this warning.\n",
      "  FutureWarning)\n",
      "/anaconda3/lib/python3.7/site-packages/sklearn/linear_model/logistic.py:433: FutureWarning: Default solver will be changed to 'lbfgs' in 0.22. Specify a solver to silence this warning.\n",
      "  FutureWarning)\n",
      "/anaconda3/lib/python3.7/site-packages/sklearn/linear_model/logistic.py:433: FutureWarning: Default solver will be changed to 'lbfgs' in 0.22. Specify a solver to silence this warning.\n",
      "  FutureWarning)\n",
      "/anaconda3/lib/python3.7/site-packages/sklearn/linear_model/logistic.py:433: FutureWarning: Default solver will be changed to 'lbfgs' in 0.22. Specify a solver to silence this warning.\n",
      "  FutureWarning)\n",
      "/anaconda3/lib/python3.7/site-packages/sklearn/linear_model/logistic.py:433: FutureWarning: Default solver will be changed to 'lbfgs' in 0.22. Specify a solver to silence this warning.\n",
      "  FutureWarning)\n",
      "/anaconda3/lib/python3.7/site-packages/sklearn/linear_model/logistic.py:433: FutureWarning: Default solver will be changed to 'lbfgs' in 0.22. Specify a solver to silence this warning.\n",
      "  FutureWarning)\n"
     ]
    },
    {
     "name": "stderr",
     "output_type": "stream",
     "text": [
      "/anaconda3/lib/python3.7/site-packages/sklearn/linear_model/logistic.py:433: FutureWarning: Default solver will be changed to 'lbfgs' in 0.22. Specify a solver to silence this warning.\n",
      "  FutureWarning)\n",
      "/anaconda3/lib/python3.7/site-packages/sklearn/linear_model/logistic.py:433: FutureWarning: Default solver will be changed to 'lbfgs' in 0.22. Specify a solver to silence this warning.\n",
      "  FutureWarning)\n",
      "/anaconda3/lib/python3.7/site-packages/sklearn/linear_model/logistic.py:433: FutureWarning: Default solver will be changed to 'lbfgs' in 0.22. Specify a solver to silence this warning.\n",
      "  FutureWarning)\n",
      "/anaconda3/lib/python3.7/site-packages/sklearn/linear_model/logistic.py:433: FutureWarning: Default solver will be changed to 'lbfgs' in 0.22. Specify a solver to silence this warning.\n",
      "  FutureWarning)\n",
      "/anaconda3/lib/python3.7/site-packages/sklearn/linear_model/logistic.py:433: FutureWarning: Default solver will be changed to 'lbfgs' in 0.22. Specify a solver to silence this warning.\n",
      "  FutureWarning)\n"
     ]
    },
    {
     "data": {
      "image/png": "[encoded data removed]",
      "text/plain": [
       "<Figure size 432x288 with 1 Axes>"
      ]
     },
     "metadata": {
      "needs_background": "light"
     },
     "output_type": "display_data"
    }
   ],
   "source": [
    "#plotting ROC curve\n",
    "from sklearn import metrics\n",
    "probs = grid_clf_acc.fit(X_train_vect, y_train).predict_proba(X_test_vect)\n",
    "preds = probs[:,1]\n",
    "fpr, tpr, threshold = metrics.roc_curve(y_test, preds)\n",
    "roc_auc = metrics.auc(fpr, tpr)\n",
    "\n",
    "plt.figure()\n",
    "plt.plot(fpr, tpr, label='GridSearchCV (area = %0.2f)' % roc_auc)\n",
    "plt.plot([0, 1], [0, 1],'r--')\n",
    "plt.xlim([0.0, 1.0])\n",
    "plt.ylim([0.0, 1.05])\n",
    "plt.xlabel('False Positive Rate')\n",
    "plt.ylabel('True Positive Rate')\n",
    "plt.title('Receiver operating characteristic')\n",
    "plt.legend(loc=\"lower right\")\n",
    "plt.savefig('Log_ROC')\n",
    "plt.show()"
   ]
  },
  {
   "cell_type": "code",
   "execution_count": 132,
   "metadata": {},
   "outputs": [
    {
     "name": "stdout",
     "output_type": "stream",
     "text": [
      "Accuracy : 0.7334525939177102\n",
      "Precision : 0.7456896551724138\n",
      "Recall : 0.6577946768060836\n",
      "F1 Score : 0.698989898989899\n",
      "Fit time : 0.014764070510864258\n",
      "Predict time : 0.2102830410003662\n",
      "Confusion Matrix : \n",
      "[[237  59]\n",
      " [ 90 173]]\n"
     ]
    }
   ],
   "source": [
    "#Using Naive Bayes \n",
    "from sklearn.naive_bayes import GaussianNB\n",
    "from sklearn.naive_bayes import MultinomialNB\n",
    "\n",
    "nb = GaussianNB()\n",
    "start = time.time()\n",
    "nb.fit(X_train_vect, y_train)\n",
    "end = time.time()\n",
    "fit_time = (end - start)\n",
    "\n",
    "start = time.time()\n",
    "y_pred = nb.predict(X_test_vect)\n",
    "end = time.time()\n",
    "fit_time = (end - start)\n",
    "\n",
    "print('Accuracy : ' + str(accuracy_score(y_test,y_pred)))\n",
    "print('Precision : ' + str(precision_score(y_test,y_pred)))\n",
    "print('Recall : ' + str(recall_score(y_test,y_pred)))\n",
    "print('F1 Score : ' + str(f1_score(y_test,y_pred)))\n",
    "print('Fit time : ' + str(fit_time))\n",
    "print('Predict time : ' + str(pred_time))\n",
    "\n",
    "print('Confusion Matrix : \\n' + str(confusion_matrix(y_test,y_pred)))"
   ]
  },
  {
   "cell_type": "code",
   "execution_count": 136,
   "metadata": {},
   "outputs": [
    {
     "name": "stdout",
     "output_type": "stream",
     "text": [
      "['servic' 'develop' 'result' 'posit' 'million' 'custom' 'continu' 'strong'\n",
      " 'execut' 'increas' 'expect' 'oper' 'busi' 'sale' 'quarter' 'revenu'\n",
      " 'product' 'market' 'compani' 'growth']\n"
     ]
    }
   ],
   "source": [
    "\n",
    "pos_class_prob_sorted = nb.feature_log_prob_[1, :].argsort()\n",
    "\n",
    "print(np.take(tfidf_vect.get_feature_names(), pos_class_prob_sorted[-20:]))\n"
   ]
  },
  {
   "cell_type": "code",
   "execution_count": 48,
   "metadata": {},
   "outputs": [
    {
     "name": "stdout",
     "output_type": "stream",
     "text": [
      "Confusion matrix, without normalization\n",
      "[[203  81]\n",
      " [ 93 182]]\n"
     ]
    },
    {
     "data": {
      "image/png": "[encoded data removed]",
      "text/plain": [
       "<Figure size 576x288 with 2 Axes>"
      ]
     },
     "metadata": {
      "needs_background": "light"
     },
     "output_type": "display_data"
    }
   ],
   "source": [
    "#confusion matrix plot\n",
    "cnf_matrix = confusion_matrix(y_test, y_pred)\n",
    "np.set_printoptions(precision=2)\n",
    "\n",
    "# Plot non-normalized confusion matrix\n",
    "plt.figure()\n",
    "class_names = [0,1]\n",
    "plot_confusion_matrix(cnf_matrix, classes=class_names,\n",
    "                      title='Confusion matrix - Naive Bayes')\n",
    "a = plt.gcf()\n",
    "a.set_size_inches(8,4)\n",
    "plt.show()"
   ]
  },
  {
   "cell_type": "code",
   "execution_count": 49,
   "metadata": {},
   "outputs": [
    {
     "data": {
      "image/png": "[encoded data removed]",
      "text/plain": [
       "<Figure size 432x288 with 1 Axes>"
      ]
     },
     "metadata": {
      "needs_background": "light"
     },
     "output_type": "display_data"
    }
   ],
   "source": [
    "#plotting ROC curve\n",
    "from sklearn import metrics\n",
    "probs = nb.fit(X_train_vect, y_train).predict_proba(X_test_vect)\n",
    "preds = probs[:,1]\n",
    "fpr, tpr, threshold = metrics.roc_curve(y_test, preds)\n",
    "roc_auc = metrics.auc(fpr, tpr)\n",
    "\n",
    "plt.figure()\n",
    "plt.plot(fpr, tpr, label='GridSearchCV (area = %0.2f)' % roc_auc)\n",
    "plt.plot([0, 1], [0, 1],'r--')\n",
    "plt.xlim([0.0, 1.0])\n",
    "plt.ylim([0.0, 1.05])\n",
    "plt.xlabel('False Positive Rate')\n",
    "plt.ylabel('True Positive Rate')\n",
    "plt.title('Receiver operating characteristic')\n",
    "plt.legend(loc=\"lower right\")\n",
    "plt.savefig('Log_ROC')\n",
    "plt.show()"
   ]
  },
  {
   "cell_type": "code",
   "execution_count": 50,
   "metadata": {},
   "outputs": [
    {
     "data": {
      "text/plain": [
       "GridSearchCV(cv=10, error_score='raise-deprecating',\n",
       "       estimator=KNeighborsClassifier(algorithm='auto', leaf_size=30, metric='minkowski',\n",
       "           metric_params=None, n_jobs=None, n_neighbors=5, p=2,\n",
       "           weights='uniform'),\n",
       "       fit_params=None, iid='warn', n_jobs=None,\n",
       "       param_grid={'n_neighbors': [1, 2, 3, 4, 5, 6, 7, 8, 9, 10, 11, 12, 13, 14, 15, 16, 17, 18, 19, 20, 21, 22, 23, 24, 25, 26, 27, 28, 29, 30]},\n",
       "       pre_dispatch='2*n_jobs', refit=True, return_train_score='warn',\n",
       "       scoring=None, verbose=0)"
      ]
     },
     "execution_count": 50,
     "metadata": {},
     "output_type": "execute_result"
    }
   ],
   "source": [
    "#KNN using grid search\n",
    "from sklearn.neighbors import KNeighborsClassifier\n",
    "knn = KNeighborsClassifier()\n",
    "k_range = list(range(1, 31))\n",
    "param_grid = dict(n_neighbors=k_range)\n",
    "grid = GridSearchCV(knn, param_grid, cv=10)\n",
    "\n",
    "grid.fit(X_train_vect, y_train)\n"
   ]
  },
  {
   "cell_type": "code",
   "execution_count": 54,
   "metadata": {},
   "outputs": [
    {
     "data": {
      "text/plain": [
       "{'n_neighbors': 29}"
      ]
     },
     "execution_count": 54,
     "metadata": {},
     "output_type": "execute_result"
    }
   ],
   "source": [
    "grid.best_params_"
   ]
  },
  {
   "cell_type": "code",
   "execution_count": 55,
   "metadata": {},
   "outputs": [
    {
     "name": "stdout",
     "output_type": "stream",
     "text": [
      "Accuracy : 0.6905187835420393\n",
      "Precision : 0.8227848101265823\n",
      "Recall : 0.4727272727272727\n",
      "F1 Score : 0.6004618937644342\n",
      "Fit time : 0.809783935546875\n",
      "Predict time : 0.2102830410003662\n",
      "Confusion Matrix : \n",
      "[[256  28]\n",
      " [145 130]]\n"
     ]
    }
   ],
   "source": [
    "#Using K-Nearest Neighbor\n",
    "from sklearn.neighbors import KNeighborsClassifier\n",
    "\n",
    "knn = KNeighborsClassifier(n_neighbors = 29)\n",
    "start = time.time()\n",
    "knn.fit(X_train_vect, y_train)\n",
    "end = time.time()\n",
    "fit_time = (end - start)\n",
    "\n",
    "start = time.time()\n",
    "y_pred = knn.predict(X_test_vect)\n",
    "end = time.time()\n",
    "fit_time = (end - start)\n",
    "\n",
    "print('Accuracy : ' + str(accuracy_score(y_test,y_pred)))\n",
    "print('Precision : ' + str(precision_score(y_test,y_pred)))\n",
    "print('Recall : ' + str(recall_score(y_test,y_pred)))\n",
    "print('F1 Score : ' + str(f1_score(y_test,y_pred)))\n",
    "print('Fit time : ' + str(fit_time))\n",
    "print('Predict time : ' + str(pred_time))\n",
    "\n",
    "print('Confusion Matrix : \\n' + str(confusion_matrix(y_test,y_pred)))"
   ]
  },
  {
   "cell_type": "code",
   "execution_count": 58,
   "metadata": {},
   "outputs": [
    {
     "name": "stdout",
     "output_type": "stream",
     "text": [
      "Confusion matrix, without normalization\n",
      "[[256  28]\n",
      " [145 130]]\n"
     ]
    },
    {
     "data": {
      "image/png": "[encoded data removed]",
      "text/plain": [
       "<Figure size 576x288 with 2 Axes>"
      ]
     },
     "metadata": {
      "needs_background": "light"
     },
     "output_type": "display_data"
    }
   ],
   "source": [
    "#confusion matrix plot\n",
    "cnf_matrix = confusion_matrix(y_test, y_pred)\n",
    "np.set_printoptions(precision=2)\n",
    "\n",
    "# Plot non-normalized confusion matrix\n",
    "plt.figure()\n",
    "class_names = [0,1]\n",
    "plot_confusion_matrix(cnf_matrix, classes=class_names,\n",
    "                      title='Confusion matrix - K-Nearest Neighbors')\n",
    "a = plt.gcf()\n",
    "a.set_size_inches(8,4)\n",
    "plt.show()"
   ]
  },
  {
   "cell_type": "code",
   "execution_count": 59,
   "metadata": {},
   "outputs": [
    {
     "data": {
      "image/png": "[encoded data removed]",
      "text/plain": [
       "<Figure size 432x288 with 1 Axes>"
      ]
     },
     "metadata": {
      "needs_background": "light"
     },
     "output_type": "display_data"
    }
   ],
   "source": [
    "#plotting ROC curve\n",
    "from sklearn import metrics\n",
    "probs = grid.fit(X_train_vect, y_train).predict_proba(X_test_vect)\n",
    "preds = probs[:,1]\n",
    "fpr, tpr, threshold = metrics.roc_curve(y_test, preds)\n",
    "roc_auc = metrics.auc(fpr, tpr)\n",
    "\n",
    "plt.figure()\n",
    "plt.plot(fpr, tpr, label='GridSearchCV (area = %0.2f)' % roc_auc)\n",
    "plt.plot([0, 1], [0, 1],'r--')\n",
    "plt.xlim([0.0, 1.0])\n",
    "plt.ylim([0.0, 1.05])\n",
    "plt.xlabel('False Positive Rate')\n",
    "plt.ylabel('True Positive Rate')\n",
    "plt.title('Receiver operating characteristic')\n",
    "plt.legend(loc=\"lower right\")\n",
    "plt.savefig('Log_ROC')\n",
    "plt.show()"
   ]
  }
 ],
 "metadata": {
  "kernelspec": {
   "display_name": "Python 3",
   "language": "python",
   "name": "python3"
  },
  "language_info": {
   "codemirror_mode": {
    "name": "ipython",
    "version": 3
   },
   "file_extension": ".py",
   "mimetype": "text/x-python",
   "name": "python",
   "nbconvert_exporter": "python",
   "pygments_lexer": "ipython3",
   "version": "3.7.1"
  }
 },
 "nbformat": 4,
 "nbformat_minor": 2
}
