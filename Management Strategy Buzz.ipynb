{
 "cells": [
  {
   "cell_type": "code",
   "execution_count": 82,
   "metadata": {},
   "outputs": [],
   "source": [
    "#import required libraries\n",
    "import pandas as pd\n",
    "import string\n",
    "import numpy as np\n",
    "import re\n",
    "import nltk\n",
    "import matplotlib.pyplot as plt"
   ]
  },
  {
   "cell_type": "code",
   "execution_count": 83,
   "metadata": {},
   "outputs": [
    {
     "name": "stdout",
     "output_type": "stream",
     "text": [
      "(3232, 2)\n"
     ]
    },
    {
     "data": {
      "text/html": [
       "<div>\n",
       "<style scoped>\n",
       "    .dataframe tbody tr th:only-of-type {\n",
       "        vertical-align: middle;\n",
       "    }\n",
       "\n",
       "    .dataframe tbody tr th {\n",
       "        vertical-align: top;\n",
       "    }\n",
       "\n",
       "    .dataframe thead th {\n",
       "        text-align: right;\n",
       "    }\n",
       "</style>\n",
       "<table border=\"1\" class=\"dataframe\">\n",
       "  <thead>\n",
       "    <tr style=\"text-align: right;\">\n",
       "      <th></th>\n",
       "      <th>Sentences</th>\n",
       "      <th>label</th>\n",
       "    </tr>\n",
       "  </thead>\n",
       "  <tbody>\n",
       "    <tr>\n",
       "      <th>0</th>\n",
       "      <td>$5 million of the milestones are tied to Natera's support activities and the balance of the mile...</td>\n",
       "      <td>1</td>\n",
       "    </tr>\n",
       "    <tr>\n",
       "      <th>1</th>\n",
       "      <td>, growth is expected to remain elevated in 2018, driven by the increased pace of global trade. I...</td>\n",
       "      <td>1</td>\n",
       "    </tr>\n",
       "    <tr>\n",
       "      <th>2</th>\n",
       "      <td>, the UK and Canada. The remainder of our investments will be directed at strategic initiatives....</td>\n",
       "      <td>1</td>\n",
       "    </tr>\n",
       "    <tr>\n",
       "      <th>3</th>\n",
       "      <td>... question is for you both for   of the strategic initiative slides, you stress focus on opera...</td>\n",
       "      <td>1</td>\n",
       "    </tr>\n",
       "    <tr>\n",
       "      <th>4</th>\n",
       "      <td>\\\\\" Sustainability continues to be an increasingly important part of our success. Our sustainabi...</td>\n",
       "      <td>1</td>\n",
       "    </tr>\n",
       "  </tbody>\n",
       "</table>\n",
       "</div>"
      ],
      "text/plain": [
       "                                                                                             Sentences  \\\n",
       "0  $5 million of the milestones are tied to Natera's support activities and the balance of the mile...   \n",
       "1  , growth is expected to remain elevated in 2018, driven by the increased pace of global trade. I...   \n",
       "2  , the UK and Canada. The remainder of our investments will be directed at strategic initiatives....   \n",
       "3  ... question is for you both for   of the strategic initiative slides, you stress focus on opera...   \n",
       "4  \\\\\" Sustainability continues to be an increasingly important part of our success. Our sustainabi...   \n",
       "\n",
       "   label  \n",
       "0      1  \n",
       "1      1  \n",
       "2      1  \n",
       "3      1  \n",
       "4      1  "
      ]
     },
     "execution_count": 83,
     "metadata": {},
     "output_type": "execute_result"
    }
   ],
   "source": [
    "#set col width to 100\n",
    "pd.set_option('display.max_colwidth', 100)\n",
    "\n",
    "#stop word removal\n",
    "stopwords = nltk.corpus.stopwords.words('english')\n",
    "ps = nltk.PorterStemmer()\n",
    "from nltk.tokenize import word_tokenize\n",
    "\n",
    "#Importing the excel file\n",
    "excel_file= 'Management Strategy-Data relevant.xlsx'\n",
    "strategy_rel = pd.read_excel(excel_file)\n",
    "strategy_rel = strategy_rel[['Sentences']]\n",
    "strategy_rel['label'] = 1\n",
    "\n",
    "excel_file1= 'Management Strategy-Data Not relevant.xlsx'\n",
    "strategy_notrel = pd.read_excel(excel_file1)\n",
    "strategy_notrel = strategy_notrel[['Sentences']]\n",
    "strategy_notrel['label'] = 0\n",
    "\n",
    "strategy_final = pd.concat([strategy_rel,strategy_notrel])\n",
    "\n",
    "#get the size of dataset\n",
    "print(strategy_final.shape)\n",
    "strategy_final.head()"
   ]
  },
  {
   "cell_type": "code",
   "execution_count": 84,
   "metadata": {},
   "outputs": [],
   "source": [
    "#remove numeric values from dataset\n",
    "strategy_final['Sentences'] = strategy_final['Sentences'].str.replace('\\d+', '')"
   ]
  },
  {
   "cell_type": "code",
   "execution_count": 85,
   "metadata": {},
   "outputs": [],
   "source": [
    "#add words that aren't in the NLTK stopwords list\n",
    "new_stopwords = ['included','including','includes','one','two','three','general','generally','way','better','need','really','believe','provide','say','saying','says','include','said','also','would','could','end','recent','recently','us','like','make','may','look','still','come','see','across','even','much','get','allow','allows','allowed','allowing','well','go','gone','going','that','thats','take','thing','come','move','give','help','put','dont','people','got','kind','know','day','think','continue','look','year','years','new','use','there','want','wanted','please']\n",
    "new_stopwords_list = stopwords.extend(new_stopwords)"
   ]
  },
  {
   "cell_type": "code",
   "execution_count": 86,
   "metadata": {},
   "outputs": [],
   "source": [
    "#data cleaning- removing punctuations, tokenize, stop words\n",
    "def clean_text(text):\n",
    "    text = \"\".join([word.lower() for word in text if word not in string.punctuation])\n",
    "    tokens = word_tokenize(text)\n",
    "    text = set([ps.stem(word) for word in tokens if word not in stopwords])\n",
    "    return text"
   ]
  },
  {
   "cell_type": "code",
   "execution_count": 87,
   "metadata": {},
   "outputs": [],
   "source": [
    "#Split into train/test set\n",
    "from sklearn.model_selection import train_test_split\n",
    "\n",
    "X_train, X_test, y_train, y_test = train_test_split(strategy_final[['Sentences']], strategy_final['label'], test_size=0.25)"
   ]
  },
  {
   "cell_type": "code",
   "execution_count": 88,
   "metadata": {},
   "outputs": [
    {
     "data": {
      "text/html": [
       "<div>\n",
       "<style scoped>\n",
       "    .dataframe tbody tr th:only-of-type {\n",
       "        vertical-align: middle;\n",
       "    }\n",
       "\n",
       "    .dataframe tbody tr th {\n",
       "        vertical-align: top;\n",
       "    }\n",
       "\n",
       "    .dataframe thead th {\n",
       "        text-align: right;\n",
       "    }\n",
       "</style>\n",
       "<table border=\"1\" class=\"dataframe\">\n",
       "  <thead>\n",
       "    <tr style=\"text-align: right;\">\n",
       "      <th></th>\n",
       "      <th>0</th>\n",
       "      <th>1</th>\n",
       "      <th>2</th>\n",
       "      <th>3</th>\n",
       "      <th>4</th>\n",
       "      <th>5</th>\n",
       "      <th>6</th>\n",
       "      <th>7</th>\n",
       "      <th>8</th>\n",
       "      <th>9</th>\n",
       "      <th>...</th>\n",
       "      <th>490</th>\n",
       "      <th>491</th>\n",
       "      <th>492</th>\n",
       "      <th>493</th>\n",
       "      <th>494</th>\n",
       "      <th>495</th>\n",
       "      <th>496</th>\n",
       "      <th>497</th>\n",
       "      <th>498</th>\n",
       "      <th>499</th>\n",
       "    </tr>\n",
       "  </thead>\n",
       "  <tbody>\n",
       "    <tr>\n",
       "      <th>0</th>\n",
       "      <td>0.0</td>\n",
       "      <td>0.0</td>\n",
       "      <td>0.0</td>\n",
       "      <td>0.0</td>\n",
       "      <td>0.0</td>\n",
       "      <td>0.0</td>\n",
       "      <td>0.0</td>\n",
       "      <td>0.0</td>\n",
       "      <td>0.0</td>\n",
       "      <td>0.0</td>\n",
       "      <td>...</td>\n",
       "      <td>0.0</td>\n",
       "      <td>0.242672</td>\n",
       "      <td>0.0</td>\n",
       "      <td>0.0</td>\n",
       "      <td>0.0</td>\n",
       "      <td>0.0</td>\n",
       "      <td>0.0</td>\n",
       "      <td>0.0</td>\n",
       "      <td>0.0</td>\n",
       "      <td>0.0</td>\n",
       "    </tr>\n",
       "    <tr>\n",
       "      <th>1</th>\n",
       "      <td>0.0</td>\n",
       "      <td>0.0</td>\n",
       "      <td>0.0</td>\n",
       "      <td>0.0</td>\n",
       "      <td>0.0</td>\n",
       "      <td>0.0</td>\n",
       "      <td>0.0</td>\n",
       "      <td>0.0</td>\n",
       "      <td>0.0</td>\n",
       "      <td>0.0</td>\n",
       "      <td>...</td>\n",
       "      <td>0.0</td>\n",
       "      <td>0.000000</td>\n",
       "      <td>0.0</td>\n",
       "      <td>0.0</td>\n",
       "      <td>0.0</td>\n",
       "      <td>0.0</td>\n",
       "      <td>0.0</td>\n",
       "      <td>0.0</td>\n",
       "      <td>0.0</td>\n",
       "      <td>0.0</td>\n",
       "    </tr>\n",
       "    <tr>\n",
       "      <th>2</th>\n",
       "      <td>0.0</td>\n",
       "      <td>0.0</td>\n",
       "      <td>0.0</td>\n",
       "      <td>0.0</td>\n",
       "      <td>0.0</td>\n",
       "      <td>0.0</td>\n",
       "      <td>0.0</td>\n",
       "      <td>0.0</td>\n",
       "      <td>0.0</td>\n",
       "      <td>0.0</td>\n",
       "      <td>...</td>\n",
       "      <td>0.0</td>\n",
       "      <td>0.000000</td>\n",
       "      <td>0.0</td>\n",
       "      <td>0.0</td>\n",
       "      <td>0.0</td>\n",
       "      <td>0.0</td>\n",
       "      <td>0.0</td>\n",
       "      <td>0.0</td>\n",
       "      <td>0.0</td>\n",
       "      <td>0.0</td>\n",
       "    </tr>\n",
       "    <tr>\n",
       "      <th>3</th>\n",
       "      <td>0.0</td>\n",
       "      <td>0.0</td>\n",
       "      <td>0.0</td>\n",
       "      <td>0.0</td>\n",
       "      <td>0.0</td>\n",
       "      <td>0.0</td>\n",
       "      <td>0.0</td>\n",
       "      <td>0.0</td>\n",
       "      <td>0.0</td>\n",
       "      <td>0.0</td>\n",
       "      <td>...</td>\n",
       "      <td>0.0</td>\n",
       "      <td>0.000000</td>\n",
       "      <td>0.0</td>\n",
       "      <td>0.0</td>\n",
       "      <td>0.0</td>\n",
       "      <td>0.0</td>\n",
       "      <td>0.0</td>\n",
       "      <td>0.0</td>\n",
       "      <td>0.0</td>\n",
       "      <td>0.0</td>\n",
       "    </tr>\n",
       "    <tr>\n",
       "      <th>4</th>\n",
       "      <td>0.0</td>\n",
       "      <td>0.0</td>\n",
       "      <td>0.0</td>\n",
       "      <td>0.0</td>\n",
       "      <td>0.0</td>\n",
       "      <td>0.0</td>\n",
       "      <td>0.0</td>\n",
       "      <td>0.0</td>\n",
       "      <td>0.0</td>\n",
       "      <td>0.0</td>\n",
       "      <td>...</td>\n",
       "      <td>0.0</td>\n",
       "      <td>0.000000</td>\n",
       "      <td>0.0</td>\n",
       "      <td>0.0</td>\n",
       "      <td>0.0</td>\n",
       "      <td>0.0</td>\n",
       "      <td>0.0</td>\n",
       "      <td>0.0</td>\n",
       "      <td>0.0</td>\n",
       "      <td>0.0</td>\n",
       "    </tr>\n",
       "  </tbody>\n",
       "</table>\n",
       "<p>5 rows × 500 columns</p>\n",
       "</div>"
      ],
      "text/plain": [
       "   0    1    2    3    4    5    6    7    8    9   ...   490       491  492  \\\n",
       "0  0.0  0.0  0.0  0.0  0.0  0.0  0.0  0.0  0.0  0.0 ...   0.0  0.242672  0.0   \n",
       "1  0.0  0.0  0.0  0.0  0.0  0.0  0.0  0.0  0.0  0.0 ...   0.0  0.000000  0.0   \n",
       "2  0.0  0.0  0.0  0.0  0.0  0.0  0.0  0.0  0.0  0.0 ...   0.0  0.000000  0.0   \n",
       "3  0.0  0.0  0.0  0.0  0.0  0.0  0.0  0.0  0.0  0.0 ...   0.0  0.000000  0.0   \n",
       "4  0.0  0.0  0.0  0.0  0.0  0.0  0.0  0.0  0.0  0.0 ...   0.0  0.000000  0.0   \n",
       "\n",
       "   493  494  495  496  497  498  499  \n",
       "0  0.0  0.0  0.0  0.0  0.0  0.0  0.0  \n",
       "1  0.0  0.0  0.0  0.0  0.0  0.0  0.0  \n",
       "2  0.0  0.0  0.0  0.0  0.0  0.0  0.0  \n",
       "3  0.0  0.0  0.0  0.0  0.0  0.0  0.0  \n",
       "4  0.0  0.0  0.0  0.0  0.0  0.0  0.0  \n",
       "\n",
       "[5 rows x 500 columns]"
      ]
     },
     "execution_count": 88,
     "metadata": {},
     "output_type": "execute_result"
    }
   ],
   "source": [
    "#Normalization technique using TF-IDF\n",
    "from sklearn.feature_extraction.text import TfidfVectorizer\n",
    "\n",
    "tfidf_vect = TfidfVectorizer(analyzer=clean_text, max_features=500, min_df = 3, max_df = 0.7)\n",
    "tfidf_vect_fit = tfidf_vect.fit(X_train['Sentences'])\n",
    "\n",
    "tfidf_train = tfidf_vect_fit.transform(X_train['Sentences'])\n",
    "tfidf_test = tfidf_vect_fit.transform(X_test['Sentences'])\n",
    "\n",
    "X_train_vect = pd.DataFrame(tfidf_train.toarray())\n",
    "X_test_vect = pd.DataFrame(tfidf_test.toarray())\n",
    "\n",
    "X_train_vect.head()"
   ]
  },
  {
   "cell_type": "code",
   "execution_count": 32,
   "metadata": {},
   "outputs": [
    {
     "name": "stdout",
     "output_type": "stream",
     "text": [
      "['abil', 'abl', 'acceler', 'access', 'account', 'achiev', 'acquir', 'acquisit', 'action', 'activ', 'actual', 'ad', 'add', 'addit', 'address', 'adjust', 'advanc', 'advantag', 'aggress', 'ago', 'ahead', 'align', 'alloc', 'along', 'alreadi', 'alway', 'amount', 'analyst', 'announc', 'annual', 'anoth', 'anticip', 'applic', 'approach', 'approxim', 'area', 'around', 'asset', 'associ', 'attract', 'avail', 'averag', 'back', 'balanc', 'bank', 'base', 'basi', 'becom', 'begin', 'benefit', 'best', 'beyond', 'big', 'billion', 'bit', 'board', 'brand', 'bring', 'build', 'busi', 'buy', 'call', 'capabl', 'capac', 'capit', 'care', 'case', 'cash', 'categori', 'center', 'ceo', 'certain', 'certainli', 'challeng', 'chang', 'channel', 'chief', 'clear', 'clearli', 'client', 'clinic', 'close', 'combin', 'come', 'comment', 'commerci', 'commit', 'commun', 'compani', 'compar', 'competit', 'complet', 'compon', 'conclud', 'confid', 'connect', 'consid', 'consist', 'consolid', 'consum', 'continu', 'contract', 'contribut', 'control', 'core', 'corpor', 'cost', 'countri', 'coupl', 'cours', 'creat', 'credit', 'current', 'custom', 'cycl', 'data', 'deal', 'debt', 'decis', 'deliv', 'demand', 'demonstr', 'deploy', 'design', 'despit', 'detail', 'develop', 'differ', 'differenti', 'digit', 'direct', 'disciplin', 'discuss', 'distribut', 'dividend', 'done', 'drive', 'driven', 'due', 'earli', 'earlier', 'earn', 'ebitda', 'econom', 'effect', 'effici', 'effort', 'element', 'employe', 'enabl', 'enhanc', 'ensur', 'environ', 'especi', 'estat', 'estim', 'everi', 'everyon', 'exampl', 'exceed', 'excel', 'excit', 'execut', 'exist', 'expand', 'expans', 'expect', 'expens', 'experi', 'expertis', 'fact', 'far', 'faster', 'feel', 'final', 'financ', 'financi', 'first', 'fiscal', 'fit', 'five', 'flexibl', 'flow', 'focu', 'focus', 'follow', 'footprint', 'forward', 'foundat', 'four', 'fourth', 'free', 'full', 'fulli', 'fund', 'futur', 'ga', 'gain', 'gener', 'get', 'give', 'given', 'global', 'goal', 'good', 'govern', 'great', 'greater', 'gross', 'group', 'grow', 'growth', 'guidanc', 'half', 'hand', 'happen', 'help', 'high', 'higher', 'highli', 'highlight', 'hope', 'id', 'identifi', 'ill', 'im', 'impact', 'implement', 'import', 'importantli', 'improv', 'incom', 'increas', 'increment', 'industri', 'inform', 'infrastructur', 'initi', 'innov', 'integr', 'interest', 'intern', 'introduc', 'invest', 'investor', 'issu', 'join', 'keep', 'key', 'laid', 'larg', 'last', 'later', 'launch', 'lead', 'leader', 'leadership', 'least', 'less', 'let', 'level', 'leverag', 'line', 'littl', 'loan', 'locat', 'long', 'longer', 'longterm', 'look', 'lot', 'lower', 'made', 'maintain', 'major', 'make', 'manag', 'mani', 'manufactur', 'margin', 'market', 'marketplac', 'materi', 'mayb', 'mean', 'meaning', 'measur', 'medic', 'meet', 'mention', 'might', 'million', 'mix', 'model', 'momentum', 'month', 'morn', 'move', 'natur', 'need', 'net', 'network', 'next', 'note', 'number', 'object', 'obvious', 'offer', 'offic', 'ongo', 'open', 'oper', 'opportun', 'optim', 'order', 'organ', 'outlin', 'outlook', 'overal', 'part', 'particularli', 'partner', 'past', 'patient', 'pay', 'per', 'perform', 'period', 'perspect', 'pipelin', 'place', 'plan', 'platform', 'play', 'pleas', 'point', 'polici', 'portfolio', 'posit', 'possibl', 'potenti', 'power', 'prepar', 'present', 'presid', 'pretti', 'price', 'prior', 'prioriti', 'probabl', 'process', 'produc', 'product', 'profil', 'profit', 'program', 'progress', 'project', 'provid', 'pursu', 'q', 'qualiti', 'quarter', 'question', 'quit', 'rang', 'rate', 'ratio', 'reach', 'real', 'reason', 'record', 'reduc', 'reduct', 'reflect', 'reform', 'regard', 'rel', 'relat', 'relationship', 'releas', 'remain', 'remark', 'remind', 'report', 'repres', 'requir', 'resourc', 'respons', 'restructur', 'result', 'retail', 'return', 'revenu', 'review', 'right', 'risk', 'run', 'sale', 'save', 'saw', 'scale', 'second', 'secur', 'see', 'seen', 'segment', 'sell', 'serv', 'servic', 'set', 'sever', 'share', 'sharehold', 'sheet', 'show', 'side', 'signific', 'significantli', 'similar', 'sinc', 'size', 'slide', 'small', 'solid', 'solut', 'someth', 'sort', 'space', 'specif', 'spend', 'start', 'state', 'statement', 'step', 'stock', 'store', 'strateg', 'strategi', 'strength', 'strengthen', 'strong', 'structur', 'substanti', 'success', 'summari', 'suppli', 'support', 'sure', 'sustain', 'synergi', 'system', 'take', 'talk', 'target', 'tax', 'team', 'technolog', 'term', 'thank', 'there', 'theyr', 'thing', 'third', 'thought', 'throughout', 'time', 'today', 'togeth', 'top', 'total', 'toward', 'track', 'transact', 'transform', 'transit', 'trend', 'tri', 'turn', 'u', 'understand', 'uniqu', 'unit', 'updat', 'use', 'util', 'valu', 'view', 'vision', 'volum', 'weve', 'whether', 'win', 'within', 'without', 'work', 'world', 'yeah', 'your', 'youv']\n"
     ]
    }
   ],
   "source": [
    "print(tfidf_vect.get_feature_names())"
   ]
  },
  {
   "cell_type": "code",
   "execution_count": 33,
   "metadata": {},
   "outputs": [
    {
     "data": {
      "text/plain": [
       "[('strateg', 109.20388005644465),\n",
       " ('strategi', 107.36141974689845),\n",
       " ('plan', 88.663429979174),\n",
       " ('growth', 77.5913394826502),\n",
       " ('busi', 73.99694680587224),\n",
       " ('market', 67.15293142801973),\n",
       " ('initi', 64.91630169083285),\n",
       " ('compani', 57.37961550844226),\n",
       " ('invest', 56.770416583585096),\n",
       " ('execut', 53.83909890660275),\n",
       " ('result', 51.949534866536396),\n",
       " ('custom', 51.3669753401831),\n",
       " ('product', 50.615525618739014),\n",
       " ('expect', 49.00439766187053),\n",
       " ('weve', 48.937593431421476),\n",
       " ('prioriti', 48.53405350657819),\n",
       " ('quarter', 47.973984386054205),\n",
       " ('oper', 47.20150767351723),\n",
       " ('opportun', 46.48310941302629),\n",
       " ('capit', 46.37297721248512),\n",
       " ('time', 46.1262294828011),\n",
       " ('financi', 46.047693630176894),\n",
       " ('longterm', 45.25970181215713),\n",
       " ('continu', 43.558528252802525),\n",
       " ('work', 42.87631514120934),\n",
       " ('first', 42.56790212673395),\n",
       " ('grow', 41.54154064356838),\n",
       " ('increas', 41.13736451760439),\n",
       " ('deliv', 40.44107496027466),\n",
       " ('million', 40.33142011658033),\n",
       " ('improv', 40.22613284353279),\n",
       " ('strong', 40.119852931162015),\n",
       " ('call', 40.07803448315119),\n",
       " ('posit', 39.93758655603959),\n",
       " ('remain', 38.76621262823781),\n",
       " ('forward', 38.596738552204634),\n",
       " ('perform', 38.4656636732103),\n",
       " ('last', 38.33113157905262),\n",
       " ('share', 38.27366857893841),\n",
       " ('drive', 37.81853158379898),\n",
       " ('valu', 37.770069763358755),\n",
       " ('focu', 36.89816022433702),\n",
       " ('sale', 35.80852599305765),\n",
       " ('progress', 35.6492099084431),\n",
       " ('part', 35.40991318150882),\n",
       " ('good', 34.893191053579386),\n",
       " ('servic', 34.87786559587989),\n",
       " ('revenu', 34.79438043297132),\n",
       " ('today', 34.749602515608125),\n",
       " ('develop', 34.66607086545275),\n",
       " ('chang', 34.50540843113449),\n",
       " ('confid', 34.478767531421035),\n",
       " ('term', 34.43074411814292),\n",
       " ('cost', 33.66116873003842),\n",
       " ('number', 33.41600211458351),\n",
       " ('key', 33.214316238013716),\n",
       " ('acquisit', 32.998442631233644),\n",
       " ('cash', 32.83228744717611),\n",
       " ('thank', 32.67413094641721),\n",
       " ('manag', 32.53662102885778),\n",
       " ('focus', 32.39541560789162),\n",
       " ('futur', 31.59655576468958),\n",
       " ('build', 31.094349366393),\n",
       " ('next', 30.650774670711986),\n",
       " ('question', 30.620354201615303),\n",
       " ('team', 30.567763460723153),\n",
       " ('success', 30.414260146190955),\n",
       " ('import', 30.403656234122472),\n",
       " ('target', 30.234744371195145),\n",
       " ('right', 29.902166535544627),\n",
       " ('support', 29.880199278665508),\n",
       " ('start', 29.80970094246406),\n",
       " ('look', 29.70886680934787),\n",
       " ('profit', 29.35635099685845),\n",
       " ('turn', 29.180087521972464),\n",
       " ('addit', 28.364068756689036),\n",
       " ('achiev', 28.31397798465387),\n",
       " ('sharehold', 28.20125450852153),\n",
       " ('return', 28.06351739571996),\n",
       " ('gener', 28.00182203171253),\n",
       " ('margin', 27.86768035003104),\n",
       " ('made', 27.837817233391288),\n",
       " ('signific', 27.833579663383343),\n",
       " ('object', 27.81308598211357),\n",
       " ('second', 27.751140772890384),\n",
       " ('technolog', 27.38932456589502),\n",
       " ('base', 27.05875507326996),\n",
       " ('expand', 26.98378057924067),\n",
       " ('back', 26.966717288362002),\n",
       " ('price', 26.744647864209682),\n",
       " ('around', 26.644700889227437),\n",
       " ('benefit', 26.299599639892495),\n",
       " ('provid', 26.053602187948023),\n",
       " ('feel', 25.86933845996316),\n",
       " ('organ', 25.83686467016451),\n",
       " ('rate', 25.636926227842686),\n",
       " ('investor', 25.596143966387594),\n",
       " ('line', 25.516558811553857),\n",
       " ('industri', 25.332370397336085),\n",
       " ('platform', 25.219369006339623),\n",
       " ('talk', 25.195524964199066),\n",
       " ('point', 25.100422936136766),\n",
       " ('overal', 24.7125501350386),\n",
       " ('area', 24.620332745664903),\n",
       " ('discuss', 24.57792198595873),\n",
       " ('updat', 24.575286529233193),\n",
       " ('level', 24.377485058531335),\n",
       " ('detail', 24.116520106081555),\n",
       " ('portfolio', 24.115199263012432),\n",
       " ('fourth', 24.098509020587418),\n",
       " ('asset', 23.921744258235442),\n",
       " ('balanc', 23.680160214206918),\n",
       " ('process', 23.587394919102096),\n",
       " ('lot', 23.477691321975122),\n",
       " ('commit', 23.4520402855152),\n",
       " ('earn', 23.26119605734474),\n",
       " ('flow', 23.039428933378357),\n",
       " ('potenti', 22.981065406465024),\n",
       " ('global', 22.83424994641763),\n",
       " ('program', 22.81571822944923),\n",
       " ('activ', 22.79952752162557),\n",
       " ('impact', 22.72355058466207),\n",
       " ('make', 22.309675625461175),\n",
       " ('ill', 22.20197084048987),\n",
       " ('differ', 22.142729583873837),\n",
       " ('im', 22.069459250127636),\n",
       " ('core', 21.547884531422934),\n",
       " ('tax', 21.514583204879607),\n",
       " ('slide', 21.432380202838438),\n",
       " ('let', 21.412755638010417),\n",
       " ('model', 21.373671863948115),\n",
       " ('mean', 21.11566871132359),\n",
       " ('billion', 21.04761312667538),\n",
       " ('acceler', 20.99499264808019),\n",
       " ('month', 20.914507505325673),\n",
       " ('mention', 20.82473941910256),\n",
       " ('abl', 20.531009404362074),\n",
       " ('leverag', 20.50502117715583),\n",
       " ('solut', 20.318586550463387),\n",
       " ('announc', 20.314087419455337),\n",
       " ('creat', 20.133210057135887),\n",
       " ('close', 20.052037459890414),\n",
       " ('thing', 20.043808571162632),\n",
       " ('brand', 20.027220100035),\n",
       " ('littl', 20.023676679269162),\n",
       " ('past', 19.98088549687851),\n",
       " ('effici', 19.94713001903597),\n",
       " ('offer', 19.514748797552087),\n",
       " ('report', 19.487172842148563),\n",
       " ('digit', 19.41017420428198),\n",
       " ('higher', 19.390444666717126),\n",
       " ('segment', 19.358264438514855),\n",
       " ('review', 19.33121177730082),\n",
       " ('id', 19.303246004624857),\n",
       " ('high', 19.297378569096924),\n",
       " ('relat', 19.264398694499356),\n",
       " ('present', 19.11449643498598),\n",
       " ('goal', 19.07605084993658),\n",
       " ('current', 19.049132530720517),\n",
       " ('come', 19.0273477640158),\n",
       " ('maintain', 18.970556723638026),\n",
       " ('take', 18.88906440229864),\n",
       " ('integr', 18.860410549955045),\n",
       " ('great', 18.85472003858748),\n",
       " ('within', 18.80716359366334),\n",
       " ('guidanc', 18.708413104596325),\n",
       " ('bit', 18.69470482963569),\n",
       " ('enhanc', 18.674178770985367),\n",
       " ('consum', 18.62170872435951),\n",
       " ('full', 18.584607833100705),\n",
       " ('sustain', 18.529440539961705),\n",
       " ('data', 18.48597943172511),\n",
       " ('effect', 18.459601597263603),\n",
       " ('capabl', 18.45133072091828),\n",
       " ('group', 18.207909267445928),\n",
       " ('clear', 18.18433352635687),\n",
       " ('sever', 18.17424822332248),\n",
       " ('net', 18.113423287805837),\n",
       " ('project', 18.105251007694253),\n",
       " ('intern', 18.054985346177638),\n",
       " ('spend', 17.988671784117983),\n",
       " ('alreadi', 17.929078635586983),\n",
       " ('pleas', 17.818661713935867),\n",
       " ('debt', 17.591627867135596),\n",
       " ('transform', 17.53274993528101),\n",
       " ('combin', 17.525226842136192),\n",
       " ('experi', 17.521451011251877),\n",
       " ('per', 17.4296873484084),\n",
       " ('implement', 17.34727358431746),\n",
       " ('anoth', 17.32924850873392),\n",
       " ('fund', 17.319985334102828),\n",
       " ('total', 17.26401575979749),\n",
       " ('complet', 17.228459114905977),\n",
       " ('actual', 17.219773682846856),\n",
       " ('final', 17.198235698658227),\n",
       " ('sheet', 17.11815418157379),\n",
       " ('abil', 17.074002422165037),\n",
       " ('cours', 17.07238123821299),\n",
       " ('outlook', 17.011939377939733),\n",
       " ('mani', 16.991391894639083),\n",
       " ('bank', 16.990126295428897),\n",
       " ('solid', 16.965979518402314),\n",
       " ('there', 16.942299051754357),\n",
       " ('consist', 16.876246269779713),\n",
       " ('regard', 16.84890116756455),\n",
       " ('lead', 16.71621730855241),\n",
       " ('bring', 16.69539962511113),\n",
       " ('comment', 16.63594845347),\n",
       " ('competit', 16.60262168689996),\n",
       " ('excit', 16.540521395976697),\n",
       " ('four', 16.437302093698587),\n",
       " ('adjust', 16.316332515366444),\n",
       " ('period', 16.20079313305394),\n",
       " ('u', 16.151145151788224),\n",
       " ('structur', 16.116303819736306),\n",
       " ('five', 16.056858087740068),\n",
       " ('third', 16.056380080938265),\n",
       " ('coupl', 16.01942114625339),\n",
       " ('alloc', 15.997992492149574),\n",
       " ('set', 15.951237055524395),\n",
       " ('toward', 15.91489188076244),\n",
       " ('chief', 15.856830235017165),\n",
       " ('obvious', 15.823007708246264),\n",
       " ('interest', 15.822750018662262),\n",
       " ('lower', 15.794207646948356),\n",
       " ('use', 15.706179621439658),\n",
       " ('order', 15.686476826992354),\n",
       " ('secur', 15.671761245032217),\n",
       " ('meet', 15.580505763782995),\n",
       " ('given', 15.567287944036101),\n",
       " ('move', 15.546449367062015),\n",
       " ('keep', 15.495130781616973),\n",
       " ('reduc', 15.494656957097575),\n",
       " ('approxim', 15.475614694552217),\n",
       " ('offic', 15.470421378210862),\n",
       " ('top', 15.45505514225361),\n",
       " ('begin', 15.405521126953909),\n",
       " ('sure', 15.326571551803431),\n",
       " ('enabl', 15.255755109022546),\n",
       " ('deploy', 15.156051607827411),\n",
       " ('open', 15.08160419191431),\n",
       " ('innov', 15.051720770716091),\n",
       " ('record', 15.03906442306438),\n",
       " ('your', 15.029635217611766),\n",
       " ('scale', 14.951692970848722),\n",
       " ('strengthen', 14.81658110308097),\n",
       " ('issu', 14.758451028138639),\n",
       " ('ahead', 14.725843631545265),\n",
       " ('larg', 14.717186524660894),\n",
       " ('fiscal', 14.688318370415644),\n",
       " ('exist', 14.63674646749491),\n",
       " ('half', 14.631516082651709),\n",
       " ('presid', 14.61923189881602),\n",
       " ('disciplin', 14.617886888284142),\n",
       " ('place', 14.521471826389961),\n",
       " ('best', 14.52115902961044),\n",
       " ('show', 14.498798920593837),\n",
       " ('mayb', 14.435508159445478),\n",
       " ('launch', 14.371027252818545),\n",
       " ('reflect', 14.349610787670738),\n",
       " ('board', 14.325285856505712),\n",
       " ('demand', 14.265116532544846),\n",
       " ('understand', 14.172625106456964),\n",
       " ('basi', 14.135483709966568),\n",
       " ('ago', 14.104517724167362),\n",
       " ('decis', 14.088491525245301),\n",
       " ('dividend', 14.04589227238235),\n",
       " ('sinc', 14.011543333235231),\n",
       " ('system', 13.991178354544443),\n",
       " ('everi', 13.981839415583316),\n",
       " ('give', 13.953328556388671),\n",
       " ('partner', 13.95185577602496),\n",
       " ('serv', 13.93711741014317),\n",
       " ('becom', 13.936627445982975),\n",
       " ('follow', 13.934203686580748),\n",
       " ('highlight', 13.920759290486512),\n",
       " ('expens', 13.884831182035805),\n",
       " ('side', 13.883579041767932),\n",
       " ('ebitda', 13.868952222717953),\n",
       " ('inform', 13.763676553838456),\n",
       " ('less', 13.713637203641072),\n",
       " ('corpor', 13.704826404329973),\n",
       " ('specif', 13.679173272662238),\n",
       " ('pipelin', 13.670074616750545),\n",
       " ('deal', 13.597557342779396),\n",
       " ('client', 13.557570547840987),\n",
       " ('approach', 13.557554628105326),\n",
       " ('center', 13.542406974018547),\n",
       " ('attract', 13.527599524793564),\n",
       " ('environ', 13.517287883022675),\n",
       " ('effort', 13.425035808972064),\n",
       " ('alway', 13.375326923299848),\n",
       " ('commerci', 13.360686096889296),\n",
       " ('gain', 13.313729704448265),\n",
       " ('momentum', 13.194715444137943),\n",
       " ('expans', 13.105220700656297),\n",
       " ('account', 13.041960642226709),\n",
       " ('seen', 13.035546638968764),\n",
       " ('commun', 12.96851306387919),\n",
       " ('world', 12.86195936955926),\n",
       " ('throughout', 12.85940460893557),\n",
       " ('avail', 12.855903900984636),\n",
       " ('retail', 12.85061202672091),\n",
       " ('store', 12.818557792244107),\n",
       " ('beyond', 12.807027807704452),\n",
       " ('risk', 12.789166029390307),\n",
       " ('see', 12.756015395267418),\n",
       " ('flexibl', 12.701174000756893),\n",
       " ('stock', 12.69286207916858),\n",
       " ('leadership', 12.692706905604192),\n",
       " ('significantli', 12.673099083761599),\n",
       " ('volum', 12.664123438522807),\n",
       " ('due', 12.651388266933356),\n",
       " ('employe', 12.645924300832768),\n",
       " ('join', 12.63433994548435),\n",
       " ('morn', 12.596968848897028),\n",
       " ('repres', 12.585690614652997),\n",
       " ('rang', 12.57249077956447),\n",
       " ('add', 12.558633259055181),\n",
       " ('materi', 12.541363488582347),\n",
       " ('far', 12.5408187454013),\n",
       " ('advantag', 12.488609742647004),\n",
       " ('distribut', 12.346672416000903),\n",
       " ('q', 12.336498046110787),\n",
       " ('requir', 12.2967771112863),\n",
       " ('qualiti', 12.286393156539058),\n",
       " ('real', 12.260624330037082),\n",
       " ('someth', 12.227532628261043),\n",
       " ('acquir', 12.214681211294083),\n",
       " ('ad', 12.148380099028563),\n",
       " ('align', 12.131437735494497),\n",
       " ('advanc', 12.121387850396577),\n",
       " ('infrastructur', 12.10898080531065),\n",
       " ('run', 12.058023672476585),\n",
       " ('demonstr', 12.03009270374148),\n",
       " ('view', 12.0170084589864),\n",
       " ('direct', 12.002008688575204),\n",
       " ('happen', 11.993943845356354),\n",
       " ('tri', 11.969090914759493),\n",
       " ('theyr', 11.936032835120342),\n",
       " ('network', 11.919501743499962),\n",
       " ('capac', 11.919414185327419),\n",
       " ('done', 11.839140506433917),\n",
       " ('compar', 11.779232989074092),\n",
       " ('quit', 11.750640723966477),\n",
       " ('sort', 11.746532945145717),\n",
       " ('trend', 11.718154888528508),\n",
       " ('save', 11.68525246823327),\n",
       " ('note', 11.635543702556586),\n",
       " ('sell', 11.607111636304982),\n",
       " ('major', 11.598483423943513),\n",
       " ('reach', 11.565590624073115),\n",
       " ('design', 11.560313416877184),\n",
       " ('exampl', 11.523071342484805),\n",
       " ('reform', 11.521434923091155),\n",
       " ('polici', 11.51829922041371),\n",
       " ('state', 11.479781544596303),\n",
       " ('resourc', 11.4718332370901),\n",
       " ('big', 11.449437027297707),\n",
       " ('reason', 11.431950227873418),\n",
       " ('pay', 11.425823540733967),\n",
       " ('pursu', 11.418110023916524),\n",
       " ('clearli', 11.407266852349299),\n",
       " ('incom', 11.40620529887392),\n",
       " ('driven', 11.386217198853176),\n",
       " ('earli', 11.286314692339612),\n",
       " ('step', 11.256059319545821),\n",
       " ('care', 11.228595913582025),\n",
       " ('action', 11.203675177221179),\n",
       " ('along', 11.198438550954489),\n",
       " ('long', 11.189801039683175),\n",
       " ('transact', 11.189706753627023),\n",
       " ('ensur', 11.168653862149158),\n",
       " ('contribut', 11.164739631299536),\n",
       " ('thought', 11.136426611840943),\n",
       " ('annual', 11.132228250726591),\n",
       " ('help', 11.126993318707386),\n",
       " ('size', 11.096471637241411),\n",
       " ('optim', 11.08477352199283),\n",
       " ('transit', 11.04171357939733),\n",
       " ('pretti', 11.033426679242499),\n",
       " ('buy', 11.031012245765533),\n",
       " ('fit', 11.030914745655263),\n",
       " ('fulli', 11.008917915591553),\n",
       " ('analyst', 11.005045443346209),\n",
       " ('statement', 10.998771778558755),\n",
       " ('amount', 10.970038716421021),\n",
       " ('control', 10.969668272394888),\n",
       " ('remark', 10.940268124428563),\n",
       " ('marketplac', 10.933833458758258),\n",
       " ('hand', 10.905804518622471),\n",
       " ('case', 10.884137563388983),\n",
       " ('anticip', 10.883713083236271),\n",
       " ('win', 10.87229027939728),\n",
       " ('track', 10.83502722557003),\n",
       " ('patient', 10.834902412687534),\n",
       " ('ceo', 10.79633548634347),\n",
       " ('youv', 10.76503548056145),\n",
       " ('free', 10.753332889586652),\n",
       " ('govern', 10.749683243296637),\n",
       " ('relationship', 10.735900700161569),\n",
       " ('respons', 10.721296326787048),\n",
       " ('mix', 10.720287419900806),\n",
       " ('countri', 10.71978732485345),\n",
       " ('leader', 10.713489935504542),\n",
       " ('togeth', 10.70645584796119),\n",
       " ('reduct', 10.699590282864213),\n",
       " ('get', 10.683329830843658),\n",
       " ('power', 10.623782786354809),\n",
       " ('strength', 10.614925368623837),\n",
       " ('need', 10.481848497089276),\n",
       " ('probabl', 10.481608825977355),\n",
       " ('small', 10.352630118773511),\n",
       " ('earlier', 10.303120087759865),\n",
       " ('manufactur', 10.302453233764846),\n",
       " ('challeng', 10.295952234064613),\n",
       " ('rel', 10.252568110093616),\n",
       " ('financ', 10.151836655751552),\n",
       " ('vision', 10.113457632830665),\n",
       " ('yeah', 10.113425711091717),\n",
       " ('particularli', 10.09815752512359),\n",
       " ('channel', 10.082585077997082),\n",
       " ('uniqu', 10.077540728441075),\n",
       " ('credit', 10.043907183501844),\n",
       " ('suppli', 9.96015510857537),\n",
       " ('faster', 9.948460101354874),\n",
       " ('cycl', 9.938556453977991),\n",
       " ('laid', 9.875065813151169),\n",
       " ('fact', 9.871381934469785),\n",
       " ('applic', 9.862005468244622),\n",
       " ('perspect', 9.85579183398724),\n",
       " ('play', 9.747413740782617),\n",
       " ('excel', 9.74475518396103),\n",
       " ('foundat', 9.739654579972873),\n",
       " ('clinic', 9.723339714002476),\n",
       " ('conclud', 9.705287583699597),\n",
       " ('whether', 9.670919220209148),\n",
       " ('might', 9.651197669731385),\n",
       " ('without', 9.606706931590136),\n",
       " ('differenti', 9.606310862982872),\n",
       " ('prepar', 9.598335075965826),\n",
       " ('categori', 9.577053543383368),\n",
       " ('econom', 9.569329937485806),\n",
       " ('summari', 9.566445351614922),\n",
       " ('consid', 9.543029072954129),\n",
       " ('medic', 9.510905438127978),\n",
       " ('contract', 9.466061572438553),\n",
       " ('least', 9.45603427934946),\n",
       " ('address', 9.439972915495787),\n",
       " ('measur', 9.426553754144447),\n",
       " ('locat', 9.414238696160655),\n",
       " ('estim', 9.294342090843056),\n",
       " ('certainli', 9.287597243477878),\n",
       " ('natur', 9.28178407994102),\n",
       " ('produc', 9.27909510881812),\n",
       " ('releas', 9.213965947469086),\n",
       " ('remind', 9.207159602848177),\n",
       " ('hope', 9.18685951324754),\n",
       " ('util', 9.147099185484436),\n",
       " ('synergi', 9.135942822253655),\n",
       " ('gross', 9.08198100446121),\n",
       " ('profil', 9.046502429367353),\n",
       " ('compon', 9.032293578989368),\n",
       " ('footprint', 8.986284000804535),\n",
       " ('access', 8.985819365472905),\n",
       " ('similar', 8.977646801465358),\n",
       " ('possibl', 8.977448971965082),\n",
       " ('ongo', 8.940924037485921),\n",
       " ('unit', 8.937541921273834),\n",
       " ('longer', 8.903138202670883),\n",
       " ('ga', 8.891094455193404),\n",
       " ('element', 8.884124184331196),\n",
       " ('loan', 8.86817892567313),\n",
       " ('space', 8.81481843568954),\n",
       " ('meaning', 8.765945647284795),\n",
       " ('identifi', 8.757160923610611),\n",
       " ('connect', 8.74350620491047),\n",
       " ('saw', 8.72030920965984),\n",
       " ('importantli', 8.711559733124856),\n",
       " ('greater', 8.705607407897528),\n",
       " ('associ', 8.651366033599869),\n",
       " ('certain', 8.618847902096805),\n",
       " ('later', 8.60072972841641),\n",
       " ('restructur', 8.552018181331336),\n",
       " ('averag', 8.529577812919111),\n",
       " ('expertis', 8.506461505795414),\n",
       " ('especi', 8.459475692883679),\n",
       " ('exceed', 8.383986451184038),\n",
       " ('everyon', 8.37098928808845),\n",
       " ('consolid', 8.370289078677144),\n",
       " ('highli', 8.360947759066145),\n",
       " ('ratio', 8.324548825125312),\n",
       " ('prior', 8.283931682749794),\n",
       " ('introduc', 8.256571525926258),\n",
       " ('outlin', 8.115256709169868),\n",
       " ('despit', 8.103871832706046),\n",
       " ('estat', 8.057294555348381),\n",
       " ('aggress', 8.048636249953754),\n",
       " ('increment', 7.909545194667452),\n",
       " ('substanti', 7.897771290817461)]"
      ]
     },
     "execution_count": 33,
     "metadata": {},
     "output_type": "execute_result"
    }
   ],
   "source": [
    "sum_words = tfidf_train.sum(axis=0) \n",
    "words_freq = [(word, sum_words[0, idx]) for word, idx in tfidf_vect.vocabulary_.items()]\n",
    "words_freq =sorted(words_freq, key = lambda x: x[1], reverse=True)\n",
    "words_freq"
   ]
  },
  {
   "cell_type": "code",
   "execution_count": 76,
   "metadata": {},
   "outputs": [],
   "source": [
    "from sklearn.ensemble import RandomForestClassifier, GradientBoostingClassifier\n",
    "from sklearn.metrics import precision_recall_fscore_support as score\n",
    "import time\n",
    "from sklearn.metrics import accuracy_score, precision_score, recall_score, f1_score, confusion_matrix\n"
   ]
  },
  {
   "cell_type": "code",
   "execution_count": 77,
   "metadata": {},
   "outputs": [],
   "source": [
    "#Function to plot intuitive confusion matrix\n",
    "import itertools\n",
    "def plot_confusion_matrix(cm, classes,\n",
    "                          normalize=False,\n",
    "                          title='Confusion matrix',\n",
    "                          cmap=plt.cm.Blues):\n",
    "    \"\"\"\n",
    "    This function prints and plots the confusion matrix.\n",
    "    Normalization can be applied by setting `normalize=True`.\n",
    "    \"\"\"\n",
    "    if normalize:\n",
    "        cm = cm.astype('float') / cm.sum(axis=1)[:, np.newaxis]\n",
    "        print(\"Normalized confusion matrix\")\n",
    "    else:\n",
    "        print('Confusion matrix, without normalization')\n",
    "\n",
    "    print(cm)\n",
    "\n",
    "    plt.imshow(cm, interpolation='nearest', cmap=cmap)\n",
    "    plt.title(title)\n",
    "    plt.colorbar()\n",
    "    tick_marks = np.arange(len(classes))\n",
    "    plt.xticks(tick_marks, classes, rotation=45)\n",
    "    plt.yticks(tick_marks, classes)\n",
    "\n",
    "    fmt = '.2f' if normalize else 'd'\n",
    "    thresh = cm.max() / 2.\n",
    "    for i, j in itertools.product(range(cm.shape[0]), range(cm.shape[1])):\n",
    "        plt.text(j, i, format(cm[i, j], fmt),\n",
    "                 horizontalalignment=\"center\",\n",
    "                 color=\"white\" if cm[i, j] > thresh else \"black\")\n",
    "\n",
    "    plt.ylabel('True label')\n",
    "    plt.xlabel('Predicted label')\n",
    "    plt.tight_layout()"
   ]
  },
  {
   "cell_type": "code",
   "execution_count": 36,
   "metadata": {},
   "outputs": [
    {
     "name": "stderr",
     "output_type": "stream",
     "text": [
      "/anaconda3/lib/python3.7/site-packages/sklearn/model_selection/_split.py:2053: FutureWarning: You should specify a value for 'cv' instead of relying on the default value. The default value will change from 3 to 5 in version 0.22.\n",
      "  warnings.warn(CV_WARNING, FutureWarning)\n"
     ]
    },
    {
     "data": {
      "text/plain": [
       "GridSearchCV(cv='warn', error_score='raise-deprecating',\n",
       "       estimator=RandomForestClassifier(bootstrap=True, class_weight=None, criterion='gini',\n",
       "            max_depth=None, max_features='auto', max_leaf_nodes=None,\n",
       "            min_impurity_decrease=0.0, min_impurity_split=None,\n",
       "            min_samples_leaf=1, min_samples_split=2,\n",
       "            min_weight_fraction_leaf=0.0, n_estimators='warn', n_jobs=None,\n",
       "            oob_score=False, random_state=None, verbose=0,\n",
       "            warm_start=False),\n",
       "       fit_params=None, iid='warn', n_jobs=None,\n",
       "       param_grid={'n_estimators': [200, 500, 700, 1000], 'max_depth': [10, 20, 30, None], 'n_jobs': [-1]},\n",
       "       pre_dispatch='2*n_jobs', refit=True, return_train_score='warn',\n",
       "       scoring=None, verbose=0)"
      ]
     },
     "execution_count": 36,
     "metadata": {},
     "output_type": "execute_result"
    }
   ],
   "source": [
    "#randfom forest using grid search\n",
    "from sklearn.model_selection import GridSearchCV\n",
    "rfc = RandomForestClassifier()\n",
    "grid_values = {'n_estimators' : [200, 500, 700, 1000], 'max_depth' : [10, 20, 30, None], 'n_jobs' : [-1]}\n",
    "grid_rfc_acc = GridSearchCV(rfc, param_grid = grid_values)\n",
    "grid_rfc_acc.fit(X_train_vect, y_train)\n"
   ]
  },
  {
   "cell_type": "code",
   "execution_count": 37,
   "metadata": {},
   "outputs": [
    {
     "data": {
      "text/plain": [
       "{'max_depth': None, 'n_estimators': 200, 'n_jobs': -1}"
      ]
     },
     "execution_count": 37,
     "metadata": {},
     "output_type": "execute_result"
    }
   ],
   "source": [
    "#Obtain best parameters\n",
    "grid_rfc_acc.best_params_"
   ]
  },
  {
   "cell_type": "code",
   "execution_count": 38,
   "metadata": {},
   "outputs": [
    {
     "name": "stdout",
     "output_type": "stream",
     "text": [
      "Accuracy : 0.9183168316831684\n",
      "Precision : 0.9056910569105691\n",
      "Recall : 0.9858407079646018\n",
      "F1 Score : 0.9440677966101695\n",
      "Fit time : 0.9242479801177979\n",
      "Predict time : 0.11569595336914062\n",
      "Confusion Matrix : \n",
      "[[185  58]\n",
      " [  8 557]]\n"
     ]
    }
   ],
   "source": [
    "rf = RandomForestClassifier(n_estimators=200, max_depth=None, n_jobs=-1)\n",
    "\n",
    "start = time.time()\n",
    "rf.fit(X_train_vect, y_train)\n",
    "end = time.time()\n",
    "fit_time = (end - start)\n",
    "\n",
    "start = time.time()\n",
    "y_pred = rf.predict(X_test_vect)\n",
    "end = time.time()\n",
    "pred_time = (end - start)\n",
    "\n",
    "print('Accuracy : ' + str(accuracy_score(y_test,y_pred)))\n",
    "print('Precision : ' + str(precision_score(y_test,y_pred)))\n",
    "print('Recall : ' + str(recall_score(y_test,y_pred)))\n",
    "print('F1 Score : ' + str(f1_score(y_test,y_pred)))\n",
    "print('Fit time : ' + str(fit_time))\n",
    "print('Predict time : ' + str(pred_time))\n",
    "\n",
    "print('Confusion Matrix : \\n' + str(confusion_matrix(y_test,y_pred)))"
   ]
  },
  {
   "cell_type": "code",
   "execution_count": 39,
   "metadata": {},
   "outputs": [
    {
     "data": {
      "image/png": "[encoded data removed]",
      "text/plain": [
       "<Figure size 432x288 with 1 Axes>"
      ]
     },
     "metadata": {
      "needs_background": "light"
     },
     "output_type": "display_data"
    }
   ],
   "source": [
    "#Top 20 features\n",
    "feat_importances = pd.Series(rf.feature_importances_, index=X_train_vect.columns.tolist())\n",
    "feat_importances.nlargest(20).plot(kind='barh')\n",
    "plt.show()"
   ]
  },
  {
   "cell_type": "code",
   "execution_count": 40,
   "metadata": {},
   "outputs": [
    {
     "name": "stdout",
     "output_type": "stream",
     "text": [
      "Confusion matrix, without normalization\n",
      "[[185  58]\n",
      " [  8 557]]\n"
     ]
    },
    {
     "data": {
      "image/png": "[encoded data removed]",
      "text/plain": [
       "<Figure size 576x288 with 2 Axes>"
      ]
     },
     "metadata": {
      "needs_background": "light"
     },
     "output_type": "display_data"
    }
   ],
   "source": [
    "#confusion matrix plot\n",
    "cnf_matrix = confusion_matrix(y_test, y_pred)\n",
    "np.set_printoptions(precision=2)\n",
    "\n",
    "# Plot non-normalized confusion matrix\n",
    "plt.figure()\n",
    "class_names = [0,1]\n",
    "plot_confusion_matrix(cnf_matrix, classes=class_names,\n",
    "                      title='Confusion matrix - Random Forest')\n",
    "a = plt.gcf()\n",
    "a.set_size_inches(8,4)\n",
    "plt.show()"
   ]
  },
  {
   "cell_type": "code",
   "execution_count": 41,
   "metadata": {},
   "outputs": [
    {
     "name": "stderr",
     "output_type": "stream",
     "text": [
      "/anaconda3/lib/python3.7/site-packages/sklearn/model_selection/_split.py:2053: FutureWarning: You should specify a value for 'cv' instead of relying on the default value. The default value will change from 3 to 5 in version 0.22.\n",
      "  warnings.warn(CV_WARNING, FutureWarning)\n"
     ]
    },
    {
     "data": {
      "image/png": "[encoded data removed]",
      "text/plain": [
       "<Figure size 432x288 with 1 Axes>"
      ]
     },
     "metadata": {
      "needs_background": "light"
     },
     "output_type": "display_data"
    }
   ],
   "source": [
    "#Plotting ROC curve\n",
    "from sklearn import metrics\n",
    "probs = grid_rfc_acc.fit(X_train_vect, y_train).predict_proba(X_test_vect)\n",
    "preds = probs[:,1]\n",
    "fpr, tpr, threshold = metrics.roc_curve(y_test, preds)\n",
    "roc_auc = metrics.auc(fpr, tpr)\n",
    "\n",
    "plt.figure()\n",
    "plt.plot(fpr, tpr, label='GridSearchCV (area = %0.2f)' % roc_auc)\n",
    "plt.plot([0, 1], [0, 1],'r--')\n",
    "plt.xlim([0.0, 1.0])\n",
    "plt.ylim([0.0, 1.05])\n",
    "plt.xlabel('False Positive Rate')\n",
    "plt.ylabel('True Positive Rate')\n",
    "plt.title('Receiver operating characteristic')\n",
    "plt.legend(loc=\"lower right\")\n",
    "plt.savefig('Log_ROC')\n",
    "plt.show()"
   ]
  },
  {
   "cell_type": "code",
   "execution_count": 42,
   "metadata": {},
   "outputs": [
    {
     "name": "stderr",
     "output_type": "stream",
     "text": [
      "/anaconda3/lib/python3.7/site-packages/sklearn/model_selection/_split.py:2053: FutureWarning: You should specify a value for 'cv' instead of relying on the default value. The default value will change from 3 to 5 in version 0.22.\n",
      "  warnings.warn(CV_WARNING, FutureWarning)\n"
     ]
    },
    {
     "data": {
      "text/plain": [
       "GridSearchCV(cv='warn', error_score='raise-deprecating',\n",
       "       estimator=GradientBoostingClassifier(criterion='friedman_mse', init=None,\n",
       "              learning_rate=0.1, loss='deviance', max_depth=3,\n",
       "              max_features=None, max_leaf_nodes=None,\n",
       "              min_impurity_decrease=0.0, min_impurity_split=None,\n",
       "              min_samples_leaf=1, min_sampl...      subsample=1.0, tol=0.0001, validation_fraction=0.1,\n",
       "              verbose=0, warm_start=False),\n",
       "       fit_params=None, iid='warn', n_jobs=None,\n",
       "       param_grid={'n_estimators': [150, 200, 500], 'max_depth': [7, 11, 15]},\n",
       "       pre_dispatch='2*n_jobs', refit=True, return_train_score='warn',\n",
       "       scoring=None, verbose=0)"
      ]
     },
     "execution_count": 42,
     "metadata": {},
     "output_type": "execute_result"
    }
   ],
   "source": [
    "#gbm using grid search\n",
    "from sklearn.model_selection import GridSearchCV\n",
    "gbm = GradientBoostingClassifier()\n",
    "grid_values = {'n_estimators' : [150, 200, 500], 'max_depth' : [7, 11, 15]}\n",
    "grid_gbm_acc = GridSearchCV(gbm, param_grid = grid_values)\n",
    "grid_gbm_acc.fit(X_train_vect, y_train)\n"
   ]
  },
  {
   "cell_type": "code",
   "execution_count": 43,
   "metadata": {},
   "outputs": [
    {
     "data": {
      "text/plain": [
       "{'max_depth': 11, 'n_estimators': 500}"
      ]
     },
     "execution_count": 43,
     "metadata": {},
     "output_type": "execute_result"
    }
   ],
   "source": [
    "grid_gbm_acc.best_params_"
   ]
  },
  {
   "cell_type": "code",
   "execution_count": 44,
   "metadata": {},
   "outputs": [
    {
     "name": "stdout",
     "output_type": "stream",
     "text": [
      "Accuracy : 0.9158415841584159\n",
      "Precision : 0.9219015280135824\n",
      "Recall : 0.9610619469026549\n",
      "F1 Score : 0.9410745233968805\n",
      "Fit time : 0.014458894729614258\n",
      "Predict time : 0.11569595336914062\n",
      "Confusion Matrix : \n",
      "[[197  46]\n",
      " [ 22 543]]\n"
     ]
    }
   ],
   "source": [
    "gb = GradientBoostingClassifier(n_estimators=500, max_depth=11)\n",
    "start = time.time()\n",
    "gb.fit(X_train_vect, y_train)\n",
    "end = time.time()\n",
    "fit_time = (end - start)\n",
    "\n",
    "start = time.time()\n",
    "y_pred = gb.predict(X_test_vect)\n",
    "end = time.time()\n",
    "fit_time = (end - start)\n",
    "\n",
    "print('Accuracy : ' + str(accuracy_score(y_test,y_pred)))\n",
    "print('Precision : ' + str(precision_score(y_test,y_pred)))\n",
    "print('Recall : ' + str(recall_score(y_test,y_pred)))\n",
    "print('F1 Score : ' + str(f1_score(y_test,y_pred)))\n",
    "print('Fit time : ' + str(fit_time))\n",
    "print('Predict time : ' + str(pred_time))\n",
    "\n",
    "print('Confusion Matrix : \\n' + str(confusion_matrix(y_test,y_pred)))"
   ]
  },
  {
   "cell_type": "code",
   "execution_count": 45,
   "metadata": {},
   "outputs": [
    {
     "data": {
      "image/png": "[encoded data removed]",
      "text/plain": [
       "<Figure size 432x288 with 1 Axes>"
      ]
     },
     "metadata": {
      "needs_background": "light"
     },
     "output_type": "display_data"
    }
   ],
   "source": [
    "feat_importances = pd.Series(gb.feature_importances_, index=X_train_vect.columns.tolist())\n",
    "feat_importances.nlargest(20).plot(kind='barh')\n",
    "plt.show()"
   ]
  },
  {
   "cell_type": "code",
   "execution_count": 46,
   "metadata": {},
   "outputs": [
    {
     "name": "stdout",
     "output_type": "stream",
     "text": [
      "Confusion matrix, without normalization\n",
      "[[197  46]\n",
      " [ 22 543]]\n"
     ]
    },
    {
     "data": {
      "image/png": "[encoded data removed]",
      "text/plain": [
       "<Figure size 576x288 with 2 Axes>"
      ]
     },
     "metadata": {
      "needs_background": "light"
     },
     "output_type": "display_data"
    }
   ],
   "source": [
    "#confusion matrix plot\n",
    "cnf_matrix = confusion_matrix(y_test, y_pred)\n",
    "np.set_printoptions(precision=2)\n",
    "\n",
    "# Plot non-normalized confusion matrix\n",
    "plt.figure()\n",
    "class_names = [0,1]\n",
    "plot_confusion_matrix(cnf_matrix, classes=class_names,\n",
    "                      title='Confusion matrix - Gradient Boosting')\n",
    "a = plt.gcf()\n",
    "a.set_size_inches(8,4)\n",
    "plt.show()"
   ]
  },
  {
   "cell_type": "code",
   "execution_count": 47,
   "metadata": {},
   "outputs": [
    {
     "name": "stderr",
     "output_type": "stream",
     "text": [
      "/anaconda3/lib/python3.7/site-packages/sklearn/model_selection/_split.py:2053: FutureWarning: You should specify a value for 'cv' instead of relying on the default value. The default value will change from 3 to 5 in version 0.22.\n",
      "  warnings.warn(CV_WARNING, FutureWarning)\n"
     ]
    },
    {
     "data": {
      "image/png": "[encoded data removed]",
      "text/plain": [
       "<Figure size 432x288 with 1 Axes>"
      ]
     },
     "metadata": {
      "needs_background": "light"
     },
     "output_type": "display_data"
    }
   ],
   "source": [
    "#Plotting ROC curve\n",
    "from sklearn import metrics\n",
    "probs = grid_gbm_acc.fit(X_train_vect, y_train).predict_proba(X_test_vect)\n",
    "preds = probs[:,1]\n",
    "fpr, tpr, threshold = metrics.roc_curve(y_test, preds)\n",
    "roc_auc = metrics.auc(fpr, tpr)\n",
    "\n",
    "plt.figure()\n",
    "plt.plot(fpr, tpr, label='GridSearchCV (area = %0.2f)' % roc_auc)\n",
    "plt.plot([0, 1], [0, 1],'r--')\n",
    "plt.xlim([0.0, 1.0])\n",
    "plt.ylim([0.0, 1.05])\n",
    "plt.xlabel('False Positive Rate')\n",
    "plt.ylabel('True Positive Rate')\n",
    "plt.title('Receiver operating characteristic')\n",
    "plt.legend(loc=\"lower right\")\n",
    "plt.savefig('Log_ROC')\n",
    "plt.show()"
   ]
  },
  {
   "cell_type": "code",
   "execution_count": 48,
   "metadata": {},
   "outputs": [
    {
     "name": "stderr",
     "output_type": "stream",
     "text": [
      "/anaconda3/lib/python3.7/site-packages/sklearn/model_selection/_split.py:2053: FutureWarning: You should specify a value for 'cv' instead of relying on the default value. The default value will change from 3 to 5 in version 0.22.\n",
      "  warnings.warn(CV_WARNING, FutureWarning)\n"
     ]
    },
    {
     "data": {
      "text/plain": [
       "GridSearchCV(cv='warn', error_score='raise-deprecating',\n",
       "       estimator=XGBClassifier(base_score=0.5, booster='gbtree', colsample_bylevel=1,\n",
       "       colsample_bytree=1, gamma=0, learning_rate=0.1, max_delta_step=0,\n",
       "       max_depth=3, min_child_weight=1, missing=None, n_estimators=100,\n",
       "       n_jobs=1, nthread=None, objective='binary:logistic', random_state=0,\n",
       "       reg_alpha=0, reg_lambda=1, scale_pos_weight=1, seed=None,\n",
       "       silent=True, subsample=1),\n",
       "       fit_params=None, iid='warn', n_jobs=None,\n",
       "       param_grid={'n_estimators': [150, 200, 500], 'max_depth': [5, 7, 10]},\n",
       "       pre_dispatch='2*n_jobs', refit=True, return_train_score='warn',\n",
       "       scoring=None, verbose=0)"
      ]
     },
     "execution_count": 48,
     "metadata": {},
     "output_type": "execute_result"
    }
   ],
   "source": [
    "#xgbm using grid search\n",
    "from xgboost import XGBClassifier\n",
    "from sklearn.model_selection import GridSearchCV\n",
    "xgbm = XGBClassifier()\n",
    "grid_values = {'n_estimators' : [150, 200, 500], 'max_depth' : [5, 7, 10]}\n",
    "grid_xgbm_acc = GridSearchCV(xgbm, param_grid = grid_values)\n",
    "grid_xgbm_acc.fit(X_train_vect, y_train)\n"
   ]
  },
  {
   "cell_type": "code",
   "execution_count": 49,
   "metadata": {},
   "outputs": [
    {
     "data": {
      "text/plain": [
       "{'max_depth': 10, 'n_estimators': 150}"
      ]
     },
     "execution_count": 49,
     "metadata": {},
     "output_type": "execute_result"
    }
   ],
   "source": [
    "grid_xgbm_acc.best_params_"
   ]
  },
  {
   "cell_type": "code",
   "execution_count": 50,
   "metadata": {},
   "outputs": [
    {
     "name": "stdout",
     "output_type": "stream",
     "text": [
      "Accuracy : 0.931930693069307\n",
      "Precision : 0.925\n",
      "Recall : 0.9823008849557522\n",
      "F1 Score : 0.9527896995708154\n",
      "Fit time : 0.023539304733276367\n",
      "Predict time : 0.11569595336914062\n",
      "Confusion Matrix : \n",
      "[[198  45]\n",
      " [ 10 555]]\n"
     ]
    }
   ],
   "source": [
    "from xgboost import XGBClassifier\n",
    "xgb = XGBClassifier(n_estimators=150, max_depth=10)\n",
    "start = time.time()\n",
    "xgb.fit(X_train_vect, y_train)\n",
    "end = time.time()\n",
    "fit_time = (end - start)\n",
    "\n",
    "start = time.time()\n",
    "y_pred = xgb.predict(X_test_vect)\n",
    "end = time.time()\n",
    "fit_time = (end - start)\n",
    "\n",
    "print('Accuracy : ' + str(accuracy_score(y_test,y_pred)))\n",
    "print('Precision : ' + str(precision_score(y_test,y_pred)))\n",
    "print('Recall : ' + str(recall_score(y_test,y_pred)))\n",
    "print('F1 Score : ' + str(f1_score(y_test,y_pred)))\n",
    "print('Fit time : ' + str(fit_time))\n",
    "print('Predict time : ' + str(pred_time))\n",
    "\n",
    "print('Confusion Matrix : \\n' + str(confusion_matrix(y_test,y_pred)))"
   ]
  },
  {
   "cell_type": "code",
   "execution_count": 51,
   "metadata": {},
   "outputs": [
    {
     "data": {
      "image/png": "[encoded data removed]",
      "text/plain": [
       "<Figure size 432x288 with 1 Axes>"
      ]
     },
     "metadata": {
      "needs_background": "light"
     },
     "output_type": "display_data"
    }
   ],
   "source": [
    "feat_importances = pd.Series(xgb.feature_importances_, index=X_train_vect.columns.tolist())\n",
    "feat_importances.nlargest(20).plot(kind='barh')\n",
    "plt.show()"
   ]
  },
  {
   "cell_type": "code",
   "execution_count": 52,
   "metadata": {},
   "outputs": [
    {
     "name": "stdout",
     "output_type": "stream",
     "text": [
      "Confusion matrix, without normalization\n",
      "[[198  45]\n",
      " [ 10 555]]\n"
     ]
    },
    {
     "data": {
      "image/png": "[encoded data removed]",
      "text/plain": [
       "<Figure size 576x288 with 2 Axes>"
      ]
     },
     "metadata": {
      "needs_background": "light"
     },
     "output_type": "display_data"
    }
   ],
   "source": [
    "#confusion matrix plot\n",
    "cnf_matrix = confusion_matrix(y_test, y_pred)\n",
    "np.set_printoptions(precision=2)\n",
    "\n",
    "# Plot non-normalized confusion matrix\n",
    "plt.figure()\n",
    "class_names = [0,1]\n",
    "plot_confusion_matrix(cnf_matrix, classes=class_names,\n",
    "                      title='Confusion matrix - Extreme Gradient Boosting')\n",
    "a = plt.gcf()\n",
    "a.set_size_inches(8,4)\n",
    "plt.show()"
   ]
  },
  {
   "cell_type": "code",
   "execution_count": 53,
   "metadata": {},
   "outputs": [
    {
     "name": "stderr",
     "output_type": "stream",
     "text": [
      "/anaconda3/lib/python3.7/site-packages/sklearn/model_selection/_split.py:2053: FutureWarning: You should specify a value for 'cv' instead of relying on the default value. The default value will change from 3 to 5 in version 0.22.\n",
      "  warnings.warn(CV_WARNING, FutureWarning)\n"
     ]
    },
    {
     "data": {
      "image/png": "[encoded data removed]",
      "text/plain": [
       "<Figure size 432x288 with 1 Axes>"
      ]
     },
     "metadata": {
      "needs_background": "light"
     },
     "output_type": "display_data"
    }
   ],
   "source": [
    "#Plotting ROC curve\n",
    "from sklearn import metrics\n",
    "probs = grid_xgbm_acc.fit(X_train_vect, y_train).predict_proba(X_test_vect)\n",
    "preds = probs[:,1]\n",
    "fpr, tpr, threshold = metrics.roc_curve(y_test, preds)\n",
    "roc_auc = metrics.auc(fpr, tpr)\n",
    "\n",
    "plt.figure()\n",
    "plt.plot(fpr, tpr, label='GridSearchCV (area = %0.2f)' % roc_auc)\n",
    "plt.plot([0, 1], [0, 1],'r--')\n",
    "plt.xlim([0.0, 1.0])\n",
    "plt.ylim([0.0, 1.05])\n",
    "plt.xlabel('False Positive Rate')\n",
    "plt.ylabel('True Positive Rate')\n",
    "plt.title('Receiver operating characteristic')\n",
    "plt.legend(loc=\"lower right\")\n",
    "plt.savefig('Log_ROC')\n",
    "plt.show()"
   ]
  },
  {
   "cell_type": "code",
   "execution_count": 78,
   "metadata": {},
   "outputs": [
    {
     "name": "stderr",
     "output_type": "stream",
     "text": [
      "/anaconda3/lib/python3.7/site-packages/sklearn/model_selection/_split.py:2053: FutureWarning: You should specify a value for 'cv' instead of relying on the default value. The default value will change from 3 to 5 in version 0.22.\n",
      "  warnings.warn(CV_WARNING, FutureWarning)\n",
      "/anaconda3/lib/python3.7/site-packages/sklearn/linear_model/logistic.py:433: FutureWarning: Default solver will be changed to 'lbfgs' in 0.22. Specify a solver to silence this warning.\n",
      "  FutureWarning)\n",
      "/anaconda3/lib/python3.7/site-packages/sklearn/linear_model/logistic.py:433: FutureWarning: Default solver will be changed to 'lbfgs' in 0.22. Specify a solver to silence this warning.\n",
      "  FutureWarning)\n",
      "/anaconda3/lib/python3.7/site-packages/sklearn/linear_model/logistic.py:433: FutureWarning: Default solver will be changed to 'lbfgs' in 0.22. Specify a solver to silence this warning.\n",
      "  FutureWarning)\n",
      "/anaconda3/lib/python3.7/site-packages/sklearn/linear_model/logistic.py:433: FutureWarning: Default solver will be changed to 'lbfgs' in 0.22. Specify a solver to silence this warning.\n",
      "  FutureWarning)\n",
      "/anaconda3/lib/python3.7/site-packages/sklearn/linear_model/logistic.py:433: FutureWarning: Default solver will be changed to 'lbfgs' in 0.22. Specify a solver to silence this warning.\n",
      "  FutureWarning)\n",
      "/anaconda3/lib/python3.7/site-packages/sklearn/linear_model/logistic.py:433: FutureWarning: Default solver will be changed to 'lbfgs' in 0.22. Specify a solver to silence this warning.\n",
      "  FutureWarning)\n",
      "/anaconda3/lib/python3.7/site-packages/sklearn/linear_model/logistic.py:433: FutureWarning: Default solver will be changed to 'lbfgs' in 0.22. Specify a solver to silence this warning.\n",
      "  FutureWarning)\n",
      "/anaconda3/lib/python3.7/site-packages/sklearn/linear_model/logistic.py:433: FutureWarning: Default solver will be changed to 'lbfgs' in 0.22. Specify a solver to silence this warning.\n",
      "  FutureWarning)\n",
      "/anaconda3/lib/python3.7/site-packages/sklearn/linear_model/logistic.py:433: FutureWarning: Default solver will be changed to 'lbfgs' in 0.22. Specify a solver to silence this warning.\n",
      "  FutureWarning)\n",
      "/anaconda3/lib/python3.7/site-packages/sklearn/linear_model/logistic.py:433: FutureWarning: Default solver will be changed to 'lbfgs' in 0.22. Specify a solver to silence this warning.\n",
      "  FutureWarning)\n",
      "/anaconda3/lib/python3.7/site-packages/sklearn/linear_model/logistic.py:433: FutureWarning: Default solver will be changed to 'lbfgs' in 0.22. Specify a solver to silence this warning.\n",
      "  FutureWarning)\n",
      "/anaconda3/lib/python3.7/site-packages/sklearn/linear_model/logistic.py:433: FutureWarning: Default solver will be changed to 'lbfgs' in 0.22. Specify a solver to silence this warning.\n",
      "  FutureWarning)\n",
      "/anaconda3/lib/python3.7/site-packages/sklearn/linear_model/logistic.py:433: FutureWarning: Default solver will be changed to 'lbfgs' in 0.22. Specify a solver to silence this warning.\n",
      "  FutureWarning)\n",
      "/anaconda3/lib/python3.7/site-packages/sklearn/linear_model/logistic.py:433: FutureWarning: Default solver will be changed to 'lbfgs' in 0.22. Specify a solver to silence this warning.\n",
      "  FutureWarning)\n",
      "/anaconda3/lib/python3.7/site-packages/sklearn/linear_model/logistic.py:433: FutureWarning: Default solver will be changed to 'lbfgs' in 0.22. Specify a solver to silence this warning.\n",
      "  FutureWarning)\n",
      "/anaconda3/lib/python3.7/site-packages/sklearn/linear_model/logistic.py:433: FutureWarning: Default solver will be changed to 'lbfgs' in 0.22. Specify a solver to silence this warning.\n",
      "  FutureWarning)\n",
      "/anaconda3/lib/python3.7/site-packages/sklearn/linear_model/logistic.py:433: FutureWarning: Default solver will be changed to 'lbfgs' in 0.22. Specify a solver to silence this warning.\n",
      "  FutureWarning)\n",
      "/anaconda3/lib/python3.7/site-packages/sklearn/linear_model/logistic.py:433: FutureWarning: Default solver will be changed to 'lbfgs' in 0.22. Specify a solver to silence this warning.\n",
      "  FutureWarning)\n",
      "/anaconda3/lib/python3.7/site-packages/sklearn/linear_model/logistic.py:433: FutureWarning: Default solver will be changed to 'lbfgs' in 0.22. Specify a solver to silence this warning.\n",
      "  FutureWarning)\n",
      "/anaconda3/lib/python3.7/site-packages/sklearn/linear_model/logistic.py:433: FutureWarning: Default solver will be changed to 'lbfgs' in 0.22. Specify a solver to silence this warning.\n",
      "  FutureWarning)\n",
      "/anaconda3/lib/python3.7/site-packages/sklearn/linear_model/logistic.py:433: FutureWarning: Default solver will be changed to 'lbfgs' in 0.22. Specify a solver to silence this warning.\n",
      "  FutureWarning)\n",
      "/anaconda3/lib/python3.7/site-packages/sklearn/linear_model/logistic.py:433: FutureWarning: Default solver will be changed to 'lbfgs' in 0.22. Specify a solver to silence this warning.\n",
      "  FutureWarning)\n",
      "/anaconda3/lib/python3.7/site-packages/sklearn/linear_model/logistic.py:433: FutureWarning: Default solver will be changed to 'lbfgs' in 0.22. Specify a solver to silence this warning.\n",
      "  FutureWarning)\n",
      "/anaconda3/lib/python3.7/site-packages/sklearn/linear_model/logistic.py:433: FutureWarning: Default solver will be changed to 'lbfgs' in 0.22. Specify a solver to silence this warning.\n",
      "  FutureWarning)\n",
      "/anaconda3/lib/python3.7/site-packages/sklearn/linear_model/logistic.py:433: FutureWarning: Default solver will be changed to 'lbfgs' in 0.22. Specify a solver to silence this warning.\n",
      "  FutureWarning)\n",
      "/anaconda3/lib/python3.7/site-packages/sklearn/linear_model/logistic.py:433: FutureWarning: Default solver will be changed to 'lbfgs' in 0.22. Specify a solver to silence this warning.\n",
      "  FutureWarning)\n",
      "/anaconda3/lib/python3.7/site-packages/sklearn/linear_model/logistic.py:433: FutureWarning: Default solver will be changed to 'lbfgs' in 0.22. Specify a solver to silence this warning.\n",
      "  FutureWarning)\n",
      "/anaconda3/lib/python3.7/site-packages/sklearn/linear_model/logistic.py:433: FutureWarning: Default solver will be changed to 'lbfgs' in 0.22. Specify a solver to silence this warning.\n",
      "  FutureWarning)\n",
      "/anaconda3/lib/python3.7/site-packages/sklearn/linear_model/logistic.py:433: FutureWarning: Default solver will be changed to 'lbfgs' in 0.22. Specify a solver to silence this warning.\n",
      "  FutureWarning)\n",
      "/anaconda3/lib/python3.7/site-packages/sklearn/linear_model/logistic.py:433: FutureWarning: Default solver will be changed to 'lbfgs' in 0.22. Specify a solver to silence this warning.\n",
      "  FutureWarning)\n",
      "/anaconda3/lib/python3.7/site-packages/sklearn/linear_model/logistic.py:433: FutureWarning: Default solver will be changed to 'lbfgs' in 0.22. Specify a solver to silence this warning.\n",
      "  FutureWarning)\n",
      "/anaconda3/lib/python3.7/site-packages/sklearn/linear_model/logistic.py:433: FutureWarning: Default solver will be changed to 'lbfgs' in 0.22. Specify a solver to silence this warning.\n",
      "  FutureWarning)\n",
      "/anaconda3/lib/python3.7/site-packages/sklearn/linear_model/logistic.py:433: FutureWarning: Default solver will be changed to 'lbfgs' in 0.22. Specify a solver to silence this warning.\n",
      "  FutureWarning)\n",
      "/anaconda3/lib/python3.7/site-packages/sklearn/linear_model/logistic.py:433: FutureWarning: Default solver will be changed to 'lbfgs' in 0.22. Specify a solver to silence this warning.\n",
      "  FutureWarning)\n",
      "/anaconda3/lib/python3.7/site-packages/sklearn/linear_model/logistic.py:433: FutureWarning: Default solver will be changed to 'lbfgs' in 0.22. Specify a solver to silence this warning.\n",
      "  FutureWarning)\n",
      "/anaconda3/lib/python3.7/site-packages/sklearn/linear_model/logistic.py:433: FutureWarning: Default solver will be changed to 'lbfgs' in 0.22. Specify a solver to silence this warning.\n",
      "  FutureWarning)\n",
      "/anaconda3/lib/python3.7/site-packages/sklearn/linear_model/logistic.py:433: FutureWarning: Default solver will be changed to 'lbfgs' in 0.22. Specify a solver to silence this warning.\n",
      "  FutureWarning)\n",
      "/anaconda3/lib/python3.7/site-packages/sklearn/linear_model/logistic.py:433: FutureWarning: Default solver will be changed to 'lbfgs' in 0.22. Specify a solver to silence this warning.\n",
      "  FutureWarning)\n",
      "/anaconda3/lib/python3.7/site-packages/sklearn/linear_model/logistic.py:433: FutureWarning: Default solver will be changed to 'lbfgs' in 0.22. Specify a solver to silence this warning.\n",
      "  FutureWarning)\n",
      "/anaconda3/lib/python3.7/site-packages/sklearn/linear_model/logistic.py:433: FutureWarning: Default solver will be changed to 'lbfgs' in 0.22. Specify a solver to silence this warning.\n",
      "  FutureWarning)\n",
      "/anaconda3/lib/python3.7/site-packages/sklearn/linear_model/logistic.py:433: FutureWarning: Default solver will be changed to 'lbfgs' in 0.22. Specify a solver to silence this warning.\n",
      "  FutureWarning)\n",
      "/anaconda3/lib/python3.7/site-packages/sklearn/linear_model/logistic.py:433: FutureWarning: Default solver will be changed to 'lbfgs' in 0.22. Specify a solver to silence this warning.\n",
      "  FutureWarning)\n",
      "/anaconda3/lib/python3.7/site-packages/sklearn/linear_model/logistic.py:433: FutureWarning: Default solver will be changed to 'lbfgs' in 0.22. Specify a solver to silence this warning.\n",
      "  FutureWarning)\n"
     ]
    },
    {
     "name": "stderr",
     "output_type": "stream",
     "text": [
      "/anaconda3/lib/python3.7/site-packages/sklearn/linear_model/logistic.py:433: FutureWarning: Default solver will be changed to 'lbfgs' in 0.22. Specify a solver to silence this warning.\n",
      "  FutureWarning)\n",
      "/anaconda3/lib/python3.7/site-packages/sklearn/linear_model/logistic.py:433: FutureWarning: Default solver will be changed to 'lbfgs' in 0.22. Specify a solver to silence this warning.\n",
      "  FutureWarning)\n",
      "/anaconda3/lib/python3.7/site-packages/sklearn/linear_model/logistic.py:433: FutureWarning: Default solver will be changed to 'lbfgs' in 0.22. Specify a solver to silence this warning.\n",
      "  FutureWarning)\n",
      "/anaconda3/lib/python3.7/site-packages/sklearn/linear_model/logistic.py:433: FutureWarning: Default solver will be changed to 'lbfgs' in 0.22. Specify a solver to silence this warning.\n",
      "  FutureWarning)\n",
      "/anaconda3/lib/python3.7/site-packages/sklearn/linear_model/logistic.py:433: FutureWarning: Default solver will be changed to 'lbfgs' in 0.22. Specify a solver to silence this warning.\n",
      "  FutureWarning)\n",
      "/anaconda3/lib/python3.7/site-packages/sklearn/linear_model/logistic.py:433: FutureWarning: Default solver will be changed to 'lbfgs' in 0.22. Specify a solver to silence this warning.\n",
      "  FutureWarning)\n"
     ]
    },
    {
     "data": {
      "text/plain": [
       "GridSearchCV(cv='warn', error_score='raise-deprecating',\n",
       "       estimator=LogisticRegression(C=1.0, class_weight=None, dual=False, fit_intercept=True,\n",
       "          intercept_scaling=1, max_iter=100, multi_class='warn',\n",
       "          n_jobs=None, penalty='l2', random_state=None, solver='warn',\n",
       "          tol=0.0001, verbose=0, warm_start=False),\n",
       "       fit_params=None, iid='warn', n_jobs=None,\n",
       "       param_grid={'penalty': ['l1', 'l2'], 'C': [0.001, 0.009, 0.01, 0.09, 1, 5, 10, 25]},\n",
       "       pre_dispatch='2*n_jobs', refit=True, return_train_score='warn',\n",
       "       scoring=None, verbose=0)"
      ]
     },
     "execution_count": 78,
     "metadata": {},
     "output_type": "execute_result"
    }
   ],
   "source": [
    "#logistic regression grid search\n",
    "from sklearn.linear_model import LogisticRegression\n",
    "from sklearn.model_selection import GridSearchCV\n",
    "clf = LogisticRegression()\n",
    "grid_values = {'penalty': ['l1', 'l2'],'C':[0.001,.009,0.01,.09,1,5,10,25]}\n",
    "grid_clf_acc = GridSearchCV(clf, param_grid = grid_values)\n",
    "grid_clf_acc.fit(X_train_vect, y_train)\n"
   ]
  },
  {
   "cell_type": "code",
   "execution_count": 79,
   "metadata": {},
   "outputs": [
    {
     "data": {
      "text/plain": [
       "{'C': 1, 'penalty': 'l1'}"
      ]
     },
     "execution_count": 79,
     "metadata": {},
     "output_type": "execute_result"
    }
   ],
   "source": [
    "grid_clf_acc.best_params_"
   ]
  },
  {
   "cell_type": "code",
   "execution_count": 80,
   "metadata": {},
   "outputs": [
    {
     "name": "stdout",
     "output_type": "stream",
     "text": [
      "Accuracy : 0.9084158415841584\n",
      "Precision : 0.9032258064516129\n",
      "Recall : 0.9690346083788707\n",
      "F1 Score : 0.9349736379613357\n",
      "Fit time : 0.002189159393310547\n",
      "Predict time : 0.11569595336914062\n",
      "Confusion Matrix : \n",
      "[[202  57]\n",
      " [ 17 532]]\n"
     ]
    },
    {
     "name": "stderr",
     "output_type": "stream",
     "text": [
      "/anaconda3/lib/python3.7/site-packages/sklearn/linear_model/logistic.py:433: FutureWarning: Default solver will be changed to 'lbfgs' in 0.22. Specify a solver to silence this warning.\n",
      "  FutureWarning)\n"
     ]
    }
   ],
   "source": [
    "#Using Logistic Regression\n",
    "from sklearn.linear_model import LogisticRegression\n",
    "\n",
    "log = LogisticRegression(C = 1, penalty = 'l1')\n",
    "start = time.time()\n",
    "log.fit(X_train_vect, y_train)\n",
    "end = time.time()\n",
    "fit_time = (end - start)\n",
    "\n",
    "start = time.time()\n",
    "y_pred = log.predict(X_test_vect)\n",
    "end = time.time()\n",
    "fit_time = (end - start)\n",
    "\n",
    "print('Accuracy : ' + str(accuracy_score(y_test,y_pred)))\n",
    "print('Precision : ' + str(precision_score(y_test,y_pred)))\n",
    "print('Recall : ' + str(recall_score(y_test,y_pred)))\n",
    "print('F1 Score : ' + str(f1_score(y_test,y_pred)))\n",
    "print('Fit time : ' + str(fit_time))\n",
    "print('Predict time : ' + str(pred_time))\n",
    "\n",
    "print('Confusion Matrix : \\n' + str(confusion_matrix(y_test,y_pred)))"
   ]
  },
  {
   "cell_type": "code",
   "execution_count": 81,
   "metadata": {},
   "outputs": [
    {
     "name": "stderr",
     "output_type": "stream",
     "text": [
      "/anaconda3/lib/python3.7/site-packages/sklearn/linear_model/logistic.py:433: FutureWarning: Default solver will be changed to 'lbfgs' in 0.22. Specify a solver to silence this warning.\n",
      "  FutureWarning)\n"
     ]
    },
    {
     "data": {
      "text/plain": [
       "array([488, 365, 352, 249, 300, 309, 165,  13, 244, 254, 166, 237, 492,\n",
       "       104,   5, 441, 440, 382, 217, 273])"
      ]
     },
     "execution_count": 81,
     "metadata": {},
     "output_type": "execute_result"
    }
   ],
   "source": [
    "import numpy as np\n",
    "logmodel = log.fit(X_train_vect, y_train)\n",
    "coefs=logmodel.coef_[0]\n",
    "top_three = np.argpartition(coefs, -20)[-20:]\n",
    "#top_three_sorted=top_three[np.argsort(coefs[top_three])]\n",
    "top_three"
   ]
  },
  {
   "cell_type": "code",
   "execution_count": 58,
   "metadata": {},
   "outputs": [
    {
     "name": "stdout",
     "output_type": "stream",
     "text": [
      "Confusion matrix, without normalization\n",
      "[[187  56]\n",
      " [ 12 553]]\n"
     ]
    },
    {
     "data": {
      "image/png": "[encoded data removed]",
      "text/plain": [
       "<Figure size 576x288 with 2 Axes>"
      ]
     },
     "metadata": {
      "needs_background": "light"
     },
     "output_type": "display_data"
    }
   ],
   "source": [
    "#confusion matrix plot\n",
    "cnf_matrix = confusion_matrix(y_test, y_pred)\n",
    "np.set_printoptions(precision=2)\n",
    "\n",
    "# Plot non-normalized confusion matrix\n",
    "plt.figure()\n",
    "class_names = [0,1]\n",
    "plot_confusion_matrix(cnf_matrix, classes=class_names,\n",
    "                      title='Confusion matrix - Logistic Regression')\n",
    "a = plt.gcf()\n",
    "a.set_size_inches(8,4)\n",
    "plt.show()"
   ]
  },
  {
   "cell_type": "code",
   "execution_count": 59,
   "metadata": {},
   "outputs": [
    {
     "name": "stderr",
     "output_type": "stream",
     "text": [
      "/anaconda3/lib/python3.7/site-packages/sklearn/model_selection/_split.py:2053: FutureWarning: You should specify a value for 'cv' instead of relying on the default value. The default value will change from 3 to 5 in version 0.22.\n",
      "  warnings.warn(CV_WARNING, FutureWarning)\n",
      "/anaconda3/lib/python3.7/site-packages/sklearn/linear_model/logistic.py:433: FutureWarning: Default solver will be changed to 'lbfgs' in 0.22. Specify a solver to silence this warning.\n",
      "  FutureWarning)\n",
      "/anaconda3/lib/python3.7/site-packages/sklearn/linear_model/logistic.py:433: FutureWarning: Default solver will be changed to 'lbfgs' in 0.22. Specify a solver to silence this warning.\n",
      "  FutureWarning)\n",
      "/anaconda3/lib/python3.7/site-packages/sklearn/linear_model/logistic.py:433: FutureWarning: Default solver will be changed to 'lbfgs' in 0.22. Specify a solver to silence this warning.\n",
      "  FutureWarning)\n",
      "/anaconda3/lib/python3.7/site-packages/sklearn/linear_model/logistic.py:433: FutureWarning: Default solver will be changed to 'lbfgs' in 0.22. Specify a solver to silence this warning.\n",
      "  FutureWarning)\n",
      "/anaconda3/lib/python3.7/site-packages/sklearn/linear_model/logistic.py:433: FutureWarning: Default solver will be changed to 'lbfgs' in 0.22. Specify a solver to silence this warning.\n",
      "  FutureWarning)\n",
      "/anaconda3/lib/python3.7/site-packages/sklearn/linear_model/logistic.py:433: FutureWarning: Default solver will be changed to 'lbfgs' in 0.22. Specify a solver to silence this warning.\n",
      "  FutureWarning)\n",
      "/anaconda3/lib/python3.7/site-packages/sklearn/linear_model/logistic.py:433: FutureWarning: Default solver will be changed to 'lbfgs' in 0.22. Specify a solver to silence this warning.\n",
      "  FutureWarning)\n",
      "/anaconda3/lib/python3.7/site-packages/sklearn/linear_model/logistic.py:433: FutureWarning: Default solver will be changed to 'lbfgs' in 0.22. Specify a solver to silence this warning.\n",
      "  FutureWarning)\n",
      "/anaconda3/lib/python3.7/site-packages/sklearn/linear_model/logistic.py:433: FutureWarning: Default solver will be changed to 'lbfgs' in 0.22. Specify a solver to silence this warning.\n",
      "  FutureWarning)\n",
      "/anaconda3/lib/python3.7/site-packages/sklearn/linear_model/logistic.py:433: FutureWarning: Default solver will be changed to 'lbfgs' in 0.22. Specify a solver to silence this warning.\n",
      "  FutureWarning)\n",
      "/anaconda3/lib/python3.7/site-packages/sklearn/linear_model/logistic.py:433: FutureWarning: Default solver will be changed to 'lbfgs' in 0.22. Specify a solver to silence this warning.\n",
      "  FutureWarning)\n",
      "/anaconda3/lib/python3.7/site-packages/sklearn/linear_model/logistic.py:433: FutureWarning: Default solver will be changed to 'lbfgs' in 0.22. Specify a solver to silence this warning.\n",
      "  FutureWarning)\n",
      "/anaconda3/lib/python3.7/site-packages/sklearn/linear_model/logistic.py:433: FutureWarning: Default solver will be changed to 'lbfgs' in 0.22. Specify a solver to silence this warning.\n",
      "  FutureWarning)\n",
      "/anaconda3/lib/python3.7/site-packages/sklearn/linear_model/logistic.py:433: FutureWarning: Default solver will be changed to 'lbfgs' in 0.22. Specify a solver to silence this warning.\n",
      "  FutureWarning)\n",
      "/anaconda3/lib/python3.7/site-packages/sklearn/linear_model/logistic.py:433: FutureWarning: Default solver will be changed to 'lbfgs' in 0.22. Specify a solver to silence this warning.\n",
      "  FutureWarning)\n",
      "/anaconda3/lib/python3.7/site-packages/sklearn/linear_model/logistic.py:433: FutureWarning: Default solver will be changed to 'lbfgs' in 0.22. Specify a solver to silence this warning.\n",
      "  FutureWarning)\n",
      "/anaconda3/lib/python3.7/site-packages/sklearn/linear_model/logistic.py:433: FutureWarning: Default solver will be changed to 'lbfgs' in 0.22. Specify a solver to silence this warning.\n",
      "  FutureWarning)\n",
      "/anaconda3/lib/python3.7/site-packages/sklearn/linear_model/logistic.py:433: FutureWarning: Default solver will be changed to 'lbfgs' in 0.22. Specify a solver to silence this warning.\n",
      "  FutureWarning)\n",
      "/anaconda3/lib/python3.7/site-packages/sklearn/linear_model/logistic.py:433: FutureWarning: Default solver will be changed to 'lbfgs' in 0.22. Specify a solver to silence this warning.\n",
      "  FutureWarning)\n",
      "/anaconda3/lib/python3.7/site-packages/sklearn/linear_model/logistic.py:433: FutureWarning: Default solver will be changed to 'lbfgs' in 0.22. Specify a solver to silence this warning.\n",
      "  FutureWarning)\n",
      "/anaconda3/lib/python3.7/site-packages/sklearn/linear_model/logistic.py:433: FutureWarning: Default solver will be changed to 'lbfgs' in 0.22. Specify a solver to silence this warning.\n",
      "  FutureWarning)\n",
      "/anaconda3/lib/python3.7/site-packages/sklearn/linear_model/logistic.py:433: FutureWarning: Default solver will be changed to 'lbfgs' in 0.22. Specify a solver to silence this warning.\n",
      "  FutureWarning)\n",
      "/anaconda3/lib/python3.7/site-packages/sklearn/linear_model/logistic.py:433: FutureWarning: Default solver will be changed to 'lbfgs' in 0.22. Specify a solver to silence this warning.\n",
      "  FutureWarning)\n",
      "/anaconda3/lib/python3.7/site-packages/sklearn/linear_model/logistic.py:433: FutureWarning: Default solver will be changed to 'lbfgs' in 0.22. Specify a solver to silence this warning.\n",
      "  FutureWarning)\n",
      "/anaconda3/lib/python3.7/site-packages/sklearn/linear_model/logistic.py:433: FutureWarning: Default solver will be changed to 'lbfgs' in 0.22. Specify a solver to silence this warning.\n",
      "  FutureWarning)\n",
      "/anaconda3/lib/python3.7/site-packages/sklearn/linear_model/logistic.py:433: FutureWarning: Default solver will be changed to 'lbfgs' in 0.22. Specify a solver to silence this warning.\n",
      "  FutureWarning)\n",
      "/anaconda3/lib/python3.7/site-packages/sklearn/linear_model/logistic.py:433: FutureWarning: Default solver will be changed to 'lbfgs' in 0.22. Specify a solver to silence this warning.\n",
      "  FutureWarning)\n",
      "/anaconda3/lib/python3.7/site-packages/sklearn/linear_model/logistic.py:433: FutureWarning: Default solver will be changed to 'lbfgs' in 0.22. Specify a solver to silence this warning.\n",
      "  FutureWarning)\n",
      "/anaconda3/lib/python3.7/site-packages/sklearn/linear_model/logistic.py:433: FutureWarning: Default solver will be changed to 'lbfgs' in 0.22. Specify a solver to silence this warning.\n",
      "  FutureWarning)\n",
      "/anaconda3/lib/python3.7/site-packages/sklearn/linear_model/logistic.py:433: FutureWarning: Default solver will be changed to 'lbfgs' in 0.22. Specify a solver to silence this warning.\n",
      "  FutureWarning)\n",
      "/anaconda3/lib/python3.7/site-packages/sklearn/linear_model/logistic.py:433: FutureWarning: Default solver will be changed to 'lbfgs' in 0.22. Specify a solver to silence this warning.\n",
      "  FutureWarning)\n",
      "/anaconda3/lib/python3.7/site-packages/sklearn/linear_model/logistic.py:433: FutureWarning: Default solver will be changed to 'lbfgs' in 0.22. Specify a solver to silence this warning.\n",
      "  FutureWarning)\n",
      "/anaconda3/lib/python3.7/site-packages/sklearn/linear_model/logistic.py:433: FutureWarning: Default solver will be changed to 'lbfgs' in 0.22. Specify a solver to silence this warning.\n",
      "  FutureWarning)\n",
      "/anaconda3/lib/python3.7/site-packages/sklearn/linear_model/logistic.py:433: FutureWarning: Default solver will be changed to 'lbfgs' in 0.22. Specify a solver to silence this warning.\n",
      "  FutureWarning)\n",
      "/anaconda3/lib/python3.7/site-packages/sklearn/linear_model/logistic.py:433: FutureWarning: Default solver will be changed to 'lbfgs' in 0.22. Specify a solver to silence this warning.\n",
      "  FutureWarning)\n",
      "/anaconda3/lib/python3.7/site-packages/sklearn/linear_model/logistic.py:433: FutureWarning: Default solver will be changed to 'lbfgs' in 0.22. Specify a solver to silence this warning.\n",
      "  FutureWarning)\n",
      "/anaconda3/lib/python3.7/site-packages/sklearn/linear_model/logistic.py:433: FutureWarning: Default solver will be changed to 'lbfgs' in 0.22. Specify a solver to silence this warning.\n",
      "  FutureWarning)\n",
      "/anaconda3/lib/python3.7/site-packages/sklearn/linear_model/logistic.py:433: FutureWarning: Default solver will be changed to 'lbfgs' in 0.22. Specify a solver to silence this warning.\n",
      "  FutureWarning)\n",
      "/anaconda3/lib/python3.7/site-packages/sklearn/linear_model/logistic.py:433: FutureWarning: Default solver will be changed to 'lbfgs' in 0.22. Specify a solver to silence this warning.\n",
      "  FutureWarning)\n",
      "/anaconda3/lib/python3.7/site-packages/sklearn/linear_model/logistic.py:433: FutureWarning: Default solver will be changed to 'lbfgs' in 0.22. Specify a solver to silence this warning.\n",
      "  FutureWarning)\n",
      "/anaconda3/lib/python3.7/site-packages/sklearn/linear_model/logistic.py:433: FutureWarning: Default solver will be changed to 'lbfgs' in 0.22. Specify a solver to silence this warning.\n",
      "  FutureWarning)\n",
      "/anaconda3/lib/python3.7/site-packages/sklearn/linear_model/logistic.py:433: FutureWarning: Default solver will be changed to 'lbfgs' in 0.22. Specify a solver to silence this warning.\n",
      "  FutureWarning)\n"
     ]
    },
    {
     "name": "stderr",
     "output_type": "stream",
     "text": [
      "/anaconda3/lib/python3.7/site-packages/sklearn/linear_model/logistic.py:433: FutureWarning: Default solver will be changed to 'lbfgs' in 0.22. Specify a solver to silence this warning.\n",
      "  FutureWarning)\n",
      "/anaconda3/lib/python3.7/site-packages/sklearn/linear_model/logistic.py:433: FutureWarning: Default solver will be changed to 'lbfgs' in 0.22. Specify a solver to silence this warning.\n",
      "  FutureWarning)\n",
      "/anaconda3/lib/python3.7/site-packages/sklearn/linear_model/logistic.py:433: FutureWarning: Default solver will be changed to 'lbfgs' in 0.22. Specify a solver to silence this warning.\n",
      "  FutureWarning)\n",
      "/anaconda3/lib/python3.7/site-packages/sklearn/linear_model/logistic.py:433: FutureWarning: Default solver will be changed to 'lbfgs' in 0.22. Specify a solver to silence this warning.\n",
      "  FutureWarning)\n",
      "/anaconda3/lib/python3.7/site-packages/sklearn/linear_model/logistic.py:433: FutureWarning: Default solver will be changed to 'lbfgs' in 0.22. Specify a solver to silence this warning.\n",
      "  FutureWarning)\n",
      "/anaconda3/lib/python3.7/site-packages/sklearn/linear_model/logistic.py:433: FutureWarning: Default solver will be changed to 'lbfgs' in 0.22. Specify a solver to silence this warning.\n",
      "  FutureWarning)\n",
      "/anaconda3/lib/python3.7/site-packages/sklearn/linear_model/logistic.py:433: FutureWarning: Default solver will be changed to 'lbfgs' in 0.22. Specify a solver to silence this warning.\n",
      "  FutureWarning)\n"
     ]
    },
    {
     "data": {
      "image/png": "[encoded data removed]",
      "text/plain": [
       "<Figure size 432x288 with 1 Axes>"
      ]
     },
     "metadata": {
      "needs_background": "light"
     },
     "output_type": "display_data"
    }
   ],
   "source": [
    "#Plotting ROC curve\n",
    "from sklearn import metrics\n",
    "probs = grid_clf_acc.fit(X_train_vect, y_train).predict_proba(X_test_vect)\n",
    "preds = probs[:,1]\n",
    "fpr, tpr, threshold = metrics.roc_curve(y_test, preds)\n",
    "roc_auc = metrics.auc(fpr, tpr)\n",
    "\n",
    "plt.figure()\n",
    "plt.plot(fpr, tpr, label='GridSearchCV (area = %0.2f)' % roc_auc)\n",
    "plt.plot([0, 1], [0, 1],'r--')\n",
    "plt.xlim([0.0, 1.0])\n",
    "plt.ylim([0.0, 1.05])\n",
    "plt.xlabel('False Positive Rate')\n",
    "plt.ylabel('True Positive Rate')\n",
    "plt.title('Receiver operating characteristic')\n",
    "plt.legend(loc=\"lower right\")\n",
    "plt.savefig('Log_ROC')\n",
    "plt.show()"
   ]
  },
  {
   "cell_type": "code",
   "execution_count": 26,
   "metadata": {},
   "outputs": [
    {
     "data": {
      "text/plain": [
       "0.8908555827394249"
      ]
     },
     "execution_count": 26,
     "metadata": {},
     "output_type": "execute_result"
    }
   ],
   "source": [
    "roc_auc"
   ]
  },
  {
   "cell_type": "code",
   "execution_count": 89,
   "metadata": {},
   "outputs": [
    {
     "name": "stdout",
     "output_type": "stream",
     "text": [
      "Accuracy : 0.75\n",
      "Precision : 0.7462887989203779\n",
      "Recall : 0.9753086419753086\n",
      "F1 Score : 0.845565749235474\n",
      "Fit time : 0.01425790786743164\n",
      "Predict time : 0.11569595336914062\n",
      "Confusion Matrix : \n",
      "[[ 53 188]\n",
      " [ 14 553]]\n"
     ]
    }
   ],
   "source": [
    "#Using Naive Bayes \n",
    "from sklearn.naive_bayes import GaussianNB\n",
    "from sklearn.naive_bayes import MultinomialNB\n",
    "\n",
    "#nb = MultinomialNB()\n",
    "\n",
    "nb = GaussianNB()\n",
    "start = time.time()\n",
    "nb.fit(X_train_vect, y_train)\n",
    "end = time.time()\n",
    "fit_time = (end - start)\n",
    "\n",
    "start = time.time()\n",
    "y_pred = nb.predict(X_test_vect)\n",
    "end = time.time()\n",
    "fit_time = (end - start)\n",
    "\n",
    "print('Accuracy : ' + str(accuracy_score(y_test,y_pred)))\n",
    "print('Precision : ' + str(precision_score(y_test,y_pred)))\n",
    "print('Recall : ' + str(recall_score(y_test,y_pred)))\n",
    "print('F1 Score : ' + str(f1_score(y_test,y_pred)))\n",
    "print('Fit time : ' + str(fit_time))\n",
    "print('Predict time : ' + str(pred_time))\n",
    "\n",
    "print('Confusion Matrix : \\n' + str(confusion_matrix(y_test,y_pred)))"
   ]
  },
  {
   "cell_type": "code",
   "execution_count": 90,
   "metadata": {},
   "outputs": [
    {
     "name": "stdout",
     "output_type": "stream",
     "text": [
      "['capit' 'oper' 'longterm' 'weve' 'continu' 'product' 'quarter' 'custom'\n",
      " 'opportun' 'result' 'prioriti' 'invest' 'execut' 'market' 'busi' 'initi'\n",
      " 'growth' 'plan' 'strategi' 'strateg']\n"
     ]
    }
   ],
   "source": [
    "pos_class_prob_sorted = nb.feature_log_prob_[1, :].argsort()\n",
    "\n",
    "print(np.take(tfidf_vect.get_feature_names(), pos_class_prob_sorted[-20:]))"
   ]
  },
  {
   "cell_type": "code",
   "execution_count": 62,
   "metadata": {},
   "outputs": [
    {
     "name": "stdout",
     "output_type": "stream",
     "text": [
      "Confusion matrix, without normalization\n",
      "[[156  87]\n",
      " [128 437]]\n"
     ]
    },
    {
     "data": {
      "image/png": "[encoded data removed]",
      "text/plain": [
       "<Figure size 576x288 with 2 Axes>"
      ]
     },
     "metadata": {
      "needs_background": "light"
     },
     "output_type": "display_data"
    }
   ],
   "source": [
    "#confusion matrix plot\n",
    "cnf_matrix = confusion_matrix(y_test, y_pred)\n",
    "np.set_printoptions(precision=2)\n",
    "\n",
    "# Plot non-normalized confusion matrix\n",
    "plt.figure()\n",
    "class_names = [0,1]\n",
    "plot_confusion_matrix(cnf_matrix, classes=class_names,\n",
    "                      title='Confusion matrix - Naive Bayes')\n",
    "a = plt.gcf()\n",
    "a.set_size_inches(8,4)\n",
    "plt.show()"
   ]
  },
  {
   "cell_type": "code",
   "execution_count": 63,
   "metadata": {},
   "outputs": [
    {
     "data": {
      "image/png": "[encoded data removed]",
      "text/plain": [
       "<Figure size 432x288 with 1 Axes>"
      ]
     },
     "metadata": {
      "needs_background": "light"
     },
     "output_type": "display_data"
    }
   ],
   "source": [
    "#Plotting ROC curve\n",
    "from sklearn import metrics\n",
    "probs = nb.fit(X_train_vect, y_train).predict_proba(X_test_vect)\n",
    "preds = probs[:,1]\n",
    "fpr, tpr, threshold = metrics.roc_curve(y_test, preds)\n",
    "roc_auc = metrics.auc(fpr, tpr)\n",
    "\n",
    "plt.figure()\n",
    "plt.plot(fpr, tpr, label='GridSearchCV (area = %0.2f)' % roc_auc)\n",
    "plt.plot([0, 1], [0, 1],'r--')\n",
    "plt.xlim([0.0, 1.0])\n",
    "plt.ylim([0.0, 1.05])\n",
    "plt.xlabel('False Positive Rate')\n",
    "plt.ylabel('True Positive Rate')\n",
    "plt.title('Receiver operating characteristic')\n",
    "plt.legend(loc=\"lower right\")\n",
    "plt.savefig('Log_ROC')\n",
    "plt.show()"
   ]
  },
  {
   "cell_type": "code",
   "execution_count": 64,
   "metadata": {},
   "outputs": [
    {
     "name": "stderr",
     "output_type": "stream",
     "text": [
      "/anaconda3/lib/python3.7/site-packages/sklearn/model_selection/_search.py:841: DeprecationWarning: The default of the `iid` parameter will change from True to False in version 0.22 and will be removed in 0.24. This will change numeric results when test-set sizes are unequal.\n",
      "  DeprecationWarning)\n"
     ]
    },
    {
     "data": {
      "text/plain": [
       "GridSearchCV(cv=10, error_score='raise-deprecating',\n",
       "       estimator=KNeighborsClassifier(algorithm='auto', leaf_size=30, metric='minkowski',\n",
       "           metric_params=None, n_jobs=None, n_neighbors=5, p=2,\n",
       "           weights='uniform'),\n",
       "       fit_params=None, iid='warn', n_jobs=None,\n",
       "       param_grid={'n_neighbors': [1, 2, 3, 4, 5, 6, 7, 8, 9, 10, 11, 12, 13, 14, 15, 16, 17, 18, 19, 20, 21, 22, 23, 24, 25, 26, 27, 28, 29, 30]},\n",
       "       pre_dispatch='2*n_jobs', refit=True, return_train_score='warn',\n",
       "       scoring=None, verbose=0)"
      ]
     },
     "execution_count": 64,
     "metadata": {},
     "output_type": "execute_result"
    }
   ],
   "source": [
    "#KNN using grid search\n",
    "from sklearn.neighbors import KNeighborsClassifier\n",
    "\n",
    "knn = KNeighborsClassifier()\n",
    "k_range = list(range(1, 31))\n",
    "param_grid = dict(n_neighbors=k_range)\n",
    "grid = GridSearchCV(knn, param_grid, cv=10)\n",
    "\n",
    "grid.fit(X_train_vect, y_train)\n"
   ]
  },
  {
   "cell_type": "code",
   "execution_count": 65,
   "metadata": {},
   "outputs": [
    {
     "data": {
      "text/plain": [
       "{'n_neighbors': 26}"
      ]
     },
     "execution_count": 65,
     "metadata": {},
     "output_type": "execute_result"
    }
   ],
   "source": [
    "grid.best_params_"
   ]
  },
  {
   "cell_type": "code",
   "execution_count": 66,
   "metadata": {},
   "outputs": [
    {
     "name": "stdout",
     "output_type": "stream",
     "text": [
      "Accuracy : 0.8007425742574258\n",
      "Precision : 0.8322368421052632\n",
      "Recall : 0.8955752212389381\n",
      "F1 Score : 0.8627450980392157\n",
      "Fit time : 1.9147331714630127\n",
      "Predict time : 0.11569595336914062\n",
      "Confusion Matrix : \n",
      "[[141 102]\n",
      " [ 59 506]]\n"
     ]
    }
   ],
   "source": [
    "#Using K-Nearest Neighbor\n",
    "from sklearn.neighbors import KNeighborsClassifier\n",
    "\n",
    "knn = KNeighborsClassifier(n_neighbors = 26)\n",
    "start = time.time()\n",
    "knn.fit(X_train_vect, y_train)\n",
    "end = time.time()\n",
    "fit_time = (end - start)\n",
    "\n",
    "start = time.time()\n",
    "y_pred = knn.predict(X_test_vect)\n",
    "end = time.time()\n",
    "fit_time = (end - start)\n",
    "\n",
    "print('Accuracy : ' + str(accuracy_score(y_test,y_pred)))\n",
    "print('Precision : ' + str(precision_score(y_test,y_pred)))\n",
    "print('Recall : ' + str(recall_score(y_test,y_pred)))\n",
    "print('F1 Score : ' + str(f1_score(y_test,y_pred)))\n",
    "print('Fit time : ' + str(fit_time))\n",
    "print('Predict time : ' + str(pred_time))\n",
    "\n",
    "print('Confusion Matrix : \\n' + str(confusion_matrix(y_test,y_pred)))"
   ]
  },
  {
   "cell_type": "code",
   "execution_count": 67,
   "metadata": {},
   "outputs": [
    {
     "name": "stdout",
     "output_type": "stream",
     "text": [
      "Confusion matrix, without normalization\n",
      "[[141 102]\n",
      " [ 59 506]]\n"
     ]
    },
    {
     "data": {
      "image/png": "[encoded data removed]",
      "text/plain": [
       "<Figure size 576x288 with 2 Axes>"
      ]
     },
     "metadata": {
      "needs_background": "light"
     },
     "output_type": "display_data"
    }
   ],
   "source": [
    "#confusion matrix plot\n",
    "cnf_matrix = confusion_matrix(y_test, y_pred)\n",
    "np.set_printoptions(precision=2)\n",
    "\n",
    "# Plot non-normalized confusion matrix\n",
    "plt.figure()\n",
    "class_names = [0,1]\n",
    "plot_confusion_matrix(cnf_matrix, classes=class_names,\n",
    "                      title='Confusion matrix - K-Nearest Neighbors')\n",
    "a = plt.gcf()\n",
    "a.set_size_inches(8,4)\n",
    "plt.show()"
   ]
  },
  {
   "cell_type": "code",
   "execution_count": 68,
   "metadata": {},
   "outputs": [
    {
     "name": "stderr",
     "output_type": "stream",
     "text": [
      "/anaconda3/lib/python3.7/site-packages/sklearn/model_selection/_search.py:841: DeprecationWarning: The default of the `iid` parameter will change from True to False in version 0.22 and will be removed in 0.24. This will change numeric results when test-set sizes are unequal.\n",
      "  DeprecationWarning)\n"
     ]
    },
    {
     "data": {
      "image/png": "[encoded data removed]",
      "text/plain": [
       "<Figure size 432x288 with 1 Axes>"
      ]
     },
     "metadata": {
      "needs_background": "light"
     },
     "output_type": "display_data"
    }
   ],
   "source": [
    "#Plotting ROC curve\n",
    "from sklearn import metrics\n",
    "probs = grid.fit(X_train_vect, y_train).predict_proba(X_test_vect)\n",
    "preds = probs[:,1]\n",
    "fpr, tpr, threshold = metrics.roc_curve(y_test, preds)\n",
    "roc_auc = metrics.auc(fpr, tpr)\n",
    "\n",
    "plt.figure()\n",
    "plt.plot(fpr, tpr, label='GridSearchCV (area = %0.2f)' % roc_auc)\n",
    "plt.plot([0, 1], [0, 1],'r--')\n",
    "plt.xlim([0.0, 1.0])\n",
    "plt.ylim([0.0, 1.05])\n",
    "plt.xlabel('False Positive Rate')\n",
    "plt.ylabel('True Positive Rate')\n",
    "plt.title('Receiver operating characteristic')\n",
    "plt.legend(loc=\"lower right\")\n",
    "plt.savefig('Log_ROC')\n",
    "plt.show()"
   ]
  }
 ],
 "metadata": {
  "kernelspec": {
   "display_name": "Python 3",
   "language": "python",
   "name": "python3"
  },
  "language_info": {
   "codemirror_mode": {
    "name": "ipython",
    "version": 3
   },
   "file_extension": ".py",
   "mimetype": "text/x-python",
   "name": "python",
   "nbconvert_exporter": "python",
   "pygments_lexer": "ipython3",
   "version": "3.7.1"
  }
 },
 "nbformat": 4,
 "nbformat_minor": 2
}
