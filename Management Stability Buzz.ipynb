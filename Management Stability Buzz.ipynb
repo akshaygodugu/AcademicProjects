{
 "cells": [
  {
   "cell_type": "code",
   "execution_count": 110,
   "metadata": {},
   "outputs": [],
   "source": [
    "#import required libraries\n",
    "import pandas as pd\n",
    "import string\n",
    "import numpy as np\n",
    "import re\n",
    "import nltk\n",
    "import matplotlib.pyplot as plt"
   ]
  },
  {
   "cell_type": "code",
   "execution_count": 111,
   "metadata": {},
   "outputs": [
    {
     "name": "stdout",
     "output_type": "stream",
     "text": [
      "(2322, 2)\n"
     ]
    },
    {
     "data": {
      "text/html": [
       "<div>\n",
       "<style scoped>\n",
       "    .dataframe tbody tr th:only-of-type {\n",
       "        vertical-align: middle;\n",
       "    }\n",
       "\n",
       "    .dataframe tbody tr th {\n",
       "        vertical-align: top;\n",
       "    }\n",
       "\n",
       "    .dataframe thead th {\n",
       "        text-align: right;\n",
       "    }\n",
       "</style>\n",
       "<table border=\"1\" class=\"dataframe\">\n",
       "  <thead>\n",
       "    <tr style=\"text-align: right;\">\n",
       "      <th></th>\n",
       "      <th>Sentences</th>\n",
       "      <th>label</th>\n",
       "    </tr>\n",
       "  </thead>\n",
       "  <tbody>\n",
       "    <tr>\n",
       "      <th>0</th>\n",
       "      <td>we reported last quarter that we have a penetration in terms of patients of about 59%. We have ...</td>\n",
       "      <td>1</td>\n",
       "    </tr>\n",
       "    <tr>\n",
       "      <th>1</th>\n",
       "      <td>0 if and when   if it came out as we expect at the end of 2018. And the reality is our share is ...</td>\n",
       "      <td>1</td>\n",
       "    </tr>\n",
       "    <tr>\n",
       "      <th>2</th>\n",
       "      <td>0%. And so we are still in the emerging economy, and we are still   we have a really conservativ...</td>\n",
       "      <td>1</td>\n",
       "    </tr>\n",
       "    <tr>\n",
       "      <th>3</th>\n",
       "      <td>02 per share on earnings. Our objective in 2018 is to maintain our strong capital position while...</td>\n",
       "      <td>1</td>\n",
       "    </tr>\n",
       "    <tr>\n",
       "      <th>4</th>\n",
       "      <td>04) to our team. From our last earnings release to now, our orders had been steady in Infrastruc...</td>\n",
       "      <td>1</td>\n",
       "    </tr>\n",
       "  </tbody>\n",
       "</table>\n",
       "</div>"
      ],
      "text/plain": [
       "                                                                                             Sentences  \\\n",
       "0   we reported last quarter that we have a penetration in terms of patients of about 59%. We have ...   \n",
       "1  0 if and when   if it came out as we expect at the end of 2018. And the reality is our share is ...   \n",
       "2  0%. And so we are still in the emerging economy, and we are still   we have a really conservativ...   \n",
       "3  02 per share on earnings. Our objective in 2018 is to maintain our strong capital position while...   \n",
       "4  04) to our team. From our last earnings release to now, our orders had been steady in Infrastruc...   \n",
       "\n",
       "   label  \n",
       "0      1  \n",
       "1      1  \n",
       "2      1  \n",
       "3      1  \n",
       "4      1  "
      ]
     },
     "execution_count": 111,
     "metadata": {},
     "output_type": "execute_result"
    }
   ],
   "source": [
    "#set col width to 100\n",
    "pd.set_option('display.max_colwidth', 100)\n",
    "\n",
    "#stop word removal\n",
    "from nltk.corpus import stopwords\n",
    "stopwords = nltk.corpus.stopwords.words('english')\n",
    "ps = nltk.PorterStemmer()\n",
    "from nltk.tokenize import word_tokenize\n",
    "\n",
    "#Importing the excel file\n",
    "excel_file= 'Management Stability-Data relevant.xlsx'\n",
    "stability_rel = pd.read_excel(excel_file)\n",
    "stability_rel = stability_rel[['Sentences']]\n",
    "stability_rel['label'] = 1\n",
    "\n",
    "excel_file1= 'Management Stability-Data Not relevant.xlsx'\n",
    "stability_notrel = pd.read_excel(excel_file1)\n",
    "stability_notrel = stability_notrel[['Sentences']]\n",
    "stability_notrel['label'] = 0\n",
    "\n",
    "stability_final = pd.concat([stability_rel,stability_notrel])\n",
    "\n",
    "#get the size of dataset\n",
    "print(stability_final.shape)\n",
    "stability_final.head()"
   ]
  },
  {
   "cell_type": "code",
   "execution_count": 112,
   "metadata": {},
   "outputs": [],
   "source": [
    "#remove numeric values from dataset\n",
    "stability_final['Sentences'] = stability_final['Sentences'].str.replace('\\d+', '')"
   ]
  },
  {
   "cell_type": "code",
   "execution_count": 113,
   "metadata": {},
   "outputs": [],
   "source": [
    "#add words that aren't in the NLTK stopwords list\n",
    "new_stopwords = ['included','including','includes','one','two','three','general','generally','way','better','need','really','believe','provide','say','saying','says','include','said','also','would','could','end','recent','recently','us','like','make','may','look','still','come','see','across','even','much','get','allow','allows','allowed','allowing','well','go','gone','going','that','thats','take','thing','come','move','give','help','put','dont','people','got','kind','know','day','think','continue','look','year','years','new','use','there','want','wanted','due','become','organ']\n",
    "new_stopwords_list = stopwords.extend(new_stopwords)"
   ]
  },
  {
   "cell_type": "code",
   "execution_count": 114,
   "metadata": {},
   "outputs": [],
   "source": [
    "#data cleaning- removing punctuations, tokenize, stop words\n",
    "def clean_text(text):\n",
    "    text = \"\".join([word.lower() for word in text if word not in string.punctuation])\n",
    "    tokens = word_tokenize(text)\n",
    "    text = set([ps.stem(word) for word in tokens if word not in stopwords])\n",
    "    return text"
   ]
  },
  {
   "cell_type": "code",
   "execution_count": 115,
   "metadata": {},
   "outputs": [],
   "source": [
    "#Split into train/test set\n",
    "from sklearn.model_selection import train_test_split\n",
    "\n",
    "X_train, X_test, y_train, y_test = train_test_split(stability_final[['Sentences']], stability_final['label'], test_size=0.25)"
   ]
  },
  {
   "cell_type": "code",
   "execution_count": 116,
   "metadata": {},
   "outputs": [
    {
     "name": "stdout",
     "output_type": "stream",
     "text": [
      "(1741, 1) (1741,)\n",
      "(581, 1) (581,)\n"
     ]
    }
   ],
   "source": [
    "print (X_train.shape, y_train.shape)\n",
    "print (X_test.shape, y_test.shape)"
   ]
  },
  {
   "cell_type": "code",
   "execution_count": 117,
   "metadata": {},
   "outputs": [
    {
     "data": {
      "text/html": [
       "<div>\n",
       "<style scoped>\n",
       "    .dataframe tbody tr th:only-of-type {\n",
       "        vertical-align: middle;\n",
       "    }\n",
       "\n",
       "    .dataframe tbody tr th {\n",
       "        vertical-align: top;\n",
       "    }\n",
       "\n",
       "    .dataframe thead th {\n",
       "        text-align: right;\n",
       "    }\n",
       "</style>\n",
       "<table border=\"1\" class=\"dataframe\">\n",
       "  <thead>\n",
       "    <tr style=\"text-align: right;\">\n",
       "      <th></th>\n",
       "      <th>0</th>\n",
       "      <th>1</th>\n",
       "      <th>2</th>\n",
       "      <th>3</th>\n",
       "      <th>4</th>\n",
       "      <th>5</th>\n",
       "      <th>6</th>\n",
       "      <th>7</th>\n",
       "      <th>8</th>\n",
       "      <th>9</th>\n",
       "      <th>...</th>\n",
       "      <th>490</th>\n",
       "      <th>491</th>\n",
       "      <th>492</th>\n",
       "      <th>493</th>\n",
       "      <th>494</th>\n",
       "      <th>495</th>\n",
       "      <th>496</th>\n",
       "      <th>497</th>\n",
       "      <th>498</th>\n",
       "      <th>499</th>\n",
       "    </tr>\n",
       "  </thead>\n",
       "  <tbody>\n",
       "    <tr>\n",
       "      <th>0</th>\n",
       "      <td>0.0</td>\n",
       "      <td>0.0</td>\n",
       "      <td>0.0</td>\n",
       "      <td>0.0</td>\n",
       "      <td>0.0</td>\n",
       "      <td>0.0</td>\n",
       "      <td>0.0</td>\n",
       "      <td>0.0</td>\n",
       "      <td>0.0</td>\n",
       "      <td>0.0</td>\n",
       "      <td>...</td>\n",
       "      <td>0.0</td>\n",
       "      <td>0.0</td>\n",
       "      <td>0.0</td>\n",
       "      <td>0.267491</td>\n",
       "      <td>0.0</td>\n",
       "      <td>0.0</td>\n",
       "      <td>0.0</td>\n",
       "      <td>0.0</td>\n",
       "      <td>0.000000</td>\n",
       "      <td>0.0</td>\n",
       "    </tr>\n",
       "    <tr>\n",
       "      <th>1</th>\n",
       "      <td>0.0</td>\n",
       "      <td>0.0</td>\n",
       "      <td>0.0</td>\n",
       "      <td>0.0</td>\n",
       "      <td>0.0</td>\n",
       "      <td>0.0</td>\n",
       "      <td>0.0</td>\n",
       "      <td>0.0</td>\n",
       "      <td>0.0</td>\n",
       "      <td>0.0</td>\n",
       "      <td>...</td>\n",
       "      <td>0.0</td>\n",
       "      <td>0.0</td>\n",
       "      <td>0.0</td>\n",
       "      <td>0.213443</td>\n",
       "      <td>0.0</td>\n",
       "      <td>0.0</td>\n",
       "      <td>0.0</td>\n",
       "      <td>0.0</td>\n",
       "      <td>0.229395</td>\n",
       "      <td>0.0</td>\n",
       "    </tr>\n",
       "    <tr>\n",
       "      <th>2</th>\n",
       "      <td>0.0</td>\n",
       "      <td>0.0</td>\n",
       "      <td>0.0</td>\n",
       "      <td>0.0</td>\n",
       "      <td>0.0</td>\n",
       "      <td>0.0</td>\n",
       "      <td>0.0</td>\n",
       "      <td>0.0</td>\n",
       "      <td>0.0</td>\n",
       "      <td>0.0</td>\n",
       "      <td>...</td>\n",
       "      <td>0.0</td>\n",
       "      <td>0.0</td>\n",
       "      <td>0.0</td>\n",
       "      <td>0.000000</td>\n",
       "      <td>0.0</td>\n",
       "      <td>0.0</td>\n",
       "      <td>0.0</td>\n",
       "      <td>0.0</td>\n",
       "      <td>0.000000</td>\n",
       "      <td>0.0</td>\n",
       "    </tr>\n",
       "    <tr>\n",
       "      <th>3</th>\n",
       "      <td>0.0</td>\n",
       "      <td>0.0</td>\n",
       "      <td>0.0</td>\n",
       "      <td>0.0</td>\n",
       "      <td>0.0</td>\n",
       "      <td>0.0</td>\n",
       "      <td>0.0</td>\n",
       "      <td>0.0</td>\n",
       "      <td>0.0</td>\n",
       "      <td>0.0</td>\n",
       "      <td>...</td>\n",
       "      <td>0.0</td>\n",
       "      <td>0.0</td>\n",
       "      <td>0.0</td>\n",
       "      <td>0.000000</td>\n",
       "      <td>0.0</td>\n",
       "      <td>0.0</td>\n",
       "      <td>0.0</td>\n",
       "      <td>0.0</td>\n",
       "      <td>0.000000</td>\n",
       "      <td>0.0</td>\n",
       "    </tr>\n",
       "    <tr>\n",
       "      <th>4</th>\n",
       "      <td>0.0</td>\n",
       "      <td>0.0</td>\n",
       "      <td>0.0</td>\n",
       "      <td>0.0</td>\n",
       "      <td>0.0</td>\n",
       "      <td>0.0</td>\n",
       "      <td>0.0</td>\n",
       "      <td>0.0</td>\n",
       "      <td>0.0</td>\n",
       "      <td>0.0</td>\n",
       "      <td>...</td>\n",
       "      <td>0.0</td>\n",
       "      <td>0.0</td>\n",
       "      <td>0.0</td>\n",
       "      <td>0.000000</td>\n",
       "      <td>0.0</td>\n",
       "      <td>0.0</td>\n",
       "      <td>0.0</td>\n",
       "      <td>0.0</td>\n",
       "      <td>0.000000</td>\n",
       "      <td>0.0</td>\n",
       "    </tr>\n",
       "  </tbody>\n",
       "</table>\n",
       "<p>5 rows × 500 columns</p>\n",
       "</div>"
      ],
      "text/plain": [
       "   0    1    2    3    4    5    6    7    8    9   ...   490  491  492  \\\n",
       "0  0.0  0.0  0.0  0.0  0.0  0.0  0.0  0.0  0.0  0.0 ...   0.0  0.0  0.0   \n",
       "1  0.0  0.0  0.0  0.0  0.0  0.0  0.0  0.0  0.0  0.0 ...   0.0  0.0  0.0   \n",
       "2  0.0  0.0  0.0  0.0  0.0  0.0  0.0  0.0  0.0  0.0 ...   0.0  0.0  0.0   \n",
       "3  0.0  0.0  0.0  0.0  0.0  0.0  0.0  0.0  0.0  0.0 ...   0.0  0.0  0.0   \n",
       "4  0.0  0.0  0.0  0.0  0.0  0.0  0.0  0.0  0.0  0.0 ...   0.0  0.0  0.0   \n",
       "\n",
       "        493  494  495  496  497       498  499  \n",
       "0  0.267491  0.0  0.0  0.0  0.0  0.000000  0.0  \n",
       "1  0.213443  0.0  0.0  0.0  0.0  0.229395  0.0  \n",
       "2  0.000000  0.0  0.0  0.0  0.0  0.000000  0.0  \n",
       "3  0.000000  0.0  0.0  0.0  0.0  0.000000  0.0  \n",
       "4  0.000000  0.0  0.0  0.0  0.0  0.000000  0.0  \n",
       "\n",
       "[5 rows x 500 columns]"
      ]
     },
     "execution_count": 117,
     "metadata": {},
     "output_type": "execute_result"
    }
   ],
   "source": [
    "        #Normalization technique using TF-IDF\n",
    "        from sklearn.feature_extraction.text import TfidfVectorizer\n",
    "\n",
    "        tfidf_vect = TfidfVectorizer(analyzer=clean_text, max_features=500, min_df = 3, max_df = 0.7)\n",
    "        tfidf_vect_fit = tfidf_vect.fit(X_train['Sentences'])\n",
    "\n",
    "        tfidf_train = tfidf_vect_fit.transform(X_train['Sentences'])\n",
    "        tfidf_test = tfidf_vect_fit.transform(X_test['Sentences'])\n",
    "\n",
    "        X_train_vect = pd.DataFrame(tfidf_train.toarray())\n",
    "        X_test_vect = pd.DataFrame(tfidf_test.toarray())\n",
    "\n",
    "        X_train_vect.head()"
   ]
  },
  {
   "cell_type": "code",
   "execution_count": 62,
   "metadata": {},
   "outputs": [
    {
     "name": "stdout",
     "output_type": "stream",
     "text": [
      "['abil', 'abl', 'acceler', 'accord', 'account', 'achiev', 'acquisit', 'activ', 'actual', 'ad', 'add', 'addit', 'adjust', 'administr', 'ago', 'ahead', 'almost', 'alreadi', 'although', 'alway', 'america', 'american', 'amount', 'analyst', 'announc', 'annual', 'anoth', 'anticip', 'approach', 'approxim', 'area', 'around', 'ask', 'asset', 'associ', 'assum', 'attract', 'averag', 'back', 'balanc', 'bank', 'base', 'basi', 'begin', 'benefit', 'best', 'big', 'billion', 'bit', 'board', 'book', 'brand', 'bring', 'build', 'busi', 'call', 'came', 'capabl', 'capac', 'capex', 'capit', 'care', 'case', 'cash', 'categori', 'certain', 'certainli', 'challeng', 'chang', 'china', 'clearli', 'client', 'close', 'combin', 'come', 'comment', 'commerci', 'commit', 'commun', 'compani', 'compar', 'competit', 'complet', 'concern', 'condit', 'confid', 'consid', 'consist', 'construct', 'consum', 'continu', 'contract', 'contribut', 'control', 'core', 'corpor', 'cost', 'countri', 'coupl', 'cours', 'creat', 'credit', 'current', 'custom', 'cut', 'cycl', 'data', 'deal', 'debt', 'decemb', 'decis', 'declin', 'decreas', 'deliv', 'demand', 'demonstr', 'deposit', 'despit', 'develop', 'differ', 'digit', 'direct', 'discuss', 'distribut', 'dividend', 'dollar', 'done', 'drive', 'driven', 'driver', 'earli', 'earlier', 'earn', 'ebitda', 'econom', 'economi', 'effect', 'effici', 'effort', 'enabl', 'energi', 'environ', 'equiti', 'estat', 'estim', 'except', 'exchang', 'exclud', 'execut', 'exist', 'expand', 'expans', 'expect', 'expens', 'experi', 'facil', 'fact', 'factor', 'fairli', 'favor', 'feder', 'fee', 'feel', 'final', 'financi', 'find', 'firm', 'first', 'fiscal', 'five', 'flat', 'flow', 'focu', 'focus', 'follow', 'forecast', 'forward', 'four', 'fourth', 'free', 'full', 'fund', 'futur', 'ga', 'gain', 'gener', 'get', 'give', 'given', 'global', 'goal', 'good', 'govern', 'great', 'greater', 'grew', 'gross', 'group', 'grow', 'growth', 'guidanc', 'half', 'hand', 'happen', 'hard', 'headwind', 'healthi', 'held', 'high', 'higher', 'highlight', 'histor', 'hit', 'hold', 'home', 'hope', 'howev', 'ill', 'im', 'impact', 'import', 'improv', 'incom', 'increas', 'increment', 'indic', 'industri', 'inform', 'infrastructur', 'initi', 'innov', 'integr', 'interest', 'intern', 'inventori', 'invest', 'investor', 'issu', 'keep', 'key', 'larg', 'largest', 'last', 'launch', 'lead', 'lend', 'less', 'let', 'level', 'leverag', 'line', 'liquid', 'littl', 'loan', 'long', 'longer', 'longterm', 'look', 'loss', 'lot', 'low', 'lower', 'made', 'maintain', 'major', 'make', 'manag', 'mani', 'margin', 'market', 'materi', 'mayb', 'mean', 'measur', 'meet', 'mention', 'metric', 'might', 'million', 'mix', 'model', 'month', 'move', 'nation', 'natur', 'need', 'neg', 'net', 'network', 'next', 'nice', 'north', 'note', 'number', 'obvious', 'offer', 'offic', 'offset', 'oil', 'open', 'oper', 'opportun', 'order', 'organ', 'origin', 'outlook', 'overal', 'pace', 'part', 'particularli', 'partner', 'past', 'patient', 'pay', 'per', 'percentag', 'perform', 'period', 'pipelin', 'place', 'plan', 'platform', 'pleas', 'point', 'polici', 'portfolio', 'posit', 'potenti', 'power', 'predict', 'present', 'presid', 'pressur', 'pretti', 'price', 'primarili', 'prior', 'prioriti', 'probabl', 'process', 'produc', 'product', 'profil', 'profit', 'program', 'progress', 'project', 'propos', 'protect', 'provid', 'q', 'qualiti', 'quarter', 'quarterli', 'question', 'quit', 'rais', 'ramp', 'rang', 'rate', 'ratio', 'reach', 'real', 'reason', 'receiv', 'record', 'reduc', 'reduct', 'reflect', 'regard', 'region', 'regul', 'rel', 'relat', 'relationship', 'remain', 'report', 'repres', 'requir', 'reserv', 'result', 'retail', 'return', 'revenu', 'review', 'right', 'rise', 'risk', 'robust', 'run', 'sale', 'saw', 'scale', 'second', 'sector', 'secur', 'see', 'seen', 'segment', 'sell', 'sequenti', 'servic', 'set', 'sever', 'share', 'sharehold', 'sheet', 'show', 'side', 'signific', 'significantli', 'similar', 'sinc', 'six', 'slide', 'slightli', 'slow', 'small', 'solid', 'solut', 'someth', 'sort', 'sourc', 'space', 'specif', 'spend', 'spread', 'stabil', 'stabl', 'start', 'state', 'stay', 'steadi', 'step', 'stock', 'strateg', 'strategi', 'strength', 'strengthen', 'strong', 'structur', 'success', 'suppli', 'support', 'sure', 'sustain', 'system', 'take', 'talk', 'target', 'tax', 'team', 'technolog', 'term', 'thank', 'there', 'theyr', 'thing', 'third', 'though', 'throughout', 'time', 'today', 'togeth', 'top', 'total', 'toward', 'track', 'trade', 'transact', 'trend', 'tri', 'turn', 'type', 'u', 'underli', 'understand', 'unit', 'updat', 'use', 'util', 'valu', 'versu', 'view', 'volatil', 'volum', 'week', 'weve', 'whether', 'win', 'within', 'without', 'work', 'world', 'yeah', 'yearoveryear', 'yield', 'your', 'youv', 'â‚¬']\n"
     ]
    }
   ],
   "source": [
    "print(tfidf_vect.get_feature_names())"
   ]
  },
  {
   "cell_type": "code",
   "execution_count": 63,
   "metadata": {},
   "outputs": [
    {
     "data": {
      "text/plain": [
       "[('stabl', 78.13543434100131),\n",
       " ('steadi', 56.8931814078102),\n",
       " ('market', 49.779259662115976),\n",
       " ('growth', 48.49164352454302),\n",
       " ('busi', 48.00830366591017),\n",
       " ('quarter', 44.963699709851255),\n",
       " ('expect', 40.59165264307416),\n",
       " ('increas', 35.35609968399004),\n",
       " ('product', 35.1865562613703),\n",
       " ('remain', 35.180691736784425),\n",
       " ('price', 34.49123201274821),\n",
       " ('rate', 33.495236752095934),\n",
       " ('time', 33.41625089383878),\n",
       " ('compani', 33.25521635808064),\n",
       " ('last', 32.8595840292992),\n",
       " ('margin', 32.488652225784826),\n",
       " ('oper', 31.26265146777068),\n",
       " ('million', 29.60051348236012),\n",
       " ('invest', 28.722063264608206),\n",
       " ('revenu', 28.683124028269916),\n",
       " ('weve', 28.420147518154504),\n",
       " ('strong', 28.28063745003943),\n",
       " ('continu', 28.206536791164773),\n",
       " ('result', 27.983122993798244),\n",
       " ('improv', 27.678502794077115),\n",
       " ('cost', 27.007181458313816),\n",
       " ('share', 26.780748273561652),\n",
       " ('perform', 25.562477752479975),\n",
       " ('custom', 24.99568695585367),\n",
       " ('cash', 24.752140500270755),\n",
       " ('level', 24.669289861158394),\n",
       " ('grow', 24.45971339490713),\n",
       " ('posit', 24.260340146793652),\n",
       " ('portfolio', 23.95730521118391),\n",
       " ('first', 23.691189972495646),\n",
       " ('plan', 23.632664090688372),\n",
       " ('capit', 23.243045672016194),\n",
       " ('fourth', 23.083020347508718),\n",
       " ('base', 22.806489713063012),\n",
       " ('good', 22.757251563985417),\n",
       " ('overal', 22.25352221024238),\n",
       " ('manag', 22.124329132018353),\n",
       " ('point', 22.03713411853964),\n",
       " ('term', 21.512455115333882),\n",
       " ('investor', 21.255213892192085),\n",
       " ('pretti', 21.047211037737195),\n",
       " ('servic', 20.918462517835874),\n",
       " ('sale', 20.711720994732197),\n",
       " ('cours', 20.40582870066104),\n",
       " ('financi', 20.397542301703464),\n",
       " ('rel', 20.292750915897287),\n",
       " ('flow', 20.190474517464526),\n",
       " ('look', 20.08851062127642),\n",
       " ('number', 20.044412653792776),\n",
       " ('opportun', 19.818217225211317),\n",
       " ('line', 19.47333747021556),\n",
       " ('higher', 19.22437992569132),\n",
       " ('chang', 19.12192576970894),\n",
       " ('month', 18.815279556467434),\n",
       " ('impact', 18.613213007828353),\n",
       " ('work', 18.561012431454387),\n",
       " ('back', 18.531952220037155),\n",
       " ('next', 18.50470481797989),\n",
       " ('basi', 18.482995583575352),\n",
       " ('state', 18.347479148369587),\n",
       " ('bank', 18.266497903421033),\n",
       " ('forward', 18.046444387835113),\n",
       " ('around', 18.028402501412707),\n",
       " ('lower', 17.877712008961094),\n",
       " ('strategi', 17.860635974396004),\n",
       " ('start', 17.726546613016154),\n",
       " ('right', 17.641803483289326),\n",
       " ('call', 17.56339149831397),\n",
       " ('billion', 17.404195096760844),\n",
       " ('question', 17.350117367851404),\n",
       " ('return', 17.336194574369166),\n",
       " ('net', 17.285152371381418),\n",
       " ('demand', 17.1586415905538),\n",
       " ('asset', 17.147738138826544),\n",
       " ('industri', 17.01299733932463),\n",
       " ('high', 16.999716122792027),\n",
       " ('report', 16.88113959701566),\n",
       " ('earn', 16.85809344861911),\n",
       " ('total', 16.737783257551616),\n",
       " ('mean', 16.52106131720744),\n",
       " ('fund', 16.497082320265157),\n",
       " ('addit', 16.36759954882164),\n",
       " ('guidanc', 16.276538717720854),\n",
       " ('signific', 16.200040262879806),\n",
       " ('q', 16.095252463732685),\n",
       " ('littl', 16.046183054660236),\n",
       " ('profit', 16.03781896486002),\n",
       " ('tax', 15.859528668678147),\n",
       " ('futur', 15.663805786706169),\n",
       " ('activ', 15.534456857076277),\n",
       " ('credit', 15.531762554220824),\n",
       " ('today', 15.518144057480228),\n",
       " ('develop', 15.506072175921044),\n",
       " ('balanc', 15.490501597340815),\n",
       " ('past', 15.434723879624933),\n",
       " ('expens', 15.398643141270334),\n",
       " ('gener', 15.394984379910078),\n",
       " ('confid', 15.388069502348866),\n",
       " ('bit', 15.256447040665943),\n",
       " ('mani', 15.23043892929948),\n",
       " ('feel', 15.177970131733208),\n",
       " ('longterm', 15.114733392102195),\n",
       " ('u', 15.09233102186602),\n",
       " ('support', 14.970478576742758),\n",
       " ('provid', 14.89473431570568),\n",
       " ('target', 14.893782228608234),\n",
       " ('thing', 14.842843458535013),\n",
       " ('deliv', 14.755854397985306),\n",
       " ('offer', 14.734432651122699),\n",
       " ('current', 14.67242158617591),\n",
       " ('compar', 14.658665948535551),\n",
       " ('drive', 14.655523228992934),\n",
       " ('loan', 14.607277320817403),\n",
       " ('interest', 14.584141151155663),\n",
       " ('keep', 14.503411554593333),\n",
       " ('benefit', 14.476082185583984),\n",
       " ('declin', 14.420640420313218),\n",
       " ('core', 14.418731269360126),\n",
       " ('outlook', 14.371991883380423),\n",
       " ('period', 14.144588184724272),\n",
       " ('turn', 14.079703820721296),\n",
       " ('key', 14.04120882321627),\n",
       " ('project', 13.972301818005338),\n",
       " ('incom', 13.935862044606937),\n",
       " ('import', 13.869781585274628),\n",
       " ('polici', 13.857795663818209),\n",
       " ('differ', 13.849770406827176),\n",
       " ('come', 13.74712136788379),\n",
       " ('rang', 13.70450680414636),\n",
       " ('debt', 13.70443679132023),\n",
       " ('secur', 13.481768970683463),\n",
       " ('part', 13.46611339436518),\n",
       " ('effect', 13.4041778748927),\n",
       " ('sinc', 13.395105826611532),\n",
       " ('four', 13.391815359619153),\n",
       " ('seen', 13.387754968155871),\n",
       " ('progress', 13.33480529641035),\n",
       " ('given', 13.281224947183889),\n",
       " ('group', 13.280914611997954),\n",
       " ('see', 13.257402277552034),\n",
       " ('stock', 13.133818059565654),\n",
       " ('talk', 13.085236299405555),\n",
       " ('dividend', 13.049891548383371),\n",
       " ('consist', 12.967696426926803),\n",
       " ('averag', 12.927090712152896),\n",
       " ('larg', 12.91756035523364),\n",
       " ('valu', 12.901743611589009),\n",
       " ('global', 12.893520912100833),\n",
       " ('volum', 12.87001968203334),\n",
       " ('slide', 12.864317203511726),\n",
       " ('sever', 12.844518765263341),\n",
       " ('segment', 12.816081113342767),\n",
       " ('second', 12.815713868552509),\n",
       " ('within', 12.7778195111449),\n",
       " ('full', 12.721964577419142),\n",
       " ('risk', 12.65713213741006),\n",
       " ('data', 12.635052257663627),\n",
       " ('environ', 12.584797650129225),\n",
       " ('lot', 12.50246313573524),\n",
       " ('focu', 12.495992874667285),\n",
       " ('trend', 12.42118010994009),\n",
       " ('close', 12.415675514947774),\n",
       " ('mix', 12.367687980039198),\n",
       " ('gain', 12.365986708082522),\n",
       " ('issu', 12.358367780006187),\n",
       " ('reflect', 12.346983009233972),\n",
       " ('model', 12.284262218056218),\n",
       " ('move', 12.255410821671877),\n",
       " ('show', 12.235502864862463),\n",
       " ('driven', 12.199792334965904),\n",
       " ('adjust', 12.174628784051931),\n",
       " ('contribut', 12.155575425319476),\n",
       " ('ratio', 12.124015378547213),\n",
       " ('acquisit', 12.06250358555009),\n",
       " ('unit', 12.030179129144463),\n",
       " ('actual', 11.996011858941994),\n",
       " ('technolog', 11.979949589829285),\n",
       " ('view', 11.95148461546294),\n",
       " ('execut', 11.943383551327482),\n",
       " ('lead', 11.86764434240662),\n",
       " ('alreadi', 11.835529254835775),\n",
       " ('area', 11.73422884579734),\n",
       " ('order', 11.727654662179582),\n",
       " ('program', 11.692495629886045),\n",
       " ('consum', 11.684016169586796),\n",
       " ('maintain', 11.616155186151548),\n",
       " ('govern', 11.598866506590788),\n",
       " ('low', 11.598389714437936),\n",
       " ('trade', 11.551966097501754),\n",
       " ('make', 11.524433205325362),\n",
       " ('half', 11.512867529971658),\n",
       " ('let', 11.508652695560519),\n",
       " ('expand', 11.5033773228907),\n",
       " ('thank', 11.490399154979439),\n",
       " ('reduc', 11.416265431153281),\n",
       " ('major', 11.355496314194886),\n",
       " ('focus', 11.337127068612453),\n",
       " ('competit', 11.315455979766698),\n",
       " ('relat', 11.280300925365669),\n",
       " ('yeah', 11.227326821029074),\n",
       " ('china', 11.194547558760279),\n",
       " ('mention', 11.157253079263766),\n",
       " ('oil', 11.136597969497112),\n",
       " ('account', 11.135983401506246),\n",
       " ('throughout', 11.064800791440904),\n",
       " ('abl', 11.04006876445312),\n",
       " ('big', 11.039609635010134),\n",
       " ('third', 10.983726861327696),\n",
       " ('less', 10.963299389241415),\n",
       " ('forecast', 10.944385678886743),\n",
       " ('set', 10.94409060796864),\n",
       " ('build', 10.93175084143803),\n",
       " ('suppli', 10.923183687005146),\n",
       " ('platform', 10.894029413308099),\n",
       " ('countri', 10.89191202860051),\n",
       " ('approxim', 10.864132857519811),\n",
       " ('slightli', 10.844717412648567),\n",
       " ('process', 10.830836181455336),\n",
       " ('deal', 10.736418479639408),\n",
       " ('strateg', 10.724021158836708),\n",
       " ('per', 10.721180789214051),\n",
       " ('potenti', 10.702467509509896),\n",
       " ('combin', 10.695945571345385),\n",
       " ('spend', 10.6373507746996),\n",
       " ('sheet', 10.568849720355143),\n",
       " ('world', 10.533747854691319),\n",
       " ('intern', 10.461083241207536),\n",
       " ('ebitda', 10.442200644707087),\n",
       " ('sourc', 10.438425403983619),\n",
       " ('versu', 10.430585701487217),\n",
       " ('real', 10.395565017482136),\n",
       " ('presid', 10.346668926766144),\n",
       " ('retail', 10.319041230270436),\n",
       " ('run', 10.29518527071944),\n",
       " ('probabl', 10.265010925232888),\n",
       " ('commerci', 10.240085565691121),\n",
       " ('solid', 10.235630971507117),\n",
       " ('final', 10.207903694217823),\n",
       " ('stabil', 10.178155404382387),\n",
       " ('gross', 10.176053720136125),\n",
       " ('analyst', 10.104755054729637),\n",
       " ('team', 10.077491126675609),\n",
       " ('there', 10.017350571309755),\n",
       " ('quit', 10.005995115036622),\n",
       " ('made', 9.993655549963744),\n",
       " ('top', 9.965218619776302),\n",
       " ('earli', 9.962991839798862),\n",
       " ('loss', 9.958467769410952),\n",
       " ('leverag', 9.948533582795562),\n",
       " ('sharehold', 9.93383133860134),\n",
       " ('despit', 9.909729811206686),\n",
       " ('complet', 9.862089366352803),\n",
       " ('place', 9.823358178224506),\n",
       " ('side', 9.777230236372398),\n",
       " ('toward', 9.761837697040276),\n",
       " ('digit', 9.71641259578976),\n",
       " ('sell', 9.703276528211662),\n",
       " ('annual', 9.685474296281946),\n",
       " ('qualiti', 9.68144378478521),\n",
       " ('coupl', 9.6790439963677),\n",
       " ('achiev', 9.642344265995234),\n",
       " ('follow', 9.586048647363853),\n",
       " ('meet', 9.504733918487187),\n",
       " ('brand', 9.482774159857245),\n",
       " ('contract', 9.475463504124468),\n",
       " ('earlier', 9.39224323845902),\n",
       " ('regul', 9.370872425045281),\n",
       " ('patient', 9.289505800315661),\n",
       " ('week', 9.27106726001131),\n",
       " ('use', 9.247906712923614),\n",
       " ('saw', 9.235295629028434),\n",
       " ('yield', 9.232936182545135),\n",
       " ('client', 9.218694184941187),\n",
       " ('im', 9.190724860468773),\n",
       " ('fact', 9.167837449898496),\n",
       " ('organ', 9.131316996965529),\n",
       " ('corpor', 9.125775233388934),\n",
       " ('initi', 9.086293897566986),\n",
       " ('sort', 9.048823955464123),\n",
       " ('offset', 8.982943106976442),\n",
       " ('american', 8.950118896013311),\n",
       " ('record', 8.920909273440035),\n",
       " ('reason', 8.888492735669827),\n",
       " ('pleas', 8.88235284093283),\n",
       " ('tri', 8.85340982449463),\n",
       " ('economi', 8.83811038020663),\n",
       " ('anoth', 8.79606256690369),\n",
       " ('obvious', 8.751387817398562),\n",
       " ('take', 8.746088958707581),\n",
       " ('materi', 8.738224299336537),\n",
       " ('ago', 8.715156403501627),\n",
       " ('anticip', 8.68860664067714),\n",
       " ('your', 8.670273377211315),\n",
       " ('pipelin', 8.667518975890903),\n",
       " ('assum', 8.663920682605719),\n",
       " ('effici', 8.659805279115115),\n",
       " ('ga', 8.647078666291842),\n",
       " ('reserv', 8.634884995929529),\n",
       " ('begin', 8.629200467870882),\n",
       " ('cut', 8.629117481397257),\n",
       " ('someth', 8.522610996692139),\n",
       " ('get', 8.507257790618047),\n",
       " ('equiti', 8.486448644821055),\n",
       " ('direct', 8.46711575332547),\n",
       " ('free', 8.423607400391052),\n",
       " ('care', 8.382520630558496),\n",
       " ('estim', 8.340514823314047),\n",
       " ('produc', 8.335158951678606),\n",
       " ('find', 8.31444664146197),\n",
       " ('decemb', 8.268503602810304),\n",
       " ('prior', 8.254132805935075),\n",
       " ('predict', 8.234620681279088),\n",
       " ('enabl', 8.225774031732708),\n",
       " ('capac', 8.208775638096478),\n",
       " ('commun', 8.197723966568956),\n",
       " ('volatil', 8.189534755972593),\n",
       " ('comment', 8.18680382954129),\n",
       " ('amount', 8.18600280918926),\n",
       " ('ill', 8.169117214650406),\n",
       " ('feder', 8.137275311359154),\n",
       " ('mayb', 8.129615782278059),\n",
       " ('econom', 8.112298326140573),\n",
       " ('control', 8.080898801484096),\n",
       " ('pay', 8.075722033288974),\n",
       " ('discuss', 8.056510833210867),\n",
       " ('long', 8.043973450769553),\n",
       " ('yearoveryear', 8.035288037229241),\n",
       " ('step', 8.027810836102864),\n",
       " ('region', 8.01101741451719),\n",
       " ('rise', 7.980995041247792),\n",
       " ('stay', 7.965072210491996),\n",
       " ('hold', 7.959810173461851),\n",
       " ('book', 7.941668303359888),\n",
       " ('accord', 7.939149539894119),\n",
       " ('howev', 7.9153199652869795),\n",
       " ('firm', 7.896002701074429),\n",
       " ('driver', 7.882883594966479),\n",
       " ('note', 7.874873171022414),\n",
       " ('power', 7.8482599790421945),\n",
       " ('theyr', 7.82231499170066),\n",
       " ('five', 7.767253802205992),\n",
       " ('deposit', 7.721610120873918),\n",
       " ('fairli', 7.699235746993292),\n",
       " ('abil', 7.675652031507775),\n",
       " ('launch', 7.6718346291631425),\n",
       " ('case', 7.654586638288338),\n",
       " ('capex', 7.639884040026671),\n",
       " ('done', 7.637719879608992),\n",
       " ('partner', 7.600551756776732),\n",
       " ('creat', 7.5995703312558085),\n",
       " ('nation', 7.593926662092807),\n",
       " ('inform', 7.592903833694899),\n",
       " ('announc', 7.588326178488478),\n",
       " ('acceler', 7.577514995838099),\n",
       " ('reach', 7.572681589173409),\n",
       " ('attract', 7.561250679359041),\n",
       " ('ask', 7.555673193241477),\n",
       " ('indic', 7.521266802713368),\n",
       " ('board', 7.509370780368363),\n",
       " ('experi', 7.501181946820495),\n",
       " ('give', 7.498841293521529),\n",
       " ('solut', 7.456665032193205),\n",
       " ('decis', 7.450636147393378),\n",
       " ('hard', 7.433741692837346),\n",
       " ('effort', 7.422272601335566),\n",
       " ('receiv', 7.415762154424589),\n",
       " ('specif', 7.386933972610735),\n",
       " ('offic', 7.368048933020355),\n",
       " ('approach', 7.36521176150429),\n",
       " ('structur', 7.355951803377119),\n",
       " ('underli', 7.350602191244989),\n",
       " ('whether', 7.349659093497379),\n",
       " ('exclud', 7.348270833528589),\n",
       " ('alway', 7.341655783140014),\n",
       " ('clearli', 7.328033253990934),\n",
       " ('energi', 7.319920313434067),\n",
       " ('exchang', 7.310385080315981),\n",
       " ('ad', 7.295223920830945),\n",
       " ('significantli', 7.295005158297126),\n",
       " ('largest', 7.292900385027113),\n",
       " ('sustain', 7.275139346405254),\n",
       " ('dollar', 7.259244465481354),\n",
       " ('bring', 7.240811616742831),\n",
       " ('integr', 7.209070700898488),\n",
       " ('administr', 7.154629452217016),\n",
       " ('transact', 7.148483547811761),\n",
       " ('reduct', 7.1357268051558895),\n",
       " ('similar', 7.135198873247674),\n",
       " ('happen', 7.126548429998833),\n",
       " ('concern', 7.122877499041586),\n",
       " ('youv', 7.051321631946256),\n",
       " ('goal', 7.028098137665262),\n",
       " ('north', 7.026582036158545),\n",
       " ('cycl', 7.021906372225365),\n",
       " ('condit', 7.006533642715915),\n",
       " ('lend', 7.001247571786615),\n",
       " ('factor', 6.9759718296215425),\n",
       " ('repres', 6.970604859781806),\n",
       " ('inventori', 6.944989735394859),\n",
       " ('metric', 6.931072634425748),\n",
       " ('â‚¬', 6.922655972222074),\n",
       " ('challeng', 6.91417224697219),\n",
       " ('present', 6.911207719470689),\n",
       " ('open', 6.887288847074851),\n",
       " ('ahead', 6.879725083299466),\n",
       " ('commit', 6.869043117885271),\n",
       " ('pressur', 6.867970280461274),\n",
       " ('neg', 6.815455765786464),\n",
       " ('requir', 6.8123036836987785),\n",
       " ('might', 6.795157187798923),\n",
       " ('grew', 6.719419679057369),\n",
       " ('success', 6.708606217944221),\n",
       " ('sector', 6.703435463113973),\n",
       " ('track', 6.703410778203781),\n",
       " ('particularli', 6.700608823119384),\n",
       " ('need', 6.677719482365634),\n",
       " ('understand', 6.677415481157157),\n",
       " ('without', 6.644244540545115),\n",
       " ('liquid', 6.620228374795352),\n",
       " ('network', 6.61318908404659),\n",
       " ('review', 6.613076817802186),\n",
       " ('protect', 6.599751513741886),\n",
       " ('though', 6.5951763304049145),\n",
       " ('relationship', 6.593583857161046),\n",
       " ('slow', 6.582065242015328),\n",
       " ('highlight', 6.581819171031772),\n",
       " ('consid', 6.565020947592697),\n",
       " ('regard', 6.559994074117358),\n",
       " ('updat', 6.556135222985029),\n",
       " ('natur', 6.522482432796882),\n",
       " ('strengthen', 6.512363198480437),\n",
       " ('histor', 6.502867866585831),\n",
       " ('hit', 6.502375827141892),\n",
       " ('strength', 6.4806747225848405),\n",
       " ('decreas', 6.472137383217406),\n",
       " ('scale', 6.467784651901412),\n",
       " ('distribut', 6.449520359142269),\n",
       " ('best', 6.4487520625327965),\n",
       " ('certain', 6.440208524982509),\n",
       " ('percentag', 6.418055472165379),\n",
       " ('fee', 6.389629961832322),\n",
       " ('robust', 6.38610951061216),\n",
       " ('infrastructur', 6.38566068160204),\n",
       " ('ramp', 6.363890823651541),\n",
       " ('held', 6.328075979363335),\n",
       " ('hope', 6.3280001033436815),\n",
       " ('came', 6.327928441190655),\n",
       " ('origin', 6.321604904787208),\n",
       " ('add', 6.315421415536052),\n",
       " ('nice', 6.304629090113109),\n",
       " ('propos', 6.2968036569864045),\n",
       " ('measur', 6.27345079043166),\n",
       " ('construct', 6.263501853726316),\n",
       " ('system', 6.259682702939946),\n",
       " ('home', 6.244799338802563),\n",
       " ('spread', 6.2363488927625195),\n",
       " ('rais', 6.221902474030616),\n",
       " ('estat', 6.220068147038561),\n",
       " ('hand', 6.208576991801345),\n",
       " ('togeth', 6.183579769402816),\n",
       " ('pace', 6.175596895739548),\n",
       " ('favor', 6.147090432182487),\n",
       " ('associ', 6.102929646909869),\n",
       " ('america', 6.100316056865552),\n",
       " ('quarterli', 6.069899943491926),\n",
       " ('primarili', 6.059050495836814),\n",
       " ('great', 6.026619505984721),\n",
       " ('prioriti', 6.015457610570213),\n",
       " ('although', 6.003792313345769),\n",
       " ('longer', 6.000167378432005),\n",
       " ('innov', 5.991235955483574),\n",
       " ('headwind', 5.9862709613404865),\n",
       " ('almost', 5.980346493818489),\n",
       " ('win', 5.934690588097233),\n",
       " ('capabl', 5.929832941665411),\n",
       " ('except', 5.911885687795806),\n",
       " ('flat', 5.903941772467463),\n",
       " ('certainli', 5.855516914544133),\n",
       " ('profil', 5.846959123310404),\n",
       " ('six', 5.821753451837751),\n",
       " ('fiscal', 5.794886467696833),\n",
       " ('demonstr', 5.771363139068912),\n",
       " ('facil', 5.673208746597285),\n",
       " ('space', 5.58658330378498),\n",
       " ('greater', 5.5827548107040945),\n",
       " ('exist', 5.560857789353284),\n",
       " ('util', 5.550765073875411),\n",
       " ('categori', 5.5416345076830344),\n",
       " ('sure', 5.513586630677587),\n",
       " ('type', 5.4615307440215695),\n",
       " ('small', 5.443488686717577),\n",
       " ('sequenti', 5.409154507571047),\n",
       " ('expans', 5.284670616718925),\n",
       " ('healthi', 5.212102926999741),\n",
       " ('increment', 5.111396735856752)]"
      ]
     },
     "execution_count": 63,
     "metadata": {},
     "output_type": "execute_result"
    }
   ],
   "source": [
    "sum_words = tfidf_train.sum(axis=0) \n",
    "words_freq = [(word, sum_words[0, idx]) for word, idx in tfidf_vect.vocabulary_.items()]\n",
    "words_freq =sorted(words_freq, key = lambda x: x[1], reverse=True)\n",
    "words_freq"
   ]
  },
  {
   "cell_type": "code",
   "execution_count": 102,
   "metadata": {},
   "outputs": [],
   "source": [
    "from sklearn.ensemble import RandomForestClassifier, GradientBoostingClassifier\n",
    "from sklearn.metrics import precision_recall_fscore_support as score\n",
    "import time\n",
    "from sklearn.metrics import accuracy_score, precision_score, recall_score, f1_score, confusion_matrix"
   ]
  },
  {
   "cell_type": "code",
   "execution_count": 103,
   "metadata": {},
   "outputs": [],
   "source": [
    "#Function to plot intuitive confusion matrix\n",
    "import itertools\n",
    "def plot_confusion_matrix(cm, classes,\n",
    "                          normalize=False,\n",
    "                          title='Confusion matrix',\n",
    "                          cmap=plt.cm.Blues):\n",
    "    \"\"\"\n",
    "    This function prints and plots the confusion matrix.\n",
    "    Normalization can be applied by setting `normalize=True`.\n",
    "    \"\"\"\n",
    "    if normalize:\n",
    "        cm = cm.astype('float') / cm.sum(axis=1)[:, np.newaxis]\n",
    "        print(\"Normalized confusion matrix\")\n",
    "    else:\n",
    "        print('Confusion matrix, without normalization')\n",
    "\n",
    "    print(cm)\n",
    "\n",
    "    plt.imshow(cm, interpolation='nearest', cmap=cmap)\n",
    "    plt.title(title)\n",
    "    plt.colorbar()\n",
    "    tick_marks = np.arange(len(classes))\n",
    "    plt.xticks(tick_marks, classes, rotation=45)\n",
    "    plt.yticks(tick_marks, classes)\n",
    "\n",
    "    fmt = '.2f' if normalize else 'd'\n",
    "    thresh = cm.max() / 2.\n",
    "    for i, j in itertools.product(range(cm.shape[0]), range(cm.shape[1])):\n",
    "        plt.text(j, i, format(cm[i, j], fmt),\n",
    "                 horizontalalignment=\"center\",\n",
    "                 color=\"white\" if cm[i, j] > thresh else \"black\")\n",
    "\n",
    "    plt.ylabel('True label')\n",
    "    plt.xlabel('Predicted label')\n",
    "    plt.tight_layout()"
   ]
  },
  {
   "cell_type": "code",
   "execution_count": 104,
   "metadata": {},
   "outputs": [
    {
     "name": "stderr",
     "output_type": "stream",
     "text": [
      "/anaconda3/lib/python3.7/site-packages/sklearn/model_selection/_split.py:2053: FutureWarning: You should specify a value for 'cv' instead of relying on the default value. The default value will change from 3 to 5 in version 0.22.\n",
      "  warnings.warn(CV_WARNING, FutureWarning)\n"
     ]
    },
    {
     "data": {
      "text/plain": [
       "GridSearchCV(cv='warn', error_score='raise-deprecating',\n",
       "       estimator=RandomForestClassifier(bootstrap=True, class_weight=None, criterion='gini',\n",
       "            max_depth=None, max_features='auto', max_leaf_nodes=None,\n",
       "            min_impurity_decrease=0.0, min_impurity_split=None,\n",
       "            min_samples_leaf=1, min_samples_split=2,\n",
       "            min_weight_fraction_leaf=0.0, n_estimators='warn', n_jobs=None,\n",
       "            oob_score=False, random_state=None, verbose=0,\n",
       "            warm_start=False),\n",
       "       fit_params=None, iid='warn', n_jobs=None,\n",
       "       param_grid={'n_estimators': [200, 500, 700, 1000], 'max_depth': [10, 20, 30, None], 'n_jobs': [-1]},\n",
       "       pre_dispatch='2*n_jobs', refit=True, return_train_score='warn',\n",
       "       scoring=None, verbose=0)"
      ]
     },
     "execution_count": 104,
     "metadata": {},
     "output_type": "execute_result"
    }
   ],
   "source": [
    "#randfom forest using grid search\n",
    "from sklearn.model_selection import GridSearchCV\n",
    "rfc = RandomForestClassifier()\n",
    "grid_values = {'n_estimators' : [200, 500, 700, 1000], 'max_depth' : [10, 20, 30, None], 'n_jobs' : [-1]}\n",
    "grid_rfc_acc = GridSearchCV(rfc, param_grid = grid_values)\n",
    "grid_rfc_acc.fit(X_train_vect, y_train)"
   ]
  },
  {
   "cell_type": "code",
   "execution_count": 105,
   "metadata": {},
   "outputs": [
    {
     "data": {
      "text/plain": [
       "{'max_depth': None, 'n_estimators': 500, 'n_jobs': -1}"
      ]
     },
     "execution_count": 105,
     "metadata": {},
     "output_type": "execute_result"
    }
   ],
   "source": [
    "#obtain best parameters\n",
    "grid_rfc_acc.best_params_"
   ]
  },
  {
   "cell_type": "code",
   "execution_count": 106,
   "metadata": {},
   "outputs": [
    {
     "name": "stdout",
     "output_type": "stream",
     "text": [
      "Accuracy for test set: 0.9655765920826161\n",
      "Precision  for test set: 0.9455040871934605\n",
      "Recall  for test set: 1.0\n",
      "F1 Score  for test set: 0.9719887955182072\n",
      "Fit time  for test set: 1.5788710117340088\n",
      "Predict time  for test set: 0.2057650089263916\n",
      "Confusion Matrix : \n",
      "[[214  20]\n",
      " [  0 347]]\n"
     ]
    }
   ],
   "source": [
    "rf = RandomForestClassifier(n_estimators=500, max_depth=None, n_jobs=-1)\n",
    "\n",
    "start = time.time()\n",
    "rf.fit(X_train_vect, y_train)\n",
    "end = time.time()\n",
    "fit_time = (end - start)\n",
    "\n",
    "start = time.time()\n",
    "y_pred = rf.predict(X_test_vect)\n",
    "end = time.time()\n",
    "pred_time = (end - start)\n",
    "\n",
    "print('Accuracy for test set: ' + str(accuracy_score(y_test,y_pred)))\n",
    "print('Precision  for test set: ' + str(precision_score(y_test,y_pred)))\n",
    "print('Recall  for test set: ' + str(recall_score(y_test,y_pred)))\n",
    "print('F1 Score  for test set: ' + str(f1_score(y_test,y_pred)))\n",
    "print('Fit time  for test set: ' + str(fit_time))\n",
    "print('Predict time  for test set: ' + str(pred_time))\n",
    "\n",
    "print('Confusion Matrix : \\n' + str(confusion_matrix(y_test,y_pred)))"
   ]
  },
  {
   "cell_type": "code",
   "execution_count": 107,
   "metadata": {},
   "outputs": [],
   "source": [
    "feat_importances = pd.Series(rf.feature_importances_, index=X_train_vect.columns.tolist())"
   ]
  },
  {
   "cell_type": "code",
   "execution_count": 108,
   "metadata": {},
   "outputs": [
    {
     "data": {
      "image/png": "[encoded data removed]",
      "text/plain": [
       "<Figure size 432x288 with 1 Axes>"
      ]
     },
     "metadata": {
      "needs_background": "light"
     },
     "output_type": "display_data"
    }
   ],
   "source": [
    "#Top 20 features\n",
    "feat_importances.nlargest(20).plot(kind='barh')\n",
    "plt.show()"
   ]
  },
  {
   "cell_type": "code",
   "execution_count": null,
   "metadata": {},
   "outputs": [],
   "source": [
    "feat_importances[415:420]"
   ]
  },
  {
   "cell_type": "code",
   "execution_count": 109,
   "metadata": {},
   "outputs": [
    {
     "name": "stdout",
     "output_type": "stream",
     "text": [
      "Confusion matrix, without normalization\n",
      "[[214  20]\n",
      " [  0 347]]\n"
     ]
    },
    {
     "data": {
      "image/png": "[encoded data removed]",
      "text/plain": [
       "<Figure size 576x288 with 2 Axes>"
      ]
     },
     "metadata": {
      "needs_background": "light"
     },
     "output_type": "display_data"
    }
   ],
   "source": [
    "#confusion matrix plot\n",
    "cnf_matrix = confusion_matrix(y_test, y_pred)\n",
    "np.set_printoptions(precision=2)\n",
    "\n",
    "# Plot non-normalized confusion matrix\n",
    "plt.figure()\n",
    "class_names = [0,1]\n",
    "plot_confusion_matrix(cnf_matrix, classes=class_names,\n",
    "                      title='Confusion matrix - Random Forest')\n",
    "a = plt.gcf()\n",
    "a.set_size_inches(8,4)\n",
    "plt.show()"
   ]
  },
  {
   "cell_type": "code",
   "execution_count": 19,
   "metadata": {},
   "outputs": [
    {
     "name": "stderr",
     "output_type": "stream",
     "text": [
      "/anaconda3/lib/python3.7/site-packages/sklearn/model_selection/_split.py:2053: FutureWarning: You should specify a value for 'cv' instead of relying on the default value. The default value will change from 3 to 5 in version 0.22.\n",
      "  warnings.warn(CV_WARNING, FutureWarning)\n"
     ]
    },
    {
     "data": {
      "image/png": "[encoded data removed]",
      "text/plain": [
       "<Figure size 432x288 with 1 Axes>"
      ]
     },
     "metadata": {
      "needs_background": "light"
     },
     "output_type": "display_data"
    }
   ],
   "source": [
    "#Plotting ROC curve\n",
    "from sklearn import metrics\n",
    "probs = grid_rfc_acc.fit(X_train_vect, y_train).predict_proba(X_test_vect)\n",
    "preds = probs[:,1]\n",
    "fpr, tpr, threshold = metrics.roc_curve(y_test, preds)\n",
    "roc_auc = metrics.auc(fpr, tpr)\n",
    "\n",
    "plt.figure()\n",
    "plt.plot(fpr, tpr, label='GridSearchCV (area = %0.2f)' % roc_auc)\n",
    "plt.plot([0, 1], [0, 1],'r--')\n",
    "plt.xlim([0.0, 1.0])\n",
    "plt.ylim([0.0, 1.05])\n",
    "plt.xlabel('False Positive Rate')\n",
    "plt.ylabel('True Positive Rate')\n",
    "plt.title('Receiver operating characteristic')\n",
    "plt.legend(loc=\"lower right\")\n",
    "plt.savefig('Log_ROC')\n",
    "plt.show()"
   ]
  },
  {
   "cell_type": "code",
   "execution_count": 20,
   "metadata": {},
   "outputs": [
    {
     "name": "stderr",
     "output_type": "stream",
     "text": [
      "/anaconda3/lib/python3.7/site-packages/sklearn/model_selection/_split.py:2053: FutureWarning: You should specify a value for 'cv' instead of relying on the default value. The default value will change from 3 to 5 in version 0.22.\n",
      "  warnings.warn(CV_WARNING, FutureWarning)\n"
     ]
    },
    {
     "data": {
      "text/plain": [
       "GridSearchCV(cv='warn', error_score='raise-deprecating',\n",
       "       estimator=GradientBoostingClassifier(criterion='friedman_mse', init=None,\n",
       "              learning_rate=0.1, loss='deviance', max_depth=3,\n",
       "              max_features=None, max_leaf_nodes=None,\n",
       "              min_impurity_decrease=0.0, min_impurity_split=None,\n",
       "              min_samples_leaf=1, min_sampl...      subsample=1.0, tol=0.0001, validation_fraction=0.1,\n",
       "              verbose=0, warm_start=False),\n",
       "       fit_params=None, iid='warn', n_jobs=None,\n",
       "       param_grid={'n_estimators': [150, 200, 500], 'max_depth': [7, 11, 15]},\n",
       "       pre_dispatch='2*n_jobs', refit=True, return_train_score='warn',\n",
       "       scoring=None, verbose=0)"
      ]
     },
     "execution_count": 20,
     "metadata": {},
     "output_type": "execute_result"
    }
   ],
   "source": [
    "#gbm using grid search\n",
    "from sklearn.model_selection import GridSearchCV\n",
    "gbm = GradientBoostingClassifier()\n",
    "grid_values = {'n_estimators' : [150, 200, 500], 'max_depth' : [7, 11, 15]}\n",
    "grid_gbm_acc = GridSearchCV(gbm, param_grid = grid_values)\n",
    "grid_gbm_acc.fit(X_train_vect, y_train)"
   ]
  },
  {
   "cell_type": "code",
   "execution_count": 21,
   "metadata": {},
   "outputs": [
    {
     "data": {
      "text/plain": [
       "{'max_depth': 7, 'n_estimators': 150}"
      ]
     },
     "execution_count": 21,
     "metadata": {},
     "output_type": "execute_result"
    }
   ],
   "source": [
    "grid_gbm_acc.best_params_"
   ]
  },
  {
   "cell_type": "code",
   "execution_count": 22,
   "metadata": {},
   "outputs": [
    {
     "name": "stdout",
     "output_type": "stream",
     "text": [
      "Accuracy : 0.955249569707401\n",
      "Precision : 0.9418604651162791\n",
      "Recall : 0.9818181818181818\n",
      "F1 Score : 0.9614243323442137\n",
      "Fit time : 0.011003732681274414\n",
      "Predict time : 0.10634493827819824\n",
      "Confusion Matrix : \n",
      "[[231  20]\n",
      " [  6 324]]\n"
     ]
    }
   ],
   "source": [
    "gb = GradientBoostingClassifier(n_estimators=150, max_depth=7)\n",
    "start = time.time()\n",
    "gb.fit(X_train_vect, y_train)\n",
    "end = time.time()\n",
    "fit_time = (end - start)\n",
    "\n",
    "start = time.time()\n",
    "y_pred = gb.predict(X_test_vect)\n",
    "end = time.time()\n",
    "fit_time = (end - start)\n",
    "\n",
    "print('Accuracy : ' + str(accuracy_score(y_test,y_pred)))\n",
    "print('Precision : ' + str(precision_score(y_test,y_pred)))\n",
    "print('Recall : ' + str(recall_score(y_test,y_pred)))\n",
    "print('F1 Score : ' + str(f1_score(y_test,y_pred)))\n",
    "print('Fit time : ' + str(fit_time))\n",
    "print('Predict time : ' + str(pred_time))\n",
    "\n",
    "print('Confusion Matrix : \\n' + str(confusion_matrix(y_test,y_pred)))"
   ]
  },
  {
   "cell_type": "code",
   "execution_count": 28,
   "metadata": {},
   "outputs": [],
   "source": [
    "feat_importances = pd.Series(gb.feature_importances_, index=X_train_vect.columns.tolist())"
   ]
  },
  {
   "cell_type": "code",
   "execution_count": 29,
   "metadata": {},
   "outputs": [
    {
     "data": {
      "image/png": "[encoded data removed]",
      "text/plain": [
       "<Figure size 432x288 with 1 Axes>"
      ]
     },
     "metadata": {
      "needs_background": "light"
     },
     "output_type": "display_data"
    }
   ],
   "source": [
    "feat_importances.nlargest(20).plot(kind='barh')\n",
    "plt.show()"
   ]
  },
  {
   "cell_type": "code",
   "execution_count": 23,
   "metadata": {},
   "outputs": [
    {
     "name": "stdout",
     "output_type": "stream",
     "text": [
      "Confusion matrix, without normalization\n",
      "[[231  20]\n",
      " [  6 324]]\n"
     ]
    },
    {
     "data": {
      "image/png": "[encoded data removed]",
      "text/plain": [
       "<Figure size 576x288 with 2 Axes>"
      ]
     },
     "metadata": {
      "needs_background": "light"
     },
     "output_type": "display_data"
    }
   ],
   "source": [
    "#confusion matrix plot\n",
    "cnf_matrix = confusion_matrix(y_test, y_pred)\n",
    "np.set_printoptions(precision=2)\n",
    "\n",
    "# Plot non-normalized confusion matrix\n",
    "plt.figure()\n",
    "class_names = [0,1]\n",
    "plot_confusion_matrix(cnf_matrix, classes=class_names,\n",
    "                      title='Confusion matrix - Gradient Boosting')\n",
    "a = plt.gcf()\n",
    "a.set_size_inches(8,4)\n",
    "plt.show()"
   ]
  },
  {
   "cell_type": "code",
   "execution_count": 24,
   "metadata": {},
   "outputs": [
    {
     "name": "stderr",
     "output_type": "stream",
     "text": [
      "/anaconda3/lib/python3.7/site-packages/sklearn/model_selection/_split.py:2053: FutureWarning: You should specify a value for 'cv' instead of relying on the default value. The default value will change from 3 to 5 in version 0.22.\n",
      "  warnings.warn(CV_WARNING, FutureWarning)\n"
     ]
    },
    {
     "data": {
      "image/png": "[encoded data removed]",
      "text/plain": [
       "<Figure size 432x288 with 1 Axes>"
      ]
     },
     "metadata": {
      "needs_background": "light"
     },
     "output_type": "display_data"
    }
   ],
   "source": [
    "#Plotting ROC curve\n",
    "from sklearn import metrics\n",
    "probs = grid_gbm_acc.fit(X_train_vect, y_train).predict_proba(X_test_vect)\n",
    "preds = probs[:,1]\n",
    "fpr, tpr, threshold = metrics.roc_curve(y_test, preds)\n",
    "roc_auc = metrics.auc(fpr, tpr)\n",
    "\n",
    "plt.figure()\n",
    "plt.plot(fpr, tpr, label='GridSearchCV (area = %0.2f)' % roc_auc)\n",
    "plt.plot([0, 1], [0, 1],'r--')\n",
    "plt.xlim([0.0, 1.0])\n",
    "plt.ylim([0.0, 1.05])\n",
    "plt.xlabel('False Positive Rate')\n",
    "plt.ylabel('True Positive Rate')\n",
    "plt.title('Receiver operating characteristic')\n",
    "plt.legend(loc=\"lower right\")\n",
    "plt.savefig('Log_ROC')\n",
    "plt.show()"
   ]
  },
  {
   "cell_type": "code",
   "execution_count": 30,
   "metadata": {},
   "outputs": [
    {
     "name": "stderr",
     "output_type": "stream",
     "text": [
      "/anaconda3/lib/python3.7/site-packages/sklearn/model_selection/_split.py:2053: FutureWarning: You should specify a value for 'cv' instead of relying on the default value. The default value will change from 3 to 5 in version 0.22.\n",
      "  warnings.warn(CV_WARNING, FutureWarning)\n"
     ]
    },
    {
     "data": {
      "text/plain": [
       "GridSearchCV(cv='warn', error_score='raise-deprecating',\n",
       "       estimator=XGBClassifier(base_score=0.5, booster='gbtree', colsample_bylevel=1,\n",
       "       colsample_bytree=1, gamma=0, learning_rate=0.1, max_delta_step=0,\n",
       "       max_depth=3, min_child_weight=1, missing=None, n_estimators=100,\n",
       "       n_jobs=1, nthread=None, objective='binary:logistic', random_state=0,\n",
       "       reg_alpha=0, reg_lambda=1, scale_pos_weight=1, seed=None,\n",
       "       silent=True, subsample=1),\n",
       "       fit_params=None, iid='warn', n_jobs=None,\n",
       "       param_grid={'n_estimators': [150, 200, 500], 'max_depth': [5, 7, 10]},\n",
       "       pre_dispatch='2*n_jobs', refit=True, return_train_score='warn',\n",
       "       scoring=None, verbose=0)"
      ]
     },
     "execution_count": 30,
     "metadata": {},
     "output_type": "execute_result"
    }
   ],
   "source": [
    "#xgbm using grid search\n",
    "from xgboost import XGBClassifier\n",
    "from sklearn.model_selection import GridSearchCV\n",
    "xgbm = XGBClassifier()\n",
    "grid_values = {'n_estimators' : [150, 200, 500], 'max_depth' : [5, 7, 10]}\n",
    "grid_xgbm_acc = GridSearchCV(xgbm, param_grid = grid_values)\n",
    "grid_xgbm_acc.fit(X_train_vect, y_train)"
   ]
  },
  {
   "cell_type": "code",
   "execution_count": 31,
   "metadata": {},
   "outputs": [
    {
     "data": {
      "text/plain": [
       "{'max_depth': 5, 'n_estimators': 150}"
      ]
     },
     "execution_count": 31,
     "metadata": {},
     "output_type": "execute_result"
    }
   ],
   "source": [
    "grid_xgbm_acc.best_params_"
   ]
  },
  {
   "cell_type": "code",
   "execution_count": 32,
   "metadata": {},
   "outputs": [
    {
     "name": "stdout",
     "output_type": "stream",
     "text": [
      "Accuracy : 0.9604130808950087\n",
      "Precision : 0.9423631123919308\n",
      "Recall : 0.990909090909091\n",
      "F1 Score : 0.96602658788774\n",
      "Fit time : 0.017938852310180664\n",
      "Predict time : 0.10634493827819824\n",
      "Confusion Matrix : \n",
      "[[231  20]\n",
      " [  3 327]]\n"
     ]
    }
   ],
   "source": [
    "from xgboost import XGBClassifier\n",
    "xgb = XGBClassifier(n_estimators=150, max_depth=5)\n",
    "start = time.time()\n",
    "xgb.fit(X_train_vect, y_train)\n",
    "end = time.time()\n",
    "fit_time = (end - start)\n",
    "\n",
    "start = time.time()\n",
    "y_pred = xgb.predict(X_test_vect)\n",
    "end = time.time()\n",
    "fit_time = (end - start)\n",
    "\n",
    "print('Accuracy : ' + str(accuracy_score(y_test,y_pred)))\n",
    "print('Precision : ' + str(precision_score(y_test,y_pred)))\n",
    "print('Recall : ' + str(recall_score(y_test,y_pred)))\n",
    "print('F1 Score : ' + str(f1_score(y_test,y_pred)))\n",
    "print('Fit time : ' + str(fit_time))\n",
    "print('Predict time : ' + str(pred_time))\n",
    "\n",
    "print('Confusion Matrix : \\n' + str(confusion_matrix(y_test,y_pred)))"
   ]
  },
  {
   "cell_type": "code",
   "execution_count": 33,
   "metadata": {},
   "outputs": [],
   "source": [
    "feat_importances = pd.Series(xgb.feature_importances_, index=X_train_vect.columns.tolist())"
   ]
  },
  {
   "cell_type": "code",
   "execution_count": 34,
   "metadata": {},
   "outputs": [
    {
     "data": {
      "image/png": "[encoded data removed]",
      "text/plain": [
       "<Figure size 432x288 with 1 Axes>"
      ]
     },
     "metadata": {
      "needs_background": "light"
     },
     "output_type": "display_data"
    }
   ],
   "source": [
    "feat_importances.nlargest(20).plot(kind='barh')\n",
    "plt.show()"
   ]
  },
  {
   "cell_type": "code",
   "execution_count": 35,
   "metadata": {},
   "outputs": [
    {
     "name": "stdout",
     "output_type": "stream",
     "text": [
      "Confusion matrix, without normalization\n",
      "[[231  20]\n",
      " [  3 327]]\n"
     ]
    },
    {
     "data": {
      "image/png": "[encoded data removed]",
      "text/plain": [
       "<Figure size 576x288 with 2 Axes>"
      ]
     },
     "metadata": {
      "needs_background": "light"
     },
     "output_type": "display_data"
    }
   ],
   "source": [
    "#confusion matrix plot\n",
    "cnf_matrix = confusion_matrix(y_test, y_pred)\n",
    "np.set_printoptions(precision=2)\n",
    "\n",
    "# Plot non-normalized confusion matrix\n",
    "plt.figure()\n",
    "class_names = [0,1]\n",
    "plot_confusion_matrix(cnf_matrix, classes=class_names,\n",
    "                      title='Confusion matrix - Extreme Gradient Boosting')\n",
    "a = plt.gcf()\n",
    "a.set_size_inches(8,4)\n",
    "plt.show()"
   ]
  },
  {
   "cell_type": "code",
   "execution_count": 36,
   "metadata": {},
   "outputs": [
    {
     "name": "stderr",
     "output_type": "stream",
     "text": [
      "/anaconda3/lib/python3.7/site-packages/sklearn/model_selection/_split.py:2053: FutureWarning: You should specify a value for 'cv' instead of relying on the default value. The default value will change from 3 to 5 in version 0.22.\n",
      "  warnings.warn(CV_WARNING, FutureWarning)\n"
     ]
    },
    {
     "data": {
      "image/png": "[encoded data removed]",
      "text/plain": [
       "<Figure size 432x288 with 1 Axes>"
      ]
     },
     "metadata": {
      "needs_background": "light"
     },
     "output_type": "display_data"
    }
   ],
   "source": [
    "#Plotting ROC curve\n",
    "from sklearn import metrics\n",
    "probs = grid_xgbm_acc.fit(X_train_vect, y_train).predict_proba(X_test_vect)\n",
    "preds = probs[:,1]\n",
    "fpr, tpr, threshold = metrics.roc_curve(y_test, preds)\n",
    "roc_auc = metrics.auc(fpr, tpr)\n",
    "\n",
    "plt.figure()\n",
    "plt.plot(fpr, tpr, label='GridSearchCV (area = %0.2f)' % roc_auc)\n",
    "plt.plot([0, 1], [0, 1],'r--')\n",
    "plt.xlim([0.0, 1.0])\n",
    "plt.ylim([0.0, 1.05])\n",
    "plt.xlabel('False Positive Rate')\n",
    "plt.ylabel('True Positive Rate')\n",
    "plt.title('Receiver operating characteristic')\n",
    "plt.legend(loc=\"lower right\")\n",
    "plt.savefig('Log_ROC')\n",
    "plt.show()"
   ]
  },
  {
   "cell_type": "code",
   "execution_count": 90,
   "metadata": {},
   "outputs": [
    {
     "name": "stderr",
     "output_type": "stream",
     "text": [
      "/anaconda3/lib/python3.7/site-packages/sklearn/model_selection/_split.py:2053: FutureWarning: You should specify a value for 'cv' instead of relying on the default value. The default value will change from 3 to 5 in version 0.22.\n",
      "  warnings.warn(CV_WARNING, FutureWarning)\n",
      "/anaconda3/lib/python3.7/site-packages/sklearn/linear_model/logistic.py:433: FutureWarning: Default solver will be changed to 'lbfgs' in 0.22. Specify a solver to silence this warning.\n",
      "  FutureWarning)\n",
      "/anaconda3/lib/python3.7/site-packages/sklearn/linear_model/logistic.py:433: FutureWarning: Default solver will be changed to 'lbfgs' in 0.22. Specify a solver to silence this warning.\n",
      "  FutureWarning)\n",
      "/anaconda3/lib/python3.7/site-packages/sklearn/linear_model/logistic.py:433: FutureWarning: Default solver will be changed to 'lbfgs' in 0.22. Specify a solver to silence this warning.\n",
      "  FutureWarning)\n",
      "/anaconda3/lib/python3.7/site-packages/sklearn/linear_model/logistic.py:433: FutureWarning: Default solver will be changed to 'lbfgs' in 0.22. Specify a solver to silence this warning.\n",
      "  FutureWarning)\n",
      "/anaconda3/lib/python3.7/site-packages/sklearn/linear_model/logistic.py:433: FutureWarning: Default solver will be changed to 'lbfgs' in 0.22. Specify a solver to silence this warning.\n",
      "  FutureWarning)\n",
      "/anaconda3/lib/python3.7/site-packages/sklearn/linear_model/logistic.py:433: FutureWarning: Default solver will be changed to 'lbfgs' in 0.22. Specify a solver to silence this warning.\n",
      "  FutureWarning)\n",
      "/anaconda3/lib/python3.7/site-packages/sklearn/linear_model/logistic.py:433: FutureWarning: Default solver will be changed to 'lbfgs' in 0.22. Specify a solver to silence this warning.\n",
      "  FutureWarning)\n",
      "/anaconda3/lib/python3.7/site-packages/sklearn/linear_model/logistic.py:433: FutureWarning: Default solver will be changed to 'lbfgs' in 0.22. Specify a solver to silence this warning.\n",
      "  FutureWarning)\n",
      "/anaconda3/lib/python3.7/site-packages/sklearn/linear_model/logistic.py:433: FutureWarning: Default solver will be changed to 'lbfgs' in 0.22. Specify a solver to silence this warning.\n",
      "  FutureWarning)\n",
      "/anaconda3/lib/python3.7/site-packages/sklearn/linear_model/logistic.py:433: FutureWarning: Default solver will be changed to 'lbfgs' in 0.22. Specify a solver to silence this warning.\n",
      "  FutureWarning)\n",
      "/anaconda3/lib/python3.7/site-packages/sklearn/linear_model/logistic.py:433: FutureWarning: Default solver will be changed to 'lbfgs' in 0.22. Specify a solver to silence this warning.\n",
      "  FutureWarning)\n",
      "/anaconda3/lib/python3.7/site-packages/sklearn/linear_model/logistic.py:433: FutureWarning: Default solver will be changed to 'lbfgs' in 0.22. Specify a solver to silence this warning.\n",
      "  FutureWarning)\n",
      "/anaconda3/lib/python3.7/site-packages/sklearn/linear_model/logistic.py:433: FutureWarning: Default solver will be changed to 'lbfgs' in 0.22. Specify a solver to silence this warning.\n",
      "  FutureWarning)\n",
      "/anaconda3/lib/python3.7/site-packages/sklearn/linear_model/logistic.py:433: FutureWarning: Default solver will be changed to 'lbfgs' in 0.22. Specify a solver to silence this warning.\n",
      "  FutureWarning)\n",
      "/anaconda3/lib/python3.7/site-packages/sklearn/linear_model/logistic.py:433: FutureWarning: Default solver will be changed to 'lbfgs' in 0.22. Specify a solver to silence this warning.\n",
      "  FutureWarning)\n",
      "/anaconda3/lib/python3.7/site-packages/sklearn/linear_model/logistic.py:433: FutureWarning: Default solver will be changed to 'lbfgs' in 0.22. Specify a solver to silence this warning.\n",
      "  FutureWarning)\n",
      "/anaconda3/lib/python3.7/site-packages/sklearn/linear_model/logistic.py:433: FutureWarning: Default solver will be changed to 'lbfgs' in 0.22. Specify a solver to silence this warning.\n",
      "  FutureWarning)\n",
      "/anaconda3/lib/python3.7/site-packages/sklearn/linear_model/logistic.py:433: FutureWarning: Default solver will be changed to 'lbfgs' in 0.22. Specify a solver to silence this warning.\n",
      "  FutureWarning)\n",
      "/anaconda3/lib/python3.7/site-packages/sklearn/linear_model/logistic.py:433: FutureWarning: Default solver will be changed to 'lbfgs' in 0.22. Specify a solver to silence this warning.\n",
      "  FutureWarning)\n",
      "/anaconda3/lib/python3.7/site-packages/sklearn/linear_model/logistic.py:433: FutureWarning: Default solver will be changed to 'lbfgs' in 0.22. Specify a solver to silence this warning.\n",
      "  FutureWarning)\n",
      "/anaconda3/lib/python3.7/site-packages/sklearn/linear_model/logistic.py:433: FutureWarning: Default solver will be changed to 'lbfgs' in 0.22. Specify a solver to silence this warning.\n",
      "  FutureWarning)\n",
      "/anaconda3/lib/python3.7/site-packages/sklearn/linear_model/logistic.py:433: FutureWarning: Default solver will be changed to 'lbfgs' in 0.22. Specify a solver to silence this warning.\n",
      "  FutureWarning)\n",
      "/anaconda3/lib/python3.7/site-packages/sklearn/linear_model/logistic.py:433: FutureWarning: Default solver will be changed to 'lbfgs' in 0.22. Specify a solver to silence this warning.\n",
      "  FutureWarning)\n",
      "/anaconda3/lib/python3.7/site-packages/sklearn/linear_model/logistic.py:433: FutureWarning: Default solver will be changed to 'lbfgs' in 0.22. Specify a solver to silence this warning.\n",
      "  FutureWarning)\n",
      "/anaconda3/lib/python3.7/site-packages/sklearn/linear_model/logistic.py:433: FutureWarning: Default solver will be changed to 'lbfgs' in 0.22. Specify a solver to silence this warning.\n",
      "  FutureWarning)\n",
      "/anaconda3/lib/python3.7/site-packages/sklearn/linear_model/logistic.py:433: FutureWarning: Default solver will be changed to 'lbfgs' in 0.22. Specify a solver to silence this warning.\n",
      "  FutureWarning)\n",
      "/anaconda3/lib/python3.7/site-packages/sklearn/linear_model/logistic.py:433: FutureWarning: Default solver will be changed to 'lbfgs' in 0.22. Specify a solver to silence this warning.\n",
      "  FutureWarning)\n",
      "/anaconda3/lib/python3.7/site-packages/sklearn/linear_model/logistic.py:433: FutureWarning: Default solver will be changed to 'lbfgs' in 0.22. Specify a solver to silence this warning.\n",
      "  FutureWarning)\n",
      "/anaconda3/lib/python3.7/site-packages/sklearn/linear_model/logistic.py:433: FutureWarning: Default solver will be changed to 'lbfgs' in 0.22. Specify a solver to silence this warning.\n",
      "  FutureWarning)\n",
      "/anaconda3/lib/python3.7/site-packages/sklearn/linear_model/logistic.py:433: FutureWarning: Default solver will be changed to 'lbfgs' in 0.22. Specify a solver to silence this warning.\n",
      "  FutureWarning)\n",
      "/anaconda3/lib/python3.7/site-packages/sklearn/linear_model/logistic.py:433: FutureWarning: Default solver will be changed to 'lbfgs' in 0.22. Specify a solver to silence this warning.\n",
      "  FutureWarning)\n",
      "/anaconda3/lib/python3.7/site-packages/sklearn/linear_model/logistic.py:433: FutureWarning: Default solver will be changed to 'lbfgs' in 0.22. Specify a solver to silence this warning.\n",
      "  FutureWarning)\n",
      "/anaconda3/lib/python3.7/site-packages/sklearn/linear_model/logistic.py:433: FutureWarning: Default solver will be changed to 'lbfgs' in 0.22. Specify a solver to silence this warning.\n",
      "  FutureWarning)\n",
      "/anaconda3/lib/python3.7/site-packages/sklearn/linear_model/logistic.py:433: FutureWarning: Default solver will be changed to 'lbfgs' in 0.22. Specify a solver to silence this warning.\n",
      "  FutureWarning)\n",
      "/anaconda3/lib/python3.7/site-packages/sklearn/linear_model/logistic.py:433: FutureWarning: Default solver will be changed to 'lbfgs' in 0.22. Specify a solver to silence this warning.\n",
      "  FutureWarning)\n",
      "/anaconda3/lib/python3.7/site-packages/sklearn/linear_model/logistic.py:433: FutureWarning: Default solver will be changed to 'lbfgs' in 0.22. Specify a solver to silence this warning.\n",
      "  FutureWarning)\n",
      "/anaconda3/lib/python3.7/site-packages/sklearn/linear_model/logistic.py:433: FutureWarning: Default solver will be changed to 'lbfgs' in 0.22. Specify a solver to silence this warning.\n",
      "  FutureWarning)\n",
      "/anaconda3/lib/python3.7/site-packages/sklearn/linear_model/logistic.py:433: FutureWarning: Default solver will be changed to 'lbfgs' in 0.22. Specify a solver to silence this warning.\n",
      "  FutureWarning)\n",
      "/anaconda3/lib/python3.7/site-packages/sklearn/linear_model/logistic.py:433: FutureWarning: Default solver will be changed to 'lbfgs' in 0.22. Specify a solver to silence this warning.\n",
      "  FutureWarning)\n",
      "/anaconda3/lib/python3.7/site-packages/sklearn/linear_model/logistic.py:433: FutureWarning: Default solver will be changed to 'lbfgs' in 0.22. Specify a solver to silence this warning.\n",
      "  FutureWarning)\n",
      "/anaconda3/lib/python3.7/site-packages/sklearn/linear_model/logistic.py:433: FutureWarning: Default solver will be changed to 'lbfgs' in 0.22. Specify a solver to silence this warning.\n",
      "  FutureWarning)\n",
      "/anaconda3/lib/python3.7/site-packages/sklearn/linear_model/logistic.py:433: FutureWarning: Default solver will be changed to 'lbfgs' in 0.22. Specify a solver to silence this warning.\n",
      "  FutureWarning)\n",
      "/anaconda3/lib/python3.7/site-packages/sklearn/linear_model/logistic.py:433: FutureWarning: Default solver will be changed to 'lbfgs' in 0.22. Specify a solver to silence this warning.\n",
      "  FutureWarning)\n",
      "/anaconda3/lib/python3.7/site-packages/sklearn/linear_model/logistic.py:433: FutureWarning: Default solver will be changed to 'lbfgs' in 0.22. Specify a solver to silence this warning.\n",
      "  FutureWarning)\n"
     ]
    },
    {
     "name": "stderr",
     "output_type": "stream",
     "text": [
      "/anaconda3/lib/python3.7/site-packages/sklearn/linear_model/logistic.py:433: FutureWarning: Default solver will be changed to 'lbfgs' in 0.22. Specify a solver to silence this warning.\n",
      "  FutureWarning)\n",
      "/anaconda3/lib/python3.7/site-packages/sklearn/linear_model/logistic.py:433: FutureWarning: Default solver will be changed to 'lbfgs' in 0.22. Specify a solver to silence this warning.\n",
      "  FutureWarning)\n",
      "/anaconda3/lib/python3.7/site-packages/sklearn/linear_model/logistic.py:433: FutureWarning: Default solver will be changed to 'lbfgs' in 0.22. Specify a solver to silence this warning.\n",
      "  FutureWarning)\n",
      "/anaconda3/lib/python3.7/site-packages/sklearn/linear_model/logistic.py:433: FutureWarning: Default solver will be changed to 'lbfgs' in 0.22. Specify a solver to silence this warning.\n",
      "  FutureWarning)\n",
      "/anaconda3/lib/python3.7/site-packages/sklearn/linear_model/logistic.py:433: FutureWarning: Default solver will be changed to 'lbfgs' in 0.22. Specify a solver to silence this warning.\n",
      "  FutureWarning)\n"
     ]
    },
    {
     "data": {
      "text/plain": [
       "GridSearchCV(cv='warn', error_score='raise-deprecating',\n",
       "       estimator=LogisticRegression(C=1.0, class_weight=None, dual=False, fit_intercept=True,\n",
       "          intercept_scaling=1, max_iter=100, multi_class='warn',\n",
       "          n_jobs=None, penalty='l2', random_state=None, solver='warn',\n",
       "          tol=0.0001, verbose=0, warm_start=False),\n",
       "       fit_params=None, iid='warn', n_jobs=None,\n",
       "       param_grid={'penalty': ['l1', 'l2'], 'C': [0.001, 0.009, 0.01, 0.09, 1, 5, 10, 25]},\n",
       "       pre_dispatch='2*n_jobs', refit=True, return_train_score='warn',\n",
       "       scoring=None, verbose=0)"
      ]
     },
     "execution_count": 90,
     "metadata": {},
     "output_type": "execute_result"
    }
   ],
   "source": [
    "#logistic regression grid search\n",
    "from sklearn.linear_model import LogisticRegression\n",
    "from sklearn.model_selection import GridSearchCV\n",
    "clf = LogisticRegression()\n",
    "grid_values = {'penalty': ['l1', 'l2'],'C':[0.001,.009,0.01,.09,1,5,10,25]}\n",
    "grid_clf_acc = GridSearchCV(clf, param_grid = grid_values)\n",
    "grid_clf_acc.fit(X_train_vect, y_train)"
   ]
  },
  {
   "cell_type": "code",
   "execution_count": 91,
   "metadata": {},
   "outputs": [
    {
     "data": {
      "text/plain": [
       "{'C': 0.09, 'penalty': 'l1'}"
      ]
     },
     "execution_count": 91,
     "metadata": {},
     "output_type": "execute_result"
    }
   ],
   "source": [
    "grid_clf_acc.best_params_"
   ]
  },
  {
   "cell_type": "code",
   "execution_count": 92,
   "metadata": {},
   "outputs": [
    {
     "name": "stdout",
     "output_type": "stream",
     "text": [
      "Accuracy : 0.955249569707401\n",
      "Precision : 0.9323076923076923\n",
      "Recall : 0.9869706840390879\n",
      "F1 Score : 0.9588607594936709\n",
      "Fit time : 0.0012729167938232422\n",
      "Predict time : 0.20774507522583008\n",
      "Confusion Matrix : \n",
      "[[252  22]\n",
      " [  4 303]]\n"
     ]
    },
    {
     "name": "stderr",
     "output_type": "stream",
     "text": [
      "/anaconda3/lib/python3.7/site-packages/sklearn/linear_model/logistic.py:433: FutureWarning: Default solver will be changed to 'lbfgs' in 0.22. Specify a solver to silence this warning.\n",
      "  FutureWarning)\n"
     ]
    }
   ],
   "source": [
    "#Using Logistic Regression\n",
    "from sklearn.linear_model import LogisticRegression\n",
    "\n",
    "log = LogisticRegression(C = 0.09, penalty = 'l1')\n",
    "start = time.time()\n",
    "log.fit(X_train_vect, y_train)\n",
    "end = time.time()\n",
    "fit_time = (end - start)\n",
    "\n",
    "start = time.time()\n",
    "y_pred = log.predict(X_test_vect)\n",
    "end = time.time()\n",
    "fit_time = (end - start)\n",
    "\n",
    "print('Accuracy : ' + str(accuracy_score(y_test,y_pred)))\n",
    "print('Precision : ' + str(precision_score(y_test,y_pred)))\n",
    "print('Recall : ' + str(recall_score(y_test,y_pred)))\n",
    "print('F1 Score : ' + str(f1_score(y_test,y_pred)))\n",
    "print('Fit time : ' + str(fit_time))\n",
    "print('Predict time : ' + str(pred_time))\n",
    "\n",
    "print('Confusion Matrix : \\n' + str(confusion_matrix(y_test,y_pred)))"
   ]
  },
  {
   "cell_type": "code",
   "execution_count": 93,
   "metadata": {},
   "outputs": [
    {
     "name": "stderr",
     "output_type": "stream",
     "text": [
      "/anaconda3/lib/python3.7/site-packages/sklearn/linear_model/logistic.py:433: FutureWarning: Default solver will be changed to 'lbfgs' in 0.22. Specify a solver to silence this warning.\n",
      "  FutureWarning)\n"
     ]
    },
    {
     "data": {
      "text/plain": [
       "array([182, 180, 173, 184, 158, 170, 169, 168, 167, 166, 427, 165, 164,\n",
       "       430, 163, 162, 161, 160, 159, 499])"
      ]
     },
     "execution_count": 93,
     "metadata": {},
     "output_type": "execute_result"
    }
   ],
   "source": [
    "import numpy as np\n",
    "logmodel = log.fit(X_train_vect, y_train)\n",
    "coefs=logmodel.coef_[0]\n",
    "top_three = np.argpartition(coefs, -20)[-20:]\n",
    "#top_three_sorted=top_three[np.argsort(coefs[top_three])]\n",
    "top_three"
   ]
  },
  {
   "cell_type": "code",
   "execution_count": null,
   "metadata": {},
   "outputs": [],
   "source": [
    "feat_importances.nlargest(20).plot(kind='barh')\n",
    "plt.show()"
   ]
  },
  {
   "cell_type": "code",
   "execution_count": 46,
   "metadata": {},
   "outputs": [
    {
     "name": "stdout",
     "output_type": "stream",
     "text": [
      "Confusion matrix, without normalization\n",
      "[[231  20]\n",
      " [  2 328]]\n"
     ]
    },
    {
     "data": {
      "image/png": "[encoded data removed]",
      "text/plain": [
       "<Figure size 576x288 with 2 Axes>"
      ]
     },
     "metadata": {
      "needs_background": "light"
     },
     "output_type": "display_data"
    }
   ],
   "source": [
    "#confusion matrix plot\n",
    "cnf_matrix = confusion_matrix(y_test, y_pred)\n",
    "np.set_printoptions(precision=2)\n",
    "\n",
    "# Plot non-normalized confusion matrix\n",
    "plt.figure()\n",
    "class_names = [0,1]\n",
    "plot_confusion_matrix(cnf_matrix, classes=class_names,\n",
    "                      title='Confusion matrix - Logistic Regression')\n",
    "a = plt.gcf()\n",
    "a.set_size_inches(8,4)\n",
    "plt.show()"
   ]
  },
  {
   "cell_type": "code",
   "execution_count": 42,
   "metadata": {},
   "outputs": [
    {
     "name": "stderr",
     "output_type": "stream",
     "text": [
      "/anaconda3/lib/python3.7/site-packages/sklearn/model_selection/_split.py:2053: FutureWarning: You should specify a value for 'cv' instead of relying on the default value. The default value will change from 3 to 5 in version 0.22.\n",
      "  warnings.warn(CV_WARNING, FutureWarning)\n",
      "/anaconda3/lib/python3.7/site-packages/sklearn/linear_model/logistic.py:433: FutureWarning: Default solver will be changed to 'lbfgs' in 0.22. Specify a solver to silence this warning.\n",
      "  FutureWarning)\n",
      "/anaconda3/lib/python3.7/site-packages/sklearn/linear_model/logistic.py:433: FutureWarning: Default solver will be changed to 'lbfgs' in 0.22. Specify a solver to silence this warning.\n",
      "  FutureWarning)\n",
      "/anaconda3/lib/python3.7/site-packages/sklearn/linear_model/logistic.py:433: FutureWarning: Default solver will be changed to 'lbfgs' in 0.22. Specify a solver to silence this warning.\n",
      "  FutureWarning)\n",
      "/anaconda3/lib/python3.7/site-packages/sklearn/linear_model/logistic.py:433: FutureWarning: Default solver will be changed to 'lbfgs' in 0.22. Specify a solver to silence this warning.\n",
      "  FutureWarning)\n",
      "/anaconda3/lib/python3.7/site-packages/sklearn/linear_model/logistic.py:433: FutureWarning: Default solver will be changed to 'lbfgs' in 0.22. Specify a solver to silence this warning.\n",
      "  FutureWarning)\n",
      "/anaconda3/lib/python3.7/site-packages/sklearn/linear_model/logistic.py:433: FutureWarning: Default solver will be changed to 'lbfgs' in 0.22. Specify a solver to silence this warning.\n",
      "  FutureWarning)\n",
      "/anaconda3/lib/python3.7/site-packages/sklearn/linear_model/logistic.py:433: FutureWarning: Default solver will be changed to 'lbfgs' in 0.22. Specify a solver to silence this warning.\n",
      "  FutureWarning)\n",
      "/anaconda3/lib/python3.7/site-packages/sklearn/linear_model/logistic.py:433: FutureWarning: Default solver will be changed to 'lbfgs' in 0.22. Specify a solver to silence this warning.\n",
      "  FutureWarning)\n",
      "/anaconda3/lib/python3.7/site-packages/sklearn/linear_model/logistic.py:433: FutureWarning: Default solver will be changed to 'lbfgs' in 0.22. Specify a solver to silence this warning.\n",
      "  FutureWarning)\n",
      "/anaconda3/lib/python3.7/site-packages/sklearn/linear_model/logistic.py:433: FutureWarning: Default solver will be changed to 'lbfgs' in 0.22. Specify a solver to silence this warning.\n",
      "  FutureWarning)\n",
      "/anaconda3/lib/python3.7/site-packages/sklearn/linear_model/logistic.py:433: FutureWarning: Default solver will be changed to 'lbfgs' in 0.22. Specify a solver to silence this warning.\n",
      "  FutureWarning)\n",
      "/anaconda3/lib/python3.7/site-packages/sklearn/linear_model/logistic.py:433: FutureWarning: Default solver will be changed to 'lbfgs' in 0.22. Specify a solver to silence this warning.\n",
      "  FutureWarning)\n",
      "/anaconda3/lib/python3.7/site-packages/sklearn/linear_model/logistic.py:433: FutureWarning: Default solver will be changed to 'lbfgs' in 0.22. Specify a solver to silence this warning.\n",
      "  FutureWarning)\n",
      "/anaconda3/lib/python3.7/site-packages/sklearn/linear_model/logistic.py:433: FutureWarning: Default solver will be changed to 'lbfgs' in 0.22. Specify a solver to silence this warning.\n",
      "  FutureWarning)\n",
      "/anaconda3/lib/python3.7/site-packages/sklearn/linear_model/logistic.py:433: FutureWarning: Default solver will be changed to 'lbfgs' in 0.22. Specify a solver to silence this warning.\n",
      "  FutureWarning)\n",
      "/anaconda3/lib/python3.7/site-packages/sklearn/linear_model/logistic.py:433: FutureWarning: Default solver will be changed to 'lbfgs' in 0.22. Specify a solver to silence this warning.\n",
      "  FutureWarning)\n",
      "/anaconda3/lib/python3.7/site-packages/sklearn/linear_model/logistic.py:433: FutureWarning: Default solver will be changed to 'lbfgs' in 0.22. Specify a solver to silence this warning.\n",
      "  FutureWarning)\n",
      "/anaconda3/lib/python3.7/site-packages/sklearn/linear_model/logistic.py:433: FutureWarning: Default solver will be changed to 'lbfgs' in 0.22. Specify a solver to silence this warning.\n",
      "  FutureWarning)\n",
      "/anaconda3/lib/python3.7/site-packages/sklearn/linear_model/logistic.py:433: FutureWarning: Default solver will be changed to 'lbfgs' in 0.22. Specify a solver to silence this warning.\n",
      "  FutureWarning)\n",
      "/anaconda3/lib/python3.7/site-packages/sklearn/linear_model/logistic.py:433: FutureWarning: Default solver will be changed to 'lbfgs' in 0.22. Specify a solver to silence this warning.\n",
      "  FutureWarning)\n",
      "/anaconda3/lib/python3.7/site-packages/sklearn/linear_model/logistic.py:433: FutureWarning: Default solver will be changed to 'lbfgs' in 0.22. Specify a solver to silence this warning.\n",
      "  FutureWarning)\n",
      "/anaconda3/lib/python3.7/site-packages/sklearn/linear_model/logistic.py:433: FutureWarning: Default solver will be changed to 'lbfgs' in 0.22. Specify a solver to silence this warning.\n",
      "  FutureWarning)\n",
      "/anaconda3/lib/python3.7/site-packages/sklearn/linear_model/logistic.py:433: FutureWarning: Default solver will be changed to 'lbfgs' in 0.22. Specify a solver to silence this warning.\n",
      "  FutureWarning)\n",
      "/anaconda3/lib/python3.7/site-packages/sklearn/linear_model/logistic.py:433: FutureWarning: Default solver will be changed to 'lbfgs' in 0.22. Specify a solver to silence this warning.\n",
      "  FutureWarning)\n",
      "/anaconda3/lib/python3.7/site-packages/sklearn/linear_model/logistic.py:433: FutureWarning: Default solver will be changed to 'lbfgs' in 0.22. Specify a solver to silence this warning.\n",
      "  FutureWarning)\n",
      "/anaconda3/lib/python3.7/site-packages/sklearn/linear_model/logistic.py:433: FutureWarning: Default solver will be changed to 'lbfgs' in 0.22. Specify a solver to silence this warning.\n",
      "  FutureWarning)\n",
      "/anaconda3/lib/python3.7/site-packages/sklearn/linear_model/logistic.py:433: FutureWarning: Default solver will be changed to 'lbfgs' in 0.22. Specify a solver to silence this warning.\n",
      "  FutureWarning)\n",
      "/anaconda3/lib/python3.7/site-packages/sklearn/linear_model/logistic.py:433: FutureWarning: Default solver will be changed to 'lbfgs' in 0.22. Specify a solver to silence this warning.\n",
      "  FutureWarning)\n",
      "/anaconda3/lib/python3.7/site-packages/sklearn/linear_model/logistic.py:433: FutureWarning: Default solver will be changed to 'lbfgs' in 0.22. Specify a solver to silence this warning.\n",
      "  FutureWarning)\n",
      "/anaconda3/lib/python3.7/site-packages/sklearn/linear_model/logistic.py:433: FutureWarning: Default solver will be changed to 'lbfgs' in 0.22. Specify a solver to silence this warning.\n",
      "  FutureWarning)\n",
      "/anaconda3/lib/python3.7/site-packages/sklearn/linear_model/logistic.py:433: FutureWarning: Default solver will be changed to 'lbfgs' in 0.22. Specify a solver to silence this warning.\n",
      "  FutureWarning)\n",
      "/anaconda3/lib/python3.7/site-packages/sklearn/linear_model/logistic.py:433: FutureWarning: Default solver will be changed to 'lbfgs' in 0.22. Specify a solver to silence this warning.\n",
      "  FutureWarning)\n",
      "/anaconda3/lib/python3.7/site-packages/sklearn/linear_model/logistic.py:433: FutureWarning: Default solver will be changed to 'lbfgs' in 0.22. Specify a solver to silence this warning.\n",
      "  FutureWarning)\n",
      "/anaconda3/lib/python3.7/site-packages/sklearn/linear_model/logistic.py:433: FutureWarning: Default solver will be changed to 'lbfgs' in 0.22. Specify a solver to silence this warning.\n",
      "  FutureWarning)\n",
      "/anaconda3/lib/python3.7/site-packages/sklearn/linear_model/logistic.py:433: FutureWarning: Default solver will be changed to 'lbfgs' in 0.22. Specify a solver to silence this warning.\n",
      "  FutureWarning)\n",
      "/anaconda3/lib/python3.7/site-packages/sklearn/linear_model/logistic.py:433: FutureWarning: Default solver will be changed to 'lbfgs' in 0.22. Specify a solver to silence this warning.\n",
      "  FutureWarning)\n",
      "/anaconda3/lib/python3.7/site-packages/sklearn/linear_model/logistic.py:433: FutureWarning: Default solver will be changed to 'lbfgs' in 0.22. Specify a solver to silence this warning.\n",
      "  FutureWarning)\n",
      "/anaconda3/lib/python3.7/site-packages/sklearn/linear_model/logistic.py:433: FutureWarning: Default solver will be changed to 'lbfgs' in 0.22. Specify a solver to silence this warning.\n",
      "  FutureWarning)\n",
      "/anaconda3/lib/python3.7/site-packages/sklearn/linear_model/logistic.py:433: FutureWarning: Default solver will be changed to 'lbfgs' in 0.22. Specify a solver to silence this warning.\n",
      "  FutureWarning)\n",
      "/anaconda3/lib/python3.7/site-packages/sklearn/linear_model/logistic.py:433: FutureWarning: Default solver will be changed to 'lbfgs' in 0.22. Specify a solver to silence this warning.\n",
      "  FutureWarning)\n",
      "/anaconda3/lib/python3.7/site-packages/sklearn/linear_model/logistic.py:433: FutureWarning: Default solver will be changed to 'lbfgs' in 0.22. Specify a solver to silence this warning.\n",
      "  FutureWarning)\n"
     ]
    },
    {
     "name": "stderr",
     "output_type": "stream",
     "text": [
      "/anaconda3/lib/python3.7/site-packages/sklearn/linear_model/logistic.py:433: FutureWarning: Default solver will be changed to 'lbfgs' in 0.22. Specify a solver to silence this warning.\n",
      "  FutureWarning)\n",
      "/anaconda3/lib/python3.7/site-packages/sklearn/linear_model/logistic.py:433: FutureWarning: Default solver will be changed to 'lbfgs' in 0.22. Specify a solver to silence this warning.\n",
      "  FutureWarning)\n",
      "/anaconda3/lib/python3.7/site-packages/sklearn/linear_model/logistic.py:433: FutureWarning: Default solver will be changed to 'lbfgs' in 0.22. Specify a solver to silence this warning.\n",
      "  FutureWarning)\n",
      "/anaconda3/lib/python3.7/site-packages/sklearn/linear_model/logistic.py:433: FutureWarning: Default solver will be changed to 'lbfgs' in 0.22. Specify a solver to silence this warning.\n",
      "  FutureWarning)\n",
      "/anaconda3/lib/python3.7/site-packages/sklearn/linear_model/logistic.py:433: FutureWarning: Default solver will be changed to 'lbfgs' in 0.22. Specify a solver to silence this warning.\n",
      "  FutureWarning)\n",
      "/anaconda3/lib/python3.7/site-packages/sklearn/linear_model/logistic.py:433: FutureWarning: Default solver will be changed to 'lbfgs' in 0.22. Specify a solver to silence this warning.\n",
      "  FutureWarning)\n",
      "/anaconda3/lib/python3.7/site-packages/sklearn/linear_model/logistic.py:433: FutureWarning: Default solver will be changed to 'lbfgs' in 0.22. Specify a solver to silence this warning.\n",
      "  FutureWarning)\n",
      "/anaconda3/lib/python3.7/site-packages/sklearn/linear_model/logistic.py:433: FutureWarning: Default solver will be changed to 'lbfgs' in 0.22. Specify a solver to silence this warning.\n",
      "  FutureWarning)\n"
     ]
    },
    {
     "data": {
      "image/png": "[encoded data removed]",
      "text/plain": [
       "<Figure size 432x288 with 1 Axes>"
      ]
     },
     "metadata": {
      "needs_background": "light"
     },
     "output_type": "display_data"
    }
   ],
   "source": [
    "#Plotting ROC curve\n",
    "from sklearn import metrics\n",
    "probs = grid_clf_acc.fit(X_train_vect, y_train).predict_proba(X_test_vect)\n",
    "preds = probs[:,1]\n",
    "fpr, tpr, threshold = metrics.roc_curve(y_test, preds)\n",
    "roc_auc = metrics.auc(fpr, tpr)\n",
    "\n",
    "plt.figure()\n",
    "plt.plot(fpr, tpr, label='GridSearchCV (area = %0.2f)' % roc_auc)\n",
    "plt.plot([0, 1], [0, 1],'r--')\n",
    "plt.xlim([0.0, 1.0])\n",
    "plt.ylim([0.0, 1.05])\n",
    "plt.xlabel('False Positive Rate')\n",
    "plt.ylabel('True Positive Rate')\n",
    "plt.title('Receiver operating characteristic')\n",
    "plt.legend(loc=\"lower right\")\n",
    "plt.savefig('Log_ROC')\n",
    "plt.show()"
   ]
  },
  {
   "cell_type": "code",
   "execution_count": 118,
   "metadata": {},
   "outputs": [
    {
     "name": "stdout",
     "output_type": "stream",
     "text": [
      "Accuracy : 0.8123924268502581\n",
      "Precision : 0.7853658536585366\n",
      "Recall : 0.9387755102040817\n",
      "F1 Score : 0.855245683930943\n",
      "Fit time : 0.004968166351318359\n",
      "Predict time : 0.2057650089263916\n",
      "Confusion Matrix : \n",
      "[[150  88]\n",
      " [ 21 322]]\n"
     ]
    }
   ],
   "source": [
    "#Using Naive Bayes \n",
    "from sklearn.naive_bayes import GaussianNB\n",
    "from sklearn.naive_bayes import MultinomialNB\n",
    "\n",
    "#nb = MultinomialNB()\n",
    "\n",
    "nb = GaussianNB()\n",
    "start = time.time()\n",
    "nb.fit(X_train_vect, y_train)\n",
    "end = time.time()\n",
    "fit_time = (end - start)\n",
    "\n",
    "start = time.time()\n",
    "y_pred = nb.predict(X_test_vect)\n",
    "end = time.time()\n",
    "fit_time = (end - start)\n",
    "\n",
    "print('Accuracy : ' + str(accuracy_score(y_test,y_pred)))\n",
    "print('Precision : ' + str(precision_score(y_test,y_pred)))\n",
    "print('Recall : ' + str(recall_score(y_test,y_pred)))\n",
    "print('F1 Score : ' + str(f1_score(y_test,y_pred)))\n",
    "print('Fit time : ' + str(fit_time))\n",
    "print('Predict time : ' + str(pred_time))\n",
    "\n",
    "print('Confusion Matrix : \\n' + str(confusion_matrix(y_test,y_pred)))"
   ]
  },
  {
   "cell_type": "code",
   "execution_count": 119,
   "metadata": {},
   "outputs": [
    {
     "name": "stdout",
     "output_type": "stream",
     "text": [
      "['million' 'rate' 'weve' 'continu' 'strong' 'oper' 'revenu' 'improv'\n",
      " 'last' 'product' 'margin' 'increas' 'remain' 'market' 'expect' 'busi'\n",
      " 'quarter' 'growth' 'steadi' 'stabl']\n"
     ]
    }
   ],
   "source": [
    "pos_class_prob_sorted = nb.feature_log_prob_[1, :].argsort()\n",
    "\n",
    "print(np.take(tfidf_vect.get_feature_names(), pos_class_prob_sorted[-20:]))"
   ]
  },
  {
   "cell_type": "code",
   "execution_count": 47,
   "metadata": {},
   "outputs": [
    {
     "name": "stdout",
     "output_type": "stream",
     "text": [
      "Confusion matrix, without normalization\n",
      "[[231  20]\n",
      " [  2 328]]\n"
     ]
    },
    {
     "data": {
      "image/png": "[encoded data removed]",
      "text/plain": [
       "<Figure size 576x288 with 2 Axes>"
      ]
     },
     "metadata": {
      "needs_background": "light"
     },
     "output_type": "display_data"
    }
   ],
   "source": [
    "#confusion matrix plot\n",
    "cnf_matrix = confusion_matrix(y_test, y_pred)\n",
    "np.set_printoptions(precision=2)\n",
    "\n",
    "# Plot non-normalized confusion matrix\n",
    "plt.figure()\n",
    "class_names = [0,1]\n",
    "plot_confusion_matrix(cnf_matrix, classes=class_names,\n",
    "                      title='Confusion matrix - Naive Bayes')\n",
    "a = plt.gcf()\n",
    "a.set_size_inches(8,4)\n",
    "plt.show()"
   ]
  },
  {
   "cell_type": "code",
   "execution_count": 48,
   "metadata": {},
   "outputs": [
    {
     "data": {
      "image/png": "[encoded data removed]",
      "text/plain": [
       "<Figure size 432x288 with 1 Axes>"
      ]
     },
     "metadata": {
      "needs_background": "light"
     },
     "output_type": "display_data"
    }
   ],
   "source": [
    "#Plotting ROC curve\n",
    "from sklearn import metrics\n",
    "probs = nb.fit(X_train_vect, y_train).predict_proba(X_test_vect)\n",
    "preds = probs[:,1]\n",
    "fpr, tpr, threshold = metrics.roc_curve(y_test, preds)\n",
    "roc_auc = metrics.auc(fpr, tpr)\n",
    "\n",
    "plt.figure()\n",
    "plt.plot(fpr, tpr, label='GridSearchCV (area = %0.2f)' % roc_auc)\n",
    "plt.plot([0, 1], [0, 1],'r--')\n",
    "plt.xlim([0.0, 1.0])\n",
    "plt.ylim([0.0, 1.05])\n",
    "plt.xlabel('False Positive Rate')\n",
    "plt.ylabel('True Positive Rate')\n",
    "plt.title('Receiver operating characteristic')\n",
    "plt.legend(loc=\"lower right\")\n",
    "plt.savefig('Log_ROC')\n",
    "plt.show()"
   ]
  },
  {
   "cell_type": "code",
   "execution_count": 49,
   "metadata": {},
   "outputs": [
    {
     "name": "stderr",
     "output_type": "stream",
     "text": [
      "/anaconda3/lib/python3.7/site-packages/sklearn/model_selection/_search.py:841: DeprecationWarning: The default of the `iid` parameter will change from True to False in version 0.22 and will be removed in 0.24. This will change numeric results when test-set sizes are unequal.\n",
      "  DeprecationWarning)\n"
     ]
    },
    {
     "data": {
      "text/plain": [
       "GridSearchCV(cv=10, error_score='raise-deprecating',\n",
       "       estimator=KNeighborsClassifier(algorithm='auto', leaf_size=30, metric='minkowski',\n",
       "           metric_params=None, n_jobs=None, n_neighbors=5, p=2,\n",
       "           weights='uniform'),\n",
       "       fit_params=None, iid='warn', n_jobs=None,\n",
       "       param_grid={'n_neighbors': [1, 2, 3, 4, 5, 6, 7, 8, 9, 10, 11, 12, 13, 14, 15, 16, 17, 18, 19, 20, 21, 22, 23, 24, 25, 26, 27, 28, 29, 30]},\n",
       "       pre_dispatch='2*n_jobs', refit=True, return_train_score='warn',\n",
       "       scoring=None, verbose=0)"
      ]
     },
     "execution_count": 49,
     "metadata": {},
     "output_type": "execute_result"
    }
   ],
   "source": [
    "#KNN using grid search\n",
    "from sklearn.neighbors import KNeighborsClassifier\n",
    "knn = KNeighborsClassifier()\n",
    "k_range = list(range(1, 31))\n",
    "param_grid = dict(n_neighbors=k_range)\n",
    "grid = GridSearchCV(knn, param_grid, cv=10)\n",
    "\n",
    "grid.fit(X_train_vect, y_train)"
   ]
  },
  {
   "cell_type": "code",
   "execution_count": 50,
   "metadata": {},
   "outputs": [
    {
     "data": {
      "text/plain": [
       "{'n_neighbors': 29}"
      ]
     },
     "execution_count": 50,
     "metadata": {},
     "output_type": "execute_result"
    }
   ],
   "source": [
    "grid.best_params_"
   ]
  },
  {
   "cell_type": "code",
   "execution_count": 51,
   "metadata": {},
   "outputs": [
    {
     "name": "stdout",
     "output_type": "stream",
     "text": [
      "Accuracy : 0.8209982788296041\n",
      "Precision : 0.900709219858156\n",
      "Recall : 0.7696969696969697\n",
      "F1 Score : 0.8300653594771241\n",
      "Fit time : 0.8916821479797363\n",
      "Predict time : 0.10634493827819824\n",
      "Confusion Matrix : \n",
      "[[223  28]\n",
      " [ 76 254]]\n"
     ]
    }
   ],
   "source": [
    "#Using K-Nearest Neighbor\n",
    "from sklearn.neighbors import KNeighborsClassifier\n",
    "\n",
    "knn = KNeighborsClassifier(n_neighbors = 29)\n",
    "start = time.time()\n",
    "knn.fit(X_train_vect, y_train)\n",
    "end = time.time()\n",
    "fit_time = (end - start)\n",
    "\n",
    "start = time.time()\n",
    "y_pred = knn.predict(X_test_vect)\n",
    "end = time.time()\n",
    "fit_time = (end - start)\n",
    "\n",
    "print('Accuracy : ' + str(accuracy_score(y_test,y_pred)))\n",
    "print('Precision : ' + str(precision_score(y_test,y_pred)))\n",
    "print('Recall : ' + str(recall_score(y_test,y_pred)))\n",
    "print('F1 Score : ' + str(f1_score(y_test,y_pred)))\n",
    "print('Fit time : ' + str(fit_time))\n",
    "print('Predict time : ' + str(pred_time))\n",
    "\n",
    "print('Confusion Matrix : \\n' + str(confusion_matrix(y_test,y_pred)))"
   ]
  },
  {
   "cell_type": "code",
   "execution_count": 52,
   "metadata": {},
   "outputs": [
    {
     "name": "stdout",
     "output_type": "stream",
     "text": [
      "Confusion matrix, without normalization\n",
      "[[223  28]\n",
      " [ 76 254]]\n"
     ]
    },
    {
     "data": {
      "image/png": "[encoded data removed]",
      "text/plain": [
       "<Figure size 576x288 with 2 Axes>"
      ]
     },
     "metadata": {
      "needs_background": "light"
     },
     "output_type": "display_data"
    }
   ],
   "source": [
    "#confusion matrix plot\n",
    "cnf_matrix = confusion_matrix(y_test, y_pred)\n",
    "np.set_printoptions(precision=2)\n",
    "\n",
    "# Plot non-normalized confusion matrix\n",
    "plt.figure()\n",
    "class_names = [0,1]\n",
    "plot_confusion_matrix(cnf_matrix, classes=class_names,\n",
    "                      title='Confusion matrix - K-Nearest Neighbors')\n",
    "a = plt.gcf()\n",
    "a.set_size_inches(8,4)\n",
    "plt.show()"
   ]
  },
  {
   "cell_type": "code",
   "execution_count": 53,
   "metadata": {},
   "outputs": [
    {
     "name": "stderr",
     "output_type": "stream",
     "text": [
      "/anaconda3/lib/python3.7/site-packages/sklearn/model_selection/_search.py:841: DeprecationWarning: The default of the `iid` parameter will change from True to False in version 0.22 and will be removed in 0.24. This will change numeric results when test-set sizes are unequal.\n",
      "  DeprecationWarning)\n"
     ]
    },
    {
     "data": {
      "image/png": "[encoded data removed]",
      "text/plain": [
       "<Figure size 432x288 with 1 Axes>"
      ]
     },
     "metadata": {
      "needs_background": "light"
     },
     "output_type": "display_data"
    }
   ],
   "source": [
    "#Plotting ROC curve\n",
    "from sklearn import metrics\n",
    "probs = grid.fit(X_train_vect, y_train).predict_proba(X_test_vect)\n",
    "preds = probs[:,1]\n",
    "fpr, tpr, threshold = metrics.roc_curve(y_test, preds)\n",
    "roc_auc = metrics.auc(fpr, tpr)\n",
    "\n",
    "plt.figure()\n",
    "plt.plot(fpr, tpr, label='GridSearchCV (area = %0.2f)' % roc_auc)\n",
    "plt.plot([0, 1], [0, 1],'r--')\n",
    "plt.xlim([0.0, 1.0])\n",
    "plt.ylim([0.0, 1.05])\n",
    "plt.xlabel('False Positive Rate')\n",
    "plt.ylabel('True Positive Rate')\n",
    "plt.title('Receiver operating characteristic')\n",
    "plt.legend(loc=\"lower right\")\n",
    "plt.savefig('Log_ROC')\n",
    "plt.show()"
   ]
  }
 ],
 "metadata": {
  "kernelspec": {
   "display_name": "Python 3",
   "language": "python",
   "name": "python3"
  },
  "language_info": {
   "codemirror_mode": {
    "name": "ipython",
    "version": 3
   },
   "file_extension": ".py",
   "mimetype": "text/x-python",
   "name": "python",
   "nbconvert_exporter": "python",
   "pygments_lexer": "ipython3",
   "version": "3.7.1"
  }
 },
 "nbformat": 4,
 "nbformat_minor": 2
}
